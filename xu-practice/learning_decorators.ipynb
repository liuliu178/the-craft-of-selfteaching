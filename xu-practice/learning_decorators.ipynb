{
 "cells": [
  {
   "cell_type": "markdown",
   "metadata": {},
   "source": [
    "# 装饰器的用法等\n",
    "\n",
    "https://wiki.python.org/moin/PythonDecoratorLibrary"
   ]
  },
  {
   "cell_type": "code",
   "execution_count": 1,
   "metadata": {},
   "outputs": [],
   "source": [
    "def simple_decorator(decorator):\n",
    "    '''This decorator can be used to turn simple functions\n",
    "    into well-behaved decorators, so long as the decorators\n",
    "    are fairly simple. If a decorator expects a function and\n",
    "    returns a function (no descriptors), and if it doesn't\n",
    "    modify function attributes or docstring, then it is\n",
    "    eligible to use this. Simply apply @simple_decorator to\n",
    "    your decorator and it will automatically preserve the\n",
    "    docstring and function attributes of functions to which\n",
    "    it is applied.'''\n",
    "    def new_decorator(f):\n",
    "        g = decorator(f)\n",
    "        g.__name__ = f.__name__\n",
    "        g.__doc__ = f.__doc__\n",
    "        g.__dict__.update(f.__dict__)\n",
    "        return g\n",
    "    # Now a few lines needed to make simple_decorator itself\n",
    "    # be a well-behaved decorator.\n",
    "    new_decorator.__name__ = decorator.__name__\n",
    "    new_decorator.__doc__ = decorator.__doc__\n",
    "    new_decorator.__dict__.update(decorator.__dict__)\n",
    "    return new_decorator"
   ]
  },
  {
   "cell_type": "code",
   "execution_count": 3,
   "metadata": {},
   "outputs": [],
   "source": [
    "#\n",
    "# Sample Use:\n",
    "#\n",
    "@simple_decorator\n",
    "def my_simple_logging_decorator(func):\n",
    "    def you_will_never_see_this_name(*args, **kwargs):\n",
    "        print ('calling {}'.format(func.__name__))\n",
    "        return func(*args, **kwargs)\n",
    "    return you_will_never_see_this_name"
   ]
  },
  {
   "cell_type": "code",
   "execution_count": 4,
   "metadata": {},
   "outputs": [],
   "source": [
    "@my_simple_logging_decorator\n",
    "def double(x):\n",
    "    'Doubles a number.'\n",
    "    return 2 * x"
   ]
  },
  {
   "cell_type": "code",
   "execution_count": 6,
   "metadata": {},
   "outputs": [
    {
     "name": "stdout",
     "output_type": "stream",
     "text": [
      "calling double\n",
      "310\n"
     ]
    }
   ],
   "source": [
    "assert double.__name__ == 'double'\n",
    "assert double.__doc__ == 'Doubles a number.'\n",
    "print (double(155))"
   ]
  },
  {
   "cell_type": "code",
   "execution_count": null,
   "metadata": {},
   "outputs": [],
   "source": []
  }
 ],
 "metadata": {
  "kernelspec": {
   "display_name": "Python 3",
   "language": "python",
   "name": "python3"
  },
  "language_info": {
   "codemirror_mode": {
    "name": "ipython",
    "version": 3
   },
   "file_extension": ".py",
   "mimetype": "text/x-python",
   "name": "python",
   "nbconvert_exporter": "python",
   "pygments_lexer": "ipython3",
   "version": "3.7.3"
  },
  "latex_envs": {
   "LaTeX_envs_menu_present": true,
   "autoclose": false,
   "autocomplete": true,
   "bibliofile": "biblio.bib",
   "cite_by": "apalike",
   "current_citInitial": 1,
   "eqLabelWithNumbers": true,
   "eqNumInitial": 1,
   "hotkeys": {
    "equation": "Ctrl-E",
    "itemize": "Ctrl-I"
   },
   "labels_anchors": false,
   "latex_user_defs": false,
   "report_style_numbering": false,
   "user_envs_cfg": false
  },
  "toc": {
   "base_numbering": 1,
   "nav_menu": {},
   "number_sections": false,
   "sideBar": true,
   "skip_h1_title": false,
   "title_cell": "Table of Contents",
   "title_sidebar": "Contents",
   "toc_cell": false,
   "toc_position": {},
   "toc_section_display": true,
   "toc_window_display": false
  }
 },
 "nbformat": 4,
 "nbformat_minor": 2
}
