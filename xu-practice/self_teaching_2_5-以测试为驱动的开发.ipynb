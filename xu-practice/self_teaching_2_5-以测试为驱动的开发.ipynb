{
 "cells": [
  {
   "cell_type": "markdown",
   "metadata": {},
   "source": [
    "算法，algorithm\n",
    "\n",
    "In mathematics and computer science, an algorithm is an unambiguous specification of how to solve a class of problems.\n",
    "\n",
    "Algorithms can perform calculation, data processing, and automated reasoning tasks."
   ]
  },
  {
   "cell_type": "markdown",
   "metadata": {},
   "source": [
    "> 通过先想办法验证结果而后从结果倒推的开发方式，是一种很有效的方法论，叫做 Test Driven Development，以测试为驱动的开发。"
   ]
  },
  {
   "cell_type": "markdown",
   "metadata": {},
   "source": [
    "考虑全面往往并不容易。"
   ]
  },
  {
   "cell_type": "code",
   "execution_count": 2,
   "metadata": {},
   "outputs": [
    {
     "data": {
      "text/plain": [
       "False"
      ]
     },
     "execution_count": 2,
     "metadata": {},
     "output_type": "execute_result"
    },
    {
     "data": {
      "text/plain": [
       "False"
      ]
     },
     "execution_count": 2,
     "metadata": {},
     "output_type": "execute_result"
    },
    {
     "data": {
      "text/plain": [
       "False"
      ]
     },
     "execution_count": 2,
     "metadata": {},
     "output_type": "execute_result"
    },
    {
     "data": {
      "text/plain": [
       "False"
      ]
     },
     "execution_count": 2,
     "metadata": {},
     "output_type": "execute_result"
    }
   ],
   "source": [
    "from IPython.core.interactiveshell import InteractiveShell\n",
    "InteractiveShell.ast_node_interactivity = \"all\"\n",
    "\n",
    "def is_leap(year):\n",
    "    pass\n",
    "\n",
    "is_leap(4) is True\n",
    "is_leap(200) is False\n",
    "is_leap(220) is True\n",
    "is_leap(400) is True"
   ]
  },
  {
   "cell_type": "markdown",
   "metadata": {},
   "source": [
    "判断一个年份是不是闰年的函数，取名为 `is_leap`。它接收一个年份为参数，若是闰年，返回 True，否则返回 False。\n",
    "\n",
    "根据闰年的定义：\n",
    "\n",
    "> * 年份应该是 4 的倍数；\n",
    "> * 年份能被 100 整除，但不能被 400 整除的，不是闰年；\n",
    "> * 所以，相当于在能够被 4 整除的年份中，排除那些能被 100 整除却不能被 400 整除的年份。"
   ]
  },
  {
   "cell_type": "markdown",
   "metadata": {},
   "source": [
    "考虑到更多的年份不是闰年，所以，排除顺序大概是这样的：\n",
    "\n",
    "> * 先假定都不是闰年；\n",
    "> * 再看是否能够被 4 整除；\n",
    "> * 再在能够被 100 整除的年份中剔除那些不能被 400 整除的年份。"
   ]
  },
  {
   "cell_type": "markdown",
   "metadata": {},
   "source": [
    "于是，先实现第一句，“先假定都不是闰年”："
   ]
  },
  {
   "cell_type": "code",
   "execution_count": 3,
   "metadata": {},
   "outputs": [
    {
     "data": {
      "text/plain": [
       "False"
      ]
     },
     "execution_count": 3,
     "metadata": {},
     "output_type": "execute_result"
    },
    {
     "data": {
      "text/plain": [
       "True"
      ]
     },
     "execution_count": 3,
     "metadata": {},
     "output_type": "execute_result"
    },
    {
     "data": {
      "text/plain": [
       "False"
      ]
     },
     "execution_count": 3,
     "metadata": {},
     "output_type": "execute_result"
    },
    {
     "data": {
      "text/plain": [
       "False"
      ]
     },
     "execution_count": 3,
     "metadata": {},
     "output_type": "execute_result"
    }
   ],
   "source": [
    "from IPython.core.interactiveshell import InteractiveShell\n",
    "InteractiveShell.ast_node_interactivity = \"all\"\n",
    "\n",
    "def is_leap(year):\n",
    "    r = False\n",
    "    return r\n",
    "\n",
    "is_leap(4) is True\n",
    "is_leap(200) is False\n",
    "is_leap(220) is True\n",
    "is_leap(400) is True"
   ]
  },
  {
   "cell_type": "markdown",
   "metadata": {},
   "source": [
    "然后再实现这部分，“年份应该是 4 的倍数”。"
   ]
  },
  {
   "cell_type": "code",
   "execution_count": 5,
   "metadata": {},
   "outputs": [
    {
     "data": {
      "text/plain": [
       "True"
      ]
     },
     "execution_count": 5,
     "metadata": {},
     "output_type": "execute_result"
    },
    {
     "data": {
      "text/plain": [
       "False"
      ]
     },
     "execution_count": 5,
     "metadata": {},
     "output_type": "execute_result"
    },
    {
     "data": {
      "text/plain": [
       "True"
      ]
     },
     "execution_count": 5,
     "metadata": {},
     "output_type": "execute_result"
    },
    {
     "data": {
      "text/plain": [
       "True"
      ]
     },
     "execution_count": 5,
     "metadata": {},
     "output_type": "execute_result"
    }
   ],
   "source": [
    "from IPython.core.interactiveshell import InteractiveShell\n",
    "InteractiveShell.ast_node_interactivity = \"all\"\n",
    "\n",
    "def is_leap(year):\n",
    "    r = False\n",
    "    if year % 4 == 0:\n",
    "        r = True\n",
    "    return r\n",
    "\n",
    "is_leap(4) is True\n",
    "is_leap(200) is False\n",
    "is_leap(220) is True\n",
    "is_leap(400) is True"
   ]
  },
  {
   "cell_type": "markdown",
   "metadata": {},
   "source": [
    "现在剩下最后一条：“剔除那些能被 100 整除但不能被 400 整除的年份”。"
   ]
  },
  {
   "cell_type": "code",
   "execution_count": 14,
   "metadata": {},
   "outputs": [
    {
     "data": {
      "text/plain": [
       "False"
      ]
     },
     "execution_count": 14,
     "metadata": {},
     "output_type": "execute_result"
    },
    {
     "data": {
      "text/plain": [
       "True"
      ]
     },
     "execution_count": 14,
     "metadata": {},
     "output_type": "execute_result"
    },
    {
     "data": {
      "text/plain": [
       "False"
      ]
     },
     "execution_count": 14,
     "metadata": {},
     "output_type": "execute_result"
    },
    {
     "data": {
      "text/plain": [
       "True"
      ]
     },
     "execution_count": 14,
     "metadata": {},
     "output_type": "execute_result"
    },
    {
     "data": {
      "text/plain": [
       "True"
      ]
     },
     "execution_count": 14,
     "metadata": {},
     "output_type": "execute_result"
    }
   ],
   "source": [
    "# 自己尝试的结果\n",
    "from IPython.core.interactiveshell import InteractiveShell\n",
    "InteractiveShell.ast_node_interactivity = \"all\"\n",
    "\n",
    "def is_leap(year):\n",
    "    r = False\n",
    "    if year % 4 == 0:\n",
    "        r = True\n",
    "    if (year % 100 == 0) and (year % 400 != 0):\n",
    "        r = False\n",
    "    return r\n",
    "\n",
    "is_leap(3) is True\n",
    "is_leap(4) is True\n",
    "is_leap(200) is True\n",
    "is_leap(220) is True\n",
    "is_leap(400) is True"
   ]
  },
  {
   "cell_type": "code",
   "execution_count": 15,
   "metadata": {},
   "outputs": [
    {
     "data": {
      "text/plain": [
       "False"
      ]
     },
     "execution_count": 15,
     "metadata": {},
     "output_type": "execute_result"
    }
   ],
   "source": [
    "from IPython.core.interactiveshell import InteractiveShell\n",
    "InteractiveShell.ast_node_interactivity = \"all\"\n",
    "\n",
    "def is_leap(year):\n",
    "    r = False\n",
    "    if year % 4 == 0:\n",
    "        r = True\n",
    "        if year % 100 == 0:\n",
    "            if year % 400 !=0:\n",
    "                r = False\n",
    "    return r\n",
    "\n",
    "is_leap(4) is True\n",
    "is_leap(200) is False\n",
    "is_leap(220) is True\n",
    "is_leap(400) is True"
   ]
  },
  {
   "cell_type": "markdown",
   "metadata": {},
   "source": [
    "尽管整个过程读起来很直观，但真的要自己从头到尾操作，就可能四处出错。真的是这样。\n",
    "\n",
    "python 内建库中的 datetime.py 模块里的代码更为简洁："
   ]
  },
  {
   "cell_type": "code",
   "execution_count": 16,
   "metadata": {},
   "outputs": [
    {
     "data": {
      "text/plain": [
       "False"
      ]
     },
     "execution_count": 16,
     "metadata": {},
     "output_type": "execute_result"
    }
   ],
   "source": [
    "# cpython/Lib/datetime.py\n",
    "def _is_leap(year):\n",
    "    return year % 4 == 0 and (year % 100 != 0 or year % 400 == 0)\n",
    "_is_leap(300)\n",
    "\n",
    "## 这个代码有点意思"
   ]
  },
  {
   "cell_type": "markdown",
   "metadata": {},
   "source": [
    "在 python 中，有专门的试错的流程控制——今天的绝大多数编程语言都有这种试错语句。"
   ]
  },
  {
   "cell_type": "markdown",
   "metadata": {},
   "source": [
    "当一个程序开始执行的时候，有两种错误可能会导致程序执行失败：\n",
    "\n",
    "> * 语法错误（Syntax Errors）\n",
    "> * 意外（Exceptions）\n",
    "\n",
    "语法错误可以很容易检查出来。但是，语法完全正确却出现了意外。这样的错误，都是程序已经执行之后才发生的错误（Runtime Errors）——因为，**只要没有语法错误，程序就可以启动**。比如，你写的是 `print(11/0)。`"
   ]
  },
  {
   "cell_type": "code",
   "execution_count": 17,
   "metadata": {},
   "outputs": [
    {
     "ename": "ZeroDivisionError",
     "evalue": "division by zero",
     "output_type": "error",
     "traceback": [
      "\u001b[1;31m---------------------------------------------------------------------------\u001b[0m",
      "\u001b[1;31mZeroDivisionError\u001b[0m                         Traceback (most recent call last)",
      "\u001b[1;32m<ipython-input-17-5544d98276be>\u001b[0m in \u001b[0;36m<module>\u001b[1;34m\u001b[0m\n\u001b[1;32m----> 1\u001b[1;33m \u001b[0mprint\u001b[0m\u001b[1;33m(\u001b[0m\u001b[1;36m11\u001b[0m\u001b[1;33m/\u001b[0m\u001b[1;36m0\u001b[0m\u001b[1;33m)\u001b[0m\u001b[1;33m\u001b[0m\u001b[1;33m\u001b[0m\u001b[0m\n\u001b[0m",
      "\u001b[1;31mZeroDivisionError\u001b[0m: division by zero"
     ]
    }
   ],
   "source": [
    "print(11/0)"
   ]
  },
  {
   "cell_type": "markdown",
   "metadata": {},
   "source": [
    "python 中定义了大量常见的意外，并按层级分类：\n",
    "\n"
   ]
  }
 ],
 "metadata": {
  "kernelspec": {
   "display_name": "Python 3",
   "language": "python",
   "name": "python3"
  },
  "language_info": {
   "codemirror_mode": {
    "name": "ipython",
    "version": 3
   },
   "file_extension": ".py",
   "mimetype": "text/x-python",
   "name": "python",
   "nbconvert_exporter": "python",
   "pygments_lexer": "ipython3",
   "version": "3.7.3"
  },
  "toc": {
   "base_numbering": 1,
   "nav_menu": {},
   "number_sections": true,
   "sideBar": true,
   "skip_h1_title": false,
   "title_cell": "Table of Contents",
   "title_sidebar": "Contents",
   "toc_cell": false,
   "toc_position": {},
   "toc_section_display": true,
   "toc_window_display": false
  }
 },
 "nbformat": 4,
 "nbformat_minor": 2
}
