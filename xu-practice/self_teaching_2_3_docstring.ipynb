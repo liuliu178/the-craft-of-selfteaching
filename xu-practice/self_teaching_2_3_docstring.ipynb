{
 "cells": [
  {
   "cell_type": "markdown",
   "metadata": {},
   "source": [
    "# 函数文档\n",
    "\n",
    "python 的 [Sphinx 工具](https://www.sphinx-doc.org/en/master/)\n",
    "\n",
    "## Docstring\n",
    "\n",
    "`help()`, `.__doc__`"
   ]
  },
  {
   "cell_type": "code",
   "execution_count": 6,
   "metadata": {},
   "outputs": [
    {
     "name": "stdout",
     "output_type": "stream",
     "text": [
      "Help on function is_prime in module __main__:\n",
      "\n",
      "is_prime(n)\n",
      "    Return a boolean value based upon\n",
      "    whether the argument n is a prime number.\n",
      "\n",
      "\n",
      "    Return a boolean value based upon\n",
      "    whether the argument n is a prime number.\n",
      "    \n"
     ]
    },
    {
     "data": {
      "text/plain": [
       "'\\n    Return a boolean value based upon\\n    whether the argument n is a prime number.\\n    '"
      ]
     },
     "execution_count": 6,
     "metadata": {},
     "output_type": "execute_result"
    }
   ],
   "source": [
    "def is_prime(n):\n",
    "    \"\"\"\n",
    "    Return a boolean value based upon\n",
    "    whether the argument n is a prime number.\n",
    "    \"\"\"\n",
    "    if n < 2:\n",
    "        return False\n",
    "    if n == 2:\n",
    "        return True\n",
    "    for m in range(2, int(n**0.5)+1):\n",
    "        if (n % m) == 0:\n",
    "            return False\n",
    "    else:\n",
    "        return True\n",
    "\n",
    "\n",
    "help(is_prime)\n",
    "print(is_prime.__doc__)\n",
    "is_prime.__doc__"
   ]
  },
  {
   "cell_type": "markdown",
   "metadata": {},
   "source": [
    "Docstring 可以使多行字符串，也可以是单行字符串。"
   ]
  },
  {
   "cell_type": "code",
   "execution_count": 8,
   "metadata": {},
   "outputs": [
    {
     "name": "stdout",
     "output_type": "stream",
     "text": [
      "Help on function is_prime in module __main__:\n",
      "\n",
      "is_prime(n)\n",
      "    Return a boolean value based upon whether the argument n is a prime number.\n",
      "\n",
      "Return a boolean value based upon whether the argument n is a prime number.\n"
     ]
    },
    {
     "data": {
      "text/plain": [
       "'Return a boolean value based upon whether the argument n is a prime number.'"
      ]
     },
     "execution_count": 8,
     "metadata": {},
     "output_type": "execute_result"
    }
   ],
   "source": [
    "def is_prime(n):\n",
    "    \"\"\"Return a boolean value based upon whether the argument n is a prime number.\"\"\"\n",
    "    \n",
    "    if n < 2:\n",
    "        return False\n",
    "    if n == 2:\n",
    "        return True\n",
    "    for m in range(2, int(n**0.5)+1):\n",
    "        if (n % m) == 0:\n",
    "            return False\n",
    "    else:\n",
    "        return True\n",
    "\n",
    "\n",
    "help(is_prime)\n",
    "print(is_prime.__doc__)\n",
    "is_prime.__doc__"
   ]
  },
  {
   "cell_type": "markdown",
   "metadata": {},
   "source": [
    "Docstring 如若存在，必须在函数定义的内部语句块的开头，也必须与其他语句块保持一样的缩进（Idention）。Dosctring 放在其他地方不起作用："
   ]
  },
  {
   "cell_type": "code",
   "execution_count": 10,
   "metadata": {},
   "outputs": [
    {
     "name": "stdout",
     "output_type": "stream",
     "text": [
      "Help on function is_prime in module __main__:\n",
      "\n",
      "is_prime(n)\n",
      "\n",
      "None\n"
     ]
    }
   ],
   "source": [
    "def is_prime(n):\n",
    "    if n < 2:\n",
    "        return False\n",
    "    if n == 2:\n",
    "        return True\n",
    "    for m in range(2, int(n**0.5)+1):\n",
    "        if (n % m) == 0:\n",
    "            return False\n",
    "    else:\n",
    "        return True\n",
    "    \"\"\"\n",
    "    Return a boolean value based upon\n",
    "    whether the argument n is a prime number.\n",
    "    \"\"\"\n",
    "\n",
    "help(is_prime)\n",
    "print(is_prime.__doc__)\n",
    "is_prime.__doc__"
   ]
  },
  {
   "cell_type": "markdown",
   "metadata": {},
   "source": [
    "##  Dosctring 书写规范\n",
    "\n",
    "规范，虽然是人们最好遵守的，但其实通常是很多人并不遵守的东西。\n",
    "\n",
    "既然学，**就要像样**。所以，有必要认真阅读 [PEP 257](https://www.python.org/dev/peps/pep-0257/) 关于 Docstring 的规范。"
   ]
  },
  {
   "cell_type": "markdown",
   "metadata": {},
   "source": [
    "A package may be documented in the module docstring of the `__init__.py` file in the package directory.\n",
    "\n",
    "那个文件是用来存放一个 模块 的用户文档的。也会导入一些相关的模块。\n",
    "\n",
    "文档总是用三个双引号。\n",
    "文档中出现了反斜杠的话之前要加 `r`。\n",
    "\n",
    "单行文档\n",
    "\n",
    "多行文档\n",
    "\n",
    "总结的规范：\n",
    "\n",
    "> 1. 无论是单行还是多行的 Docstring，一概使用三个双引号扩起；\n",
    "> 2. 在 Docstring 内部，文字开始之前，以及文字结束之后，都不要有空行；\n",
    "> 3. 多行 Docstring，第一行是概要，随后空一行，再写其它部分；\n",
    "> 4. 完善的 Docstring，应该概括清楚以下内容：参数、返回值、可能触发的错误类型、可能的副作用，以及函数的使用限制等等；\n",
    "> 5. 每个参数的说明都使用单独的一行……\n",
    "\n",
    "此处略过了 Class 的文档。\n",
    "* [PEP 257: Docstring Convensions](https://www.python.org/dev/peps/pep-0257/)\n",
    "* [PEP 258: Docutils Design Specification](https://www.python.org/dev/peps/pep-0258/)"
   ]
  },
  {
   "cell_type": "markdown",
   "metadata": {},
   "source": [
    "**需要格外注意的**\n",
    "\n",
    "> Dosctring 是写给别人看的，所以在复杂代码的 Dosctring 中，写 why 要远比写 what 更重要。先记住这一点，以后的体会自然会不断加深。"
   ]
  },
  {
   "cell_type": "markdown",
   "metadata": {},
   "source": [
    "## Sphinx 版本的 Dosctring 规范"
   ]
  },
  {
   "cell_type": "code",
   "execution_count": 11,
   "metadata": {},
   "outputs": [
    {
     "name": "stdout",
     "output_type": "stream",
     "text": [
      "Help on class Vehicle in module __main__:\n",
      "\n",
      "class Vehicle(builtins.object)\n",
      " |  Vehicle(arg, *args, **kwargs)\n",
      " |  \n",
      " |  The Vehicle object contains lots of vehicles\n",
      " |  :param arg: The arg is used for ...\n",
      " |  :type arg: str\n",
      " |  :param `*args`: The variable arguments are used for ...\n",
      " |  :param `**kwargs`: The keyword arguments are used for ...\n",
      " |  :ivar arg: This is where we store arg\n",
      " |  :vartype arg: str\n",
      " |  \n",
      " |  Methods defined here:\n",
      " |  \n",
      " |  __init__(self, arg, *args, **kwargs)\n",
      " |      Initialize self.  See help(type(self)) for accurate signature.\n",
      " |  \n",
      " |  cars(self, distance, destination)\n",
      " |      We can't travel a certain distance in vehicles without fuels, so here's the fuels\n",
      " |      \n",
      " |      :param distance: The amount of distance traveled\n",
      " |      :type amount: int\n",
      " |      :param bool destinationReached: Should the fuels be refilled to cover required distance?\n",
      " |      :raises: :class:`RuntimeError`: Out of fuel\n",
      " |      \n",
      " |      :returns: A Car mileage\n",
      " |      :rtype: Cars\n",
      " |  \n",
      " |  ----------------------------------------------------------------------\n",
      " |  Data descriptors defined here:\n",
      " |  \n",
      " |  __dict__\n",
      " |      dictionary for instance variables (if defined)\n",
      " |  \n",
      " |  __weakref__\n",
      " |      list of weak references to the object (if defined)\n",
      "\n"
     ]
    }
   ],
   "source": [
    "class Vehicle(object):\n",
    "    '''\n",
    "    The Vehicle object contains lots of vehicles\n",
    "    :param arg: The arg is used for ...\n",
    "    :type arg: str\n",
    "    :param `*args`: The variable arguments are used for ...\n",
    "    :param `**kwargs`: The keyword arguments are used for ...\n",
    "    :ivar arg: This is where we store arg\n",
    "    :vartype arg: str\n",
    "    '''\n",
    "\n",
    "\n",
    "    def __init__(self, arg, *args, **kwargs):\n",
    "        self.arg = arg\n",
    "\n",
    "    def cars(self, distance, destination):\n",
    "        '''We can't travel a certain distance in vehicles without fuels, so here's the fuels\n",
    "\n",
    "        :param distance: The amount of distance traveled\n",
    "        :type amount: int\n",
    "        :param bool destinationReached: Should the fuels be refilled to cover required distance?\n",
    "        :raises: :class:`RuntimeError`: Out of fuel\n",
    "\n",
    "        :returns: A Car mileage\n",
    "        :rtype: Cars\n",
    "        '''  \n",
    "        pass\n",
    "\n",
    "help(Vehicle)"
   ]
  },
  {
   "cell_type": "markdown",
   "metadata": {},
   "source": [
    "通过插件，Sphinx 也能支持 Google style Dosctring 和 Numpy style Dosctring。\n",
    "\n",
    "以下两个链接放在这里，以便将来查询：\n",
    "\n",
    "* [sphinx.ext.napoleon – Support for NumPy and Google style docstrings](https://www.sphinx-doc.org/en/master/usage/extensions/napoleon.html)\n",
    "* [sphinx.ext.autodoc – Include documentation from docstrings](https://www.sphinx-doc.org/en/master/usage/extensions/autodoc.html)"
   ]
  }
 ],
 "metadata": {
  "kernelspec": {
   "display_name": "Python [conda env:root] *",
   "language": "python",
   "name": "conda-root-py"
  },
  "language_info": {
   "codemirror_mode": {
    "name": "ipython",
    "version": 3
   },
   "file_extension": ".py",
   "mimetype": "text/x-python",
   "name": "python",
   "nbconvert_exporter": "python",
   "pygments_lexer": "ipython3",
   "version": "3.7.3"
  },
  "toc": {
   "base_numbering": 1,
   "nav_menu": {},
   "number_sections": true,
   "sideBar": true,
   "skip_h1_title": false,
   "title_cell": "Table of Contents",
   "title_sidebar": "Contents",
   "toc_cell": false,
   "toc_position": {},
   "toc_section_display": true,
   "toc_window_display": false
  }
 },
 "nbformat": 4,
 "nbformat_minor": 2
}
