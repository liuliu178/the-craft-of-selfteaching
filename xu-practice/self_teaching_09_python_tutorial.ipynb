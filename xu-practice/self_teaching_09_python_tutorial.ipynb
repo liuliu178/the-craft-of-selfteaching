{
 "cells": [
  {
   "cell_type": "markdown",
   "metadata": {},
   "source": [
    "# 官方教程：[The Python Tutorial](https://docs.python.org/3/tutorial/index.html)\n",
    "\n"
   ]
  },
  {
   "cell_type": "markdown",
   "metadata": {},
   "source": [
    "入口 入门 \n",
    "更像是地图上的图例而非地图本身。\n",
    "\n",
    "第一部分反复读过之后，最重要的结果就是：\n",
    "\n",
    "> 现在你有能力自己查询官方文档了……\n",
    "\n",
    "可以靠自己理解大多数内容……"
   ]
  },
  {
   "cell_type": "markdown",
   "metadata": {},
   "source": [
    "## 官方文档的重要链接\n",
    "\n",
    "[document python](https://devguide.python.org/documenting/)\n",
    "[sphinx](https://www.sphinx-doc.org/en/master/)\n",
    "[read the docs](https://readthedocs.org/)\n",
    "\n",
    "\n",
    "官方文档地址：\n",
    "\n",
    "> https://docs.python.org/3/\n",
    "\n",
    "其中对初学者最重要的两个链接：\n",
    "> * Tutorial: https://docs.python.org/3/tutorial/index.html\n",
    "> * Library Reference: https://docs.python.org/3/library/index.html"
   ]
  },
  {
   "cell_type": "markdown",
   "metadata": {},
   "source": [
    "https://gvanrossum.github.io/"
   ]
  },
  {
   "cell_type": "markdown",
   "metadata": {},
   "source": [
    "> 第一查询对象只能是官方文档。\n",
    "\n",
    "这个原则对任何语言都适用。"
   ]
  },
  {
   "cell_type": "markdown",
   "metadata": {},
   "source": [
    "## 将官方文档拉回本地\n",
    "\n",
    "拉回本地，还可以转换为 epub 格式，还可以把这些页面的 `rst` 文件转换为 `.ipnb` 文件，用 jupyter notebook 浏览时可以执行其中的代码。"
   ]
  },
  {
   "cell_type": "markdown",
   "metadata": {},
   "source": [
    "# 笨拙与耐心\n",
    "\n",
    "将自学的过程拆解为四个阶段，它们之间常常有部分重叠：\n",
    "\n",
    "> * 学\n",
    "> * 练\n",
    "> * 用\n",
    "> * 造\n",
    "\n",
    "事实上每个人时时刻刻都在学习，只不过，学习的目标选择和学习的方式、以及效率各不相同。\n",
    "\n",
    "本书第一部分的内容，就别拿用来展示**学**的过程。**学，就需要重复**，甚至很多次重复，尤其是在面对充满了**过早引用**现象的知识结构的时候。\n",
    "\n",
    "反复学，最锻炼的是**归纳整理**的能力，这在大多数情况下还是自动发生的。最后再加上一点**刻意的、收尾性的归纳总结整理工作**。\n"
   ]
  },
  {
   "cell_type": "markdown",
   "metadata": {},
   "source": [
    "自学是门手艺，编程很大程度上也是一门手艺，掌握它在绝大多数情况下与天分、智商全无关系（这结论是如何得到的）——所有的手艺，最基本的特征就是：\n",
    "> **主要靠时间**。"
   ]
  },
  {
   "cell_type": "markdown",
   "metadata": {},
   "source": [
    "第二部分进入**用**的阶段，**以用带练**——在不断应用的过程中带动刻意练习。\n",
    "\n",
    "一切**主要靠时间**的活动都一样，都需要在从事之前认真做好**心理建设**。通常情况下，读一本教程、上个学习班，只能带你**摸到门**，说学会几乎肯定是错觉或者幻觉。"
   ]
  },
  {
   "cell_type": "markdown",
   "metadata": {},
   "source": [
    "**预算观念**\n",
    "\n",
    "> 绝对不做预算不够的事情。\n",
    "\n",
    "培养一门手艺主要靠时间，这里的时间准确地讲，是**刻意练习**的时间，而不是任何时间。\n",
    "\n",
    "> * 我花在刻意练习上的时间太少了；\n",
    "> * 并且，也没有**刻意思考**哪些地方我应该去刻意练习。\n",
    "\n",
    "> **不做刻意练习的人就是在混时间。**\n",
    "\n",
    "\n",
    "刻意练习——**刻意思考哪里需要刻意练习**之后再自然不过的事情。\n",
    "\n",
    "应对策略：\n",
    "> 准备个专门的地方记录。"
   ]
  }
 ],
 "metadata": {
  "kernelspec": {
   "display_name": "Python [conda env:root] *",
   "language": "python",
   "name": "conda-root-py"
  },
  "language_info": {
   "codemirror_mode": {
    "name": "ipython",
    "version": 3
   },
   "file_extension": ".py",
   "mimetype": "text/x-python",
   "name": "python",
   "nbconvert_exporter": "python",
   "pygments_lexer": "ipython3",
   "version": "3.7.3"
  }
 },
 "nbformat": 4,
 "nbformat_minor": 2
}
