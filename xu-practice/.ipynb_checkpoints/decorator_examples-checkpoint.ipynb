{
 "cells": [
  {
   "cell_type": "markdown",
   "metadata": {},
   "source": [
    "# decorator 的一些例子\n",
    "\n",
    "来源：[python decorator library wiki](https://wiki.python.org/moin/PythonDecoratorLibrary)"
   ]
  },
  {
   "cell_type": "markdown",
   "metadata": {},
   "source": [
    "## Creating well-behaved decorators / \"decorator decorator\""
   ]
  },
  {
   "cell_type": "code",
   "execution_count": null,
   "metadata": {},
   "outputs": [],
   "source": [
    "def simple_decorator(decorator):\n",
    "    \"\"\"\n",
    "    This decorator can be used to turn simple functions into well-behaved decorators, so long as the decorators\n",
    "    are fairly simple. If a decorator expects a function and returns a function (no descriptors), and if it doesn't\n",
    "    modify function attributes or docstring, then it is eligible to use this. Simply apply @simple_decorator to\n",
    "    your decorator and it will automatically preserve the docstring and function attributes of functions to which\n",
    "    it is applied.\n",
    "    \"\"\"\n",
    "    def new_decorator(f):\n",
    "        g = decorator(f)\n",
    "        g.__name__ = f.__name__\n",
    "        g.__doc__ = f.__doc__\n",
    "        g.__dict__.update(f.__dict__)\n",
    "        print(g.__dict__)\n",
    "        return g\n",
    "        # now a few lines needed to make simple_decorator itself\n",
    "        # be a well-behaved decorator\n",
    "    new_decorator.__name__ = decorator.__name__\n",
    "    new_decorator.__doc__  = decorator.__doc__\n",
    "    new_decorator.__dict__.update(decorator.__dict__)\n",
    "    return new_decorator\n",
    "    \n",
    "# sample use\n",
    "@simple_decorator\n",
    "def my_simple_logging_decorator(func):\n",
    "    def you_will_never_see_this_name(*args, **kwargs):\n",
    "        print('calling {}'.format(func.__name__))\n",
    "        return func(*args, **kwargs)\n",
    "    return you_will_never_see_this_name\n",
    "\n",
    "@my_simple_logging_decorator\n",
    "def double(x):\n",
    "    'doubles a number'\n",
    "    return 2 * x\n",
    "\n",
    "assert double.__name__ == 'double'\n",
    "assert double.__doc__ == 'doubles a number'\n",
    "print(double(155))"
   ]
  },
  {
   "cell_type": "code",
   "execution_count": null,
   "metadata": {},
   "outputs": [],
   "source": [
    "@simple_decorator\n",
    "def double(x):\n",
    "    'doubles a number'\n",
    "    return 2 * x\n",
    "\n",
    "double(155)"
   ]
  },
  {
   "cell_type": "markdown",
   "metadata": {},
   "source": [
    "能够写在 `@` 后面的内容，肯定首先是一个函数。装饰器首先也是一个函数。"
   ]
  },
  {
   "cell_type": "markdown",
   "metadata": {},
   "source": [
    "> * `simple_decorator` 的参数是一个带装饰器的函数。\n",
    "> * `my_simple_logging_decorator` 的参数是一个函数。"
   ]
  },
  {
   "cell_type": "code",
   "execution_count": 6,
   "metadata": {},
   "outputs": [
    {
     "ename": "AssertionError",
     "evalue": "",
     "output_type": "error",
     "traceback": [
      "\u001b[1;31m------------------------------------------------------------\u001b[0m",
      "\u001b[1;31mAssertionError\u001b[0m             Traceback (most recent call last)",
      "\u001b[1;32m<ipython-input-6-5ad215db38d5>\u001b[0m in \u001b[0;36m<module>\u001b[1;34m\u001b[0m\n\u001b[0;32m     10\u001b[0m     \u001b[1;32mreturn\u001b[0m \u001b[1;36m2\u001b[0m \u001b[1;33m*\u001b[0m \u001b[0mx\u001b[0m\u001b[1;33m\u001b[0m\u001b[1;33m\u001b[0m\u001b[0m\n\u001b[0;32m     11\u001b[0m \u001b[1;33m\u001b[0m\u001b[0m\n\u001b[1;32m---> 12\u001b[1;33m \u001b[1;32massert\u001b[0m \u001b[0mdouble\u001b[0m\u001b[1;33m.\u001b[0m\u001b[0m__name__\u001b[0m \u001b[1;33m==\u001b[0m \u001b[1;34m'double'\u001b[0m\u001b[1;33m\u001b[0m\u001b[1;33m\u001b[0m\u001b[0m\n\u001b[0m\u001b[0;32m     13\u001b[0m \u001b[1;32massert\u001b[0m \u001b[0mdouble\u001b[0m\u001b[1;33m.\u001b[0m\u001b[0m__doc__\u001b[0m \u001b[1;33m==\u001b[0m \u001b[1;34m'doubles a number'\u001b[0m\u001b[1;33m\u001b[0m\u001b[1;33m\u001b[0m\u001b[0m\n\u001b[0;32m     14\u001b[0m \u001b[0mprint\u001b[0m\u001b[1;33m(\u001b[0m\u001b[0mdouble\u001b[0m\u001b[1;33m(\u001b[0m\u001b[1;36m155\u001b[0m\u001b[1;33m)\u001b[0m\u001b[1;33m)\u001b[0m\u001b[1;33m\u001b[0m\u001b[1;33m\u001b[0m\u001b[0m\n",
      "\u001b[1;31mAssertionError\u001b[0m: "
     ]
    }
   ],
   "source": [
    "def my_simple_logging_decorator(func):\n",
    "    def you_will_never_see_this_name(*args, **kwargs):\n",
    "        print('calling {}'.format(func.__name__))\n",
    "        #return func(*args, **kwargs)\n",
    "    return you_will_never_see_this_name\n",
    "\n",
    "@my_simple_logging_decorator\n",
    "def double(x):\n",
    "    'doubles a number'\n",
    "    return 2 * x\n",
    "\n",
    "assert double.__name__ == 'double'\n",
    "assert double.__doc__ == 'doubles a number'\n",
    "print(double(155))"
   ]
  },
  {
   "cell_type": "code",
   "execution_count": 7,
   "metadata": {},
   "outputs": [
    {
     "data": {
      "text/plain": [
       "'you_will_never_see_this_name'"
      ]
     },
     "execution_count": 7,
     "metadata": {},
     "output_type": "execute_result"
    }
   ],
   "source": [
    "double.__name__ "
   ]
  },
  {
   "cell_type": "code",
   "execution_count": 8,
   "metadata": {},
   "outputs": [],
   "source": [
    "double.__doc__"
   ]
  },
  {
   "cell_type": "code",
   "execution_count": 10,
   "metadata": {},
   "outputs": [
    {
     "name": "stdout",
     "output_type": "stream",
     "text": [
      "calling double\n",
      "None\n"
     ]
    }
   ],
   "source": [
    "print(double(155))"
   ]
  },
  {
   "cell_type": "markdown",
   "metadata": {},
   "source": [
    "## property definition\n",
    "\n",
    "以可读的方式定义属性"
   ]
  },
  {
   "cell_type": "code",
   "execution_count": 11,
   "metadata": {},
   "outputs": [],
   "source": [
    "import sys\n",
    "\n",
    "def propget(func):\n",
    "    locals = sys._getframe(1).f_locals\n",
    "    name = func.__name__\n",
    "    prop = locals.get(name)\n",
    "    if not isinstance(prop, property):\n",
    "        prop = property(func, doc=func.__doc__)\n",
    "    else:\n",
    "        doc = prop.__doc__ or func.__doc__\n",
    "        prop = property(func, prop.fset, prop.fdel, doc)\n",
    "    return prop\n",
    "\n",
    "def propset(func):\n",
    "    locals = sys._getframe(1).f_locals\n",
    "    name = func.__name__\n",
    "    prop = locals.get(name)\n",
    "    if not isinstance(prop, property):\n",
    "        prop = property(None, func, doc=func.__doc__)\n",
    "    else:\n",
    "        doc = prop.__doc__ or func.__doc__\n",
    "        prop = property(prop.fget, func, prop.fdel, doc)\n",
    "    return prop\n",
    "\n",
    "def propdel(func):\n",
    "    locals = sys._getframe(1).f_locals\n",
    "    name = func.__name__\n",
    "    prop = locals.get(name)\n",
    "    if not isinstance(prop, property):\n",
    "        prop = property(None, None, func, doc=func.__doc__)\n",
    "    else:\n",
    "        prop = property(prop.fget, prop.fset, func, prop.__doc__)\n",
    "    return prop\n",
    "\n",
    "# These can be used like this:\n",
    "\n",
    "class Example(object):\n",
    "\n",
    "    @propget\n",
    "    def myattr(self):\n",
    "        return self._half * 2\n",
    "\n",
    "    @propset\n",
    "    def myattr(self, value):\n",
    "        self._half = value / 2\n",
    "\n",
    "    @propdel\n",
    "    def myattr(self):\n",
    "        del self._half"
   ]
  },
  {
   "cell_type": "markdown",
   "metadata": {},
   "source": [
    "不需要额外的新的装饰器的方式"
   ]
  },
  {
   "cell_type": "code",
   "execution_count": 15,
   "metadata": {},
   "outputs": [],
   "source": [
    "class Example(object):\n",
    "    #@apply  # doesn't exist in Python 3\n",
    "    def myattr():\n",
    "        doc = '''This is the doc string.'''\n",
    "\n",
    "        def fget(self):\n",
    "            return self._half * 2\n",
    "\n",
    "        def fset(self, value):\n",
    "            self._half = value / 2\n",
    "\n",
    "        def fdel(self):\n",
    "            del self._half\n",
    "\n",
    "        return property(**locals())\n",
    "    myattr = myattr()  # works in Python 2 and 3"
   ]
  },
  {
   "cell_type": "markdown",
   "metadata": {},
   "source": [
    "另一个属性装饰器"
   ]
  },
  {
   "cell_type": "code",
   "execution_count": 16,
   "metadata": {},
   "outputs": [],
   "source": [
    "try:\n",
    "    # Python 2\n",
    "    import __builtin__ as builtins\n",
    "except ImportError:\n",
    "    # Python 3\n",
    "    import builtins\n",
    "\n",
    "def property(function):\n",
    "    keys = 'fget', 'fset', 'fdel'\n",
    "    func_locals = {'doc':function.__doc__}\n",
    "    def probe_func(frame, event, arg):\n",
    "        if event == 'return':\n",
    "            locals = frame.f_locals\n",
    "            func_locals.update(dict((k, locals.get(k)) for k in keys))\n",
    "            sys.settrace(None)\n",
    "        return probe_func\n",
    "    sys.settrace(probe_func)\n",
    "    function()\n",
    "    return builtins.property(**func_locals)"
   ]
  },
  {
   "cell_type": "code",
   "execution_count": 18,
   "metadata": {},
   "outputs": [],
   "source": [
    "#====== Example =======================================================\n",
    "\n",
    "from math import radians, degrees, pi\n",
    "\n",
    "class Angle(object):\n",
    "    def __init__(self, rad):\n",
    "        self._rad = rad\n",
    "\n",
    "    @property\n",
    "    def rad():\n",
    "        '''The angle in radians'''\n",
    "        def fget(self):\n",
    "            return self._rad\n",
    "        def fset(self, angle):\n",
    "            if isinstance(angle, Angle):\n",
    "                angle = angle.rad\n",
    "            self._rad = float(angle)\n",
    "\n",
    "    @property\n",
    "    def deg():\n",
    "        '''The angle in degrees'''\n",
    "        def fget(self):\n",
    "            return degrees(self._rad)\n",
    "        def fset(self, angle):\n",
    "            if isinstance(angle, Angle):\n",
    "                angle = angle.deg\n",
    "            self._rad = radians(angle)"
   ]
  },
  {
   "cell_type": "markdown",
   "metadata": {},
   "source": [
    "## memorize\n",
    "\n",
    "记忆 函数记忆？"
   ]
  },
  {
   "cell_type": "code",
   "execution_count": null,
   "metadata": {},
   "outputs": [],
   "source": []
  }
 ],
 "metadata": {
  "kernelspec": {
   "display_name": "Python 3",
   "language": "python",
   "name": "python3"
  },
  "language_info": {
   "codemirror_mode": {
    "name": "ipython",
    "version": 3
   },
   "file_extension": ".py",
   "mimetype": "text/x-python",
   "name": "python",
   "nbconvert_exporter": "python",
   "pygments_lexer": "ipython3",
   "version": "3.7.3"
  },
  "latex_envs": {
   "LaTeX_envs_menu_present": true,
   "autoclose": false,
   "autocomplete": true,
   "bibliofile": "biblio.bib",
   "cite_by": "apalike",
   "current_citInitial": 1,
   "eqLabelWithNumbers": true,
   "eqNumInitial": 1,
   "hotkeys": {
    "equation": "Ctrl-E",
    "itemize": "Ctrl-I"
   },
   "labels_anchors": false,
   "latex_user_defs": false,
   "report_style_numbering": false,
   "user_envs_cfg": false
  },
  "toc": {
   "base_numbering": 1,
   "nav_menu": {},
   "number_sections": false,
   "sideBar": true,
   "skip_h1_title": false,
   "title_cell": "Table of Contents",
   "title_sidebar": "Contents",
   "toc_cell": false,
   "toc_position": {},
   "toc_section_display": true,
   "toc_window_display": false
  }
 },
 "nbformat": 4,
 "nbformat_minor": 2
}
