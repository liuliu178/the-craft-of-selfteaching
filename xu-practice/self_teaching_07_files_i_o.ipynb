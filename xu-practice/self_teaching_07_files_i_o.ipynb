{
 "cells": [
  {
   "cell_type": "markdown",
   "metadata": {},
   "source": [
    "# 文件\n",
    "\n",
    "大量数据的保存、读取、读取、写入，需要的就是文件（files）。本章只介绍最简单的文本文件。\n",
    "\n",
    "## 创建文件\n",
    "\n",
    "创建一个文件最简单的方法，用 python 的内建函数 `open()`。\n",
    "[官方文档](https://docs.python.org/3/library/functions.html#open)略长。"
   ]
  },
  {
   "cell_type": "code",
   "execution_count": 10,
   "metadata": {},
   "outputs": [
    {
     "data": {
      "text/plain": [
       "'cp936'"
      ]
     },
     "execution_count": 10,
     "metadata": {},
     "output_type": "execute_result"
    }
   ],
   "source": [
    "import locale\n",
    "locale.getpreferredencoding(True)"
   ]
  },
  {
   "cell_type": "markdown",
   "metadata": {},
   "source": [
    "`open(file, mode='r')`\n",
    "\n",
    "第二个参数，`mode` 默认值是 `r`，可用的 `mode` 有以下几种：\n",
    "\n",
    "| 参数字符 | 意义                            |\n",
    "| -------- | ------------------------------- |\n",
    "| `'r'`    | 只读模式                        |\n",
    "| `'w'`    | 写入模式（重建）                |\n",
    "| `'x'`    | 排他模式 —— 如果文件已存在则打开失败 |\n",
    "| `'a'`    | 追加模式 —— 在已有文件末尾追加      |\n",
    "| `'b'`    | 二进制文件模式                  |\n",
    "| `'t'`    | 文本文件模式 (默认)             |\n",
    "| `'+'`    | 读写模式（更新） |\n",
    "\n",
    "创建一个新文件："
   ]
  },
  {
   "cell_type": "code",
   "execution_count": 12,
   "metadata": {},
   "outputs": [
    {
     "ename": "TypeError",
     "evalue": "an integer is required (got type _io.TextIOWrapper)",
     "output_type": "error",
     "traceback": [
      "\u001b[1;31m---------------------------------------------------------------------------\u001b[0m",
      "\u001b[1;31mTypeError\u001b[0m                                 Traceback (most recent call last)",
      "\u001b[1;32m<ipython-input-12-2ae83da1e173>\u001b[0m in \u001b[0;36m<module>\u001b[1;34m\u001b[0m\n\u001b[0;32m      1\u001b[0m \u001b[0mopen\u001b[0m\u001b[1;33m(\u001b[0m\u001b[1;34m'test_1.txt'\u001b[0m\u001b[1;33m,\u001b[0m \u001b[1;34m'w'\u001b[0m\u001b[1;33m)\u001b[0m\u001b[1;33m\u001b[0m\u001b[1;33m\u001b[0m\u001b[0m\n\u001b[1;32m----> 2\u001b[1;33m \u001b[0mos\u001b[0m\u001b[1;33m.\u001b[0m\u001b[0mclose\u001b[0m\u001b[1;33m(\u001b[0m\u001b[0mopen\u001b[0m\u001b[1;33m(\u001b[0m\u001b[1;34m'test_1.txt'\u001b[0m\u001b[1;33m,\u001b[0m \u001b[1;34m'w'\u001b[0m\u001b[1;33m)\u001b[0m\u001b[1;33m)\u001b[0m\u001b[1;33m\u001b[0m\u001b[1;33m\u001b[0m\u001b[0m\n\u001b[0m",
      "\u001b[1;31mTypeError\u001b[0m: an integer is required (got type _io.TextIOWrapper)"
     ]
    }
   ],
   "source": [
    "open('test_1.txt', 'w')"
   ]
  },
  {
   "cell_type": "markdown",
   "metadata": {},
   "source": [
    "这个函数的返回值是一个所谓的 [file object](https://docs.python.org/3/glossary.html#term-file-object)。更多时候，我们会把这个函数的返回值保存到一个变量中，以便后面调用这个 file object 的各种 Methods，比如获取文件名 `file.name`，比如关闭文件 `file.close()`："
   ]
  },
  {
   "cell_type": "code",
   "execution_count": 8,
   "metadata": {},
   "outputs": [
    {
     "name": "stdout",
     "output_type": "stream",
     "text": [
      "test_1.txt\n"
     ]
    }
   ],
   "source": [
    "f = open('test_1.txt', 'w')\n",
    "print(f.name)\n",
    "f.close()"
   ]
  },
  {
   "cell_type": "markdown",
   "metadata": {},
   "source": [
    "## 删除文件\n",
    "\n",
    "删除文件需要调用 `os` 模块。删除文件之前，需要先确认文件是否存在，否则删除命令会失败。 "
   ]
  },
  {
   "cell_type": "code",
   "execution_count": 6,
   "metadata": {},
   "outputs": [
    {
     "name": "stdout",
     "output_type": "stream",
     "text": [
      "test_1.txt\n",
      "test_1.txt deleted.\n"
     ]
    }
   ],
   "source": [
    "import os\n",
    "\n",
    "f = open('test_1.txt', 'w')\n",
    "print(f.name)\n",
    "f.close()\n",
    "\n",
    "if os.path.exists(f.name):\n",
    "    os.remove(f.name)\n",
    "    print(f'{f.name} deleted.')\n",
    "else:\n",
    "    print(f'{f.name} does not exist')"
   ]
  },
  {
   "cell_type": "code",
   "execution_count": 5,
   "metadata": {},
   "outputs": [
    {
     "ename": "FileNotFoundError",
     "evalue": "[WinError 2] 系统找不到指定的文件。: 'test_1.txt'",
     "output_type": "error",
     "traceback": [
      "\u001b[1;31m---------------------------------------------------------------------------\u001b[0m",
      "\u001b[1;31mFileNotFoundError\u001b[0m                         Traceback (most recent call last)",
      "\u001b[1;32m<ipython-input-5-e46000cecf4f>\u001b[0m in \u001b[0;36m<module>\u001b[1;34m\u001b[0m\n\u001b[1;32m----> 1\u001b[1;33m \u001b[0mos\u001b[0m\u001b[1;33m.\u001b[0m\u001b[0mremove\u001b[0m\u001b[1;33m(\u001b[0m\u001b[1;34m'test_1.txt'\u001b[0m\u001b[1;33m)\u001b[0m\u001b[1;33m\u001b[0m\u001b[1;33m\u001b[0m\u001b[0m\n\u001b[0m",
      "\u001b[1;31mFileNotFoundError\u001b[0m: [WinError 2] 系统找不到指定的文件。: 'test_1.txt'"
     ]
    }
   ],
   "source": [
    "os.remove('test_1.txt')"
   ]
  },
  {
   "cell_type": "markdown",
   "metadata": {},
   "source": [
    "## 读写文件\n",
    "\n",
    "创建文件之后，我们可以用 `f.write()` 方式把数据写入文件，也可以用 `f.read()` 来读取文件。"
   ]
  },
  {
   "cell_type": "code",
   "execution_count": 10,
   "metadata": {},
   "outputs": [
    {
     "name": "stdout",
     "output_type": "stream",
     "text": [
      "first line\n",
      "second line\n",
      "thrid line\n",
      "\n"
     ]
    }
   ],
   "source": [
    "f = open('test_1.txt', 'w')\n",
    "f.write('first line\\nsecond line\\nthrid line\\n')\n",
    "f.close()\n",
    "\n",
    "f = open('test_1.txt', 'r')\n",
    "s = f.read()\n",
    "print(s)\n",
    "f.close()"
   ]
  },
  {
   "cell_type": "markdown",
   "metadata": {},
   "source": [
    "文件有很多行的时候，我们可以用 `filereadline()` 操作。这个 Method 每次调用，都会返回文件中的新一行。"
   ]
  },
  {
   "cell_type": "code",
   "execution_count": 8,
   "metadata": {},
   "outputs": [
    {
     "name": "stdout",
     "output_type": "stream",
     "text": [
      "first line\n",
      "\n",
      "second line\n",
      "\n"
     ]
    }
   ],
   "source": [
    "f = open('test_1.txt', 'r')\n",
    "s = f.readline()    # 返回的是 'first line\\n'\n",
    "print(s)\n",
    "s = f.readline()    # 返回的是 'second line\\n'\n",
    "print(s)\n",
    "f.close()"
   ]
  },
  {
   "cell_type": "markdown",
   "metadata": {},
   "source": [
    "关于上面两个代码片段执行后输出的差别。第一段执行后，first line 与 second line 之间没有空行，直接换行。这是因为值调用了一次 `readling()`，这时起作用的是文件中的换行符，一个换行符换一行。而第二段代码调用两次 readling()，这样，每调用一次，都会在文件末尾自动再加上一个换行符，类似于 print() 函数。\n",
    "\n",
    "这个时候， `str.strip()` 就派上用场了。"
   ]
  },
  {
   "cell_type": "code",
   "execution_count": 12,
   "metadata": {},
   "outputs": [
    {
     "name": "stdout",
     "output_type": "stream",
     "text": [
      "first line\n",
      "second line\n"
     ]
    }
   ],
   "source": [
    "f = open('test_1.txt', 'w')\n",
    "f.write('first line\\nsecond line\\nthrid line\\n')\n",
    "f.close()\n",
    "\n",
    "f = open('test_1.txt', 'r')\n",
    "s = f.readline().strip()    # 返回的是 'first line'，'\\n' 被去掉了……\n",
    "print(s)\n",
    "s = f.readline().strip()    # 返回的是 'second line'，'\\n' 被去掉了……\n",
    "print(s)\n",
    "f.close()"
   ]
  },
  {
   "cell_type": "markdown",
   "metadata": {},
   "source": [
    "**`f.readlines()`** 读取文件的所有行，得到一个列表，其中每一行作为列表的一个元素："
   ]
  },
  {
   "cell_type": "code",
   "execution_count": 13,
   "metadata": {},
   "outputs": [
    {
     "name": "stdout",
     "output_type": "stream",
     "text": [
      "['first line\\n', 'second line\\n', 'thrid line\\n']\n"
     ]
    }
   ],
   "source": [
    "f = open('test_1.txt', 'w')\n",
    "f.write('first line\\nsecond line\\nthrid line\\n')\n",
    "f.close()\n",
    "\n",
    "f = open('test_1.txt', 'r')\n",
    "s = f.readlines()    # 返回的是一个列表，注意，readlines，最后的 's'\n",
    "print(s)\n",
    "f.close()"
   ]
  },
  {
   "cell_type": "markdown",
   "metadata": {},
   "source": [
    "既然是列表，就是可迭代对象，可以逐一访问每一行："
   ]
  },
  {
   "cell_type": "code",
   "execution_count": 14,
   "metadata": {},
   "outputs": [
    {
     "name": "stdout",
     "output_type": "stream",
     "text": [
      "first line\n",
      "\n",
      "second line\n",
      "\n",
      "thrid line\n",
      "\n"
     ]
    }
   ],
   "source": [
    "f = open('test_1.txt', 'r')\n",
    "for line in f.readlines():\n",
    "    print(line)\n",
    "f.close()"
   ]
  },
  {
   "cell_type": "markdown",
   "metadata": {},
   "source": [
    "`readlines()` 可以将文件读取到列表；相对地，`writelines()` 可以将一个列表写入文件，按顺序（从 0 开始）每一行写入列表中的对应元素："
   ]
  },
  {
   "cell_type": "code",
   "execution_count": 15,
   "metadata": {},
   "outputs": [
    {
     "name": "stdout",
     "output_type": "stream",
     "text": [
      "third line\n",
      "\n",
      "second line\n",
      "\n",
      "first line\n",
      "\n"
     ]
    }
   ],
   "source": [
    "a_list = ['first line\\n', 'second line\\n', 'third line\\n']\n",
    "\n",
    "f = open('test_2.txt', 'w')\n",
    "f.writelines(sorted(a_list, reverse=True))\n",
    "f.close()\n",
    "\n",
    "f = open('test_2.txt', 'r')\n",
    "for line in f.readlines():\n",
    "    print(line)\n",
    "f.close()"
   ]
  },
  {
   "cell_type": "markdown",
   "metadata": {},
   "source": [
    "## with 语句块\n",
    "\n",
    "针对文件操作，python 有另外的语句块写法，更便于阅读：\n",
    "\n",
    "```\n",
    "with open(...) as f:\n",
    "    f.write(...)\n",
    "    ...\n",
    "```\n",
    "\n",
    "这样，就可以把针对当前以特定模式打开的某个文件的各种操作都写入同一个语句块了。\n",
    "\n",
    "上面这段话有点绕口，简单意思就是，把对某个文件的操作放在一起执行。这个语句块的好处在于，可以及时地关闭文件，节约计算机资源。忘记这个说法是在哪里看的了。"
   ]
  },
  {
   "cell_type": "code",
   "execution_count": 16,
   "metadata": {},
   "outputs": [
    {
     "name": "stdout",
     "output_type": "stream",
     "text": [
      "first line\n",
      "\n",
      "second line\n",
      "\n",
      "thrid line\n",
      "\n",
      "test_1.txt deleted.\n"
     ]
    }
   ],
   "source": [
    "import os\n",
    "\n",
    "with open('test_1.txt', 'w') as f:\n",
    "    f.write('first line\\nsecond line\\nthrid line\\n')\n",
    "    \n",
    "with open('test_1.txt', 'r') as f:\n",
    "    for line in f.readlines():\n",
    "        print(line)\n",
    "\n",
    "if os.path.exists(f.name):\n",
    "    os.remove(f.name)\n",
    "    print(f'{f.name} deleted.')\n",
    "else:\n",
    "    print(f'{f.name} does not exist') "
   ]
  },
  {
   "cell_type": "markdown",
   "metadata": {},
   "source": [
    "上面的代码就不会出现 `PermissionError` 的错误，因为 `with` 语句块的作用就是在**恰当的时候**关闭文件。所以，用过以后，文件就被关闭了。\n",
    "\n",
    "即，`with` 语句块的另一个好处——不用写 `file.close()` 了。"
   ]
  },
  {
   "cell_type": "markdown",
   "metadata": {},
   "source": [
    "## 另一个完整的程序\n",
    "\n",
    "证明\n",
    "> 即便结论是正确的，论证过程乱七八糟也不行！\n",
    "\n",
    "这个论证应该来自于**把时间当做朋友**这本书。"
   ]
  },
  {
   "cell_type": "code",
   "execution_count": null,
   "metadata": {},
   "outputs": [],
   "source": [
    "with open('.english-words-master\\words_alpha.txt', 'r') as file:\n",
    "    for word in file.readlines():\n",
    "        pass # 先用 pass 占个位，一会儿再写计算过程"
   ]
  },
  {
   "cell_type": "code",
   "execution_count": 18,
   "metadata": {},
   "outputs": [
    {
     "data": {
      "text/plain": [
       "97"
      ]
     },
     "execution_count": 18,
     "metadata": {},
     "output_type": "execute_result"
    }
   ],
   "source": [
    "ord('a')"
   ]
  },
  {
   "cell_type": "code",
   "execution_count": 19,
   "metadata": {},
   "outputs": [
    {
     "name": "stdout",
     "output_type": "stream",
     "text": [
      "96\n"
     ]
    }
   ],
   "source": [
    "word = 'knowledge'\n",
    "sum = 0\n",
    "for char in word:\n",
    "    sum += ord(char) - 96\n",
    "print(sum)"
   ]
  },
  {
   "cell_type": "code",
   "execution_count": 20,
   "metadata": {},
   "outputs": [
    {
     "data": {
      "text/plain": [
       "100"
      ]
     },
     "execution_count": 20,
     "metadata": {},
     "output_type": "execute_result"
    }
   ],
   "source": [
    "def sum_of_word(word):\n",
    "    sum = 0\n",
    "    for char in word:\n",
    "        sum += ord(char) - 96\n",
    "    return sum\n",
    "\n",
    "sum_of_word('attitude')"
   ]
  },
  {
   "cell_type": "code",
   "execution_count": 22,
   "metadata": {},
   "outputs": [
    {
     "data": {
      "text/plain": [
       "10"
      ]
     },
     "execution_count": 22,
     "metadata": {},
     "output_type": "execute_result"
    }
   ],
   "source": [
    "ord('\\n')"
   ]
  },
  {
   "cell_type": "code",
   "execution_count": 35,
   "metadata": {},
   "outputs": [],
   "source": [
    "def sum_of_word(word):\n",
    "    sum = 0\n",
    "    for char in word:\n",
    "        sum += ord(char) - 96\n",
    "    return sum\n",
    "\n",
    "with open('results.txt', 'w') as result:\n",
    "    with open('english-words-master\\words_alpha.txt', 'r') as file:\n",
    "        for word in file.readlines():\n",
    "            if sum_of_word(word.strip()) == 100:\n",
    "                result.write(word)"
   ]
  },
  {
   "cell_type": "code",
   "execution_count": 33,
   "metadata": {},
   "outputs": [
    {
     "data": {
      "text/plain": [
       "True"
      ]
     },
     "execution_count": 33,
     "metadata": {},
     "output_type": "execute_result"
    }
   ],
   "source": [
    "os.path.exists('english-words-master\\\\words_alpha.txt')"
   ]
  },
  {
   "cell_type": "code",
   "execution_count": 34,
   "metadata": {},
   "outputs": [
    {
     "data": {
      "text/plain": [
       "'E:\\\\lessons\\\\block_chain\\\\self_teaching\\\\xu-practice'"
      ]
     },
     "execution_count": 34,
     "metadata": {},
     "output_type": "execute_result"
    }
   ],
   "source": [
    "os.getcwd()"
   ]
  },
  {
   "cell_type": "markdown",
   "metadata": {},
   "source": [
    "## 总结\n",
    "\n",
    "这一章介绍了文本文件的基本操作：\n",
    "\n",
    "> * 打开文件 `open()`，基本模式有 `r` 和 `w`；\n",
    "> * 删除文件，需要调用 `os` 模块，使用 `os.remove()`，删除文件前需要确认文件确实存在，还要确认文件当前没有被其他进程访问。。\n",
    "> * 读写文件的 Methods：`f.read()`, `f.write()`, `f.readling()`, `f.readlines()`, `f.writelines()`；\n",
    "> * `with` 语句块把文件都放入同一个语句块中。"
   ]
  },
  {
   "cell_type": "code",
   "execution_count": null,
   "metadata": {},
   "outputs": [],
   "source": []
  }
 ],
 "metadata": {
  "kernelspec": {
   "display_name": "Python [conda env:root] *",
   "language": "python",
   "name": "conda-root-py"
  },
  "language_info": {
   "codemirror_mode": {
    "name": "ipython",
    "version": 3
   },
   "file_extension": ".py",
   "mimetype": "text/x-python",
   "name": "python",
   "nbconvert_exporter": "python",
   "pygments_lexer": "ipython3",
   "version": "3.7.3"
  }
 },
 "nbformat": 4,
 "nbformat_minor": 2
}
