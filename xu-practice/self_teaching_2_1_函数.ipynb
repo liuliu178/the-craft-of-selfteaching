{
 "cells": [
  {
   "cell_type": "markdown",
   "metadata": {},
   "source": [
    "# 从函数开始"
   ]
  },
  {
   "cell_type": "markdown",
   "metadata": {},
   "source": [
    "有空就去读别人写的代码。理解能力的提高，全靠这个了。\n",
    "\n",
    "写函数的一个基本要求是\n",
    "\n",
    "> * 完成一个功能；\n",
    "> * 只完成一个功能；\n",
    "> * 没有任何错误地只完成一个功能。。。。\n",
    "\n",
    "自己总结。"
   ]
  },
  {
   "cell_type": "markdown",
   "metadata": {},
   "source": [
    "结构化编程的核心——**拆分任务**到不能再拆分为止。\n",
    "\n",
    "\n",
    "# 关于参数\n",
    "\n",
    "## 函数名\n",
    "\n",
    "\n",
    "一些规则，不能用数字开头。。。\n",
    "\n",
    "查询关键字列表的代码"
   ]
  },
  {
   "cell_type": "code",
   "execution_count": 2,
   "metadata": {},
   "outputs": [
    {
     "data": {
      "text/plain": [
       "['False',\n",
       " 'None',\n",
       " 'True',\n",
       " 'and',\n",
       " 'as',\n",
       " 'assert',\n",
       " 'async',\n",
       " 'await',\n",
       " 'break',\n",
       " 'class',\n",
       " 'continue',\n",
       " 'def',\n",
       " 'del',\n",
       " 'elif',\n",
       " 'else',\n",
       " 'except',\n",
       " 'finally',\n",
       " 'for',\n",
       " 'from',\n",
       " 'global',\n",
       " 'if',\n",
       " 'import',\n",
       " 'in',\n",
       " 'is',\n",
       " 'lambda',\n",
       " 'nonlocal',\n",
       " 'not',\n",
       " 'or',\n",
       " 'pass',\n",
       " 'raise',\n",
       " 'return',\n",
       " 'try',\n",
       " 'while',\n",
       " 'with',\n",
       " 'yield']"
      ]
     },
     "execution_count": 2,
     "metadata": {},
     "output_type": "execute_result"
    },
    {
     "data": {
      "text/plain": [
       "True"
      ]
     },
     "execution_count": 2,
     "metadata": {},
     "output_type": "execute_result"
    }
   ],
   "source": [
    "from IPython.core.interactiveshell import InteractiveShell\n",
    "InteractiveShell.ast_node_interactivity = 'all'\n",
    "\n",
    "import keyword\n",
    "keyword.kwlist  # 列出所有关键字\n",
    "keyword.iskeyword('if')  # 查询某个词是不是关键字"
   ]
  },
  {
   "cell_type": "markdown",
   "metadata": {},
   "source": [
    "https://www.python.org/dev/peps/pep-0008/#naming-conventions\n",
    "\n",
    "如果不确定一个 类 的方法应该是 public 的还是 non-public 的，那么就选择 non-public 的。"
   ]
  },
  {
   "cell_type": "markdown",
   "metadata": {},
   "source": [
    "当函数没有定义 return 语句时，默认的返回值是 `None`，即，相当于布尔值 `False`。"
   ]
  },
  {
   "cell_type": "code",
   "execution_count": 4,
   "metadata": {},
   "outputs": [
    {
     "name": "stdout",
     "output_type": "stream",
     "text": [
      "This is a hello message from do_something().\n",
      "The return value of 'do_something()' is None.\n"
     ]
    }
   ],
   "source": [
    "def do_something():\n",
    "    print('This is a hello message from do_something().')\n",
    "\n",
    "if not do_something():                # 由于该函数名称的缘故，这一句代码的可读性很差……\n",
    "    print(\"The return value of 'do_something()' is None.\")"
   ]
  },
  {
   "cell_type": "markdown",
   "metadata": {},
   "source": [
    "接收参数，判断是不是闰年"
   ]
  },
  {
   "cell_type": "code",
   "execution_count": 5,
   "metadata": {},
   "outputs": [
    {
     "data": {
      "text/plain": [
       "False"
      ]
     },
     "execution_count": 5,
     "metadata": {},
     "output_type": "execute_result"
    },
    {
     "data": {
      "text/plain": [
       "True"
      ]
     },
     "execution_count": 5,
     "metadata": {},
     "output_type": "execute_result"
    },
    {
     "data": {
      "text/plain": [
       "False"
      ]
     },
     "execution_count": 5,
     "metadata": {},
     "output_type": "execute_result"
    },
    {
     "data": {
      "text/plain": [
       "True"
      ]
     },
     "execution_count": 5,
     "metadata": {},
     "output_type": "execute_result"
    }
   ],
   "source": [
    "#接收参数，判断是不是闰年\n",
    "\n",
    "def is_leap(year):\n",
    "    leap = False\n",
    "    if year % 4 == 0:\n",
    "        leap = True\n",
    "        if year % 100 == 0 and year % 400 != 0:\n",
    "            leap = False\n",
    "    return leap\n",
    "\n",
    "\n",
    "is_leap(7)\n",
    "is_leap(12)\n",
    "is_leap(100)\n",
    "is_leap(400)"
   ]
  },
  {
   "cell_type": "code",
   "execution_count": 7,
   "metadata": {},
   "outputs": [
    {
     "data": {
      "text/plain": [
       "False"
      ]
     },
     "execution_count": 7,
     "metadata": {},
     "output_type": "execute_result"
    }
   ],
   "source": [
    "# 另外一个更为简洁的版本，理解它还挺练脑子的\n",
    "# cpython/Lib/datetime.py\n",
    "def _is_leap(year):\n",
    "    return year % 4 == 0 and (year % 100 != 0 or year % 400 == 0)\n",
    "_is_leap(300)"
   ]
  },
  {
   "cell_type": "markdown",
   "metadata": {},
   "source": [
    "给定范围内的斐波那契数列"
   ]
  },
  {
   "cell_type": "code",
   "execution_count": 8,
   "metadata": {},
   "outputs": [
    {
     "name": "stdout",
     "output_type": "stream",
     "text": [
      "144 233 377 610 987 1597 2584 4181 6765 "
     ]
    }
   ],
   "source": [
    "def fib_between(start, end):\n",
    "    a, b = 0, 1\n",
    "    while a < end:\n",
    "        if a >= start:\n",
    "            print(a, end=' ')\n",
    "        a, b = b, a + b\n",
    "\n",
    "fib_between(100, 10000)"
   ]
  },
  {
   "cell_type": "code",
   "execution_count": 10,
   "metadata": {},
   "outputs": [
    {
     "data": {
      "text/plain": [
       "[144, 233, 377, 610, 987, 1597, 2584, 4181, 6765]"
      ]
     },
     "execution_count": 10,
     "metadata": {},
     "output_type": "execute_result"
    }
   ],
   "source": [
    "def fib_between(start, end):\n",
    "    r = []\n",
    "    a, b = 0, 1\n",
    "    while a < end:\n",
    "        if a >= start:\n",
    "            r.append(a)\n",
    "        a, b = b, a + b\n",
    "    return r\n",
    "\n",
    "fib_between(100, 10000)"
   ]
  },
  {
   "cell_type": "markdown",
   "metadata": {},
   "source": [
    "关于这个程序中最精髓的一行代码：`a, b = b, a + b` 的理解\n",
    "\n",
    "猜测，先执行赋值号右边的内容，分别算出 b 和 a+b 的值，然后再按位置将它传给赋值号左边的值。\n",
    "\n",
    "## 变量的作用域"
   ]
  },
  {
   "cell_type": "code",
   "execution_count": 11,
   "metadata": {},
   "outputs": [
    {
     "name": "stdout",
     "output_type": "stream",
     "text": [
      "2\n"
     ]
    }
   ],
   "source": [
    "def increase_one(n):\n",
    "    n += 1\n",
    "    return n\n",
    "\n",
    "n = 1\n",
    "print(increase_one(n))\n",
    "# print(n)"
   ]
  },
  {
   "cell_type": "markdown",
   "metadata": {},
   "source": [
    "当 `increase_one(n)` 被调用之后，n 的值应该是多少？\n",
    "函数内部的 n 与函数外部的 n 作用域不同。\n",
    "\n",
    "global variables 全局变量\n",
    "local variables 局部变量\n",
    "\n",
    "> 每个函数被调用的时候，这个函数会开辟一个新的作用域。函数内部的所有变量，都是局部变量。这时，即使函数内部的变量与它外部的某个全局变量名称相同，但它们也是不同的变量，只是看起来名字一样。\n",
    "\n",
    "> 其次，更为重要的一点，当外部调用一个函数的时候，准确地讲，传递的不是变量，而是那个变量的值。\n",
    "\n",
    "> 函数内部对局部变量的操作不会影响全局变量的结果。"
   ]
  },
  {
   "cell_type": "markdown",
   "metadata": {},
   "source": [
    "但是，当传入函数内部的值是可变容器（比如，列表）的时候，就可以通过函数内部的操作来改变外部的列表的值："
   ]
  },
  {
   "cell_type": "code",
   "execution_count": 12,
   "metadata": {},
   "outputs": [
    {
     "data": {
      "text/plain": [
       "(1, ['What?!', 2, 3])"
      ]
     },
     "execution_count": 12,
     "metadata": {},
     "output_type": "execute_result"
    }
   ],
   "source": [
    "def be_careful(a, b):\n",
    "    a = 2\n",
    "    b[0] = 'What?!'\n",
    "\n",
    "a = 1\n",
    "b = [1, 2, 3]\n",
    "be_careful(a, b)\n",
    "a, b"
   ]
  },
  {
   "cell_type": "markdown",
   "metadata": {},
   "source": [
    "所以，一个比较好的习惯是，**当传入函数内部的值是列表时，在函数内部对其操作之前，先创建一个它的拷贝（复制）**："
   ]
  },
  {
   "cell_type": "code",
   "execution_count": 17,
   "metadata": {},
   "outputs": [
    {
     "data": {
      "text/plain": [
       "(2, ['What?!', 2, 3], [1, 2, 3])"
      ]
     },
     "execution_count": 17,
     "metadata": {},
     "output_type": "execute_result"
    },
    {
     "data": {
      "text/plain": [
       "(1, [1, 2, 3])"
      ]
     },
     "execution_count": 17,
     "metadata": {},
     "output_type": "execute_result"
    }
   ],
   "source": [
    "def be_careful(a, b):\n",
    "    a = 2\n",
    "    b_copy = b.copy()\n",
    "    b_copy[0] = 'What?!'\n",
    "    return(a, b_copy, b)\n",
    "\n",
    "a = 1\n",
    "b = [1, 2, 3]\n",
    "be_careful(a, b)\n",
    "a, b"
   ]
  },
  {
   "cell_type": "markdown",
   "metadata": {},
   "source": [
    "## 可以接收一系列值的位置参数\n",
    "\n",
    "在定义参数的时候，在一个**位置参数**（positional arguments）前面标注了星号 `*`，那么这个位置参数可以接收一系列的值，在函数内部可以对这一系列值用 `for ... in ...` 循环进行逐一处理。\n",
    "\n",
    "带一个星号的参数，英文名称是 “Arbitrary Positional Arguments”，暂时翻译为“随意的位置参数”。\n",
    "\n",
    "还有带两个星号的参数，英文名称是“Arbitrary Keyword Arguments”，翻译为“随意的关键字参数”。\n",
    "\n",
    "> 少浪费时间，少浪费生命，其实就相当于更长寿了呀。"
   ]
  },
  {
   "cell_type": "code",
   "execution_count": 1,
   "metadata": {},
   "outputs": [
    {
     "name": "stdout",
     "output_type": "stream",
     "text": [
      "Hi, ann!\n",
      "Hi, mike!\n",
      "Hi, john!\n",
      "Hi, zeo!\n",
      "Hi, lee!\n"
     ]
    }
   ],
   "source": [
    "def say_hi(*names):\n",
    "    for name in names:\n",
    "        print(f'Hi, {name}!')\n",
    "say_hi()\n",
    "say_hi('ann')\n",
    "say_hi('mike', 'john', 'zeo', 'lee')"
   ]
  },
  {
   "cell_type": "markdown",
   "metadata": {},
   "source": [
    "当没有给 `say_hi()` 传递参数的时候，`name in names` 的值是 `False`，所以，`for` 循环内部的代码没有被执行。\n",
    "\n",
    "在函数内部，是把 `names` 这个参数当作容器处理的，否则也没办法用 `for ... in ...` 来处理。\n",
    "\n",
    "在调用函数的时候，我们可以**将一个容器传递给函数的 Arbitrary positional arguments**，做法是，在调用函数的时候，在实参前面加上星号 `*`： "
   ]
  },
  {
   "cell_type": "code",
   "execution_count": 2,
   "metadata": {},
   "outputs": [
    {
     "name": "stdout",
     "output_type": "stream",
     "text": [
      "Hi, mike!\n",
      "Hi, john!\n",
      "Hi, zeo!\n"
     ]
    }
   ],
   "source": [
    "def say_hi(*names):\n",
    "    for name in names:\n",
    "        print(f'Hi, {name}!')\n",
    "\n",
    "names = ('mike', 'john', 'zeo')\n",
    "say_hi(*names)"
   ]
  },
  {
   "cell_type": "markdown",
   "metadata": {},
   "source": [
    "实际上，因为以上的 `say_hi(*names)` 函数内部就是把接收到的参数当作容器处理的。于是，调用这个函数的时候，向它传递任何容器都会被以同样的方式处理："
   ]
  },
  {
   "cell_type": "code",
   "execution_count": 3,
   "metadata": {},
   "outputs": [
    {
     "name": "stdout",
     "output_type": "stream",
     "text": [
      "Hi, P!\n",
      "Hi, y!\n",
      "Hi, t!\n",
      "Hi, h!\n",
      "Hi, o!\n",
      "Hi, n!\n",
      "Hi, 0!\n",
      "Hi, 1!\n",
      "Hi, 2!\n",
      "Hi, 3!\n",
      "Hi, 4!\n",
      "Hi, 5!\n",
      "Hi, 6!\n",
      "Hi, 7!\n",
      "Hi, 8!\n",
      "Hi, 9!\n",
      "Hi, 10!\n",
      "Hi, 9!\n",
      "Hi, 8!\n",
      "Hi, 7!\n",
      "Hi, 6!\n",
      "Hi, 5!\n",
      "Hi, 4!\n",
      "Hi, 3!\n",
      "Hi, 2!\n",
      "Hi, 1!\n",
      "Hi, ann!\n",
      "Hi, mike!\n",
      "Hi, joe!\n"
     ]
    }
   ],
   "source": [
    "def say_hi(*names):\n",
    "    for name in names:\n",
    "        print(f'Hi, {name}!')\n",
    "        \n",
    "a_string = 'Python'\n",
    "say_hi(*a_string)\n",
    "\n",
    "a_range = range(10)\n",
    "say_hi(*a_range)\n",
    "\n",
    "a_list = list(range(10, 0, -1))\n",
    "say_hi(*a_list)\n",
    "\n",
    "a_dictionary = {'ann':2321, 'mike':8712, 'joe': 7610}\n",
    "say_hi(*a_dictionary)"
   ]
  },
  {
   "cell_type": "markdown",
   "metadata": {},
   "source": [
    "对于字典，会输出它的键值（keys）。\n",
    "\n",
    "> 在定义可以接收一系列值的位置参数时，建议在函数内部为该边阿玲命名时总是用**复数**。\n",
    "\n",
    "因为在函数内部，总是需要 `for` 循环去迭代元组中的元素。这样的时候，名称的复数形式对代码的可读性很有帮助。\n",
    "\n",
    "> **注意**：一个函数，可以接收一系列值的位置只能有一个；并且若是还有其他位置参数存在，则必须把这个可以接收一系列值得位置参数排在所有其他位置参数的后面。"
   ]
  },
  {
   "cell_type": "code",
   "execution_count": 4,
   "metadata": {},
   "outputs": [
    {
     "name": "stdout",
     "output_type": "stream",
     "text": [
      "Hello, Mike!\n",
      "Hello, John!\n",
      "Hello, Zeo!\n"
     ]
    }
   ],
   "source": [
    "def say_hi(greeting, *names):\n",
    "    for name in names:\n",
    "        print(f'{greeting}, {name.capitalize()}!')\n",
    "\n",
    "say_hi('Hello', 'mike', 'john', 'zeo')"
   ]
  },
  {
   "cell_type": "markdown",
   "metadata": {},
   "source": [
    "## 为函数的某些参数设定默认值\n",
    "\n",
    "可以在定义函数的时候，为某些参数设定默认值。这些有默认值的参数，称为**关键字参数**（Keyword Arguments）。从这个函数的“用户”的角度来看，这些设定了默认值的参数，就成了“可选参数”。"
   ]
  },
  {
   "cell_type": "code",
   "execution_count": 5,
   "metadata": {},
   "outputs": [
    {
     "name": "stdout",
     "output_type": "stream",
     "text": [
      "Hello, mike!\n",
      "Hello, john!\n",
      "Hello, zeo!\n",
      "Hello, Mike!\n",
      "Hello, John!\n",
      "Hello, Zeo!\n"
     ]
    }
   ],
   "source": [
    "def say_hi(greeting, *names, capitalized=False):\n",
    "    for name in names:\n",
    "        if capitalized:\n",
    "            name = name.capitalize()\n",
    "        print(f'{greeting}, {name}!')\n",
    "\n",
    "say_hi('Hello', 'mike', 'john', 'zeo')\n",
    "say_hi('Hello', 'mike', 'john', 'zeo', capitalized=True)"
   ]
  },
  {
   "cell_type": "markdown",
   "metadata": {},
   "source": [
    "## 可以接收一系列值的关键字参数\n",
    "\n",
    "与“可以接收一系列值得位置参数”类似，我们也可以设定一个可以接收很多值的关键字参数（Arbitrary Keyword Argument）:"
   ]
  },
  {
   "cell_type": "code",
   "execution_count": 6,
   "metadata": {},
   "outputs": [
    {
     "name": "stdout",
     "output_type": "stream",
     "text": [
      "Hello, mike!\n",
      "Oh, my darling, ann!\n",
      "Hi, john!\n"
     ]
    }
   ],
   "source": [
    "def say_hi(**names_greetings):\n",
    "    for name, greeting in names_greetings.items():\n",
    "        print(f'{greeting}, {name}!')\n",
    "\n",
    "say_hi(mike='Hello', ann='Oh, my darling', john='Hi')"
   ]
  },
  {
   "cell_type": "code",
   "execution_count": 7,
   "metadata": {},
   "outputs": [
    {
     "name": "stdout",
     "output_type": "stream",
     "text": [
      "mike Hello\n",
      "ann Oh, my darling\n",
      "john Hi\n"
     ]
    }
   ],
   "source": [
    "def say_hi(**names_greetings):\n",
    "    for name, greeting in names_greetings.items():\n",
    "        print(name, greeting)\n",
    "\n",
    "say_hi(mike='Hello', ann='Oh, my darling', john='Hi')"
   ]
  },
  {
   "cell_type": "markdown",
   "metadata": {},
   "source": [
    "在函数内部，我们在处理接收到的 任意关键字参数 时，用的是对字典的迭代方式。那么，在调用函数的时候，也可以直接使用字典的形式："
   ]
  },
  {
   "cell_type": "code",
   "execution_count": 8,
   "metadata": {},
   "outputs": [
    {
     "name": "stdout",
     "output_type": "stream",
     "text": [
      "Hello, mike!\n",
      "Oh, my darling, ann!\n",
      "Hi, john!\n"
     ]
    }
   ],
   "source": [
    "def say_hi(**names_greetings):\n",
    "    for name, greeting in names_greetings.items():\n",
    "        print(f'{greeting}, {name}!')\n",
    "\n",
    "a_dictionary = {'mike':'Hello', 'ann':'Oh, my darling', 'john':'Hi'}\n",
    "say_hi(**a_dictionary)"
   ]
  },
  {
   "cell_type": "markdown",
   "metadata": {},
   "source": [
    "至于在函数内部，你用什么样的迭代方式去处理这个字典，是你自己的选择："
   ]
  },
  {
   "cell_type": "code",
   "execution_count": 9,
   "metadata": {},
   "outputs": [
    {
     "name": "stdout",
     "output_type": "stream",
     "text": [
      "Hello, mike!\n",
      "Oh, my darling, ann!\n",
      "Hi, john!\n"
     ]
    }
   ],
   "source": [
    "def say_hi_2(**names_greetings):\n",
    "    for name in names_greetings:\n",
    "        print(f'{names_greetings[name]}, {name}!')\n",
    "say_hi_2(mike='Hello', ann='Oh, my darling', john='Hi')"
   ]
  },
  {
   "cell_type": "markdown",
   "metadata": {},
   "source": [
    "## 函数定义时各种参数的排列顺序\n",
    "\n",
    "在定义函数的时候，各种不同类型的参数应该按什么顺序摆放呢？对于之前写过的 `say_hi()` 这个函数，"
   ]
  },
  {
   "cell_type": "code",
   "execution_count": 10,
   "metadata": {},
   "outputs": [
    {
     "name": "stdout",
     "output_type": "stream",
     "text": [
      "Hi, mike!\n",
      "Hi, john!\n",
      "Hi, zeo!\n",
      "Welcome, Mike!\n",
      "Welcome, John!\n",
      "Welcome, Zeo!\n"
     ]
    }
   ],
   "source": [
    "def say_hi(greeting, *names, capitalized=False):\n",
    "    for name in names:\n",
    "        if capitalized:\n",
    "            name = name.capitalize()\n",
    "        print(f'{greeting}, {name}!')\n",
    "\n",
    "say_hi('Hi', 'mike', 'john', 'zeo')\n",
    "say_hi('Welcome', 'mike', 'john', 'zeo', capitalized=True)"
   ]
  },
  {
   "cell_type": "markdown",
   "metadata": {},
   "source": [
    "如果想给其中的 `greeting` 参数也设定默认值要怎么办？："
   ]
  },
  {
   "cell_type": "code",
   "execution_count": 11,
   "metadata": {},
   "outputs": [
    {
     "name": "stdout",
     "output_type": "stream",
     "text": [
      "Hi, mike!\n",
      "Hi, john!\n",
      "Hi, zeo!\n",
      "Welcome, Mike!\n",
      "Welcome, John!\n",
      "Welcome, Zeo!\n"
     ]
    }
   ],
   "source": [
    "def say_hi(greeting='Hello', *names, capitalized=False):\n",
    "    for name in names:\n",
    "        if capitalized:\n",
    "            name = name.capitalize()\n",
    "        print(f'{greeting}, {name}!')\n",
    "\n",
    "say_hi('Hi', 'mike', 'john', 'zeo')\n",
    "say_hi('Welcome', 'mike', 'john', 'zeo', capitalized=True)"
   ]
  },
  {
   "cell_type": "markdown",
   "metadata": {},
   "source": [
    "但是，`greeting` 这个参数虽然有默认值，可是在调用函数的时候，还是必须给出这个参数，否则，输出结果超出想象："
   ]
  },
  {
   "cell_type": "code",
   "execution_count": 12,
   "metadata": {},
   "outputs": [
    {
     "name": "stdout",
     "output_type": "stream",
     "text": [
      "mike, john!\n",
      "mike, zeo!\n"
     ]
    }
   ],
   "source": [
    "def say_hi(greeting='Hello', *names, capitalized=False):\n",
    "    for name in names:\n",
    "        if capitalized:\n",
    "            name = name.capitalize()\n",
    "        print(f'{greeting}, {name}!')\n",
    "\n",
    "say_hi('mike', 'john', 'zeo')"
   ]
  },
  {
   "cell_type": "markdown",
   "metadata": {},
   "source": [
    "虽然设定了默认值，但是并不是你想的那样是**可选**的。需要这样写："
   ]
  },
  {
   "cell_type": "code",
   "execution_count": 13,
   "metadata": {},
   "outputs": [
    {
     "name": "stdout",
     "output_type": "stream",
     "text": [
      "Hello, mike!\n",
      "Hello, john!\n",
      "Hello, zeo!\n",
      "Hi, mike!\n",
      "Hi, john!\n",
      "Hi, zeo!\n"
     ]
    }
   ],
   "source": [
    "def say_hi(*names, greeting='Hello', capitalized=False):\n",
    "    for name in names:\n",
    "        if capitalized:\n",
    "            name = name.capitalize()\n",
    "        print(f'{greeting}, {name}!')\n",
    "\n",
    "say_hi('mike', 'john', 'zeo')\n",
    "say_hi('mike', 'john', 'zeo', greeting='Hi')"
   ]
  },
  {
   "cell_type": "markdown",
   "metadata": {},
   "source": [
    "这是因为，函数被调用时，面对许多参数，python 需要按照既定的规则（顺序）判定每个参数究竟是哪种类型的参数：\n",
    "\n",
    "> **order of arguments**\n",
    "> 1. positional\n",
    "> 2. arbitrary positional\n",
    "> 3. Keyword\n",
    "> 4. Arbitrary keyword\n",
    "\n",
    "所以，即便在定义里写成\n",
    "\n",
    "```\n",
    "def say_hi(greeting='Hello', *names, capitalized=False):\n",
    "```"
   ]
  },
  {
   "cell_type": "markdown",
   "metadata": {},
   "source": [
    "在调用该函数的时候，无论是写成\n",
    "\n",
    "```\n",
    "say_hi('Hi', 'mike', 'john', 'zeo')\n",
    "```\n",
    "\n",
    "还是\n",
    "\n",
    "```\n",
    "say_hi('mike', 'john', 'zeo')\n",
    "```\n",
    "\n",
    "python 都会认为接收到的第一个值是 positional argument,**因为在定义中，`greeting` 被放到了 arbitrary positional arguments 之前。**"
   ]
  },
  {
   "cell_type": "markdown",
   "metadata": {},
   "source": [
    "# 化名与匿名\n",
    "\n",
    "## 化名\n",
    "\n",
    "在 python 中，我们可以给函数取一个**化名**（alias）。"
   ]
  },
  {
   "cell_type": "code",
   "execution_count": 1,
   "metadata": {},
   "outputs": [],
   "source": [
    "from IPython.core.interactiveshell import InteractiveShell\n",
    "InteractiveShell.ast_node_interactivity = \"all\""
   ]
  },
  {
   "cell_type": "code",
   "execution_count": 2,
   "metadata": {},
   "outputs": [
    {
     "data": {
      "text/plain": [
       "<function __main__._is_leap(year)>"
      ]
     },
     "execution_count": 2,
     "metadata": {},
     "output_type": "execute_result"
    },
    {
     "data": {
      "text/plain": [
       "True"
      ]
     },
     "execution_count": 2,
     "metadata": {},
     "output_type": "execute_result"
    },
    {
     "data": {
      "text/plain": [
       "3007673831904"
      ]
     },
     "execution_count": 2,
     "metadata": {},
     "output_type": "execute_result"
    },
    {
     "data": {
      "text/plain": [
       "3007673831904"
      ]
     },
     "execution_count": 2,
     "metadata": {},
     "output_type": "execute_result"
    },
    {
     "data": {
      "text/plain": [
       "function"
      ]
     },
     "execution_count": 2,
     "metadata": {},
     "output_type": "execute_result"
    },
    {
     "data": {
      "text/plain": [
       "function"
      ]
     },
     "execution_count": 2,
     "metadata": {},
     "output_type": "execute_result"
    }
   ],
   "source": [
    "def _is_leap(year):\n",
    "    return year % 4 == 0 and (year % 100 != 0 or year % 400 == 0)\n",
    "\n",
    "year_leap_bool = _is_leap\n",
    "year_leap_bool              #<function __main__._is_leap(year)>\n",
    "year_leap_bool(800)         # _is_leap(800) -> True\n",
    "\n",
    "id(year_leap_bool)          # id() 这个函数可以查询某对象的内存地址\n",
    "id(_is_leap)                # year_leap_bool 和 _is_leap 其实保存在同一个地址中，也就是说，它们是同一个对象。\n",
    "\n",
    "type(year_leap_bool)\n",
    "type(_is_leap)              # 它们都是 function"
   ]
  },
  {
   "cell_type": "markdown",
   "metadata": {},
   "source": [
    "**注意函数化名的语法与调用函数的语法**"
   ]
  },
  {
   "cell_type": "markdown",
   "metadata": {},
   "source": [
    "两个函数的内存地址是一样的——它们是同一个对象，都是函数。所以，`year_leap_bool = _is_leap` 相当于是 `_is_leap` 这个函数的化名。\n",
    "\n",
    "什么样的情况下，要给一个函数取一个化名呢？\n",
    "\n",
    "在任何一个工程里，为函数或者变量取名都是很简单却并不容易的事情——因为可能会重名（虽然已经尽量用变量的作用域隔离了），可能会隐取名含混而令后来者费解。\n",
    "\n",
    "更多的时候，为函数取一个化名，应该是为了提高代码可读性——对自己或其他人都很重要。"
   ]
  },
  {
   "cell_type": "markdown",
   "metadata": {},
   "source": [
    "## lambda\n",
    "\n",
    "写一个很短的函数可以用 `lambda` 关键字。\n",
    "下面用 `def` 关键字写函数："
   ]
  },
  {
   "cell_type": "code",
   "execution_count": 3,
   "metadata": {},
   "outputs": [
    {
     "data": {
      "text/plain": [
       "8"
      ]
     },
     "execution_count": 3,
     "metadata": {},
     "output_type": "execute_result"
    }
   ],
   "source": [
    "def add(x, y):\n",
    "    return x + y\n",
    "add(3, 5)"
   ]
  },
  {
   "cell_type": "markdown",
   "metadata": {},
   "source": [
    "下面是用 `lambda` 关键字写函数："
   ]
  },
  {
   "cell_type": "code",
   "execution_count": 5,
   "metadata": {},
   "outputs": [
    {
     "data": {
      "text/plain": [
       "8"
      ]
     },
     "execution_count": 5,
     "metadata": {},
     "output_type": "execute_result"
    }
   ],
   "source": [
    "add = lambda x, y: x + y\n",
    "add(3, 5)"
   ]
  },
  {
   "cell_type": "markdown",
   "metadata": {},
   "source": [
    "`lambda` 的语法结构如下：\n",
    "\n",
    "> lambda_expr ::= \"lambda\" [parameter_lsit] \":\" expression\n",
    "\n",
    "以上使用的是 BNF 标注。**BNF 目前不熟悉，所以，有疑惑别当回事。**\n",
    "\n",
    "反正你已经见到示例了：\n",
    "\n",
    "```\n",
    "lambda x, y: x + y\n",
    "```\n",
    "\n",
    "先写上 `lambda` 这个关键字，其后分为两个部分，`:` 之前是参数，之后是表达式；这个表达式的值，就是函数的返回值。\n",
    "\n",
    "> **注意**：`lambda` 语句中，`:` 之后有且只能有一个表达式。\n",
    "\n",
    "而这个函数没有名字，所以被称为“匿名函数”。\n",
    "\n",
    "`add = lambda x, y: x + y`\n",
    "\n",
    "就相当于给一个没有名字的函数取了个名字。"
   ]
  },
  {
   "cell_type": "markdown",
   "metadata": {},
   "source": [
    "## lambda 的使用场景\n",
    "\n",
    "### 作为某函数的返回值\n",
    "\n",
    "第一个常见的用处是**作为另外一个函数的返回值**。以下是 [Python tutorial](https://docs.python.org/3/tutorial/controlflow.html#lambda-expressions) 中的一个例子："
   ]
  },
  {
   "cell_type": "code",
   "execution_count": 6,
   "metadata": {},
   "outputs": [
    {
     "data": {
      "text/plain": [
       "42"
      ]
     },
     "execution_count": 6,
     "metadata": {},
     "output_type": "execute_result"
    },
    {
     "data": {
      "text/plain": [
       "43"
      ]
     },
     "execution_count": 6,
     "metadata": {},
     "output_type": "execute_result"
    }
   ],
   "source": [
    "def make_incrementor(n):\n",
    "    return lambda x: x + n\n",
    "\n",
    "f = make_incrementor(42)\n",
    "f(0)\n",
    "\n",
    "f(1)"
   ]
  },
  {
   "cell_type": "code",
   "execution_count": 7,
   "metadata": {},
   "outputs": [
    {
     "data": {
      "text/plain": [
       "3007673832312"
      ]
     },
     "execution_count": 7,
     "metadata": {},
     "output_type": "execute_result"
    },
    {
     "data": {
      "text/plain": [
       "3007673832448"
      ]
     },
     "execution_count": 7,
     "metadata": {},
     "output_type": "execute_result"
    }
   ],
   "source": [
    "id(make_incrementor)\n",
    "id(f)"
   ]
  },
  {
   "cell_type": "markdown",
   "metadata": {},
   "source": [
    "首先要注意，`f` 并不是 `make_incrementor()` 这个函数的化名，如果是给这个函数取化名，写法应该是：\n",
    "\n",
    "```\n",
    "f = make_incremetor\n",
    "```\n",
    "\n",
    "那 `f` 是什么呢？"
   ]
  },
  {
   "cell_type": "code",
   "execution_count": 8,
   "metadata": {},
   "outputs": [
    {
     "data": {
      "text/plain": [
       "<function __main__.make_incrementor.<locals>.<lambda>(x)>"
      ]
     },
     "execution_count": 8,
     "metadata": {},
     "output_type": "execute_result"
    }
   ],
   "source": [
    "f"
   ]
  },
  {
   "cell_type": "markdown",
   "metadata": {},
   "source": [
    "> * `f = make_incrementor(42)` 是将 `make_incrementor(42)` 的返回值保存到 `f` 这个变量中；\n",
    "> * `make_incrementor` 这个函数接收到 `42` 这个参数后，返回了一个函数：`lambda x: x + 42`；\n",
    "> * 于是 `f` 中保存的函数是 `lambda x: x + 42`；\n",
    "> * 所以，`f(0)` 是向着匿名函数传递了 `0`，而后，它返回的是 `0 + 42`。"
   ]
  },
  {
   "cell_type": "markdown",
   "metadata": {},
   "source": [
    "### 作为函数的参数\n",
    "\n",
    "可以拿一些可以接收函数为参数的内建函数做例子。比如，[`map()`](https://docs.python.org/3/library/functions.html#map)。"
   ]
  },
  {
   "cell_type": "code",
   "execution_count": 9,
   "metadata": {},
   "outputs": [
    {
     "data": {
      "text/plain": [
       "[2, 4, 6, 8, 10, 12]"
      ]
     },
     "execution_count": 9,
     "metadata": {},
     "output_type": "execute_result"
    },
    {
     "data": {
      "text/plain": [
       "[2, 4, 6, 8, 10, 12]"
      ]
     },
     "execution_count": 9,
     "metadata": {},
     "output_type": "execute_result"
    }
   ],
   "source": [
    "def double_it(n):\n",
    "    return n * 2\n",
    "\n",
    "a_list = [1, 2, 3, 4, 5, 6]\n",
    "\n",
    "b_list = list(map(double_it, a_list))\n",
    "b_list\n",
    "\n",
    "c_list = list(map(lambda x: x * 2, a_list))\n",
    "c_list"
   ]
  },
  {
   "cell_type": "markdown",
   "metadata": {},
   "source": [
    "用 `lambda` 更为简洁。另外，类似完成 `double_it(n)` 这种简单功能的函数，常常有**用过即弃**的必要。"
   ]
  },
  {
   "cell_type": "code",
   "execution_count": 3,
   "metadata": {},
   "outputs": [
    {
     "data": {
      "text/plain": [
       "[{'name': 'john', 'phone': 9876},\n",
       " {'name': 'mike', 'phone': 5603},\n",
       " {'name': 'stan', 'phone': 6898},\n",
       " {'name': 'eric', 'phone': 7898}]"
      ]
     },
     "execution_count": 3,
     "metadata": {},
     "output_type": "execute_result"
    },
    {
     "data": {
      "text/plain": [
       "['john', 'mike', 'stan', 'eric']"
      ]
     },
     "execution_count": 3,
     "metadata": {},
     "output_type": "execute_result"
    },
    {
     "data": {
      "text/plain": [
       "[9876, 5603, 6898, 7898]"
      ]
     },
     "execution_count": 3,
     "metadata": {},
     "output_type": "execute_result"
    }
   ],
   "source": [
    "from IPython.core.interactiveshell import InteractiveShell\n",
    "InteractiveShell.ast_node_interactivity = \"all\"\n",
    "\n",
    "phonebook = [\n",
    "    {\n",
    "        'name': 'john',\n",
    "        'phone': 9876\n",
    "    },\n",
    "    {\n",
    "        'name': 'mike',\n",
    "        'phone': 5603\n",
    "    },\n",
    "    {\n",
    "        'name': 'stan',\n",
    "        'phone': 6898\n",
    "    },\n",
    "    {\n",
    "        'name': 'eric',\n",
    "        'phone': 7898\n",
    "    }\n",
    "]\n",
    "\n",
    "phonebook\n",
    "list(map(lambda x: x['name'], phonebook))\n",
    "list(map(lambda x: x['phone'], phonebook))"
   ]
  },
  {
   "cell_type": "markdown",
   "metadata": {},
   "source": [
    "可以给 `map()` 传递若干可被迭代对象："
   ]
  },
  {
   "cell_type": "code",
   "execution_count": 4,
   "metadata": {},
   "outputs": [
    {
     "data": {
      "text/plain": [
       "[2, 12, 30]"
      ]
     },
     "execution_count": 4,
     "metadata": {},
     "output_type": "execute_result"
    }
   ],
   "source": [
    "a_list = [1, 3, 5]\n",
    "b_list = [2, 4, 6]\n",
    "\n",
    "list(map(lambda x, y: x * y, a_list, b_list))"
   ]
  },
  {
   "cell_type": "markdown",
   "metadata": {},
   "source": [
    "以上的例子都弄明白了，再去看 [python tutorial](https://docs.python.org/3/tutorial/controlflow.html#lambda-expressions) 中的例子："
   ]
  },
  {
   "cell_type": "code",
   "execution_count": 5,
   "metadata": {},
   "outputs": [
    {
     "data": {
      "text/plain": [
       "[(4, 'four'), (1, 'one'), (3, 'three'), (2, 'two')]"
      ]
     },
     "execution_count": 5,
     "metadata": {},
     "output_type": "execute_result"
    }
   ],
   "source": [
    "pairs = [(1, 'one'), (2, 'two'), (3, 'three'), (4, 'four')]\n",
    "pairs.sort(key=lambda p: p[1])\n",
    "pairs"
   ]
  },
  {
   "cell_type": "markdown",
   "metadata": {},
   "source": [
    "[list.sort()](https://docs.python.org/3/library/stdtypes.html?highlight=list%20sort#list.sort)\n",
    "\n",
    "A sort is stable if it guarantees not to change the relative order of elements that compare equal - this is helpful for sorting im multiple passes.\n",
    "\n",
    "稳定的排序。"
   ]
  },
  {
   "cell_type": "code",
   "execution_count": null,
   "metadata": {},
   "outputs": [],
   "source": []
  }
 ],
 "metadata": {
  "kernelspec": {
   "display_name": "Python 3",
   "language": "python",
   "name": "python3"
  },
  "language_info": {
   "codemirror_mode": {
    "name": "ipython",
    "version": 3
   },
   "file_extension": ".py",
   "mimetype": "text/x-python",
   "name": "python",
   "nbconvert_exporter": "python",
   "pygments_lexer": "ipython3",
   "version": "3.7.3"
  },
  "toc": {
   "base_numbering": 1,
   "nav_menu": {},
   "number_sections": true,
   "sideBar": true,
   "skip_h1_title": false,
   "title_cell": "Table of Contents",
   "title_sidebar": "Contents",
   "toc_cell": false,
   "toc_position": {},
   "toc_section_display": true,
   "toc_window_display": false
  }
 },
 "nbformat": 4,
 "nbformat_minor": 2
}
