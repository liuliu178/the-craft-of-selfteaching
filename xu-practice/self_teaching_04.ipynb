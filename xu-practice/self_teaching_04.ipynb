{
 "cells": [
  {
   "cell_type": "markdown",
   "metadata": {},
   "source": [
    "# 函数\n",
    "\n",
    "函数，实际上是可被调用的完整的程序。它具备**输入、处理、输出**的功能。又因为它经常在主程序里被调用，所以它更像是个**子程序**。\n",
    "\n",
    "了解一个函数，无非是要了解它的两个方面：\n",
    "\n",
    "> * 它的**输入**是怎么构成的（都有哪些参数，如何指定）；\n",
    "> * 它的**输出**是什么（返回值是什么）\n",
    "\n",
    "使用函数，就类似于**通过阅读产品说明书（文档）来了解如何使用产品，并使用产品**。\n",
    "\n",
    "> 本章的目的是通过例子让你大概学会，如何通过阅读官方文档中关于函数的使用说明。注意是**大概上**，所以千万别怕自己最初的时候理解不全面。\n",
    "\n",
    "本章用来举例的函数，全部来自[内建函数](https://docs.python.org/3/library/functions.html)。"
   ]
  },
  {
   "cell_type": "markdown",
   "metadata": {},
   "source": [
    "## 示例 print()\n",
    "\n",
    "### 基本使用方法"
   ]
  },
  {
   "cell_type": "code",
   "execution_count": 2,
   "metadata": {},
   "outputs": [
    {
     "name": "stdout",
     "output_type": "stream",
     "text": [
      "Hello, jack mike ... and all you guys!\n"
     ]
    }
   ],
   "source": [
    "# 传入多个参数\n",
    "print('Hello,', 'jack', 'mike', '...', 'and all you guys!')"
   ]
  },
  {
   "cell_type": "code",
   "execution_count": 3,
   "metadata": {},
   "outputs": [
    {
     "name": "stdout",
     "output_type": "stream",
     "text": [
      "Ann is 22 years old.\n"
     ]
    }
   ],
   "source": [
    "# 把变量或者表达式的值插入字符串中，用 f-string\n",
    "\n",
    "name = 'Ann'\n",
    "age = '22'\n",
    "\n",
    "print(f'{name} is {age} years old.')"
   ]
  },
  {
   "cell_type": "markdown",
   "metadata": {},
   "source": [
    "但这并不是 `print()` 这个函数的功能，而是 `f-string` 的功能。`f-string` 中用花括号 `{}` 括起来的部分是表达式。最终转换成字符串的时候，这些表达式的值（而不是变量或者表达式本身）会被插入相应的位置。"
   ]
  },
  {
   "cell_type": "markdown",
   "metadata": {},
   "source": [
    "### print() 官方文档说明\n",
    "\n",
    "`print()` 这个参数可以往文件里面写入数据，只要指定 `file` 这个参数为一个已经打开的文件对象就可以了（作者说真的有很多人完全不知道，我就是完全不知道）。\n",
    "\n",
    "> `print()` 这个函数的返回值是 `None`——注意，它向屏幕输出的内容，与它作为一个函数的返回值不是一回事。\n",
    "\n",
    "例如："
   ]
  },
  {
   "cell_type": "code",
   "execution_count": 4,
   "metadata": {},
   "outputs": [
    {
     "name": "stdout",
     "output_type": "stream",
     "text": [
      "1\n",
      "None\n"
     ]
    }
   ],
   "source": [
    "print(print(1))"
   ]
  },
  {
   "cell_type": "markdown",
   "metadata": {},
   "source": [
    "**看说明书**就是这样，全都看了，真不一定能全部看懂，但看总比不看强，因为综合司有能看懂的部分。"
   ]
  },
  {
   "cell_type": "markdown",
   "metadata": {},
   "source": [
    "## 关键字参数\n",
    "\n",
    "在 python 中，函数的参数有两种：\n",
    "\n",
    "> * 位置参数（Positional Arguments，在官方文档里常被缩写为 arg）；\n",
    "> * 关键字参数（Keyword Arguments，在官方文档里常被缩写为 kwarg）。\n",
    "\n",
    "在函数定义中，带有 `=` 的，即，已为其设定了默认值的参数，叫做 keyword Arguments，其它的是 Positional Arguments。\n",
    "\n",
    "调用函数时，如果不提供关键字参数，则函数会以默认关键字参数的值执行，例如 `sort` 函数：\n",
    "\n",
    "> sorted(iterable, *, key=None, reverse=False)"
   ]
  },
  {
   "cell_type": "code",
   "execution_count": 8,
   "metadata": {},
   "outputs": [
    {
     "data": {
      "text/plain": [
       "['a', 'b', 'c', 'd']"
      ]
     },
     "execution_count": 8,
     "metadata": {},
     "output_type": "execute_result"
    },
    {
     "data": {
      "text/plain": [
       "['d', 'c', 'b', 'a']"
      ]
     },
     "execution_count": 8,
     "metadata": {},
     "output_type": "execute_result"
    }
   ],
   "source": [
    "from IPython.core.interactiveshell import InteractiveShell\n",
    "InteractiveShell.ast_node_interactivity = \"all\"\n",
    "\n",
    "sorted('abdc')\n",
    "sorted('abdc', reverse=True)"
   ]
  },
  {
   "cell_type": "markdown",
   "metadata": {},
   "source": [
    "### 位置参数\n",
    "\n",
    "**由位置决定其值的参数**，以 `divmod()` 为例："
   ]
  },
  {
   "cell_type": "code",
   "execution_count": 10,
   "metadata": {},
   "outputs": [
    {
     "data": {
      "text/plain": [
       "(3, 2)"
      ]
     },
     "execution_count": 10,
     "metadata": {},
     "output_type": "execute_result"
    },
    {
     "data": {
      "text/plain": [
       "3"
      ]
     },
     "execution_count": 10,
     "metadata": {},
     "output_type": "execute_result"
    },
    {
     "data": {
      "text/plain": [
       "2"
      ]
     },
     "execution_count": 10,
     "metadata": {},
     "output_type": "execute_result"
    },
    {
     "data": {
      "text/plain": [
       "(0, 3)"
      ]
     },
     "execution_count": 10,
     "metadata": {},
     "output_type": "execute_result"
    },
    {
     "data": {
      "text/plain": [
       "0"
      ]
     },
     "execution_count": 10,
     "metadata": {},
     "output_type": "execute_result"
    },
    {
     "data": {
      "text/plain": [
       "3"
      ]
     },
     "execution_count": 10,
     "metadata": {},
     "output_type": "execute_result"
    }
   ],
   "source": [
    "from IPython.core.interactiveshell import InteractiveShell\n",
    "InteractiveShell.ast_node_interactivity = \"all\"\n",
    "\n",
    "divmod(11, 3)\n",
    "a, b = divmod(11, 3)\n",
    "a\n",
    "b\n",
    "\n",
    "divmod(3, 11)\n",
    "a, b = divmod(3, 11)\n",
    "a\n",
    "b"
   ]
  },
  {
   "cell_type": "code",
   "execution_count": 14,
   "metadata": {},
   "outputs": [
    {
     "data": {
      "text/plain": [
       "(3.0, 2.1999999999999997)"
      ]
     },
     "execution_count": 14,
     "metadata": {},
     "output_type": "execute_result"
    }
   ],
   "source": [
    "# 官方文档里说了，当给出的参数是浮点数的时候，就会有一些问题。\n",
    "divmod(11.5, 3.1)"
   ]
  },
  {
   "cell_type": "code",
   "execution_count": 16,
   "metadata": {},
   "outputs": [
    {
     "data": {
      "text/plain": [
       "11.499"
      ]
     },
     "execution_count": 16,
     "metadata": {},
     "output_type": "execute_result"
    }
   ],
   "source": [
    "3.0*3.1+2.199"
   ]
  },
  {
   "cell_type": "markdown",
   "metadata": {},
   "source": [
    "### 可选位置参数\n",
    "\n",
    "例如，`pow`。可选位置参数（Optional Positional Arguments）"
   ]
  },
  {
   "cell_type": "code",
   "execution_count": 18,
   "metadata": {},
   "outputs": [
    {
     "data": {
      "text/plain": [
       "8"
      ]
     },
     "execution_count": 18,
     "metadata": {},
     "output_type": "execute_result"
    },
    {
     "data": {
      "text/plain": [
       "0"
      ]
     },
     "execution_count": 18,
     "metadata": {},
     "output_type": "execute_result"
    }
   ],
   "source": [
    "from IPython.core.interactiveshell import InteractiveShell\n",
    "InteractiveShell.ast_node_interactivity = \"all\"\n",
    "\n",
    "pow(2, 3)\n",
    "pow(2, 3, 4)"
   ]
  },
  {
   "cell_type": "markdown",
   "metadata": {},
   "source": [
    "注意，`pow()` 函数定义部分中，圆括号内的方括号 `[, z]`——这是非常严谨的标注，如果没有 `z`，那么那个逗号 `,` 就是没有必要的。\n",
    "\n",
    "查看函数 `exce()` 的官方文档（先别管这个函数是干嘛用的），注意函数定义中的两个潜逃的方括号：\n",
    "\n",
    "> `exec(*object*[, globals[, [locals]])`\n",
    "\n",
    "这些方括号的意思是说：\n",
    "> * 没在方括号里的 `object` 是不可或缺的参数，调用时必须提供；\n",
    "> * 可以有第二个参数，第二个参数会被接收为 `globals`；\n",
    "> * 在有第二个参数的情况下，第三个参数会被接收为 `locals`；\n",
    "> * 但是，没有办法在不指定 `globals` 这个位置参数的情况下指定 `locals` 这个参数。"
   ]
  },
  {
   "cell_type": "markdown",
   "metadata": {},
   "source": [
    "### 可接收很多值的位置参数\n",
    "\n",
    "`print()`函数的第一个位置参数 `object` 前面有个星号：`*object, ...`。\n",
    "\n",
    "对函数的用户来说，这说明，这个位置可以接收多个参数（或者说，这个位置可以接收一个列表或者元组）。\n",
    "\n",
    "并且，`print()` 只有一个位置参数。因为位置决定了值得定义，一般来说，一个函数里最多只有一个这种可以接收很多值的位置参数——否则如何获知谁是谁呢。\n",
    "\n",
    "如果一个函数的参数里同时出现了多个位置参数，那么，能够接收很多值的位置参数只能放到最后，就像 `max()` 函数那样：\n",
    "\n",
    "> max(arg1, arg2, \\*args[, key])"
   ]
  },
  {
   "cell_type": "markdown",
   "metadata": {},
   "source": [
    "### Class 也是函数\n",
    "\n",
    "例如 `Class bool([x])`，`Class` 本质上看来就是一种特殊类型的函数，即它也是函数。"
   ]
  },
  {
   "cell_type": "code",
   "execution_count": 20,
   "metadata": {},
   "outputs": [
    {
     "data": {
      "text/plain": [
       "False"
      ]
     },
     "execution_count": 20,
     "metadata": {},
     "output_type": "execute_result"
    },
    {
     "data": {
      "text/plain": [
       "True"
      ]
     },
     "execution_count": 20,
     "metadata": {},
     "output_type": "execute_result"
    },
    {
     "data": {
      "text/plain": [
       "True"
      ]
     },
     "execution_count": 20,
     "metadata": {},
     "output_type": "execute_result"
    },
    {
     "data": {
      "text/plain": [
       "False"
      ]
     },
     "execution_count": 20,
     "metadata": {},
     "output_type": "execute_result"
    },
    {
     "data": {
      "text/plain": [
       "False"
      ]
     },
     "execution_count": 20,
     "metadata": {},
     "output_type": "execute_result"
    }
   ],
   "source": [
    "from IPython.core.interactiveshell import InteractiveShell\n",
    "InteractiveShell.ast_node_interactivity = \"all\"\n",
    "\n",
    "bool()\n",
    "bool(3.1415926)\n",
    "bool(-3.1415926)\n",
    "bool(1 == 2)\n",
    "bool(None)"
   ]
  },
  {
   "cell_type": "markdown",
   "metadata": {},
   "source": [
    "### 总结\n",
    "\n",
    "本章需要（大致）了解的重点如下：\n",
    "\n",
    "> * 你可以把函数当作一个产品，而你自己是这个产品的用户；\n",
    "> * 既然你是产品的用户，你要养成好习惯——一定要亲自阅读产品说明书；\n",
    "> * 调用函数的时候，注意**可选位置参数的使用方法**和**关键字参数的默认值**；\n",
    "> * 函数定义部分，注意两个符号——`[]`，`=`；\n",
    "> * 所有的函数都有返回值，即便它内部不指定返回值，也有一个默认返回值：`None`;\n",
    "> * 另外，一定要耐心阅读该函数在实用的时候需要注意什么——产品说明书的主要作用就在这里了。\n"
   ]
  },
  {
   "cell_type": "code",
   "execution_count": 22,
   "metadata": {},
   "outputs": [
    {
     "name": "stdout",
     "output_type": "stream",
     "text": [
      "ab\n",
      "a b\n",
      "a b\n"
     ]
    }
   ],
   "source": [
    "print('a', 'b', sep='')\n",
    "print('a', 'b', sep=' ')\n",
    "print('a', 'b')"
   ]
  },
  {
   "cell_type": "code",
   "execution_count": null,
   "metadata": {},
   "outputs": [],
   "source": []
  }
 ],
 "metadata": {
  "kernelspec": {
   "display_name": "Python [conda env:root] *",
   "language": "python",
   "name": "conda-root-py"
  },
  "language_info": {
   "codemirror_mode": {
    "name": "ipython",
    "version": 3
   },
   "file_extension": ".py",
   "mimetype": "text/x-python",
   "name": "python",
   "nbconvert_exporter": "python",
   "pygments_lexer": "ipython3",
   "version": "3.7.3"
  }
 },
 "nbformat": 4,
 "nbformat_minor": 2
}
