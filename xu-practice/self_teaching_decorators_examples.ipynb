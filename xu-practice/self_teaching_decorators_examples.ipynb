{
 "cells": [
  {
   "cell_type": "markdown",
   "metadata": {},
   "source": [
    "装饰器的一些例子\n",
    "\n",
    "https://wiki.python.org/moin/PythonDecoratorLibrary#Property_Definition"
   ]
  },
  {
   "cell_type": "code",
   "execution_count": 2,
   "metadata": {},
   "outputs": [],
   "source": [
    "from IPython.core.interactiveshell import InteractiveShell\n",
    "InteractiveShell.ast_node_interactivity = \"all\""
   ]
  },
  {
   "cell_type": "markdown",
   "metadata": {},
   "source": [
    "## creating well-behaved decorators / \"Decorator decorator\""
   ]
  },
  {
   "cell_type": "code",
   "execution_count": null,
   "metadata": {},
   "outputs": [],
   "source": [
    "def simple_decorator(decorator):\n",
    "    '''This decorator can be used to turn simple functions\n",
    "    into well-behaved decorators, so long as the decorators\n",
    "    are fairly simple. If a decorator expects a function and\n",
    "    returns a function (no descriptors), and if it doesn't\n",
    "    modify function attributes or docstring, then it is\n",
    "    eligible to use this. Simply apply @simple_decorator to\n",
    "    your decorator and it will automatically preserve the\n",
    "    docstring and function attributes of functions to which\n",
    "    it is applied.'''\n",
    "    def new_decorator(f):\n",
    "        g = decorator(f)\n",
    "        g.__name__ = f.__name__\n",
    "        g.__doc__ = f.__doc__\n",
    "        g.__dict__.update(f.__dict__)\n",
    "        return g\n",
    "    # Now a few lines needed to make simple_decorator itself\n",
    "    # be a well-behaved decorator.\n",
    "    new_decorator.__name__ = decorator.__name__\n",
    "    new_decorator.__doc__ = decorator.__doc__\n",
    "    new_decorator.__dict__.update(decorator.__dict__)\n",
    "    return new_decorator\n",
    "\n",
    "\n",
    "#\n",
    "# Sample Use:\n",
    "#\n",
    "@simple_decorator\n",
    "def my_simple_logging_decorator(func):\n",
    "    def you_will_never_see_this_name(*args, **kwargs):\n",
    "        print ('calling {}'.format(func.__name__))\n",
    "        return func(*args, **kwargs)\n",
    "    return you_will_never_see_this_name\n",
    "\n",
    "@my_simple_logging_decorator\n",
    "def double(x):\n",
    "    'Doubles a number.'\n",
    "    return 2 * x\n",
    "\n",
    "assert double.__name__ == 'double'\n",
    "assert double.__doc__ == 'Doubles a number.'\n",
    "print (double(155))"
   ]
  },
  {
   "cell_type": "code",
   "execution_count": null,
   "metadata": {},
   "outputs": [],
   "source": [
    "def simple_decorator(decorator):\n",
    "    '''This decorator can be used to turn simple functions\n",
    "    into well-behaved decorators, so long as the decorators\n",
    "    are fairly simple. If a decorator expects a function and\n",
    "    returns a function (no descriptors), and if it doesn't\n",
    "    modify function attributes or docstring, then it is\n",
    "    eligible to use this. Simply apply @simple_decorator to\n",
    "    your decorator and it will automatically preserve the\n",
    "    docstring and function attributes of functions to which\n",
    "    it is applied.'''\n",
    "    def new_decorator(f):\n",
    "        g = decorator(f)\n",
    "        g.__name__ = f.__name__\n",
    "        g.__doc__ = f.__doc__\n",
    "        g.__dict__.update(f.__dict__)\n",
    "        return g\n",
    "    # Now a few lines needed to make simple_decorator itself\n",
    "    # be a well-behaved decorator.\n",
    "    new_decorator.__name__ = decorator.__name__\n",
    "    new_decorator.__doc__ = decorator.__doc__\n",
    "    new_decorator.__dict__.update(decorator.__dict__)\n",
    "    return new_decorator\n",
    "\n",
    "\n",
    "#\n",
    "# Sample Use:\n",
    "#\n",
    "#@simple_decorator\n",
    "def my_simple_logging_decorator(func):\n",
    "    def you_will_never_see_this_name(*args, **kwargs):\n",
    "        print ('calling {}'.format(func.__name__))\n",
    "        return func(*args, **kwargs)\n",
    "    return you_will_never_see_this_name\n",
    "\n",
    "@my_simple_logging_decorator\n",
    "def double(x):\n",
    "    'Doubles a number.'\n",
    "    return 2 * x\n",
    "\n",
    "print(double.__name__)\n",
    "print(double.__doc__)\n",
    "print (double(155))\n",
    "\n",
    "assert double.__name__ == 'double'\n",
    "assert double.__doc__ == 'Doubles a number.'"
   ]
  },
  {
   "cell_type": "code",
   "execution_count": null,
   "metadata": {},
   "outputs": [],
   "source": [
    "double(155)\n",
    "print(double.__name__)\n",
    "print(double.__doc__)"
   ]
  },
  {
   "cell_type": "code",
   "execution_count": null,
   "metadata": {},
   "outputs": [],
   "source": [
    "print(double.__name__)"
   ]
  },
  {
   "cell_type": "code",
   "execution_count": null,
   "metadata": {},
   "outputs": [],
   "source": [
    "print(double.__doc__)"
   ]
  },
  {
   "cell_type": "code",
   "execution_count": null,
   "metadata": {},
   "outputs": [],
   "source": [
    "def double(x):\n",
    "    'Doubles a number.'\n",
    "    return 2 * x"
   ]
  },
  {
   "cell_type": "code",
   "execution_count": null,
   "metadata": {},
   "outputs": [],
   "source": [
    "double.__name__"
   ]
  },
  {
   "cell_type": "code",
   "execution_count": null,
   "metadata": {},
   "outputs": [],
   "source": [
    "double.__doc__"
   ]
  },
  {
   "cell_type": "markdown",
   "metadata": {},
   "source": [
    "## prpoerty definition"
   ]
  },
  {
   "cell_type": "code",
   "execution_count": null,
   "metadata": {},
   "outputs": [],
   "source": [
    "property??"
   ]
  },
  {
   "cell_type": "code",
   "execution_count": null,
   "metadata": {},
   "outputs": [],
   "source": [
    "import sys\n",
    "\n",
    "def propget(func):\n",
    "    locals = sys._getframe(1).f_locals\n",
    "    name = func.__name__\n",
    "    prop = locals.get(name)\n",
    "    if not isinstance(prop, property):\n",
    "        prop = property(func, doc=func.__doc__)\n",
    "    else:\n",
    "        doc = prop.__doc__ or func.__doc__\n",
    "        prop = property(func, prop.fset, prop.fdel, doc)\n",
    "    return prop\n",
    "\n",
    "def propset(func):\n",
    "    locals = sys._getframe(1).f_locals\n",
    "    name = func.__name__\n",
    "    prop = locals.get(name)\n",
    "    if not isinstance(prop, property):\n",
    "        prop = property(None, func, doc=func.__doc__)\n",
    "    else:\n",
    "        doc = prop.__doc__ or func.__doc__\n",
    "        prop = property(prop.fget, func, prop.fdel, doc)\n",
    "    return prop\n",
    "\n",
    "def propdel(func):\n",
    "    locals = sys._getframe(1).f_locals\n",
    "    name = func.__name__\n",
    "    prop = locals.get(name)\n",
    "    if not isinstance(prop, property):\n",
    "        prop = property(None, None, func, doc=func.__doc__)\n",
    "    else:\n",
    "        prop = property(prop.fget, prop.fset, func, prop.__doc__)\n",
    "    return prop\n",
    "\n",
    "# These can be used like this:\n",
    "\n",
    "class Example(object):\n",
    "\n",
    "    @propget\n",
    "    def myattr(self):\n",
    "        return self._half * 2\n",
    "\n",
    "    @propset\n",
    "    def myattr(self, value):\n",
    "        self._half = value / 2\n",
    "\n",
    "    @propdel\n",
    "    def myattr(self):\n",
    "        del self._half"
   ]
  },
  {
   "cell_type": "markdown",
   "metadata": {},
   "source": [
    "### 另一个例子"
   ]
  },
  {
   "cell_type": "code",
   "execution_count": null,
   "metadata": {},
   "outputs": [],
   "source": [
    "import sys\n",
    "\n",
    "try:\n",
    "    # Python 2\n",
    "    import __builtin__ as builtins\n",
    "except ImportError:\n",
    "    # Python 3\n",
    "    import builtins\n",
    "\n",
    "def property(function):\n",
    "    keys = 'fget', 'fset', 'fdel'\n",
    "    func_locals = {'doc':function.__doc__}\n",
    "    def probe_func(frame, event, arg):\n",
    "        if event == 'return':\n",
    "            locals = frame.f_locals\n",
    "            func_locals.update(dict((k, locals.get(k)) for k in keys))\n",
    "            sys.settrace(None)\n",
    "        return probe_func\n",
    "    sys.settrace(probe_func)\n",
    "    function()\n",
    "    return builtins.property(**func_locals)\n",
    "\n",
    "#====== Example =======================================================\n",
    "\n",
    "from math import radians, degrees, pi\n",
    "\n",
    "class Angle(object):\n",
    "    def __init__(self, rad):\n",
    "        self._rad = rad\n",
    "\n",
    "    @property\n",
    "    def rad():\n",
    "        '''The angle in radians'''\n",
    "        def fget(self):\n",
    "            return self._rad\n",
    "        def fset(self, angle):\n",
    "            if isinstance(angle, Angle):\n",
    "                angle = angle.rad\n",
    "            self._rad = float(angle)\n",
    "\n",
    "    @property\n",
    "    def deg():\n",
    "        '''The angle in degrees'''\n",
    "        def fget(self):\n",
    "            return degrees(self._rad)\n",
    "        def fset(self, angle):\n",
    "            if isinstance(angle, Angle):\n",
    "                angle = angle.deg\n",
    "            self._rad = radians(angle)"
   ]
  },
  {
   "cell_type": "code",
   "execution_count": null,
   "metadata": {},
   "outputs": [],
   "source": [
    "sys.settrace??"
   ]
  },
  {
   "cell_type": "markdown",
   "metadata": {},
   "source": [
    "## 关于函数记忆的"
   ]
  },
  {
   "cell_type": "code",
   "execution_count": 1,
   "metadata": {},
   "outputs": [],
   "source": [
    "import collections\n",
    "import functools"
   ]
  },
  {
   "cell_type": "markdown",
   "metadata": {},
   "source": [
    "这是一个具有记忆功能的类"
   ]
  },
  {
   "cell_type": "code",
   "execution_count": null,
   "metadata": {},
   "outputs": [],
   "source": [
    "class memoized(object):\n",
    "    \"\"\"Decorator. Caches a function's return value each time it is called.\n",
    "   If called later with the same arguments, the cached value is returned\n",
    "   (not reevaluated).\n",
    "   \"\"\" \n",
    "\n",
    "    def __init__(self, func):\n",
    "        self.func = func\n",
    "        self.cache = {}   \n",
    "    def __call__(self, *args):\n",
    "        if not isinstance(args, collections.Hashable):\n",
    "             # uncacheable. a list, for instance.\n",
    "             # better to not cache than blow up.\n",
    "             return self.func(*args)\n",
    "        if args in self.cache:\n",
    "             return self.cache[args]\n",
    "        else:\n",
    "            value = self.func(*args)\n",
    "            self.cache[args] = value\n",
    "            return value\n",
    "    def __repr__(self):\n",
    "        '''Return the function's docstring.'''\n",
    "        return self.func.__doc__\n",
    "    def __get__(self, obj, objtype):\n",
    "        '''Support instance methods.'''\n",
    "        return functools.partial(self.__call__, obj)"
   ]
  },
  {
   "cell_type": "code",
   "execution_count": null,
   "metadata": {},
   "outputs": [],
   "source": [
    "@memoized\n",
    "def fibonacci(n):\n",
    "    \"Return the nth fibonacci number.\"\n",
    "    if n in (0, 1):\n",
    "        return n\n",
    "    return fibonacci(n-1) + fibonacci(n-2)"
   ]
  },
  {
   "cell_type": "code",
   "execution_count": null,
   "metadata": {},
   "outputs": [],
   "source": [
    "print(fibonacci(15))"
   ]
  },
  {
   "cell_type": "code",
   "execution_count": null,
   "metadata": {},
   "outputs": [],
   "source": [
    "fibonacci(12)\n",
    "fibonacci(10)\n",
    "fibonacci(7)"
   ]
  },
  {
   "cell_type": "code",
   "execution_count": null,
   "metadata": {},
   "outputs": [],
   "source": [
    "fibonacci.cache"
   ]
  },
  {
   "cell_type": "markdown",
   "metadata": {},
   "source": [
    "这是一个具有记忆功能的函数，它的缓存是暴露在外面的。"
   ]
  },
  {
   "cell_type": "code",
   "execution_count": 8,
   "metadata": {},
   "outputs": [],
   "source": [
    "# note that this decorator ignores **kwargs\n",
    "def memoize(obj):\n",
    "    cache = obj.cache = {}\n",
    "\n",
    "    @functools.wraps(obj)\n",
    "    def memoizer(*args, **kwargs):\n",
    "        if args not in cache:\n",
    "            cache[args] = obj(*args, **kwargs)\n",
    "        return cache[args]\n",
    "    return memoizer"
   ]
  },
  {
   "cell_type": "code",
   "execution_count": 9,
   "metadata": {},
   "outputs": [],
   "source": [
    "@memoize\n",
    "def fibonacci(n):\n",
    "    \"Return the nth fibonacci number.\"\n",
    "    if n in (0, 1):\n",
    "        return n\n",
    "    return fibonacci(n-1) + fibonacci(n-2)"
   ]
  },
  {
   "cell_type": "code",
   "execution_count": 10,
   "metadata": {},
   "outputs": [
    {
     "data": {
      "text/plain": [
       "6765"
      ]
     },
     "execution_count": 10,
     "metadata": {},
     "output_type": "execute_result"
    }
   ],
   "source": [
    "fibonacci(20)"
   ]
  },
  {
   "cell_type": "code",
   "execution_count": 11,
   "metadata": {},
   "outputs": [
    {
     "data": {
      "text/plain": [
       "{(1,): 1,\n",
       " (0,): 0,\n",
       " (2,): 1,\n",
       " (3,): 2,\n",
       " (4,): 3,\n",
       " (5,): 5,\n",
       " (6,): 8,\n",
       " (7,): 13,\n",
       " (8,): 21,\n",
       " (9,): 34,\n",
       " (10,): 55,\n",
       " (11,): 89,\n",
       " (12,): 144,\n",
       " (13,): 233,\n",
       " (14,): 377,\n",
       " (15,): 610,\n",
       " (16,): 987,\n",
       " (17,): 1597,\n",
       " (18,): 2584,\n",
       " (19,): 4181,\n",
       " (20,): 6765}"
      ]
     },
     "execution_count": 11,
     "metadata": {},
     "output_type": "execute_result"
    }
   ],
   "source": [
    "fibonacci.cache"
   ]
  },
  {
   "cell_type": "markdown",
   "metadata": {},
   "source": [
    "又一个改进的版本，\n",
    "a modified version that also respects kwargs."
   ]
  },
  {
   "cell_type": "code",
   "execution_count": 3,
   "metadata": {},
   "outputs": [],
   "source": [
    "def memoize(obj):\n",
    "    cache = obj.cache = {}\n",
    "\n",
    "    @functools.wraps(obj)\n",
    "    def memoizer(*args, **kwargs):\n",
    "        key = str(args) + str(kwargs)\n",
    "        #print(key)\n",
    "        if key not in cache:\n",
    "            cache[key] = obj(*args, **kwargs)\n",
    "        return cache[key]\n",
    "    return memoizer"
   ]
  },
  {
   "cell_type": "code",
   "execution_count": 4,
   "metadata": {},
   "outputs": [],
   "source": [
    "@memoize\n",
    "def fibonacci(n):\n",
    "    \"Return the nth fibonacci number.\"\n",
    "    if n in (0, 1):\n",
    "        return n\n",
    "    return fibonacci(n-1) + fibonacci(n-2)"
   ]
  },
  {
   "cell_type": "code",
   "execution_count": 6,
   "metadata": {},
   "outputs": [
    {
     "data": {
      "text/plain": [
       "55"
      ]
     },
     "execution_count": 6,
     "metadata": {},
     "output_type": "execute_result"
    }
   ],
   "source": [
    "fibonacci(10)"
   ]
  },
  {
   "cell_type": "code",
   "execution_count": 7,
   "metadata": {},
   "outputs": [
    {
     "data": {
      "text/plain": [
       "{'(1,){}': 1,\n",
       " '(0,){}': 0,\n",
       " '(2,){}': 1,\n",
       " '(3,){}': 2,\n",
       " '(4,){}': 3,\n",
       " '(5,){}': 5,\n",
       " '(6,){}': 8,\n",
       " '(7,){}': 13,\n",
       " '(8,){}': 21,\n",
       " '(9,){}': 34,\n",
       " '(10,){}': 55}"
      ]
     },
     "execution_count": 7,
     "metadata": {},
     "output_type": "execute_result"
    }
   ],
   "source": [
    "fibonacci.cache"
   ]
  },
  {
   "cell_type": "markdown",
   "metadata": {},
   "source": [
    "作为字典亚类的记忆器。"
   ]
  },
  {
   "cell_type": "code",
   "execution_count": 12,
   "metadata": {},
   "outputs": [],
   "source": [
    "class memoize(dict):\n",
    "    def __init__(self, func):\n",
    "        self.func = func\n",
    "\n",
    "    def __call__(self, *args):\n",
    "        return self[args]\n",
    "\n",
    "    def __missing__(self, key):\n",
    "        result = self[key] = self.func(*key)\n",
    "        return result"
   ]
  },
  {
   "cell_type": "code",
   "execution_count": 13,
   "metadata": {},
   "outputs": [
    {
     "data": {
      "text/plain": [
       "8"
      ]
     },
     "execution_count": 13,
     "metadata": {},
     "output_type": "execute_result"
    },
    {
     "data": {
      "text/plain": [
       "{(2, 4): 8}"
      ]
     },
     "execution_count": 13,
     "metadata": {},
     "output_type": "execute_result"
    },
    {
     "data": {
      "text/plain": [
       "'hihihi'"
      ]
     },
     "execution_count": 13,
     "metadata": {},
     "output_type": "execute_result"
    },
    {
     "data": {
      "text/plain": [
       "{(2, 4): 8, ('hi', 3): 'hihihi'}"
      ]
     },
     "execution_count": 13,
     "metadata": {},
     "output_type": "execute_result"
    }
   ],
   "source": [
    "#\n",
    "# Sample use\n",
    "#\n",
    "\n",
    "@memoize\n",
    "def foo(a, b):\n",
    "    return a * b\n",
    "foo(2, 4)\n",
    "\n",
    "foo\n",
    "\n",
    "foo('hi', 3)\n",
    "\n",
    "foo\n"
   ]
  },
  {
   "cell_type": "markdown",
   "metadata": {},
   "source": [
    "又一个关于 cache 的例子\n",
    "Alternate memoize that stores cache between executions"
   ]
  },
  {
   "cell_type": "markdown",
   "metadata": {},
   "source": [
    "https://github.com/brmscheiner/memorize.py"
   ]
  },
  {
   "cell_type": "code",
   "execution_count": 14,
   "metadata": {},
   "outputs": [],
   "source": [
    "import pickle\n",
    "import collections\n",
    "import functools\n",
    "import inspect\n",
    "import os.path\n",
    "import re\n",
    "import unicodedata\n",
    "\n",
    "class Memorize(object):\n",
    "    '''\n",
    "    A function decorated with @Memorize caches its return\n",
    "    value every time it is called. If the function is called\n",
    "    later with the same arguments, the cached value is\n",
    "    returned (the function is not reevaluated). The cache is\n",
    "    stored as a .cache file in the current directory for reuse\n",
    "    in future executions. If the Python file containing the\n",
    "    decorated function has been updated since the last run,\n",
    "    the current cache is deleted and a new cache is created\n",
    "    (in case the behavior of the function has changed).\n",
    "    '''\n",
    "    def __init__(self, func):\n",
    "        self.func = func\n",
    "        self.set_parent_file() # Sets self.parent_filepath and self.parent_filename\n",
    "        self.__name__ = self.func.__name__\n",
    "        self.set_cache_filename()\n",
    "        if self.cache_exists():\n",
    "            self.read_cache() # Sets self.timestamp and self.cache\n",
    "            if not self.is_safe_cache():\n",
    "                self.cache = {}\n",
    "        else:\n",
    "            self.cache = {}\n",
    "\n",
    "    def __call__(self, *args):\n",
    "        if not isinstance(args, collections.Hashable):\n",
    "            return self.func(*args)\n",
    "        if args in self.cache:\n",
    "            return self.cache[args]\n",
    "        else:\n",
    "            value = self.func(*args)\n",
    "            self.cache[args] = value\n",
    "            self.save_cache()\n",
    "            return value\n",
    "\n",
    "    def set_parent_file(self):\n",
    "        \"\"\"\n",
    "        Sets self.parent_file to the absolute path of the\n",
    "        file containing the memoized function.\n",
    "        \"\"\"\n",
    "        rel_parent_file = inspect.stack()[-1].filename\n",
    "        self.parent_filepath = os.path.abspath(rel_parent_file)\n",
    "        self.parent_filename = _filename_from_path(rel_parent_file)\n",
    "\n",
    "    def set_cache_filename(self):\n",
    "        \"\"\"\n",
    "        Sets self.cache_filename to an os-compliant\n",
    "        version of \"file_function.cache\"\n",
    "        \"\"\"\n",
    "        filename = _slugify(self.parent_filename.replace('.py', ''))\n",
    "        funcname = _slugify(self.__name__)\n",
    "        self.cache_filename = filename+'_'+funcname+'.cache'\n",
    "\n",
    "    def get_last_update(self):\n",
    "        \"\"\"\n",
    "        Returns the time that the parent file was last\n",
    "        updated.\n",
    "        \"\"\"\n",
    "        last_update = os.path.getmtime(self.parent_filepath)\n",
    "        return last_update\n",
    "\n",
    "    def is_safe_cache(self):\n",
    "        \"\"\"\n",
    "        Returns True if the file containing the memoized\n",
    "        function has not been updated since the cache was\n",
    "        last saved.\n",
    "        \"\"\"\n",
    "        if self.get_last_update() > self.timestamp:\n",
    "            return False\n",
    "        return True\n",
    "\n",
    "    def read_cache(self):\n",
    "        \"\"\"\n",
    "        Read a pickled dictionary into self.timestamp and\n",
    "        self.cache. See self.save_cache.\n",
    "        \"\"\"\n",
    "        with open(self.cache_filename, 'rb') as f:\n",
    "            data = pickle.loads(f.read())\n",
    "            self.timestamp = data['timestamp']\n",
    "            self.cache = data['cache']\n",
    "\n",
    "    def save_cache(self):\n",
    "        \"\"\"\n",
    "        Pickle the file's timestamp and the function's cache\n",
    "        in a dictionary object.\n",
    "        \"\"\"\n",
    "        with open(self.cache_filename, 'wb+') as f:\n",
    "            out = dict()\n",
    "            out['timestamp'] = self.get_last_update()\n",
    "            out['cache'] = self.cache\n",
    "            f.write(pickle.dumps(out))\n",
    "\n",
    "    def cache_exists(self):\n",
    "        '''\n",
    "        Returns True if a matching cache exists in the current directory.\n",
    "        '''\n",
    "        if os.path.isfile(self.cache_filename):\n",
    "            return True\n",
    "        return False\n",
    "\n",
    "    def __repr__(self):\n",
    "        \"\"\" Return the function's docstring. \"\"\"\n",
    "        return self.func.__doc__\n",
    "\n",
    "    def __get__(self, obj, objtype):\n",
    "        \"\"\" Support instance methods. \"\"\"\n",
    "        return functools.partial(self.__call__, obj)\n",
    "\n",
    "def _slugify(value):\n",
    "    \"\"\"\n",
    "    Normalizes string, converts to lowercase, removes\n",
    "    non-alpha characters, and converts spaces to\n",
    "    hyphens. From\n",
    "    http://stackoverflow.com/questions/295135/turn-a-string-into-a-valid-filename-in-python\n",
    "    \"\"\"\n",
    "    value = unicodedata.normalize('NFKD', value).encode('ascii', 'ignore')\n",
    "    value = re.sub(r'[^\\w\\s-]', '', value.decode('utf-8', 'ignore'))\n",
    "    value = value.strip().lower()\n",
    "    value = re.sub(r'[-\\s]+', '-', value)\n",
    "    return value\n",
    "\n",
    "def _filename_from_path(filepath):\n",
    "    return filepath.split('/')[-1]"
   ]
  },
  {
   "cell_type": "markdown",
   "metadata": {},
   "source": [
    "## cached properties"
   ]
  },
  {
   "cell_type": "code",
   "execution_count": 1,
   "metadata": {},
   "outputs": [],
   "source": [
    "#\n",
    "# © 2011 Christopher Arndt, MIT License\n",
    "#\n",
    "\n",
    "import time\n",
    "\n",
    "class cached_property(object):\n",
    "    '''Decorator for read-only properties evaluated only once within TTL period.\n",
    "\n",
    "    It can be used to create a cached property like this::\n",
    "\n",
    "        import random\n",
    "\n",
    "        # the class containing the property must be a new-style class\n",
    "        class MyClass(object):\n",
    "            # create property whose value is cached for ten minutes\n",
    "            @cached_property(ttl=600)\n",
    "            def randint(self):\n",
    "                # will only be evaluated every 10 min. at maximum.\n",
    "                return random.randint(0, 100)\n",
    "\n",
    "    The value is cached  in the '_cache' attribute of the object instance that\n",
    "    has the property getter method wrapped by this decorator. The '_cache'\n",
    "    attribute value is a dictionary which has a key for every property of the\n",
    "    object which is wrapped by this decorator. Each entry in the cache is\n",
    "    created only when the property is accessed for the first time and is a\n",
    "    two-element tuple with the last computed property value and the last time\n",
    "    it was updated in seconds since the epoch.\n",
    "\n",
    "    The default time-to-live (TTL) is 300 seconds (5 minutes). Set the TTL to\n",
    "    zero for the cached value to never expire.\n",
    "\n",
    "    To expire a cached property value manually just do::\n",
    "\n",
    "        del instance._cache[<property name>]\n",
    "\n",
    "    '''\n",
    "    def __init__(self, ttl=300):\n",
    "        self.ttl = ttl\n",
    "\n",
    "    def __call__(self, fget, doc=None):\n",
    "        self.fget = fget\n",
    "        self.__doc__ = doc or fget.__doc__\n",
    "        self.__name__ = fget.__name__\n",
    "        self.__module__ = fget.__module__\n",
    "        return self\n",
    "\n",
    "    def __get__(self, inst, owner):\n",
    "        now = time.time()\n",
    "        try:\n",
    "            value, last_update = inst._cache[self.__name__]\n",
    "            if self.ttl > 0 and now - last_update > self.ttl:\n",
    "                raise AttributeError\n",
    "        except (KeyError, AttributeError):\n",
    "            value = self.fget(inst)\n",
    "            try:\n",
    "                cache = inst._cache\n",
    "            except AttributeError:\n",
    "                cache = inst._cache = {}\n",
    "            cache[self.__name__] = (value, now)\n",
    "        return value"
   ]
  },
  {
   "cell_type": "markdown",
   "metadata": {},
   "source": [
    "上面那个大概做的事情是，设置了个缓存自动更新的时间。但是怎么用还没看太明白。"
   ]
  },
  {
   "cell_type": "code",
   "execution_count": 9,
   "metadata": {},
   "outputs": [],
   "source": [
    "import random\n",
    "\n",
    "# the class containing the property must be a new-style class\n",
    "class MyClass(object):\n",
    "    # create property whose value is cached for ten minutes\n",
    "    @cached_property(ttl=10)\n",
    "    def randint(self):\n",
    "        # will only be evaluated every 10 min. at maximum.\n",
    "        return random.randint(0, 100)"
   ]
  },
  {
   "cell_type": "code",
   "execution_count": 10,
   "metadata": {},
   "outputs": [],
   "source": [
    "rand = MyClass()"
   ]
  },
  {
   "cell_type": "code",
   "execution_count": 28,
   "metadata": {},
   "outputs": [
    {
     "data": {
      "text/plain": [
       "8"
      ]
     },
     "execution_count": 28,
     "metadata": {},
     "output_type": "execute_result"
    }
   ],
   "source": [
    "# 把 ttl 改成了 10，意味着上一次的运行可以缓存 10 秒。其他更具体的细节看不太懂了。\n",
    "\n",
    "rand.randint"
   ]
  },
  {
   "cell_type": "code",
   "execution_count": 30,
   "metadata": {},
   "outputs": [
    {
     "data": {
      "text/plain": [
       "{'randint': (8, 1634266289.71584)}"
      ]
     },
     "execution_count": 30,
     "metadata": {},
     "output_type": "execute_result"
    }
   ],
   "source": [
    "rand._cache"
   ]
  },
  {
   "cell_type": "code",
   "execution_count": 33,
   "metadata": {},
   "outputs": [],
   "source": [
    "rand.__doc__"
   ]
  },
  {
   "cell_type": "code",
   "execution_count": 36,
   "metadata": {},
   "outputs": [
    {
     "ename": "AttributeError",
     "evalue": "'MyClass' object has no attribute '__name__'",
     "output_type": "error",
     "traceback": [
      "\u001b[1;31m------------------------------------------------------------\u001b[0m",
      "\u001b[1;31mAttributeError\u001b[0m             Traceback (most recent call last)",
      "\u001b[1;32m<ipython-input-36-d4c98fd2dbf7>\u001b[0m in \u001b[0;36m<module>\u001b[1;34m\u001b[0m\n\u001b[1;32m----> 1\u001b[1;33m \u001b[0mrand\u001b[0m\u001b[1;33m.\u001b[0m\u001b[0m__name__\u001b[0m\u001b[1;33m\u001b[0m\u001b[1;33m\u001b[0m\u001b[0m\n\u001b[0m",
      "\u001b[1;31mAttributeError\u001b[0m: 'MyClass' object has no attribute '__name__'"
     ]
    }
   ],
   "source": [
    "rand.__name__"
   ]
  },
  {
   "cell_type": "code",
   "execution_count": 37,
   "metadata": {},
   "outputs": [
    {
     "data": {
      "text/plain": [
       "'__main__'"
      ]
     },
     "execution_count": 37,
     "metadata": {},
     "output_type": "execute_result"
    }
   ],
   "source": [
    "rand.__module__"
   ]
  },
  {
   "cell_type": "markdown",
   "metadata": {},
   "source": [
    "## Retry\n",
    "\n",
    "Call a function which returns True/False to indicate success or failure. On failure, wait, and try the function again. On repeated failures, wait longer between each successive attempt. If the decorator runs out of attempts, then it gives up and returns False, but you could just as easily raise some exception."
   ]
  },
  {
   "cell_type": "code",
   "execution_count": 14,
   "metadata": {},
   "outputs": [],
   "source": [
    "import time\n",
    "import math\n",
    "\n",
    "# Retry decorator with exponential backoff\n",
    "def retry(tries, delay=3, backoff=2):\n",
    "    '''Retries a function or method until it returns True.\n",
    "\n",
    "    delay sets the initial delay in seconds, and backoff sets the factor by which\n",
    "    the delay should lengthen after each failure. backoff must be greater than 1,\n",
    "    or else it isn't really a backoff. tries must be at least 0, and delay\n",
    "    greater than 0.'''\n",
    "    \n",
    "    if backoff <= 1:\n",
    "        raise ValueError(\"backoff must be greater than 1\")\n",
    "        \n",
    "    tries = math.floor(tries)\n",
    "    if tries < 0:\n",
    "        raise ValueError(\"tries must be 0 or greater\")\n",
    "        \n",
    "    if delay <= 0:\n",
    "        raise ValueError(\"delay must be greater than 0\")\n",
    "        \n",
    "    def deco_retry(f):\n",
    "        def f_retry(*args, **kwargs):\n",
    "            mtries, mdelay = tries, delay # make mutable\n",
    "            \n",
    "            rv = f(*args, **kwargs) # first attempt\n",
    "            while mtries > 0:\n",
    "                if rv is True: # Done on success\n",
    "                    return True\n",
    "            \n",
    "                mtries -= 1      # consume an attempt\n",
    "                time.sleep(mdelay) # wait...\n",
    "                mdelay *= backoff  # make future wait longer\n",
    "                \n",
    "                rv = f(*args, **kwargs) # Try again\n",
    "                \n",
    "            return False # Ran out of tries :-(\n",
    "        \n",
    "        return f_retry #  true decorator -> decorated function\n",
    "    return deco_retry  # @retry(arg[, ...]) -> true decorator"
   ]
  },
  {
   "cell_type": "markdown",
   "metadata": {},
   "source": [
    "例子 设计一个随机数生成器，如果是奇数，返回 True， 如果是偶数，返回 False。"
   ]
  },
  {
   "cell_type": "code",
   "execution_count": 24,
   "metadata": {},
   "outputs": [
    {
     "name": "stdout",
     "output_type": "stream",
     "text": [
      "5240\n"
     ]
    },
    {
     "data": {
      "text/plain": [
       "True"
      ]
     },
     "execution_count": 24,
     "metadata": {},
     "output_type": "execute_result"
    }
   ],
   "source": [
    "import numpy as np\n",
    "\n",
    "number = np.random.randint(0, 10000)\n",
    "\n",
    "@retry(2)\n",
    "def even_num(num):\n",
    "    if num % 2 == 0:\n",
    "        print(num)\n",
    "        return True\n",
    "    else:\n",
    "        print(num)\n",
    "        return False\n",
    "\n",
    "even_num(number)"
   ]
  },
  {
   "cell_type": "code",
   "execution_count": 17,
   "metadata": {},
   "outputs": [
    {
     "data": {
      "text/plain": [
       "False"
      ]
     },
     "execution_count": 17,
     "metadata": {},
     "output_type": "execute_result"
    }
   ],
   "source": [
    "even_num(number)"
   ]
  },
  {
   "cell_type": "markdown",
   "metadata": {},
   "source": [
    "例子不太恰当 但确实是这么个意思。"
   ]
  },
  {
   "cell_type": "markdown",
   "metadata": {},
   "source": [
    "## Pseudo-currying\n",
    "\n",
    "FYI (for your information), you can use functools.partial() to emulate currying (which works even for keyword arguments)."
   ]
  },
  {
   "cell_type": "markdown",
   "metadata": {},
   "source": [
    "简单理解，就是当一个函数的参数没给完时，就返回这个函数和已经给出的参数，直到所有的参数都给出了之后才执行这个函数。"
   ]
  },
  {
   "cell_type": "code",
   "execution_count": 2,
   "metadata": {},
   "outputs": [],
   "source": [
    "class curried(object):\n",
    "    '''\n",
    "    Decorator that returns a function that keeps returning functions\n",
    "    until all arguments are supplied; then the original function is\n",
    "    evaluated.\n",
    "    '''\n",
    "\n",
    "    def __init__(self, func, *a):\n",
    "        self.func = func\n",
    "        self.args = a\n",
    "\n",
    "    def __call__(self, *a):\n",
    "        args = self.args + a\n",
    "        if len(args) < self.func.__code__.co_argcount:\n",
    "            return curried(self.func, *args)\n",
    "        else:\n",
    "            return self.func(*args)\n",
    "\n"
   ]
  },
  {
   "cell_type": "code",
   "execution_count": 3,
   "metadata": {},
   "outputs": [],
   "source": [
    "@curried\n",
    "def add(a, b):\n",
    "    return a + b\n",
    "\n",
    "add1 = add(1)"
   ]
  },
  {
   "cell_type": "code",
   "execution_count": 5,
   "metadata": {},
   "outputs": [
    {
     "data": {
      "text/plain": [
       "3"
      ]
     },
     "execution_count": 5,
     "metadata": {},
     "output_type": "execute_result"
    }
   ],
   "source": [
    "add1(2)"
   ]
  },
  {
   "cell_type": "markdown",
   "metadata": {},
   "source": [
    "## 具有可选参数的装饰器\n",
    "\n",
    "creating decorator with opentional arguments"
   ]
  },
  {
   "cell_type": "code",
   "execution_count": 6,
   "metadata": {},
   "outputs": [],
   "source": [
    "import functools, inspect\n",
    "\n",
    "def decorator(func):\n",
    "    ''' Allow to use decorator either with arguments or not. '''\n",
    "\n",
    "    def isFuncArg(*args, **kw):\n",
    "        return len(args) == 1 and len(kw) == 0 and (\n",
    "            inspect.isfunction(args[0]) or isinstance(args[0], type))\n",
    "\n",
    "    if isinstance(func, type):\n",
    "        def class_wrapper(*args, **kw):\n",
    "            if isFuncArg(*args, **kw):\n",
    "                return func()(*args, **kw) # create class before usage\n",
    "            return func(*args, **kw)\n",
    "        class_wrapper.__name__ = func.__name__\n",
    "        class_wrapper.__module__ = func.__module__\n",
    "        return class_wrapper\n",
    "\n",
    "    @functools.wraps(func)\n",
    "    def func_wrapper(*args, **kw):\n",
    "        if isFuncArg(*args, **kw):\n",
    "            return func(*args, **kw)\n",
    "\n",
    "        def functor(userFunc):\n",
    "            return func(userFunc, *args, **kw)\n",
    "\n",
    "        return functor\n",
    "\n",
    "    return func_wrapper"
   ]
  },
  {
   "cell_type": "markdown",
   "metadata": {},
   "source": [
    "没看懂干啥\n",
    "\n",
    "例子"
   ]
  },
  {
   "cell_type": "code",
   "execution_count": 7,
   "metadata": {},
   "outputs": [],
   "source": [
    "@decorator\n",
    "def apply(func, *args, **kw):\n",
    "    return func(*args, **kw)"
   ]
  },
  {
   "cell_type": "code",
   "execution_count": 8,
   "metadata": {},
   "outputs": [],
   "source": [
    "@decorator\n",
    "class apply:\n",
    "    def __init__(self, *args, **kw):\n",
    "        self.args = args\n",
    "        self.kw   = kw\n",
    "\n",
    "    def __call__(self, func):\n",
    "        return func(*self.args, **self.kw)"
   ]
  },
  {
   "cell_type": "code",
   "execution_count": 21,
   "metadata": {},
   "outputs": [],
   "source": [
    "#\n",
    "# Usage in both cases:\n",
    "#\n",
    "@apply\n",
    "def test():\n",
    "    return 'test'"
   ]
  },
  {
   "cell_type": "code",
   "execution_count": 23,
   "metadata": {},
   "outputs": [],
   "source": [
    "assert test == 'test'"
   ]
  },
  {
   "cell_type": "code",
   "execution_count": 24,
   "metadata": {},
   "outputs": [],
   "source": [
    "def test():\n",
    "    return 'test'"
   ]
  },
  {
   "cell_type": "code",
   "execution_count": 25,
   "metadata": {},
   "outputs": [
    {
     "data": {
      "text/plain": [
       "'test'"
      ]
     },
     "execution_count": 25,
     "metadata": {},
     "output_type": "execute_result"
    }
   ],
   "source": [
    "test()"
   ]
  },
  {
   "cell_type": "markdown",
   "metadata": {},
   "source": [
    "这里，我理解的，test应该是个函数，所以调用的时候应该是 test() 这样的形式。可是用了装饰器之后，它的类型似乎就变成了一个字符串。"
   ]
  },
  {
   "cell_type": "code",
   "execution_count": 26,
   "metadata": {},
   "outputs": [],
   "source": [
    "@apply(2, 3)\n",
    "def test(a, b):\n",
    "    return a + b\n",
    "\n",
    "assert test is 5"
   ]
  },
  {
   "cell_type": "code",
   "execution_count": 27,
   "metadata": {},
   "outputs": [
    {
     "ename": "TypeError",
     "evalue": "test() takes 2 positional arguments but 3 were given",
     "output_type": "error",
     "traceback": [
      "\u001b[1;31m------------------------------------------------------------\u001b[0m",
      "\u001b[1;31mTypeError\u001b[0m                  Traceback (most recent call last)",
      "\u001b[1;32m<ipython-input-27-5d88a87d765b>\u001b[0m in \u001b[0;36m<module>\u001b[1;34m\u001b[0m\n\u001b[1;32m----> 1\u001b[1;33m \u001b[1;33m@\u001b[0m\u001b[0mapply\u001b[0m\u001b[1;33m(\u001b[0m\u001b[1;36m2\u001b[0m\u001b[1;33m,\u001b[0m \u001b[1;36m3\u001b[0m\u001b[1;33m,\u001b[0m \u001b[1;36m7\u001b[0m\u001b[1;33m)\u001b[0m\u001b[1;33m\u001b[0m\u001b[1;33m\u001b[0m\u001b[0m\n\u001b[0m\u001b[0;32m      2\u001b[0m \u001b[1;32mdef\u001b[0m \u001b[0mtest\u001b[0m\u001b[1;33m(\u001b[0m\u001b[0ma\u001b[0m\u001b[1;33m,\u001b[0m \u001b[0mb\u001b[0m\u001b[1;33m)\u001b[0m\u001b[1;33m:\u001b[0m\u001b[1;33m\u001b[0m\u001b[1;33m\u001b[0m\u001b[0m\n\u001b[0;32m      3\u001b[0m     \u001b[1;32mreturn\u001b[0m \u001b[0ma\u001b[0m \u001b[1;33m+\u001b[0m \u001b[0mb\u001b[0m\u001b[1;33m\u001b[0m\u001b[1;33m\u001b[0m\u001b[0m\n",
      "\u001b[1;32m<ipython-input-8-a29ab222b864>\u001b[0m in \u001b[0;36m__call__\u001b[1;34m(self, func)\u001b[0m\n\u001b[0;32m      6\u001b[0m \u001b[1;33m\u001b[0m\u001b[0m\n\u001b[0;32m      7\u001b[0m     \u001b[1;32mdef\u001b[0m \u001b[0m__call__\u001b[0m\u001b[1;33m(\u001b[0m\u001b[0mself\u001b[0m\u001b[1;33m,\u001b[0m \u001b[0mfunc\u001b[0m\u001b[1;33m)\u001b[0m\u001b[1;33m:\u001b[0m\u001b[1;33m\u001b[0m\u001b[1;33m\u001b[0m\u001b[0m\n\u001b[1;32m----> 8\u001b[1;33m         \u001b[1;32mreturn\u001b[0m \u001b[0mfunc\u001b[0m\u001b[1;33m(\u001b[0m\u001b[1;33m*\u001b[0m\u001b[0mself\u001b[0m\u001b[1;33m.\u001b[0m\u001b[0margs\u001b[0m\u001b[1;33m,\u001b[0m \u001b[1;33m**\u001b[0m\u001b[0mself\u001b[0m\u001b[1;33m.\u001b[0m\u001b[0mkw\u001b[0m\u001b[1;33m)\u001b[0m\u001b[1;33m\u001b[0m\u001b[1;33m\u001b[0m\u001b[0m\n\u001b[0m",
      "\u001b[1;31mTypeError\u001b[0m: test() takes 2 positional arguments but 3 were given"
     ]
    }
   ],
   "source": [
    "@apply(2, 3, 7)\n",
    "def test(a, b):\n",
    "    return a + b"
   ]
  },
  {
   "cell_type": "markdown",
   "metadata": {},
   "source": [
    "在装饰器后面给参数，可以把参数给到函数里面。大概就是干了这么个事情"
   ]
  },
  {
   "cell_type": "code",
   "execution_count": 29,
   "metadata": {},
   "outputs": [],
   "source": [
    "@apply('leeyy')\n",
    "def argu_deco(strings):\n",
    "    return('You give me a {}'.format(strings) )"
   ]
  },
  {
   "cell_type": "code",
   "execution_count": 31,
   "metadata": {},
   "outputs": [
    {
     "ename": "TypeError",
     "evalue": "'str' object is not callable",
     "output_type": "error",
     "traceback": [
      "\u001b[1;31m------------------------------------------------------------\u001b[0m",
      "\u001b[1;31mTypeError\u001b[0m                  Traceback (most recent call last)",
      "\u001b[1;32m<ipython-input-31-d4cb6cc41c7c>\u001b[0m in \u001b[0;36m<module>\u001b[1;34m\u001b[0m\n\u001b[1;32m----> 1\u001b[1;33m \u001b[0margu_deco\u001b[0m\u001b[1;33m(\u001b[0m\u001b[1;33m)\u001b[0m\u001b[1;33m\u001b[0m\u001b[1;33m\u001b[0m\u001b[0m\n\u001b[0m",
      "\u001b[1;31mTypeError\u001b[0m: 'str' object is not callable"
     ]
    }
   ],
   "source": [
    "argu_deco()"
   ]
  },
  {
   "cell_type": "code",
   "execution_count": 33,
   "metadata": {},
   "outputs": [
    {
     "data": {
      "text/plain": [
       "'You give me a leeyy'"
      ]
     },
     "execution_count": 33,
     "metadata": {},
     "output_type": "execute_result"
    }
   ],
   "source": [
    "argu_deco"
   ]
  },
  {
   "cell_type": "markdown",
   "metadata": {},
   "source": [
    "这个装饰器的缺点\n",
    "\n",
    "Note: There is only one drawback: wrapper checks its arguments for single function or class. To avoid wrong behavior you can use keyword arguments instead of positional, e.g.:\n",
    "\n",
    "没看懂"
   ]
  },
  {
   "cell_type": "code",
   "execution_count": 34,
   "metadata": {},
   "outputs": [],
   "source": [
    "@decorator\n",
    "def my_property(getter, *, setter=None, deleter=None, doc=None):\n",
    "    return property(getter, setter, deleter, doc)"
   ]
  },
  {
   "cell_type": "code",
   "execution_count": null,
   "metadata": {},
   "outputs": [],
   "source": []
  }
 ],
 "metadata": {
  "kernelspec": {
   "display_name": "Python 3",
   "language": "python",
   "name": "python3"
  },
  "language_info": {
   "codemirror_mode": {
    "name": "ipython",
    "version": 3
   },
   "file_extension": ".py",
   "mimetype": "text/x-python",
   "name": "python",
   "nbconvert_exporter": "python",
   "pygments_lexer": "ipython3",
   "version": "3.7.3"
  },
  "latex_envs": {
   "LaTeX_envs_menu_present": true,
   "autoclose": false,
   "autocomplete": true,
   "bibliofile": "biblio.bib",
   "cite_by": "apalike",
   "current_citInitial": 1,
   "eqLabelWithNumbers": true,
   "eqNumInitial": 1,
   "hotkeys": {
    "equation": "Ctrl-E",
    "itemize": "Ctrl-I"
   },
   "labels_anchors": false,
   "latex_user_defs": false,
   "report_style_numbering": false,
   "user_envs_cfg": false
  },
  "toc": {
   "base_numbering": 1,
   "nav_menu": {},
   "number_sections": true,
   "sideBar": true,
   "skip_h1_title": true,
   "title_cell": "Table of Contents",
   "title_sidebar": "Contents",
   "toc_cell": false,
   "toc_position": {},
   "toc_section_display": true,
   "toc_window_display": false
  }
 },
 "nbformat": 4,
 "nbformat_minor": 2
}
