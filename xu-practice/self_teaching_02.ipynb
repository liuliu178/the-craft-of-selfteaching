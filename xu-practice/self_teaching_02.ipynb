{
 "cells": [
  {
   "cell_type": "markdown",
   "metadata": {},
   "source": [
    "# 值及其相应的运算\n",
    "\n",
    "从结构上来看，一切的计算机程序，都由且只由两个最基本的成分构成：\n",
    "\n",
    "> * 运算（Evaluation）\n",
    "> * 流程控制（Control Flow）\n",
    "\n",
    "没有流程控制的是计算器而已；有流程控制的才是可编程设备。"
   ]
  },
  {
   "cell_type": "code",
   "execution_count": 1,
   "metadata": {},
   "outputs": [
    {
     "name": "stdout",
     "output_type": "stream",
     "text": [
      "83\n",
      "89\n",
      "97\n",
      "101\n",
      "103\n",
      "107\n",
      "109\n"
     ]
    }
   ],
   "source": [
    "def is_prime(n):            # 定义 is_prime()，接收一个参数\n",
    "    if n < 2:              # 开始使用接收到的那个参数（值）开始计算……\n",
    "        return False       # 不再是返回给人，而是返回给调用它的代码……\n",
    "    if n == 2:\n",
    "        return True\n",
    "    for m in range(2, int(n**0.5)+1):\n",
    "        if (n % m) == 0:\n",
    "            return False\n",
    "    else:\n",
    "        return True\n",
    "\n",
    "for i in range(80, 110):\n",
    "    if is_prime(i):          # 调用 is_prime() 函数，\n",
    "        print(i) "
   ]
  },
  {
   "cell_type": "markdown",
   "metadata": {},
   "source": [
    "第 13 行 `is_prime()` 这个函数的调用，也是在流程控制——所以我们可以**把函数看作是“子程序”**。"
   ]
  },
  {
   "cell_type": "markdown",
   "metadata": {},
   "source": [
    "程序中，被运算的对象可分为**常量**（Literals）和**变量**（Variables）。\n",
    "\n",
    "在 python 中，每个函数都有一个返回值，即便你在定义一个函数的时候没有设定返回值，它也会加上默认的返回值 `None`（请注意 `None` 的大小写）。"
   ]
  },
  {
   "cell_type": "code",
   "execution_count": 2,
   "metadata": {},
   "outputs": [
    {
     "name": "stdout",
     "output_type": "stream",
     "text": [
      "None\n",
      "None\n",
      "None\n"
     ]
    }
   ],
   "source": [
    "def f():\n",
    "    pass\n",
    "print(f())        # 输出 f() 这个函数被调用后的返回值，None\n",
    "print(print(f())) # 这一行最外围的 print() 调用了一次 print(f())，所以输出一个 None，\n",
    "                  # 而后再输出这次调用的返回值，所以又输出一次 None"
   ]
  },
  {
   "cell_type": "code",
   "execution_count": 8,
   "metadata": {},
   "outputs": [
    {
     "name": "stdout",
     "output_type": "stream",
     "text": [
      "\n",
      "None\n"
     ]
    }
   ],
   "source": [
    "print(print())"
   ]
  },
  {
   "cell_type": "markdown",
   "metadata": {},
   "source": [
    "# 值的类型\n",
    "\n",
    "在编程语言中，总是包含最基本的三种数据类型：\n",
    "\n",
    "> * 布尔值（Bollean Value）\n",
    "> * 数字（Numbers）：整数（int）、浮点数（float）、复数（Complex Numer）\n",
    "> * 字符串（String）"
   ]
  },
  {
   "cell_type": "markdown",
   "metadata": {},
   "source": [
    "在对不同类型的值进行运算之前，总是要事先做 **Type Casing** （类型转换）。比如：\n",
    "\n",
    "> * 将字符串转换为数字：`int()`、`float()`；\n",
    "> * 将数字转换为字符串：`str()`；\n",
    "\n",
    "即使在数字之间进行计算的时候，有时也需要将整数转换成浮点数字，或将浮点数转换为整数：\n",
    "\n",
    "> * 整数转换为浮点数：`float()`；\n",
    "> * 浮点数转换为整数：`int()`；\n",
    "\n",
    "有个函数 `type()`，可以用来查看某个值得属性。"
   ]
  },
  {
   "cell_type": "code",
   "execution_count": 11,
   "metadata": {},
   "outputs": [
    {
     "data": {
      "text/plain": [
       "int"
      ]
     },
     "execution_count": 11,
     "metadata": {},
     "output_type": "execute_result"
    },
    {
     "data": {
      "text/plain": [
       "float"
      ]
     },
     "execution_count": 11,
     "metadata": {},
     "output_type": "execute_result"
    },
    {
     "data": {
      "text/plain": [
       "str"
      ]
     },
     "execution_count": 11,
     "metadata": {},
     "output_type": "execute_result"
    },
    {
     "data": {
      "text/plain": [
       "bool"
      ]
     },
     "execution_count": 11,
     "metadata": {},
     "output_type": "execute_result"
    },
    {
     "data": {
      "text/plain": [
       "range"
      ]
     },
     "execution_count": 11,
     "metadata": {},
     "output_type": "execute_result"
    },
    {
     "data": {
      "text/plain": [
       "list"
      ]
     },
     "execution_count": 11,
     "metadata": {},
     "output_type": "execute_result"
    },
    {
     "data": {
      "text/plain": [
       "tuple"
      ]
     },
     "execution_count": 11,
     "metadata": {},
     "output_type": "execute_result"
    },
    {
     "data": {
      "text/plain": [
       "set"
      ]
     },
     "execution_count": 11,
     "metadata": {},
     "output_type": "execute_result"
    },
    {
     "data": {
      "text/plain": [
       "dict"
      ]
     },
     "execution_count": 11,
     "metadata": {},
     "output_type": "execute_result"
    }
   ],
   "source": [
    "from IPython.core.interactiveshell import InteractiveShell\n",
    "InteractiveShell.ast_node_interactivity = \"all\"\n",
    "\n",
    "type(3)\n",
    "type(3.0)\n",
    "type('3.14')\n",
    "type(True)\n",
    "type(range(10))\n",
    "type([1,2,3])\n",
    "type((1,2,3))\n",
    "type({1,2,3})\n",
    "type({'a':1, 'b':2, 'c':3})"
   ]
  },
  {
   "cell_type": "markdown",
   "metadata": {},
   "source": [
    "# 操作符\n",
    "\n",
    "针对不同类型的数据，有各自专用的**操作符**。\n",
    "\n",
    "## 数值操作符\n",
    "\n",
    "取余数 `%`；取商 `//`\n",
    "\n",
    "## 布尔值操作符\n",
    "\n",
    "`and` `or` `not`，其中，`or` 优先级最低， `and` 次之， `not` 优先级最高。"
   ]
  },
  {
   "cell_type": "code",
   "execution_count": 12,
   "metadata": {},
   "outputs": [
    {
     "data": {
      "text/plain": [
       "False"
      ]
     },
     "execution_count": 12,
     "metadata": {},
     "output_type": "execute_result"
    }
   ],
   "source": [
    "True and False or not True"
   ]
  },
  {
   "cell_type": "markdown",
   "metadata": {},
   "source": [
    "上面的代码用带括号的优先级表示为\n",
    "\n",
    "> `[(True and False) or (not True)]`"
   ]
  },
  {
   "cell_type": "markdown",
   "metadata": {},
   "source": [
    "## 逻辑操作符\n",
    "\n",
    "`>   <    >=    <=    !=    ==`\n",
    "\n",
    "> 数值计算的操作符优先级最高，其次是逻辑操作符，布尔值得操作符优先级最低。"
   ]
  },
  {
   "cell_type": "code",
   "execution_count": 13,
   "metadata": {},
   "outputs": [
    {
     "data": {
      "text/plain": [
       "True"
      ]
     },
     "execution_count": 13,
     "metadata": {},
     "output_type": "execute_result"
    }
   ],
   "source": [
    "n = -95\n",
    "n < 0 and (n + 1) % 2 == 0"
   ]
  },
  {
   "cell_type": "markdown",
   "metadata": {},
   "source": [
    "## 字符串操作符\n",
    "\n",
    "针对字符串，有三种操作：\n",
    "\n"
   ]
  },
  {
   "cell_type": "markdown",
   "metadata": {},
   "source": [
    "针对字符串，有三种操作：\n",
    "\n",
    "> * 拼接：`+` 和 ` `（空格）\n",
    "> * 复制，拷贝：`*`\n",
    "> * 逻辑运算：`in` `not in`；以及， `>  <  >=  <=  ==`"
   ]
  },
  {
   "cell_type": "code",
   "execution_count": 2,
   "metadata": {},
   "outputs": [
    {
     "data": {
      "text/plain": [
       "'AwesomePython'"
      ]
     },
     "execution_count": 2,
     "metadata": {},
     "output_type": "execute_result"
    },
    {
     "data": {
      "text/plain": [
       "'AwesomePython'"
      ]
     },
     "execution_count": 2,
     "metadata": {},
     "output_type": "execute_result"
    },
    {
     "data": {
      "text/plain": [
       "'Python, Awesome! Awesome! Awesome! '"
      ]
     },
     "execution_count": 2,
     "metadata": {},
     "output_type": "execute_result"
    },
    {
     "data": {
      "text/plain": [
       "False"
      ]
     },
     "execution_count": 2,
     "metadata": {},
     "output_type": "execute_result"
    }
   ],
   "source": [
    "from IPython.core.interactiveshell import InteractiveShell\n",
    "InteractiveShell.ast_node_interactivity = 'all'\n",
    "\n",
    "'Awesome' + 'Python'\n",
    "'Awesome' 'Python'\n",
    "'Python, ' + 'Awesome! ' * 3\n",
    "'o' in 'Awesome' and 'o' not in 'Python'"
   ]
  },
  {
   "cell_type": "markdown",
   "metadata": {},
   "source": [
    "字符之间、字符串之间，除了 `==` 和 `!=` 之外，还可以被逻辑操作符 `<  <=  >  >=` 运算，运算的依据是字符对应的 Unicode 码值。"
   ]
  },
  {
   "cell_type": "code",
   "execution_count": 3,
   "metadata": {},
   "outputs": [
    {
     "data": {
      "text/plain": [
       "True"
      ]
     },
     "execution_count": 3,
     "metadata": {},
     "output_type": "execute_result"
    }
   ],
   "source": [
    "'a' < 'b'"
   ]
  },
  {
   "cell_type": "code",
   "execution_count": 4,
   "metadata": {},
   "outputs": [
    {
     "data": {
      "text/plain": [
       "False"
      ]
     },
     "execution_count": 4,
     "metadata": {},
     "output_type": "execute_result"
    },
    {
     "data": {
      "text/plain": [
       "65"
      ]
     },
     "execution_count": 4,
     "metadata": {},
     "output_type": "execute_result"
    },
    {
     "data": {
      "text/plain": [
       "97"
      ]
     },
     "execution_count": 4,
     "metadata": {},
     "output_type": "execute_result"
    }
   ],
   "source": [
    "from IPython.core.interactiveshell import InteractiveShell\n",
    "InteractiveShell.ast_node_interactivity = 'all'\n",
    "\n",
    "'A' > 'a'\n",
    "ord('A')\n",
    "ord('a')"
   ]
  },
  {
   "cell_type": "markdown",
   "metadata": {},
   "source": [
    "当字符串被比较的时候，将从两个字符串各自的第一个字符开始逐个比较，**一旦决出胜负马上停止**："
   ]
  },
  {
   "cell_type": "code",
   "execution_count": 5,
   "metadata": {},
   "outputs": [
    {
     "data": {
      "text/plain": [
       "False"
      ]
     },
     "execution_count": 5,
     "metadata": {},
     "output_type": "execute_result"
    }
   ],
   "source": [
    "'PYTHON' > 'Python 3'\n",
    "# 大写字母比小写字母对应的 Unicode 码值小"
   ]
  },
  {
   "cell_type": "markdown",
   "metadata": {},
   "source": [
    "## 列表的操作符\n",
    "\n",
    "批量处理数字和字符串的时候，需要**数组**（Array）。在 python 语言中，它提供了一个**容器**（Container）的概念，用来容纳批量的数据。\n",
    "\n",
    "Python 的容器有很多种——字符串其实也是容器的一种，它的里面容纳着批量的字符。\n",
    "\n",
    "我们先简单接触下另外一种容器：**列表**（List）。"
   ]
  },
  {
   "cell_type": "markdown",
   "metadata": {},
   "source": [
    "列表和字符串都是**有序容器**（容器还有另外一种是无序容器），所以，它们可用的操作符其实相同：\n",
    "\n",
    "> * 拼接：`+` 和 ` `（空格）\n",
    "> * 复制（拷贝）：`*`\n",
    "> * 逻辑运算：`in`，`not in  >  >=  <  <=  !=  ==`"
   ]
  },
  {
   "cell_type": "markdown",
   "metadata": {},
   "source": [
    "两个列表在比较时（前提是两个列表中的元素类型相同），遵循的还是跟字符串比较相同的规则：**一旦决出胜负马上停止**。但是实际上，由于列表中可以包含不同类型的元素，所以，通常情况下没有实际需求对它们进行**大于**、**小于**的比较。（不同类型的数据进行比较时，会引发 `TypeError` 错误类型）"
   ]
  },
  {
   "cell_type": "code",
   "execution_count": 9,
   "metadata": {},
   "outputs": [
    {
     "data": {
      "text/plain": [
       "False"
      ]
     },
     "execution_count": 9,
     "metadata": {},
     "output_type": "execute_result"
    },
    {
     "data": {
      "text/plain": [
       "True"
      ]
     },
     "execution_count": 9,
     "metadata": {},
     "output_type": "execute_result"
    },
    {
     "data": {
      "text/plain": [
       "True"
      ]
     },
     "execution_count": 9,
     "metadata": {},
     "output_type": "execute_result"
    }
   ],
   "source": [
    "from IPython.core.interactiveshell import InteractiveShell\n",
    "InteractiveShell.ast_node_interactivity = \"all\"\n",
    "\n",
    "a_list = [1, 2, 3, 4, 5]\n",
    "b_list = [1, 2, 3, 5]\n",
    "c_list = ['ann', 'bob', 'cindy', 'dude', 'eric']\n",
    "\n",
    "a_list > b_list\n",
    "10 not in a_list\n",
    "'ann' in c_list"
   ]
  },
  {
   "cell_type": "markdown",
   "metadata": {},
   "source": [
    "# 更复杂的运算\n",
    "\n",
    "对于数字进行加、减、乘、除、商、余、幂的操作；\n",
    "对于字符串进行拼接、复制、属于的操作；\n",
    "对于布尔值进行或、与、非的操作，这些都是相对简单的运算。\n",
    "\n",
    "更为复杂一点的，我们要通过调用函数来完成——在函数内部，我们可以用比**单个表达式**更为复杂的程序针对传递进来的参数进行运算。换言之，**函数就相当于各种事先写好的子程序，给它传递一个值，它会对其进行运算，而后返回一个值（至少返回一个 `None`）**。\n",
    "\n",
    "以下是 python 语言中所有的内建函数（[Bulit-in Functions](https://docs.python.org/3/library/functions.html)）:"
   ]
  },
  {
   "cell_type": "code",
   "execution_count": 11,
   "metadata": {},
   "outputs": [
    {
     "data": {
      "text/plain": [
       "734"
      ]
     },
     "execution_count": 11,
     "metadata": {},
     "output_type": "execute_result"
    }
   ],
   "source": [
    "# 绝对值\n",
    "abs(-734)"
   ]
  },
  {
   "cell_type": "code",
   "execution_count": 15,
   "metadata": {},
   "outputs": [
    {
     "data": {
      "text/plain": [
       "True"
      ]
     },
     "execution_count": 15,
     "metadata": {},
     "output_type": "execute_result"
    },
    {
     "data": {
      "text/plain": [
       "False"
      ]
     },
     "execution_count": 15,
     "metadata": {},
     "output_type": "execute_result"
    },
    {
     "data": {
      "text/plain": [
       "True"
      ]
     },
     "execution_count": 15,
     "metadata": {},
     "output_type": "execute_result"
    },
    {
     "data": {
      "text/plain": [
       "False"
      ]
     },
     "execution_count": 15,
     "metadata": {},
     "output_type": "execute_result"
    }
   ],
   "source": [
    "from IPython.core.interactiveshell import InteractiveShell\n",
    "InteractiveShell.ast_node_interactivity = \"all\"\n",
    "\n",
    "a_list = [1, 2, 3, 4, 5]\n",
    "b_list = [1, 2, '']\n",
    "c_list = ['', '', '']\n",
    "all(a_list)\n",
    "all(b_list)\n",
    "any(b_list)\n",
    "any(c_list)"
   ]
  },
  {
   "cell_type": "code",
   "execution_count": 21,
   "metadata": {},
   "outputs": [
    {
     "data": {
      "text/plain": [
       "\"'\\\\u674e\\\\u4e00\\\\u4e00'\""
      ]
     },
     "execution_count": 21,
     "metadata": {},
     "output_type": "execute_result"
    }
   ],
   "source": [
    "ascii('李一一')"
   ]
  },
  {
   "cell_type": "code",
   "execution_count": 23,
   "metadata": {},
   "outputs": [
    {
     "data": {
      "text/plain": [
       "['__add__',\n",
       " '__class__',\n",
       " '__contains__',\n",
       " '__delattr__',\n",
       " '__delitem__',\n",
       " '__dir__',\n",
       " '__doc__',\n",
       " '__eq__',\n",
       " '__format__',\n",
       " '__ge__',\n",
       " '__getattribute__',\n",
       " '__getitem__',\n",
       " '__gt__',\n",
       " '__hash__',\n",
       " '__iadd__',\n",
       " '__imul__',\n",
       " '__init__',\n",
       " '__init_subclass__',\n",
       " '__iter__',\n",
       " '__le__',\n",
       " '__len__',\n",
       " '__lt__',\n",
       " '__mul__',\n",
       " '__ne__',\n",
       " '__new__',\n",
       " '__reduce__',\n",
       " '__reduce_ex__',\n",
       " '__repr__',\n",
       " '__reversed__',\n",
       " '__rmul__',\n",
       " '__setattr__',\n",
       " '__setitem__',\n",
       " '__sizeof__',\n",
       " '__str__',\n",
       " '__subclasshook__',\n",
       " 'append',\n",
       " 'clear',\n",
       " 'copy',\n",
       " 'count',\n",
       " 'extend',\n",
       " 'index',\n",
       " 'insert',\n",
       " 'pop',\n",
       " 'remove',\n",
       " 'reverse',\n",
       " 'sort']"
      ]
     },
     "execution_count": 23,
     "metadata": {},
     "output_type": "execute_result"
    }
   ],
   "source": [
    "dir(a_list)"
   ]
  },
  {
   "cell_type": "code",
   "execution_count": 2,
   "metadata": {},
   "outputs": [
    {
     "data": {
      "text/plain": [
       "{'__name__': '__main__',\n",
       " '__doc__': 'Automatically created module for IPython interactive environment',\n",
       " '__package__': None,\n",
       " '__loader__': None,\n",
       " '__spec__': None,\n",
       " '__builtin__': <module 'builtins' (built-in)>,\n",
       " '__builtins__': <module 'builtins' (built-in)>,\n",
       " '_ih': ['', 'global()', 'globals()'],\n",
       " '_oh': {},\n",
       " '_dh': ['E:\\\\lessons\\\\block_chain\\\\self_teaching\\\\xu-practice'],\n",
       " 'In': ['', 'global()', 'globals()'],\n",
       " 'Out': {},\n",
       " 'get_ipython': <bound method InteractiveShell.get_ipython of <ipykernel.zmqshell.ZMQInteractiveShell object at 0x000001F42B764BA8>>,\n",
       " 'exit': <IPython.core.autocall.ZMQExitAutocall at 0x1f42c1192b0>,\n",
       " 'quit': <IPython.core.autocall.ZMQExitAutocall at 0x1f42c1192b0>,\n",
       " '_': '',\n",
       " '__': '',\n",
       " '___': '',\n",
       " '_i': 'global()',\n",
       " '_ii': '',\n",
       " '_iii': '',\n",
       " '_i1': 'global()',\n",
       " '_i2': 'globals()'}"
      ]
     },
     "execution_count": 2,
     "metadata": {},
     "output_type": "execute_result"
    }
   ],
   "source": [
    "globals()\n",
    "# 全局符号表"
   ]
  },
  {
   "cell_type": "code",
   "execution_count": 4,
   "metadata": {},
   "outputs": [
    {
     "data": {
      "text/plain": [
       "3993805954616100571"
      ]
     },
     "execution_count": 4,
     "metadata": {},
     "output_type": "execute_result"
    }
   ],
   "source": [
    "hash('000')\n",
    "# 用于快速比较字典的键，相等的数值具有相同的 hash 值，尽管是不同精度，因为它们是基于 0 和 1 比较的。"
   ]
  },
  {
   "cell_type": "code",
   "execution_count": 6,
   "metadata": {},
   "outputs": [
    {
     "data": {
      "text/plain": [
       "'0x10'"
      ]
     },
     "execution_count": 6,
     "metadata": {},
     "output_type": "execute_result"
    }
   ],
   "source": [
    "hex(16)\n",
    "# 转换为小写 16 进制数，以 0x 开头"
   ]
  },
  {
   "cell_type": "code",
   "execution_count": 7,
   "metadata": {},
   "outputs": [
    {
     "data": {
      "text/plain": [
       "('0xff', 'ff', 'FF')"
      ]
     },
     "execution_count": 7,
     "metadata": {},
     "output_type": "execute_result"
    }
   ],
   "source": [
    "'%#x' % 255, '%x' % 255, '%X' % 255\n",
    "format(255, '#x'), format(255, 'x'), format(255, 'X')\n",
    "f'{255:#x}', f'{255:x}', f'{255:X}'"
   ]
  },
  {
   "cell_type": "code",
   "execution_count": 8,
   "metadata": {},
   "outputs": [
    {
     "data": {
      "text/plain": [
       "'0o7'"
      ]
     },
     "execution_count": 8,
     "metadata": {},
     "output_type": "execute_result"
    }
   ],
   "source": [
    "oct(7)\n",
    "# 转换为 8 进制 数，以 0o 开头"
   ]
  },
  {
   "cell_type": "code",
   "execution_count": 9,
   "metadata": {},
   "outputs": [
    {
     "data": {
      "text/plain": [
       "('0o12', '12')"
      ]
     },
     "execution_count": 9,
     "metadata": {},
     "output_type": "execute_result"
    }
   ],
   "source": [
    "'%#o' % 10, '%o' % 10\n",
    "\n",
    "format(10, '#o'), format(10, 'o')\n",
    "\n",
    "f'{10:#o}', f'{10:o}'"
   ]
  },
  {
   "cell_type": "code",
   "execution_count": 10,
   "metadata": {},
   "outputs": [
    {
     "data": {
      "text/plain": [
       "99"
      ]
     },
     "execution_count": 10,
     "metadata": {},
     "output_type": "execute_result"
    }
   ],
   "source": [
    "ord('c')\n",
    "# 根据 unicode 码值，返回对应的整数"
   ]
  },
  {
   "cell_type": "code",
   "execution_count": 14,
   "metadata": {},
   "outputs": [
    {
     "data": {
      "text/plain": [
       "1"
      ]
     },
     "execution_count": 14,
     "metadata": {},
     "output_type": "execute_result"
    }
   ],
   "source": [
    "pow(3, 3, 2)"
   ]
  },
  {
   "cell_type": "code",
   "execution_count": 21,
   "metadata": {},
   "outputs": [],
   "source": [
    "a = slice(1,10)"
   ]
  },
  {
   "cell_type": "markdown",
   "metadata": {},
   "source": [
    "数字其实也是一个类，所以可以调用这个类所定义的函数。比如，`float.as_integer_ratio()`，它将返回两个值，第一个值除以第二个值，恰好等于传递给它的那个浮点数字参数："
   ]
  },
  {
   "cell_type": "code",
   "execution_count": 24,
   "metadata": {},
   "outputs": [
    {
     "data": {
      "text/plain": [
       "(3537118815677477, 1125899906842624)"
      ]
     },
     "execution_count": 24,
     "metadata": {},
     "output_type": "execute_result"
    }
   ],
   "source": [
    "3.1415926.as_integer_ratio()"
   ]
  },
  {
   "cell_type": "code",
   "execution_count": 26,
   "metadata": {},
   "outputs": [
    {
     "data": {
      "text/plain": [
       "(6121026513834395, 2251799813685248)"
      ]
     },
     "execution_count": 26,
     "metadata": {},
     "output_type": "execute_result"
    }
   ],
   "source": [
    "2.718281828.as_integer_ratio()"
   ]
  },
  {
   "cell_type": "markdown",
   "metadata": {},
   "source": [
    "# 关于布尔值的补充\n",
    "\n",
    "python 将 `True` 定义为：\n",
    "\n",
    "> By default, an object is considered true unless its class defines either a `__bool__()` method that returns `False` or a `__len__()` method that returns zero, when called with the object.\n",
    "\n",
    "Here are most of the built-in objects considered `Fasle`:\n",
    "\n",
    "> * constants defined to be false: `None` and `False`.\n",
    "> * zero of any numeric type: `0`, `0.0`, `0j`, `Decimal(0)`, `Fraction(0,1)`. \n",
    "> * empty sequences and collections: ``, `()`, `[]`, `{}`, `set()`, `range(0)`. \n",
    "\n",
    "每个变量或者常量，除了它们的值之外，同时还相当于有一个对应的布尔值，除了上面提到的三种布尔值为 `False` 的情况，一般情况变量或常量的布尔值都默认为 `True`。"
   ]
  },
  {
   "cell_type": "markdown",
   "metadata": {},
   "source": [
    "# 关于值的类型的补充\n",
    "\n",
    "数字、布尔值、字符串、列表、\n",
    "`range()`（等差数列）、tuple（元组）、set（集合）、dictionary（字典）、Date Type（日期）等等。\n",
    "\n",
    "针对不同的类型，都有相应的操作符，可以对其进行运算。\n",
    "\n",
    "当对不同类型的变量进行运算时，需要先做 `Type Casing`，比如将 list 转换为 set，或者反之。"
   ]
  },
  {
   "cell_type": "code",
   "execution_count": 29,
   "metadata": {},
   "outputs": [
    {
     "data": {
      "text/plain": [
       "[1, 2, 3, 4, 5, 6, 6, 7]"
      ]
     },
     "execution_count": 29,
     "metadata": {},
     "output_type": "execute_result"
    },
    {
     "data": {
      "text/plain": [
       "{1, 2, 3, 4, 5, 6, 7}"
      ]
     },
     "execution_count": 29,
     "metadata": {},
     "output_type": "execute_result"
    },
    {
     "data": {
      "text/plain": [
       "[1, 2, 3, 4, 5, 6, 7]"
      ]
     },
     "execution_count": 29,
     "metadata": {},
     "output_type": "execute_result"
    }
   ],
   "source": [
    "from IPython.core.interactiveshell import InteractiveShell\n",
    "InteractiveShell.ast_node_interactivity = \"all\"\n",
    "\n",
    "a = [1, 2, 3, 4, 5, 6, 6, 7]\n",
    "b = set(a)\n",
    "c = list(b)\n",
    "a\n",
    "b\n",
    "c"
   ]
  },
  {
   "cell_type": "markdown",
   "metadata": {},
   "source": [
    "# 总结\n",
    "\n",
    "数据类型 & 数据的**值的类型**\n",
    "\n",
    "针对每一种值，都有相应的操作方式：\n",
    "\n",
    "> * **操作符**\n",
    ">  * 值运算\n",
    ">  * 逻辑运算\n",
    "> * **函数**\n",
    ">  * 内建函数\n",
    ">  * 其他模块里的函数\n",
    ">  * 其本身所属类中所定义的函数\n",
    "\n"
   ]
  },
  {
   "cell_type": "markdown",
   "metadata": {},
   "source": [
    "所以，接下来要学习的，无非就是熟悉各种**数据类型**，及其**相应的操作**，包括能够对它们的**值**进行操作的操作符和函数。\n",
    "\n",
    "无论是操作符还是函数，最终都会返回一个相应的**值**，及其相应的**布尔值**。换句话说：\n",
    "\n",
    "> 接下来要学习的无非是各种**数据类型**的运算而已。"
   ]
  }
 ],
 "metadata": {
  "kernelspec": {
   "display_name": "Python [conda env:root] *",
   "language": "python",
   "name": "conda-root-py"
  },
  "language_info": {
   "codemirror_mode": {
    "name": "ipython",
    "version": 3
   },
   "file_extension": ".py",
   "mimetype": "text/x-python",
   "name": "python",
   "nbconvert_exporter": "python",
   "pygments_lexer": "ipython3",
   "version": "3.7.3"
  }
 },
 "nbformat": 4,
 "nbformat_minor": 2
}
