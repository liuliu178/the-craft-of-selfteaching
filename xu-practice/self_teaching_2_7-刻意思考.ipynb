{
 "cells": [
  {
   "cell_type": "markdown",
   "metadata": {},
   "source": [
    "# 刻意思考"
   ]
  },
  {
   "cell_type": "markdown",
   "metadata": {},
   "source": [
    "> 这东西能用在哪里呢？"
   ]
  },
  {
   "cell_type": "markdown",
   "metadata": {},
   "source": [
    "`str.zfill()`"
   ]
  },
  {
   "cell_type": "code",
   "execution_count": 5,
   "metadata": {},
   "outputs": [
    {
     "data": {
      "text/plain": [
       "'-0000cubic'"
      ]
     },
     "execution_count": 5,
     "metadata": {},
     "output_type": "execute_result"
    }
   ],
   "source": [
    "fname = '-cubic'\n",
    "fname.zfill(10)"
   ]
  },
  {
   "cell_type": "markdown",
   "metadata": {},
   "source": [
    "找到用处，有时候还真挺难的——因为**人都一样，容易被自己的眼界所限，放眼过去，没有用处，自然也就不用了，甚至不用学了**。更不用提那就肯定是感觉不用练了。"
   ]
  },
  {
   "cell_type": "markdown",
   "metadata": {},
   "source": [
    "> 但更多的时候，需要你花时间去琢磨，才能找到用处。"
   ]
  },
  {
   "cell_type": "markdown",
   "metadata": {},
   "source": [
    "找活干，是应用所学最有效的方式。有活干，所以就有问题需要解决，所以就有机会反复攻关。在这个过程中，以用带练……\n",
    "\n",
    "能者多劳与劳者多能。"
   ]
  },
  {
   "cell_type": "markdown",
   "metadata": {},
   "source": [
    "在最初想不出有什么用处的时候，还可以退而求其次，看看**别人想出什么用处没有**。\n",
    "\n",
    "> [what exactly can you do with python](https://www.freecodecamp.org/news/what-can-you-do-with-python-the-3-main-applications-518db9a68a78/)"
   ]
  },
  {
   "cell_type": "markdown",
   "metadata": {},
   "source": [
    "再高阶一点的思考（琢磨），无非是“**这东西能用在哪里**”这句话加上一个字而已：\n",
    "\n",
    "> **这东西还能用在哪里？**"
   ]
  },
  {
   "cell_type": "markdown",
   "metadata": {},
   "source": [
    "开发方法论，[MoSCoW Method](https://en.wikipedia.org/wiki/MoSCoW_method) \n",
    "简单地说，凡事分为：\n",
    "\n",
    "> * must have\n",
    "> * should have\n",
    "> * could have\n",
    "> * won't have\n",
    "\n",
    "于是，在开发的时候，把所谓的需求打上这四个标签中的某一个，以此分类，就很容易剔除那些实际上做了还不如不做的功能。\n",
    "\n",
    "活学活用，触类旁通。\n",
    "\n",
    "万物皆可学习。"
   ]
  },
  {
   "cell_type": "markdown",
   "metadata": {},
   "source": [
    "# 战胜难点\n",
    "\n",
    "无论学什么，都有难点，所谓的“学习曲线陡峭”，无非就是难点靠前，难点很多，难点貌似很难而已。\n",
    "\n",
    "所有的难点，事实上都可以被拆解成更小的单元，而后在逐一突破的时候，就没有那么难了。逐一突破全部完成之后，再拼起来重新审视的时候就会发现那所谓的难题尝尝只不过是错觉而已。李笑来把它称为**困难幻觉**。\n",
    "\n",
    "把一起都当作手艺看的好处之一就是心态平和，因为你知道那不靠天分和智商，它靠的是另外几件事：不混时间，刻意思考，以及刻意练习——其实，老祖宗早就有总结：\n",
    "\n",
    "> 天下无难事，只怕**有心人**……\n",
    "\n",
    "想成为有心人，其实无非就是**学会拆解之后逐一突破**，就那么简单。\n",
    "\n",
    "> * 类，以及面向对象编程（Class，OOP）\n",
    "> * 迭代器，生成器，装饰器（Iterators，Generators，Decorators）\n",
    "> * 正则表达式（Regular Expression）\n",
    "> * 巴科思-诺尔范式（Backus Normal Form）"
   ]
  },
  {
   "cell_type": "markdown",
   "metadata": {},
   "source": [
    "> 无论学什么，难的部分不学会，就等于整个没学。\n",
    "\n",
    "——仅仅因为不够全面。\n",
    "\n",
    "知识就是知识，它没有任何义务去具备幽默生动的属性；手艺就是手艺，它没有任何义务去具备有趣欢乐的属性。\n",
    "\n",
    "幽默与生动，是要自己去扮演的角色；有趣与欢乐，是要自己去挖掘的幸福——它们从来都不会自动包含在知识和手艺之中。只有当它们被有心人掌握，被有心人应用，被有心人拿去创造的时候，也只有有心人才能体会到那种幽默与生动，有趣与欢乐。\n",
    "\n",
    "人生本无意义，有意义的人生都是自己活出来的，有意义的知识都是自己用出来的。\n",
    "\n"
   ]
  },
  {
   "cell_type": "code",
   "execution_count": null,
   "metadata": {},
   "outputs": [],
   "source": []
  }
 ],
 "metadata": {
  "kernelspec": {
   "display_name": "Python 3",
   "language": "python",
   "name": "python3"
  },
  "language_info": {
   "codemirror_mode": {
    "name": "ipython",
    "version": 3
   },
   "file_extension": ".py",
   "mimetype": "text/x-python",
   "name": "python",
   "nbconvert_exporter": "python",
   "pygments_lexer": "ipython3",
   "version": "3.7.3"
  },
  "toc": {
   "base_numbering": 1,
   "nav_menu": {},
   "number_sections": true,
   "sideBar": true,
   "skip_h1_title": false,
   "title_cell": "Table of Contents",
   "title_sidebar": "Contents",
   "toc_cell": false,
   "toc_position": {},
   "toc_section_display": true,
   "toc_window_display": false
  }
 },
 "nbformat": 4,
 "nbformat_minor": 2
}
