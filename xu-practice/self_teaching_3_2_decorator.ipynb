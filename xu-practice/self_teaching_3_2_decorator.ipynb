{
 "cells": [
  {
   "cell_type": "markdown",
   "metadata": {},
   "source": [
    "# 函数工具\n",
    "\n",
    "迭代器 生成器 装饰器 都是函数工具。有人称为 DIG（decorator iterator generator）。\n",
    "\n",
    "> 它们都是真正掌握 Python 的关键。"
   ]
  },
  {
   "cell_type": "markdown",
   "metadata": {},
   "source": [
    "## 迭代器（iterator）\n",
    "\n",
    "我们已经见过的 python 中的所有容器，都是**可迭代的**（iterable）——准确地讲，是可以通过迭代遍历每一个元素。"
   ]
  },
  {
   "cell_type": "code",
   "execution_count": 1,
   "metadata": {},
   "outputs": [
    {
     "name": "stdout",
     "output_type": "stream",
     "text": [
      "t, h, i, s,  , i, s,  , a,  , s, t, r, i, n, g, ., \n",
      "item 1, item 2, 3, 5, \n",
      "1, 2, 3, 4, 5, \n"
     ]
    }
   ],
   "source": [
    "string = \"this is a string.\"\n",
    "list = ['item 1', 'item 2', 3, 5]\n",
    "set = (1, 2, 3, 4, 5)\n",
    "\n",
    "for c in string:\n",
    "    print(c, end=', ')\n",
    "print()\n",
    "\n",
    "for L in list:\n",
    "    print(L, end=', ')\n",
    "print()\n",
    "\n",
    "for s in set:\n",
    "    print(s, end=', ')\n",
    "print()"
   ]
  },
  {
   "cell_type": "markdown",
   "metadata": {},
   "source": [
    "有个内建函数，就是用来把一个**可迭代对象**（iterable）转换成**迭代器**（iterator）的 -- [`iter()`](https://docs.python.org/3/library/functions.html#iter)。"
   ]
  },
  {
   "cell_type": "code",
   "execution_count": 3,
   "metadata": {},
   "outputs": [
    {
     "data": {
      "text/plain": [
       "str_iterator"
      ]
     },
     "execution_count": 3,
     "metadata": {},
     "output_type": "execute_result"
    },
    {
     "data": {
      "text/plain": [
       "tuple_iterator"
      ]
     },
     "execution_count": 3,
     "metadata": {},
     "output_type": "execute_result"
    },
    {
     "data": {
      "text/plain": [
       "list_iterator"
      ]
     },
     "execution_count": 3,
     "metadata": {},
     "output_type": "execute_result"
    }
   ],
   "source": [
    "from IPython.core.interactiveshell import InteractiveShell\n",
    "InteractiveShell.ast_node_interactivity = \"all\"\n",
    "\n",
    "i = iter(\"Python\")\n",
    "type(i)\n",
    "\n",
    "s = iter((1, 2, 3, 4, 5))\n",
    "type(s)\n",
    "\n",
    "L = iter(['item 1', 'item 2', 3, 5])\n",
    "type(L)"
   ]
  },
  {
   "cell_type": "code",
   "execution_count": 7,
   "metadata": {},
   "outputs": [
    {
     "data": {
      "text/plain": [
       "<str_iterator at 0x27bb0e7dc50>"
      ]
     },
     "execution_count": 7,
     "metadata": {},
     "output_type": "execute_result"
    }
   ],
   "source": [
    "i"
   ]
  },
  {
   "cell_type": "markdown",
   "metadata": {},
   "source": [
    "迭代器如何使用呢？有个 [`next()`](https://docs.python.org/3/library/functions.html#next) 函数。\n",
    "\n",
    "`next()` 返回迭代器中的下一个迭代对象。"
   ]
  },
  {
   "cell_type": "code",
   "execution_count": 4,
   "metadata": {},
   "outputs": [
    {
     "data": {
      "text/plain": [
       "'P'"
      ]
     },
     "execution_count": 4,
     "metadata": {},
     "output_type": "execute_result"
    },
    {
     "data": {
      "text/plain": [
       "'y'"
      ]
     },
     "execution_count": 4,
     "metadata": {},
     "output_type": "execute_result"
    },
    {
     "data": {
      "text/plain": [
       "'t'"
      ]
     },
     "execution_count": 4,
     "metadata": {},
     "output_type": "execute_result"
    },
    {
     "data": {
      "text/plain": [
       "'h'"
      ]
     },
     "execution_count": 4,
     "metadata": {},
     "output_type": "execute_result"
    },
    {
     "data": {
      "text/plain": [
       "'o'"
      ]
     },
     "execution_count": 4,
     "metadata": {},
     "output_type": "execute_result"
    },
    {
     "data": {
      "text/plain": [
       "'n'"
      ]
     },
     "execution_count": 4,
     "metadata": {},
     "output_type": "execute_result"
    },
    {
     "ename": "StopIteration",
     "evalue": "",
     "output_type": "error",
     "traceback": [
      "\u001b[1;31m--------------------------------------------------\u001b[0m",
      "\u001b[1;31mStopIteration\u001b[0m    Traceback (most recent call last)",
      "\u001b[1;32m<ipython-input-4-3afc721def07>\u001b[0m in \u001b[0;36m<module>\u001b[1;34m\u001b[0m\n\u001b[0;32m      9\u001b[0m \u001b[0mnext\u001b[0m\u001b[1;33m(\u001b[0m\u001b[0mi\u001b[0m\u001b[1;33m)\u001b[0m\u001b[1;33m\u001b[0m\u001b[1;33m\u001b[0m\u001b[0m\n\u001b[0;32m     10\u001b[0m \u001b[0mnext\u001b[0m\u001b[1;33m(\u001b[0m\u001b[0mi\u001b[0m\u001b[1;33m)\u001b[0m\u001b[1;33m\u001b[0m\u001b[1;33m\u001b[0m\u001b[0m\n\u001b[1;32m---> 11\u001b[1;33m \u001b[0mnext\u001b[0m\u001b[1;33m(\u001b[0m\u001b[0mi\u001b[0m\u001b[1;33m)\u001b[0m \u001b[1;31m#前面已经到 'n' 了，再调用就会有 StopIteration 错误提示。\u001b[0m\u001b[1;33m\u001b[0m\u001b[1;33m\u001b[0m\u001b[0m\n\u001b[0m",
      "\u001b[1;31mStopIteration\u001b[0m: "
     ]
    }
   ],
   "source": [
    "from IPython.core.interactiveshell import InteractiveShell\n",
    "InteractiveShell.ast_node_interactivity = \"all\"\n",
    "\n",
    "i = iter(\"Python\")\n",
    "next(i)\n",
    "next(i)\n",
    "next(i)\n",
    "next(i)\n",
    "next(i)\n",
    "next(i)\n",
    "next(i) #前面已经到 'n' 了，再调用就会有 StopIteration 错误提示。"
   ]
  },
  {
   "cell_type": "markdown",
   "metadata": {},
   "source": [
    "在 `i` 这个迭代器里面一共有 6 个元素，所以，`next(i)` 在被调用 6 次之后，就不能被再调用了。一旦被再次调用，就会触发 `StopIteration` 错误。\n",
    "\n",
    "那么怎么写一个迭代器呢？\n",
    "\n",
    "迭代器是一个 Object，一个对象。所以，写迭代器的时候写的是 class。比如，我们写一个数数的迭代器，`Counter`："
   ]
  },
  {
   "cell_type": "code",
   "execution_count": 5,
   "metadata": {},
   "outputs": [],
   "source": [
    "from IPython.core.interactiveshell import InteractiveShell\n",
    "InteractiveShell.ast_node_interactivity = 'all'\n",
    "\n",
    "class Counter(object):\n",
    "    \n",
    "    def __init__(self, start, stop):\n",
    "        self.current = start\n",
    "        self.stop = stop\n",
    "    \n",
    "    def __iter__(self):\n",
    "        return self\n",
    "    \n",
    "    def __next__(self):\n",
    "        if self.current > self.stop:\n",
    "            raise StopIteration\n",
    "        else:\n",
    "            c = self.current\n",
    "            self.current += 1\n",
    "            return c"
   ]
  },
  {
   "cell_type": "code",
   "execution_count": 6,
   "metadata": {},
   "outputs": [
    {
     "data": {
      "text/plain": [
       "11"
      ]
     },
     "execution_count": 6,
     "metadata": {},
     "output_type": "execute_result"
    },
    {
     "data": {
      "text/plain": [
       "12"
      ]
     },
     "execution_count": 6,
     "metadata": {},
     "output_type": "execute_result"
    },
    {
     "data": {
      "text/plain": [
       "13"
      ]
     },
     "execution_count": 6,
     "metadata": {},
     "output_type": "execute_result"
    },
    {
     "name": "stdout",
     "output_type": "stream",
     "text": [
      "101, 102, 103, 104, 105, "
     ]
    },
    {
     "data": {
      "text/plain": [
       "type"
      ]
     },
     "execution_count": 6,
     "metadata": {},
     "output_type": "execute_result"
    }
   ],
   "source": [
    "c = Counter(11, 20)\n",
    "next(c)\n",
    "next(c)\n",
    "next(c)\n",
    "for c in Counter(101, 105):\n",
    "    print(c, end=', ')\n",
    "type(Counter)"
   ]
  },
  {
   "cell_type": "markdown",
   "metadata": {},
   "source": [
    "重点在于这两个函数的存在 `__iter__(self)` 和 `__next__(self)`。"
   ]
  },
  {
   "cell_type": "code",
   "execution_count": 13,
   "metadata": {},
   "outputs": [],
   "source": [
    "def __iter__(self):\n",
    "    return self"
   ]
  },
  {
   "cell_type": "markdown",
   "metadata": {},
   "source": [
    "上面这两句是约定俗成的写法，写上这两句，`Counter` 就会被识别为 iterator 类型。\n",
    "\n",
    "而后再有 `__next__()` 的话，它就是一个完整的迭代器了。\n",
    "\n",
    "除了可以用 `for loop` 外，还可以用 `while loop` 去遍历迭代器中所有的元素。"
   ]
  },
  {
   "cell_type": "code",
   "execution_count": 7,
   "metadata": {},
   "outputs": [
    {
     "name": "stdout",
     "output_type": "stream",
     "text": [
      "201\n",
      "202\n",
      "203\n"
     ]
    }
   ],
   "source": [
    "c = Counter(201, 203)\n",
    "\n",
    "while True:\n",
    "    try:\n",
    "        print(next(c), sep=', ')\n",
    "    except StopIteration:\n",
    "        break"
   ]
  },
  {
   "cell_type": "markdown",
   "metadata": {},
   "source": [
    "## 生成器（generator）\n",
    "\n",
    "那么用函数（而不用 class）能不能写一个 Counter 呢？当然能，只是要用到生成器（generator）。"
   ]
  },
  {
   "cell_type": "code",
   "execution_count": 8,
   "metadata": {},
   "outputs": [
    {
     "name": "stdout",
     "output_type": "stream",
     "text": [
      "101\n",
      "102\n",
      "103\n",
      "104\n",
      "105\n"
     ]
    }
   ],
   "source": [
    "def counter(start, stop):\n",
    "    while start <= stop:\n",
    "        yield start\n",
    "        start += 1\n",
    "        \n",
    "for i in counter(101, 105):\n",
    "    print(i)"
   ]
  },
  {
   "cell_type": "code",
   "execution_count": 19,
   "metadata": {},
   "outputs": [
    {
     "name": "stdout",
     "output_type": "stream",
     "text": [
      "<generator object counter at 0x0000027BB3E064F8>\n"
     ]
    }
   ],
   "source": [
    "counter(101, 105)"
   ]
  },
  {
   "cell_type": "markdown",
   "metadata": {},
   "source": [
    "生成器的关键在于 `yield` 语句。它和 `return` 最明显的不同在于：\n",
    "\n",
    "> 在 `yield` 语句之后的语句依然会被执行；而 `return` 语句之后的语句就被忽略了。\n",
    "\n",
    "正因为这个不同，在写生成器的时候，只能用 `yield` 而无法使用 `return`。"
   ]
  },
  {
   "cell_type": "code",
   "execution_count": 9,
   "metadata": {},
   "outputs": [
    {
     "ename": "TypeError",
     "evalue": "'int' object is not iterable",
     "output_type": "error",
     "traceback": [
      "\u001b[1;31m--------------------------------------------------\u001b[0m",
      "\u001b[1;31mTypeError\u001b[0m        Traceback (most recent call last)",
      "\u001b[1;32m<ipython-input-9-a480a79a7859>\u001b[0m in \u001b[0;36m<module>\u001b[1;34m\u001b[0m\n\u001b[0;32m      4\u001b[0m         \u001b[0mstart\u001b[0m \u001b[1;33m+=\u001b[0m \u001b[1;36m1\u001b[0m\u001b[1;33m\u001b[0m\u001b[1;33m\u001b[0m\u001b[0m\n\u001b[0;32m      5\u001b[0m \u001b[1;33m\u001b[0m\u001b[0m\n\u001b[1;32m----> 6\u001b[1;33m \u001b[1;32mfor\u001b[0m \u001b[0mi\u001b[0m \u001b[1;32min\u001b[0m \u001b[0mcounter\u001b[0m\u001b[1;33m(\u001b[0m\u001b[1;36m101\u001b[0m\u001b[1;33m,\u001b[0m \u001b[1;36m105\u001b[0m\u001b[1;33m)\u001b[0m\u001b[1;33m:\u001b[0m\u001b[1;33m\u001b[0m\u001b[1;33m\u001b[0m\u001b[0m\n\u001b[0m\u001b[0;32m      7\u001b[0m     \u001b[0mprint\u001b[0m\u001b[1;33m(\u001b[0m\u001b[0mi\u001b[0m\u001b[1;33m)\u001b[0m\u001b[1;33m\u001b[0m\u001b[1;33m\u001b[0m\u001b[0m\n",
      "\u001b[1;31mTypeError\u001b[0m: 'int' object is not iterable"
     ]
    }
   ],
   "source": [
    "def counter(start, stop):\n",
    "    while start <= stop:\n",
    "        return start\n",
    "        start += 1\n",
    "        \n",
    "for i in counter(101, 105):\n",
    "    print(i)"
   ]
  },
  {
   "cell_type": "code",
   "execution_count": 10,
   "metadata": {},
   "outputs": [
    {
     "data": {
      "text/plain": [
       "101"
      ]
     },
     "execution_count": 10,
     "metadata": {},
     "output_type": "execute_result"
    }
   ],
   "source": [
    "counter(101, 105)"
   ]
  },
  {
   "cell_type": "markdown",
   "metadata": {},
   "source": [
    "生成器函数被 `next()` 调用后，执行到 `yield` 生成一个值返回（然后继续执行 `next()` 外部剩余的语句）；下次再被 `next()` 调用的时候，从上次生成返回值的 `yield` 语句处继续执行……如果感觉费解，就多读几遍——而后再想想，若是生成器中有多个 `yield` 语句会是什么情况？\n",
    "\n",
    "这里有个问题了，什么时候会执行 `next()` 函数。\n",
    "`for` 循环会调用 `next()` 函数。 "
   ]
  },
  {
   "cell_type": "code",
   "execution_count": 11,
   "metadata": {},
   "outputs": [
    {
     "name": "stdout",
     "output_type": "stream",
     "text": [
      "101\n",
      "yield-1\n",
      "103\n",
      "yield-2\n",
      "102\n",
      "yield-1\n",
      "104\n",
      "yield-2\n",
      "103\n",
      "yield-1\n",
      "105\n",
      "yield-2\n",
      "104\n",
      "yield-1\n",
      "106\n",
      "yield-2\n",
      "105\n",
      "yield-1\n",
      "107\n",
      "yield-2\n"
     ]
    }
   ],
   "source": [
    "def counter(start, stop):\n",
    "    while start <= stop:\n",
    "        yield start\n",
    "        print('yield-1')\n",
    "        start += 1\n",
    "        yield (start+1)\n",
    "        print('yield-2')\n",
    "        \n",
    "for i in counter(101, 105):\n",
    "    print(i)"
   ]
  },
  {
   "cell_type": "markdown",
   "metadata": {},
   "source": [
    "还有一种东西，叫做生成器表达式。例子："
   ]
  },
  {
   "cell_type": "code",
   "execution_count": 28,
   "metadata": {},
   "outputs": [
    {
     "name": "stdout",
     "output_type": "stream",
     "text": [
      "<generator object <genexpr> at 0x0000027BB3E06318>\n",
      "0\n",
      "2\n",
      "4\n",
      "6\n",
      "8\n",
      "<generator object <genexpr> at 0x0000027BB3E064F8>\n",
      "1\n",
      "3\n",
      "5\n",
      "7\n",
      "9\n"
     ]
    }
   ],
   "source": [
    "even = (e for e in range(10) if not e % 2)\n",
    "odd = (o for o in range(10) if o % 2)\n",
    "\n",
    "print(even)\n",
    "for e in even:\n",
    "    print(e)\n",
    "    \n",
    "print(odd)\n",
    "for o in odd:\n",
    "    print(o)"
   ]
  },
  {
   "cell_type": "markdown",
   "metadata": {},
   "source": [
    "在 list comprehension 里见过。那里就是通过生成器表达式完成的。\n",
    "\n",
    "**注意**\n",
    "\n",
    "`even = (e for e in range(10) if not e % 2)` 中最外面那层用了圆括号。 even 就是用生成器创造的迭代器；\n",
    "如果用方括号，就是用生成器创造了列表；\n",
    "用花括号，就是生成的集合。"
   ]
  },
  {
   "cell_type": "code",
   "execution_count": 29,
   "metadata": {},
   "outputs": [],
   "source": [
    "even_ite = (e for e in range(10) if not e % 2)\n",
    "\n",
    "even_iist = [e for e in range(10) if not e % 2]\n",
    "\n",
    "even_set = {e for e in range(10) if not e % 2}"
   ]
  },
  {
   "cell_type": "code",
   "execution_count": 30,
   "metadata": {},
   "outputs": [
    {
     "data": {
      "text/plain": [
       "<generator object <genexpr> at 0x0000027BB3E060C0>"
      ]
     },
     "execution_count": 30,
     "metadata": {},
     "output_type": "execute_result"
    }
   ],
   "source": [
    "even_ite"
   ]
  },
  {
   "cell_type": "code",
   "execution_count": 31,
   "metadata": {},
   "outputs": [
    {
     "data": {
      "text/plain": [
       "[0, 2, 4, 6, 8]"
      ]
     },
     "execution_count": 31,
     "metadata": {},
     "output_type": "execute_result"
    }
   ],
   "source": [
    "even_iist"
   ]
  },
  {
   "cell_type": "code",
   "execution_count": 33,
   "metadata": {},
   "outputs": [
    {
     "data": {
      "text/plain": [
       "{0, 2, 4, 6, 8}"
      ]
     },
     "execution_count": 33,
     "metadata": {},
     "output_type": "execute_result"
    },
    {
     "data": {
      "text/plain": [
       "set"
      ]
     },
     "execution_count": 33,
     "metadata": {},
     "output_type": "execute_result"
    }
   ],
   "source": [
    "even_set\n",
    "type(even_set)"
   ]
  },
  {
   "cell_type": "markdown",
   "metadata": {},
   "source": [
    "**生成器表达式必须在括号内使用**（参见官方 [HOWTOS](https://docs.python.org/3/howto/functional.html#generator-expressions-and-list-comprehensions)），包括函数的参数括号，比如：\n",
    "\n",
    "`obj_total = sum(obj.count for obj in list_all_objects())`\n",
    "\n",
    "这句话的意思是，函数参数的括号可以作为生成器表达式的括号来使用。"
   ]
  },
  {
   "cell_type": "markdown",
   "metadata": {},
   "source": [
    "```python\n",
    "( expression for expr in sequence1\n",
    "             if condition1\n",
    "             for expr2 in sequence2\n",
    "             if condition2\n",
    "             for expr3 in sequence3 ...\n",
    "             if condition3\n",
    "             for exprN in sequenceN\n",
    "             if conditionN )\n",
    "```\n",
    "\n",
    "For each element in `sequence1`, `sequence2` is looped over from the beginning. `sequence3` is then looped over for each resulting pair of elements from `sequence1` and `sequence2`."
   ]
  },
  {
   "cell_type": "code",
   "execution_count": 34,
   "metadata": {},
   "outputs": [
    {
     "name": "stdout",
     "output_type": "stream",
     "text": [
      "20\n"
     ]
    }
   ],
   "source": [
    "sum_of_even = sum(e for e in range(10) if not e % 2)\n",
    "print(sum_of_even)"
   ]
  },
  {
   "cell_type": "markdown",
   "metadata": {},
   "source": [
    "函数内部也可以包含其他函数，以下就是一个函数中包含着其他函数的结构示例：\n",
    "\n",
    "```python\n",
    "\n",
    "def a_func():\n",
    "    def b_func():\n",
    "        pass\n",
    "    def c_func():\n",
    "        pass\n",
    "        def d_func():\n",
    "            pass\n",
    "        b_func()\n",
    "    return True\n",
    "```"
   ]
  },
  {
   "cell_type": "markdown",
   "metadata": {},
   "source": [
    "想象一下，如果，**让一个函数返回的是另外一个函数**呢。我们一步一步来："
   ]
  },
  {
   "cell_type": "code",
   "execution_count": 12,
   "metadata": {},
   "outputs": [
    {
     "name": "stdout",
     "output_type": "stream",
     "text": [
      "hi, I am a_func!\n"
     ]
    }
   ],
   "source": [
    "def a_func():\n",
    "    def b_func():\n",
    "        print('hi, I am b_func!')\n",
    "    print('hi, I am a_func!')\n",
    "    \n",
    "a_func()"
   ]
  },
  {
   "cell_type": "code",
   "execution_count": 13,
   "metadata": {},
   "outputs": [
    {
     "name": "stdout",
     "output_type": "stream",
     "text": [
      "hi, I am a_func!\n",
      "hi, I am b_func!\n"
     ]
    }
   ],
   "source": [
    "def a_func():\n",
    "    def b_func():\n",
    "        print('hi, I am b_func!')\n",
    "    print('hi, I am a_func!')\n",
    "    b_func()\n",
    "    \n",
    "a_func()"
   ]
  },
  {
   "cell_type": "markdown",
   "metadata": {},
   "source": [
    "我们还可以这样写——让 `a_func()` 将它内部的 `b_func()` 作为它的返回值："
   ]
  },
  {
   "cell_type": "code",
   "execution_count": 37,
   "metadata": {},
   "outputs": [
    {
     "name": "stdout",
     "output_type": "stream",
     "text": [
      "hi, I am a_func!\n",
      "hi, I am b_func!\n"
     ]
    }
   ],
   "source": [
    "def a_func():\n",
    "    def b_func():\n",
    "        print('hi, I am b_func!')\n",
    "    print('hi, I am a_func!')\n",
    "    return(b_func())\n",
    "    \n",
    "a_func()"
   ]
  },
  {
   "cell_type": "markdown",
   "metadata": {},
   "source": [
    "如果在 `return` 语句之后只写函数名，而不带后面的括号："
   ]
  },
  {
   "cell_type": "code",
   "execution_count": 38,
   "metadata": {},
   "outputs": [
    {
     "name": "stdout",
     "output_type": "stream",
     "text": [
      "hi, I am a_func!\n"
     ]
    },
    {
     "data": {
      "text/plain": [
       "<function __main__.a_func.<locals>.b_func()>"
      ]
     },
     "execution_count": 38,
     "metadata": {},
     "output_type": "execute_result"
    }
   ],
   "source": [
    "def a_func():\n",
    "    def b_func():\n",
    "        print('hi, I am b_func!')\n",
    "    print('hi, I am a_func!')\n",
    "    return(b_func)\n",
    "    \n",
    "a_func()"
   ]
  },
  {
   "cell_type": "markdown",
   "metadata": {},
   "source": [
    "这样返回的就不是 `b_func()` 的执行结果，而是 `b_func` 本身这个对象。"
   ]
  },
  {
   "cell_type": "markdown",
   "metadata": {},
   "source": [
    "## 装饰器（decorator）\n",
    "\n",
    "### 函数也是对象\n",
    "\n",
    "这是关键：\n",
    "\n",
    "> 函数本身也是对象（即，python 定义的某个 class 的一个 instance）。\n",
    "\n",
    "于是，函数本身也可以与其他的数据类型一样，**作为其他函数的参数或者返回值**。"
   ]
  },
  {
   "cell_type": "markdown",
   "metadata": {},
   "source": [
    "分步走——注意，在以下代码中，`a_decorator` 返回的一个函数的调用 `wrapper()` 而不是 `wrapper` 这个函数本身："
   ]
  },
  {
   "cell_type": "code",
   "execution_count": 5,
   "metadata": {},
   "outputs": [],
   "source": [
    "from IPython.core.interactiveshell import InteractiveShell\n",
    "InteractiveShell.ast_node_interactivity = 'all'"
   ]
  },
  {
   "cell_type": "code",
   "execution_count": 1,
   "metadata": {},
   "outputs": [],
   "source": [
    "def a_decorator(func):\n",
    "    def wrapper():\n",
    "        print('We can do sth. before a func is called...')\n",
    "        func()\n",
    "        print('... and we can do sth. after it is called...')\n",
    "    return wrapper()"
   ]
  },
  {
   "cell_type": "code",
   "execution_count": 2,
   "metadata": {},
   "outputs": [],
   "source": [
    "def a_func():\n",
    "    print(\"Hi, I'm a_func!\")"
   ]
  },
  {
   "cell_type": "code",
   "execution_count": 3,
   "metadata": {},
   "outputs": [
    {
     "name": "stdout",
     "output_type": "stream",
     "text": [
      "Hi, I'm a_func!\n",
      "We can do sth. before a func is called...\n",
      "Hi, I'm a_func!\n",
      "... and we can do sth. after it is called...\n"
     ]
    }
   ],
   "source": [
    "def a_decorator(func):\n",
    "    def wrapper():\n",
    "        print('We can do sth. before a func is called...')\n",
    "        func()\n",
    "        print('... and we can do sth. after it is called...')\n",
    "    return wrapper()\n",
    "\n",
    "def a_func():\n",
    "    print(\"Hi, I'm a_func!\")\n",
    "\n",
    "a_func()\n",
    "a_decorator(a_func)"
   ]
  },
  {
   "cell_type": "markdown",
   "metadata": {},
   "source": [
    "如果返回的是函数本身，`wrapper`，则输出结果跟你想的并不一样："
   ]
  },
  {
   "cell_type": "code",
   "execution_count": 2,
   "metadata": {},
   "outputs": [
    {
     "name": "stdout",
     "output_type": "stream",
     "text": [
      "Hi, I'm a_func!\n"
     ]
    },
    {
     "data": {
      "text/plain": [
       "<function __main__.a_decorator.<locals>.wrapper()>"
      ]
     },
     "execution_count": 2,
     "metadata": {},
     "output_type": "execute_result"
    }
   ],
   "source": [
    "def a_decorator(func):\n",
    "    def wrapper():\n",
    "        print('We can do sth. before a func is called...')\n",
    "        func()\n",
    "        print('... and we can do sth. after it is called...')\n",
    "    return wrapper  # \n",
    "\n",
    "def a_func():\n",
    "    print(\"Hi, I'm a_func!\")\n",
    "    \n",
    "a_func()\n",
    "a_decorator(a_func)"
   ]
  },
  {
   "cell_type": "markdown",
   "metadata": {},
   "source": [
    "### 装饰器操作符\n",
    "\n",
    "python 提供了一个针对函数的操作符 @，它的作用是……很难一下子说清楚，先看看下面的代码："
   ]
  },
  {
   "cell_type": "code",
   "execution_count": 7,
   "metadata": {},
   "outputs": [
    {
     "name": "stdout",
     "output_type": "stream",
     "text": [
      "Hi, I'm a_func!\n"
     ]
    },
    {
     "data": {
      "text/plain": [
       "<function __main__.a_decorator.<locals>.wrapper()>"
      ]
     },
     "execution_count": 7,
     "metadata": {},
     "output_type": "execute_result"
    }
   ],
   "source": [
    "a_func()\n",
    "a_decorator(a_func)"
   ]
  },
  {
   "cell_type": "markdown",
   "metadata": {},
   "source": [
    "关于返回函数的调用和函数本身的区别"
   ]
  },
  {
   "cell_type": "markdown",
   "metadata": {},
   "source": [
    "### 装饰器操作符\n",
    "\n",
    "`@`"
   ]
  },
  {
   "cell_type": "code",
   "execution_count": 8,
   "metadata": {},
   "outputs": [],
   "source": [
    "def a_decorator(func):\n",
    "    def wrapper():\n",
    "        print('We can do sth. before calling a_func...')\n",
    "        func()\n",
    "        print('... and we can do sth. after it was called...')\n",
    "    return wrapper\n",
    "\n",
    "@a_decorator\n",
    "def a_func():\n",
    "    print(\"Hi, I'm a_func!\")"
   ]
  },
  {
   "cell_type": "code",
   "execution_count": 9,
   "metadata": {},
   "outputs": [
    {
     "name": "stdout",
     "output_type": "stream",
     "text": [
      "We can do sth. before calling a_func...\n",
      "Hi, I'm a_func!\n",
      "... and we can do sth. after it was called...\n"
     ]
    }
   ],
   "source": [
    "a_func()"
   ]
  },
  {
   "cell_type": "markdown",
   "metadata": {},
   "source": [
    "### 装饰器的用途\n",
    "\n",
    "最常用的场景是改变其他函数的行为"
   ]
  },
  {
   "cell_type": "code",
   "execution_count": 10,
   "metadata": {},
   "outputs": [
    {
     "name": "stdout",
     "output_type": "stream",
     "text": [
      "The quick brown fox jumps over the lazy dog.\n"
     ]
    }
   ],
   "source": [
    "def an_output():\n",
    "    return 'The quick brown fox jumps over the lazy dog.'\n",
    "print(an_output())"
   ]
  },
  {
   "cell_type": "code",
   "execution_count": 11,
   "metadata": {},
   "outputs": [
    {
     "name": "stdout",
     "output_type": "stream",
     "text": [
      "THE QUICK BROWN FOX JUMPS OVER THE LAZY DOG.\n"
     ]
    }
   ],
   "source": [
    "def uppercase(func):\n",
    "    def wrapper():\n",
    "        original_result = func()\n",
    "        modified_restult = original_result.upper()\n",
    "        return modified_restult\n",
    "    return wrapper\n",
    "\n",
    "@uppercase\n",
    "def an_output():\n",
    "    return 'The quick brown fox jumps over the lazy dog.'\n",
    "print(an_output())"
   ]
  },
  {
   "cell_type": "markdown",
   "metadata": {},
   "source": [
    "给一个函数加上一个以上的装饰器"
   ]
  },
  {
   "cell_type": "code",
   "execution_count": 12,
   "metadata": {},
   "outputs": [],
   "source": [
    "def uppercase(func):\n",
    "    def wrapper():\n",
    "        original_result = func()\n",
    "        modified_restult = original_result.upper()\n",
    "        return modified_restult\n",
    "    return wrapper\n",
    "\n",
    "def strong(func):\n",
    "    def wrapper():\n",
    "        original_result = func()\n",
    "        modified_restult = '<strong>'+original_result+'</strong>'\n",
    "        return modified_restult\n",
    "    return wrapper"
   ]
  },
  {
   "cell_type": "code",
   "execution_count": 13,
   "metadata": {},
   "outputs": [
    {
     "name": "stdout",
     "output_type": "stream",
     "text": [
      "<strong>THE QUICK BROWN FOX JUMPS OVER THE LAZY DOG.</strong>\n"
     ]
    }
   ],
   "source": [
    "@strong\n",
    "@uppercase\n",
    "def an_output():\n",
    "    return 'The quick brown fox jumps over the lazy dog.'\n",
    "print(an_output())"
   ]
  },
  {
   "cell_type": "code",
   "execution_count": 15,
   "metadata": {},
   "outputs": [
    {
     "name": "stdout",
     "output_type": "stream",
     "text": [
      "We can do sth. before calling a_func...\n",
      "Hi, I'm a_func!\n",
      "... and we can do sth. after it was called...\n"
     ]
    }
   ],
   "source": [
    "@uppercase\n",
    "@strong\n",
    "def an_output():\n",
    "    return 'The quick brown fox jumps over the lazy dog.'\n",
    "print(an_output())"
=======
    "def a_decorator(func):\n",
    "    def wrapper():\n",
    "        print('We can do sth. before calling a_func...')\n",
    "        func()\n",
    "        print('... and we can do sth. after it was called...')\n",
    "    return wrapper\n",
    "\n",
    "@a_decorator\n",
    "def a_func():\n",
    "    print(\"Hi, I'm a_func!\")\n",
    "    \n",
    "a_func()"
   ]
  },
  {
   "cell_type": "markdown",
   "metadata": {},
   "source": [
    "装饰器的执行顺序是 **由里到外**"
    "**注意**：以上代码中，`a_decorator(func)`的返回值是 `wrapper` 这个函数本身。\n",
    "\n",
    "在我们定义 `a_func()` 的时候，在它之前，加上了一句 `@a_decorator`；这么做的结果是：\n",
    "\n",
    "> 每次 `a_func()` 在被调用的时候，因为它之前有一句 `@a_decorator`，所以它会先被当作参数传递到 `a_decorator(func)` 这个函数中……而后，真正的执行，是在 `a_decorator()` 里被完成的。\n",
    "\n",
    "——被 `@` 调用的函数，叫做**装饰器**（Decorator），比如，以上代码中的 `a_decorator(func)`。\n",
    "\n",
    "现在可以很简单直接地说清楚装饰器的作用了：\n",
    "\n",
    "```python\n",
    "\n",
    "@a_decorator\n",
    "def a_func():\n",
    "```\n",
    "\n",
    "等价于：\n",
    "\n",
    "```python\n",
    "\n",
    "def a_func():\n",
    "    ...\n",
    "a_func = a_decorator(a_func)\n",
    "```\n",
    "\n",
    "就是用 `a_decorator` 的调用结果替换掉原来的函数。`a_decorator` 返回值是什么，以后调用 `a_func` 时就是在调用这个返回值，而 `a_decorator` 本身此时已经执行完毕了。"
   ]
  },
  {
   "cell_type": "markdown",
   "metadata": {},
   "source": [
    "### 装饰带有参数的函数"
   ]
  },
  {
   "cell_type": "code",
   "execution_count": 16,
   "metadata": {},
   "outputs": [
    {
     "name": "stdout",
     "output_type": "stream",
     "text": [
      "Hello! Jack.\n"
     ]
    }
   ],
   "source": [
    "def say_hi(greeting, name=None):\n",
    "    return greeting + '! ' + name + '.'\n",
    "\n",
    "print(say_hi('Hello', 'Jack'))"
    "### 装饰器的用途\n",
    "\n",
    "Decorator 最常用的场景是什么呢？——**改变其他函数的行为**。"
   ]
  },
  {
   "cell_type": "code",
   "execution_count": 17,
   "metadata": {},
   "outputs": [],
   "source": [
    "def trace(func):\n",
    "    def wrapper(*args, **kwargs):\n",
    "        print(f\"Trace: You've called a function: {func.__name__}(),\",\n",
    "              f\"with args: {args}; kwargs: {kwargs}\")\n",
    "\n",
    "        original_result = func(*args, **kwargs)\n",
    "        print(f\"Trace: {func.__name__}{args} returned: {original_result}\")\n",
    "        return original_result\n",
    "    return wrapper"
   ]
  },
  {
   "cell_type": "code",
   "execution_count": 5,
   "metadata": {},
   "outputs": [
    {
     "name": "stdout",
     "output_type": "stream",
     "text": [
      "THE QUICK BROWN FOX JUMPS OVER THE LAZY DOG.\n"
     ]
    }
   ],
   "source": [
    "def uppercase(func):\n",
    "    def wrapper():\n",
    "        original_result = func()\n",
    "        modified_restult = original_result.upper()\n",
    "        return modified_restult\n",
    "    return wrapper\n",
    "\n",
    "@uppercase\n",
    "def an_output():\n",
    "    return 'The quick brown fox jumps over the lazy dog.'\n",
    "print(an_output())"
   ]
  },
  {
   "cell_type": "markdown",
   "metadata": {},
   "source": [
    "还可以给一个函数加上一个以上的装饰器："
   ]
  },
  {
   "cell_type": "code",
   "execution_count": 21,
   "metadata": {},
   "outputs": [
    {
     "name": "stdout",
     "output_type": "stream",
     "text": [
      "Trace: You've called a function: say_hi(), with args: ('Hello',); kwargs: {'name': 'Jack'}\n",
      "Trace: say_hi('Hello',) returned: Hello! Jack.\n",
      "Hello! Jack.\n"
     ]
    }
   ],
   "source": [
    "print(say_hi('Hello', name = 'Jack'))"
   ]
  },
  {
   "cell_type": "code",
   "execution_count": 22,
   "metadata": {},
   "outputs": [
    {
     "name": "stdout",
     "output_type": "stream",
     "text": [
      "Trace: You've called a function: say_hi(), with args: ('Hello',); kwargs: {'name': 'Jack'}\n",
      "Trace: say_hi('Hello',) returned: Hello! Jack.\n"
     ]
    },
    {
     "data": {
      "text/plain": [
       "'Hello! Jack.'"
      ]
     },
     "execution_count": 22,
     "metadata": {},
     "output_type": "execute_result"
    }
   ],
   "source": [
    "say_hi('Hello', name = 'Jack')"
   ]
  },
  {
   "cell_type": "markdown",
   "metadata": {},
   "source": [
    "### 关于装饰器的三个链接\n",
    "\n",
    "https://wiki.python.org/moin/PythonDecoratorLibrary\n",
    "\n",
    "https://wiki.python.org/moin/PythonDecorators"
   ]
  },
  {
   "cell_type": "markdown",
   "metadata": {},
   "source": [
    "#### examp 1. Creating well-behaved decorator"
   ]
  },
  {
   "cell_type": "code",
   "execution_count": 23,
   "metadata": {},
   "outputs": [],
   "source": [
    "def simple_decorator(decorator):\n",
    "    '''This decorator can be used to turn simple functions\n",
    "    into well-behaved decorators, so long as the decorators\n",
    "    are fairly simple. If a decorator expects a function and\n",
    "    returns a function (no descriptors), and if it doesn't\n",
    "    modify function attributes or docstring, then it is\n",
    "    eligible to use this. Simply apply @simple_decorator to\n",
    "    your decorator and it will automatically preserve the\n",
    "    docstring and function attributes of functions to which\n",
    "    it is applied.'''\n",
    "    def new_decorator(f):\n",
    "        g = decorator(f)\n",
    "        g.__name__ = f.__name__\n",
    "        g.__doc__ = f.__doc__\n",
    "        g.__dict__.update(f.__dict__)\n",
    "        return g\n",
    "    # Now a few lines needed to make simple_decorator itself\n",
    "    # be a well-behaved decorator.\n",
    "    new_decorator.__name__ = decorator.__name__\n",
    "    new_decorator.__doc__ = decorator.__doc__\n",
    "    new_decorator.__dict__.update(decorator.__dict__)\n",
    "    return new_decorator"
   ]
  },
  {
   "cell_type": "code",
   "execution_count": 25,
   "metadata": {},
   "outputs": [],
   "source": [
    "#\n",
    "# Sample Use:\n",
    "#\n",
    "@simple_decorator\n",
    "def my_simple_logging_decorator(func):\n",
    "    def you_will_never_see_this_name(*args, **kwargs):\n",
    "        print ('calling {}'.format(func.__name__))\n",
    "        return func(*args, **kwargs)\n",
    "    return you_will_never_see_this_name\n",
    "\n",
    "@my_simple_logging_decorator\n",
    "def double(x):\n",
    "    'Doubles a number.'\n",
    "    return 2 * x"
   ]
  },
  {
   "cell_type": "code",
   "execution_count": 9,
   "metadata": {},
   "outputs": [
    {
     "name": "stdout",
     "output_type": "stream",
     "text": [
      "Hello! Jack.\n"
     ]
    }
   ],
   "source": [
    "def say_hi(greeting, name=None):\n",
    "    return greeting + '! ' + name + '.'\n",
    "\n",
    "print(say_hi('Hello', 'Jack'))"
   ]
  },
  {
   "cell_type": "markdown",
   "metadata": {},
   "source": [
    "如果我们想在装饰器里对函数名、参数，都做些事情——比如，我们写个 `@trace` 用来告诉用户调用一个函数的时候都发生了什么……"
   ]
  },
  {
   "cell_type": "code",
   "execution_count": 14,
   "metadata": {},
   "outputs": [
    {
     "name": "stdout",
     "output_type": "stream",
     "text": [
      "Trace: You've called a function: say_hi(), with args: ('Hello',); kwargs: {'name': 'Jack'}\n",
      "Trace: say_hi('Hello',) returned: Hello! Jack.\n",
      "Hello! Jack.\n"
     ]
    }
   ],
   "source": [
    "def trace(func):\n",
    "    def wrapper(*args, **kwargs):\n",
    "        print(f\"Trace: You've called a function: {func.__name__}(),\",\n",
    "              f\"with args: {args}; kwargs: {kwargs}\")\n",
    "    \n",
    "        original_result = func(*args, **kwargs)\n",
    "        print(f\"Trace: {func.__name__}{args} returned: {original_result}\")\n",
    "        return original_result\n",
    "    return wrapper\n",
    "\n",
    "@trace\n",
    "def say_hi(greeting, name=None):\n",
    "    return greeting + '! ' + name + '.'\n",
    "\n",
    "print(say_hi('Hello', name='Jack'))"
   ]
  },
  {
   "cell_type": "markdown",
   "metadata": {},
   "source": [
    "有了以上的基础知识之后，再去阅读 python decorator library 的 wiki 页面就会轻松许多：\n",
    "\n",
    "> https://wiki.python.org/moin/PythonDecoratorLibrary"
   ]
  },
  {
   "cell_type": "markdown",
   "metadata": {},
   "source": [
    "### 学会装饰起究竟有多重要？\n",
    "\n",
    "装饰器一定要学会——因为很多人就是不会。\n",
    "\n",
    "《5 reasons you need to learn to write Python decorators》中，第五条竟然是：**Boosting your career！**\n",
    "\n",
    "> Writing decorators isn't easy at first. It's not rocket science, but takes enough effort to learn, and to grok the nuances involved, that many developers will never go to the trouble to master it. And that works to your advantage. When you become the person on your team who learns to write decorators well, and write decorators that solve real problems, other developers will use them. Because once the hard work of writing them is done, decorators are so easy to use. This can massively magnify the positive impact of the code you write. And it just might make you a hero, too.\n",
    ">\n",
    "> As I've traveled far and wide, training hundreds of working software engineers to use Python more effectively, teams have consistently reported writing decorators to be one of the most valuable and important tools they've learned in my advanced Python programming workshops."
   ]
  },
  {
   "cell_type": "markdown",
   "metadata": {},
   "source": [
    "为什么有那么多人就是学不会呢？——只不过是因为之前遇到 `*args`，`**kwargs` 的时候，没有再挣扎一下，没有再多看一遍。"
   ]
  },
  {
   "cell_type": "code",
   "execution_count": 27,
   "metadata": {},
   "outputs": [
    {
     "data": {
      "text/plain": [
       "'double'"
      ]
     },
     "execution_count": 27,
     "metadata": {},
     "output_type": "execute_result"
    }
   ],
   "source": [
    "double.__name__"
   ]
  },
  {
   "cell_type": "code",
   "execution_count": 28,
   "metadata": {},
   "outputs": [],
   "source": [
    "assert double.__doc__ == 'Doubles a number.'"
   ]
  },
  {
   "cell_type": "code",
   "execution_count": 29,
   "metadata": {},
   "outputs": [
    {
     "name": "stdout",
     "output_type": "stream",
     "text": [
      "calling double\n",
      "310\n"
     ]
    }
   ],
   "source": [
    "print (double(155))"
   ]
  }
 ],
 "metadata": {
  "kernelspec": {
   "display_name": "Python 3",
   "language": "python",
   "name": "python3"
  },
  "language_info": {
   "codemirror_mode": {
    "name": "ipython",
    "version": 3
   },
   "file_extension": ".py",
   "mimetype": "text/x-python",
   "name": "python",
   "nbconvert_exporter": "python",
   "pygments_lexer": "ipython3",
   "version": "3.7.3"
  },
  "latex_envs": {
   "LaTeX_envs_menu_present": true,
   "autoclose": false,
   "autocomplete": true,
   "bibliofile": "biblio.bib",
   "cite_by": "apalike",
   "current_citInitial": 1,
   "eqLabelWithNumbers": true,
   "eqNumInitial": 1,
   "hotkeys": {
    "equation": "Ctrl-E",
    "itemize": "Ctrl-I"
   },
   "labels_anchors": false,
   "latex_user_defs": false,
   "report_style_numbering": false,
   "user_envs_cfg": false
  },
  "toc": {
   "base_numbering": 1,
   "nav_menu": {},
   "number_sections": true,
   "sideBar": true,
   "skip_h1_title": false,
   "title_cell": "Table of Contents",
   "title_sidebar": "Contents",
   "toc_cell": false,
   "toc_position": {},
   "toc_section_display": true,
   "toc_window_display": false
  }
 },
 "nbformat": 4,
 "nbformat_minor": 2
}
