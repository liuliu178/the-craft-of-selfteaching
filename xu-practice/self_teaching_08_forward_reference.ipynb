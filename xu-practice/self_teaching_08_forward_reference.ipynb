{
 "cells": [
  {
   "cell_type": "markdown",
   "metadata": {},
   "source": [
    "# 如何应对 过早引用"
   ]
  },
  {
   "cell_type": "markdown",
   "metadata": {},
   "source": [
    "## 不懂也要硬着头皮读完\n",
    "\n",
    "> 读不懂也要读完，然后**重复读很多遍**。"
   ]
  },
  {
   "cell_type": "markdown",
   "metadata": {},
   "source": [
    "Quentin Tarantino 导演的 Pulp Fiction (1994)、David Fincher 导演的 Fight Club (1999)、Christopher Nolan 导演的 Inception (2010)、或者 Martin Scorsese 导演的 Shutter Island (2010)……\n",
    "\n",
    "囫囵吞枣从一开始就是贬义词。但在当前这个特殊的情况下（充满前置引用的情况），它是最好的策略。\n",
    "\n",
    "那些只习惯于一上来就仔细认真的人，在这里很吃亏，因为他们越是认真，越是容易被各种过早引用搞得灰心丧气、心态炸裂；相应地，他们的挫败感积累得太快了；到最后弄不好最先放弃的是他们——失败的原因竟然是因为**太仔细、太认真了**……\n",
    "\n",
    "想起了刚开始学习高等数学的时候，很多不懂的东西，硬要坚持着弄懂，结果花费了太多时间在琐碎的细节上，却丢掉了整个高等数学。还好没有最终放弃，死缠烂打坚持下来了。"
   ]
  },
  {
   "cell_type": "markdown",
   "metadata": {},
   "source": [
    "## 磨炼“只字不差”的能力\n",
    "\n",
    "通过阅读习得新的技能 vs 通过阅读获得心灵愉悦。\n",
    "\n",
    "只字不差地阅读。\n",
    "\n",
    "**只字不差地阅读**是所有自学能力强的人都会且都经常使用的技能。尤其是当你在阅读一个重要概念的定义时，你就是这么干的：定义中的每个字都是有用的，每个词的内涵外延都是需要进行推敲的，它是什么，它不是什么，它的内涵外延都是什么，在使用的时候需要注意什么，与你以前的经验有什么相似与不同，有哪些容易混淆的地方……\n",
    "\n",
    "李笑来有个演讲中提到了**概念混淆**的问题，就是基于以往经验而对未知事物的不恰当猜测。\n",
    "\n",
    "比特币小白书中也提到过。"
   ]
  },
  {
   "cell_type": "markdown",
   "metadata": {},
   "source": [
    "做不到只字不差地阅读，就会错过很多细节，虽然不会削减宏观上、整体上的把握（不一定的，有时候一点点细节的不同，甚至会导致对学习内容的整个领悟的不同，如果是错过一些关键细节的话）。"
   ]
  },
  {
   "cell_type": "markdown",
   "metadata": {},
   "source": [
    "python 语言中的 `for ... else ...` 语句就是**错过细节**最有代表性的例子。"
   ]
  },
  {
   "cell_type": "code",
   "execution_count": 4,
   "metadata": {},
   "outputs": [
    {
     "name": "stdout",
     "output_type": "stream",
     "text": [
      "2 is a prime number\n",
      "3 is a prime number\n",
      "4 equals 2 * 2\n",
      "5 is a prime number\n",
      "6 equals 2 * 3\n",
      "7 is a prime number\n",
      "8 equals 2 * 4\n",
      "9 equals 3 * 3\n"
     ]
    }
   ],
   "source": [
    "for n in range(2, 10):\n",
    "    for x in range(2, n):\n",
    "        if n % x == 0:\n",
    "            print(n, 'equals', x, '*', n//x)\n",
    "            break\n",
    "    else:\n",
    "        # loop fell through without finding a factor\n",
    "        print(n, 'is a prime number')"
   ]
  },
  {
   "cell_type": "code",
   "execution_count": 5,
   "metadata": {},
   "outputs": [
    {
     "name": "stdout",
     "output_type": "stream",
     "text": [
      "3 is a prime number\n",
      "4 equals 2 * 2\n",
      "5 is a prime number\n",
      "5 is a prime number\n",
      "5 is a prime number\n",
      "6 equals 2 * 3\n",
      "7 is a prime number\n",
      "7 is a prime number\n",
      "7 is a prime number\n",
      "7 is a prime number\n",
      "7 is a prime number\n",
      "8 equals 2 * 4\n",
      "9 is a prime number\n",
      "9 equals 3 * 3\n"
     ]
    }
   ],
   "source": [
    "#  对比下这段代码\n",
    "\n",
    "for n in range(2, 10):\n",
    "    for x in range(2, n):\n",
    "        if n % x == 0:\n",
    "            print(n, 'equals', x, '*', n//x)\n",
    "            break\n",
    "        else:\n",
    "        # loop fell through without finding a factor\n",
    "            print(n, 'is a prime number')"
   ]
  },
  {
   "cell_type": "markdown",
   "metadata": {},
   "source": [
    "或者干脆没读过；\n",
    "或者度过却没注意到这个细节……\n",
    "\n",
    "——后者更为可怕，就像花了同样的钱却看到了另外一个残缺版本的电影似的……"
   ]
  },
  {
   "cell_type": "markdown",
   "metadata": {},
   "source": [
    "为什么说，只字不差地阅读是一项专门的技能呢？自己试过就知道了。明明已经刻意让自己慢下来，也刻意揣摩每个词的含义，甚至为了理解正确，做了很多笔记……\n",
    "可是当你再一次**只字不差**地阅读的时候，你经常会惊讶地发现，自己竟然有若干处一楼的地方！\n",
    "这就是一种需要多次联系、长期训练才能真正掌握的技能。绝对不像听起来那么简单。\n",
    "\n",
    "所以，**到了第二遍、第三遍就必须施展“只字不差地阅读”这项技能了**，只此一点，你就已然与众不同了。\n",
    "\n",
    "---\n",
    "自己的一些体会\n",
    "\n",
    "《岁月神偷》这部电影，看过 6 次了，每次都有新的发现，新的细节。或许，就算再怎么**只字不差**地阅读，也不可能一次掌握所有。\n",
    "\n",
    "DNA 双螺旋结构的发现者，一个著名的科学家，也是在教课教了很久之后才意识到，教学用的脑模型比实际的人脑大得多。。。虽然不算是一个很有科学价值的发现，但确实是一个新的发现，一个以前没有意识到的地方。\n",
    "\n",
    "---"
   ]
  },
  {
   "cell_type": "markdown",
   "metadata": {},
   "source": [
    "## 好的记忆力很重要\n",
    "\n",
    "记忆里可以通过刻意练习得到加强，也可以通过一百种方法来弥补——比如，烂笔头——整理归纳总结——**反复做整理归纳总结**。"
   ]
  },
  {
   "cell_type": "markdown",
   "metadata": {},
   "source": [
    "## 尽早开始整理归纳总结\n",
    "\n",
    "确实是个相当麻烦的过程。但是只有自己动手，才知道哪里会出现问题，才能够改正，才可能下一次不犯相同的错误。\n",
    "\n",
    "## 先关注使用再研究原理\n",
    "\n",
    "> 不管怎么样，先用起来，反正，研究透原理，不可能马上做到，需要时间满满。\n",
    "\n",
    "用错了也没关系，改正就好；用得不好也没关系，用多了就好了。\n",
    "只要开始用起来，理解速度就会加快——实践出真知，不是空话。\n",
    "\n",
    "有时候，就是因为没有犯过错，所以不可能有机会改正。于是，就从未对过。\n",
    "\n",
    "## 尊重前人的总结和建议\n",
    "\n",
    "[pep](https://www.python.org/dev/peps/pep-0008/)\n"
   ]
  },
  {
   "cell_type": "code",
   "execution_count": null,
   "metadata": {},
   "outputs": [],
   "source": []
  }
 ],
 "metadata": {
  "kernelspec": {
   "display_name": "Python [conda env:root] *",
   "language": "python",
   "name": "conda-root-py"
  },
  "language_info": {
   "codemirror_mode": {
    "name": "ipython",
    "version": 3
   },
   "file_extension": ".py",
   "mimetype": "text/x-python",
   "name": "python",
   "nbconvert_exporter": "python",
   "pygments_lexer": "ipython3",
   "version": "3.7.3"
  }
 },
 "nbformat": 4,
 "nbformat_minor": 2
}
