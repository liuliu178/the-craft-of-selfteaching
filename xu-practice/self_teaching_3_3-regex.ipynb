{
 "cells": [
  {
   "cell_type": "markdown",
   "metadata": {},
   "source": [
    "# 正则表达式 regex"
   ]
  },
  {
   "cell_type": "markdown",
   "metadata": {},
   "source": [
    "正则表达式本质上是个独立的语音，短小却格外强悍。\n",
    "regular expression，pattern，match\n",
    "\n",
    "unix sed grep\n",
    "\n",
    "> 我们可以用书写特定的规则，用来在文本中捕获与规则一致的字符串，而后对其进行操作……"
   ]
  },
  {
   "cell_type": "code",
   "execution_count": null,
   "metadata": {},
   "outputs": [],
   "source": [
    "import re\n",
    "strs = 'The quick brown fox jumps over the lazy dog.'\n",
    "pttn = re.compile(r'\\wo\\w')\n",
    "re.findall(pttn, strs)"
   ]
  },
  {
   "cell_type": "markdown",
   "metadata": {},
   "source": [
    "> **规则表达式**（regular expression，通常缩写为 Reges）是强大且不可或缺的文本处理工具——它的用处就是在文本中**扫描/搜索**（scan/search）与某一**规则**（patterh）**匹配**（match，即，与规则一致）的所有实例，并且还可以按照规则**捕获**（capture）其中的部分或者全部，对它们进行**替换**（replace）。"
   ]
  },
  {
   "cell_type": "markdown",
   "metadata": {},
   "source": [
    "有时，使用 regex 并不是为了 replace，而是为了检查格式。比如，\n",
    "> * 可以用 regex 检查用户输入的密码是否过于简单，比如，全部由数字构成。\n",
    "> * \n",
    "> * 比如可以用来验证用户输入的电话号码、证件号码是否符合特定格式等等。\n",
    "\n",
    "另外，在自学过程中，想尽一切办法把一切术语用简单直白的**人话**重新表述，是特别有效的促进进步的行为模式。\n",
    "\n",
    "## 视觉体验\n",
    "\n",
    "> 眼见为实——想办法让一个陌生的概念视觉上直观，是突破大多数学习障碍的最简单粗暴直接有效的方式。\n",
    "\n",
    "## 准备工作\n",
    "\n",
    "**regex-target-text-sample.txt**"
   ]
  },
  {
   "cell_type": "code",
   "execution_count": null,
   "metadata": {},
   "outputs": [],
   "source": [
    "pwd"
   ]
  },
  {
   "cell_type": "code",
   "execution_count": null,
   "metadata": {},
   "outputs": [],
   "source": [
    "import re\n",
    "with open('regex-target-text-sample.txt') as f:\n",
    "    strs = f.read()\n",
    "pttn = r'beg[iau]ns?'\n",
    "re.findall(pttn, strs)"
   ]
  },
  {
   "cell_type": "markdown",
   "metadata": {},
   "source": [
    "## 优先级\n",
    "\n",
    "编程语言无非是用来运算的。\n",
    "\n",
    "所谓的运算，就有操作符（operators）和操作元（operators）——而操作符肯定是有优先级的。不然的话，那么多操作元和操作符放在一起，究竟先操作哪个呢？\n",
    "\n",
    "regex 也一样，它本身就是个迷你语言（mini language）。在 regex 中，操作符肯定也有优先级。它的操作元有个专门的名称——**原子**（atom）。\n",
    "\n",
    "先看看它的操作符优先级："
   ]
  },
  {
   "cell_type": "markdown",
   "metadata": {},
   "source": [
    "|排列|原子与操作符优先级 |（从高到低）|\n",
    "|-|-|-|\n",
    "|1|转移符号 escaping symbol|`\\`|\n",
    "|2|分组、捕获 grouping or capturing|`(...)` `(?:...)` `(?=...)` `(?!...)` `(?<=...)` `(?<!...)`|\n",
    "|3|数量 quantifiers| `a* a+ a? a{n, m}` |\n",
    "|4|序列与定位 sequence and anchor|`abc` `^` `$` `\\b` `\\B`|\n",
    "|5|或 alternation|`a\\|b\\|c`|\n",
    "|6|原子 atoms| `a` `[^abc]` `\\t` `\\r` `\\n` `\\d` `\\D` `\\s` `\\S` `\\w` `\\W` `.`|"
   ]
  },
  {
   "cell_type": "markdown",
   "metadata": {},
   "source": [
    "如果在之前，没有自学过、理解过 python（或者任何其他编程语言）表达式中的操作符优先级，那么一上来就看上面的表格不仅对你没有帮助，只能让你迷惑。\n",
    "\n",
    "——**这就是理解能力逐步积累逐步加强的过程**。\n",
    "\n",
    "## 原子\n",
    "\n",
    "在 regex 的 pattern 中，操作元，即，被运算的**值**，被称为**原子**（atom）。\n",
    "\n",
    "### 本义字符\n",
    "\n",
    "最基本的原子，就是本义字符，它们都是单个字符。\n",
    "本义字符包括从 `a` 到 `z`， `A` 到 `Z`， `0` 到 `9`，还有 `_`——它们所代表的就是它们的字面值。\n",
    "\n",
    "> 即，相当于，`string.ascii_letters` 和 `string.digits`，以及 `_`。"
   ]
  },
  {
   "cell_type": "code",
   "execution_count": null,
   "metadata": {},
   "outputs": [],
   "source": [
    "from IPython.core.interactiveshell import InteractiveShell\n",
    "InteractiveShell.ast_node_interactivity = 'all'\n",
    "\n",
    "import string\n",
    "string.ascii_letters\n",
    "string.digits"
   ]
  },
  {
   "cell_type": "markdown",
   "metadata": {},
   "source": [
    "一下字符在 regex 中都有特殊的含义：\n",
    "\n",
    "> `\\` `+` `*` `.` `?` `-` `^` `$` `|` `(` `)` `[` `]` `{` `}` `<` `>`"
   ]
  },
  {
   "cell_type": "markdown",
   "metadata": {},
   "source": [
    "当你在写 regex 的时候，如果你需要搜索的字符不是本义字符，而是以上这些特殊字符时，建议都直接加上转义符号 `\\` 来表示。比如，\n",
    "\n",
    "> * 搜索 `'` 的时候，写 `\\'；\n",
    "> * 搜索 `#`（事实上，`#` 并不是 regex 的特殊符号，所以它之前的转义符号可有可无）。\n",
    "\n",
    "这对初学者来说可能是最安全的策略。\n",
    "\n",
    "> 跟过往一样，所有的细节都很重要，它们就是需要花时间逐步熟悉到牢记。"
   ]
  },
  {
   "cell_type": "markdown",
   "metadata": {},
   "source": [
    "### 集合原子\n",
    "\n",
    "集合原子还是原子。\n",
    "\n",
    "表示集合原子，使用方括号 `[]`。`[abc]` 的意思是说，**`a` or `b` or `c`**，即，`abc` 中的任意一个字符。\n",
    "\n",
    "比如，`beg[iau]n` 能够代表 `begin`、`began` 以及 `begun`。"
   ]
  },
  {
   "cell_type": "code",
   "execution_count": null,
   "metadata": {},
   "outputs": [],
   "source": [
    "import re \n",
    "\n",
    "strs = 'begin began begun bigins begining'\n",
    "pttn = r'beg[iau]n'\n",
    "re.findall(pttn, strs)"
   ]
  },
  {
   "cell_type": "markdown",
   "metadata": {},
   "source": [
    "在方括号中，我们可以使用两个操作符：`-`（区间） 和 `^`（非）。\n",
    "\n",
    "> * [a-z] 表示从小写字母 a 到小写字母 z 中的任意一个字符。\n",
    "> * [^abc]表示 abc 以外的其他任意字符，即，非 `[abc]`.\n",
    "\n",
    "注意，一个集合原子中，`^` 符号只能使用一次，只能紧跟在 `[` 之后使用，否则不起作用。"
   ]
  },
  {
   "cell_type": "markdown",
   "metadata": {},
   "source": [
    "### 类别原子\n",
    "\n",
    "类别原子，指那些能够代表**一类**字符的原子。它们都得使用转义符号再加上另外一个符号表达，包括：\n",
    "\n",
    "> * `\\d` 任意数字，等价于 [0-9]。\n",
    "> * `\\D` 任意非数字，等价于 [^0-9]。\n",
    "> * `\\w` 任意本义字符，等价于 [a-zA-Z0-9_]。\n",
    "> * `\\W` 任意非本义字符，等价于 `[^a-zA-Z0-9_]`。\n",
    "> * `\\s` 任意空白，相当于 `[ \\f\\n\\r\\t\\v]`（注意，方括号内第一个字符是空格符号）。\n",
    "> * `\\S` 任意非空白，相当于 `[^ \\f\\r\\t\\v]`（注意，紧随 `^` 之后的是一个空格符号）。\n",
    "> * `.` 除 `\\r\\n` 之外的任意字符，相当于 `[^\\r\\n]`。"
   ]
  },
  {
   "cell_type": "markdown",
   "metadata": {},
   "source": [
    "类别原子挺好记忆的，如果你知道各个字母是哪个词的首字母的话：\n",
    "\n",
    "> * `d` digits\n",
    "> * `w` word characters\n",
    "> * `s` spaces"
   ]
  },
  {
   "cell_type": "markdown",
   "metadata": {},
   "source": [
    "另外，在，空白的集合 `[ \\f\\n\\r\\t\\v]` 中，`\\f` 是分页符；`\\n\\r` 是换行符；`\\t` 是制表符；`\\v` 是纵向制表符（很少用到）。各种关于空白的字符也同样挺好记忆的，如果你知道各个字母是那个词的首字母的话：\n",
    "\n",
    "> * `f` flip\n",
    "> * `n` new line\n",
    "> * `r` return\n",
    "> * `t` tab\n",
    "> * `v` vertical tab"
   ]
  },
  {
   "cell_type": "code",
   "execution_count": null,
   "metadata": {},
   "outputs": [],
   "source": [
    "import re\n",
    "strs = '<dl>(843) 542-4256 </dl> <dl>(431) 270-9664 </dl>'\n",
    "pttn = r'\\d\\d\\d-'\n",
    "re.findall(pttn, strs)"
   ]
  },
  {
   "cell_type": "markdown",
   "metadata": {},
   "source": [
    "### 边界原子\n",
    "\n",
    "可以用边界原子指定边界，也可以称为**定位操作符**。\n",
    "\n",
    "> * `^` 匹配被搜索字符串的开始位置。\n",
    "> * `$` 匹配被搜索字符串的结束位置。\n",
    "> * `\\b` 匹配单词的边界；`er\\b`，能匹配 `wonder` 中的 `er`，却不能匹配 `error` 中的 `er`。\n",
    "> * `\\B` 匹配非单词的边界：`er\\B`，能匹配 `error` 中的 `er`，却不能匹配 `wonder` 中的 `er`。"
   ]
  },
  {
   "cell_type": "code",
   "execution_count": null,
   "metadata": {},
   "outputs": [],
   "source": [
    "import re\n",
    "\n",
    "strs = 'never ever verb however everest error wonder coder'\n",
    "pttn = r'er\\b'\n",
    "re.findall(pttn, strs)\n",
    "pttn = r'er\\B'\n",
    "re.findall(pttn, strs)"
   ]
  },
  {
   "cell_type": "markdown",
   "metadata": {},
   "source": [
    "### 组合原子\n",
    "\n",
    "我们可以用圆括号 `()` 将多个单字组合成一个原子——这么做的结果是，`()` 内的字符串将被当作一整个原子，可以被随后我们要讲解的**数量**操作符操作。\n",
    "\n",
    "另外，`()` 这个操作符，有两个作用：\n",
    "\n",
    "> * 组合（grouping），就是我们刚刚讲到的作用；\n",
    "> * 捕获（capturing）。\n",
    "\n",
    "注意区别：`er`、`[er]`、`(er)` 各部相同。\n",
    "\n",
    "> * `er` 是两个原子，`e` 和紧随其后的 `r`。\n",
    "> * `[er]` 是一个原子，或者 `e` 或者 `r`。\n",
    "> * `(er)` 是一个原子，`er`。\n",
    "\n",
    "讲到数量操作符的时候，会再次强调这点。"
   ]
  },
  {
   "cell_type": "markdown",
   "metadata": {},
   "source": [
    "## 数量操作符\n",
    "\n",
    "`+` `?` `*` `{n, m}`\n",
    "\n",
    "它们是用来限定**位于它们之前的原子允许出现的次数**；不加限定词则代表出现一次且仅出现一次。\n",
    "\n",
    "> * `+` 代表前面的原子必须至少出现一次，即，**出现次数 $\\ge$ 1** 。\n",
    ">     > * 例如，`go+gle` 可以匹配 google，gooogle， goooogle 等。\n",
    "> * `?` 代表前面的原子最多只能出现一次，即，**0 $\\le$ 出现次数 $\\le$ 1**。\n",
    ">     > * 例如，`colou?red` 可以匹配 colored 或者 coloured。\n",
    "> * `*` 代表前面的原子可以不出现，也可以出现一次或者多次，即，**出现次数 $\\ge$ 0**.\n",
    ">     > * 例如，`520*` 可以匹配 52， 520， 5200000， 5200000000000 等。\n",
    "> * `{n}` 之前的原子出现确定的 n 次。\n",
    "> * `{n,}` 之前的原子出现至少 n 次。\n",
    "> * `{n, m}` 之前的原子出现至少 n 次，至多 m 次。\n",
    ">     > * 例如，go{2,5}gle，能匹配 google gooogle， goooogle， gooooogle。但不能匹配 gogle 和 goooooogle。"
   ]
  },
  {
   "cell_type": "code",
   "execution_count": null,
   "metadata": {},
   "outputs": [],
   "source": [
    "from IPython.core.interactiveshell import InteractiveShell\n",
    "InteractiveShell.ast_node_interactivity = 'all'\n",
    "\n",
    "import re\n",
    "with open('regex-target-text-sample.txt', 'r') as f:\n",
    "    strs = f.read()\n",
    "    \n",
    "pttn = r'go+gle'\n",
    "re.findall(pttn, strs)\n",
    "\n",
    "pttn = r'go{2,5}gle'\n",
    "re.findall(pttn, strs)\n",
    "\n",
    "pttn = r'colou?red'\n",
    "re.findall(pttn, strs)\n",
    "\n",
    "pttn = r'520*'\n",
    "re.findall(pttn, strs)"
   ]
  },
  {
   "cell_type": "markdown",
   "metadata": {},
   "source": [
    "数量操作符是对它之前的原子进行操作的，换言之，**数量操作符的操作元是操作符之前的原子**。\n",
    "\n",
    "上一节提到，注意区别 `er` `[er]` `(er)` 各不相同：\n",
    "\n",
    "> * `er` 是两个原子，`e` 和之后的 `r`。 \n",
    "> * `[er]` 是一个原子，或者 `e` 或者 `r`。\n",
    "> * `(er)` 是一个原子，`er`。"
   ]
  },
  {
   "cell_type": "code",
   "execution_count": null,
   "metadata": {},
   "outputs": [],
   "source": [
    "from IPython.core.interactiveshell import InteractiveShell\n",
    "InteractiveShell.ast_node_interactivity = 'all'\n",
    "\n",
    "import re\n",
    "\n",
    "strs = 'error wonderer severeness'\n",
    "\n",
    "pttn = r'er'\n",
    "re.findall(pttn, strs)\n",
    "\n",
    "pttn = r'[er]'\n",
    "re.findall(pttn, strs)\n",
    "\n",
    "pttn = r'(er)'\n",
    "re.findall(pttn, strs)"
   ]
  },
  {
   "cell_type": "markdown",
   "metadata": {},
   "source": [
    "在以上的例子中，看不出 `er` 和 `(er)` 的区别。但是，加上数量操作符就不一样了——因为数量操作符只对他之前的那一个原子进行操作。"
   ]
  },
  {
   "cell_type": "code",
   "execution_count": null,
   "metadata": {},
   "outputs": [],
   "source": [
    "from IPython.core.interactiveshell import InteractiveShell\n",
    "InteractiveShell.ast_node_interactivity = 'all'\n",
    "\n",
    "import re\n",
    "\n",
    "strs = 'error wonderer severness'\n",
    "\n",
    "pttn = r'er+'\n",
    "re.findall(pttn, strs)\n",
    "\n",
    "pttn = r'[er]+'\n",
    "re.findall(pttn, strs)\n",
    "\n",
    "pttn = r'(er)+'\n",
    "re.findall(pttn, strs)"
   ]
  },
  {
   "cell_type": "markdown",
   "metadata": {},
   "source": [
    "## 或操作符 `|`\n",
    "或操作符是所有操作符中优先级最低的，数量操作符的优先级都比它高。所以，在 `|` 前后的原子被数量操作符（如果有的话）操作之后才交给 `|` 操作。\n",
    "\n",
    "于是，`begin|began|begun` 能够匹配 begin 或 began 或 begun。"
   ]
  },
  {
   "cell_type": "code",
   "execution_count": null,
   "metadata": {},
   "outputs": [],
   "source": [
    "import re\n",
    "\n",
    "strs = 'begin began begun begins beginn'\n",
    "pttn = r'begin|begun|began'\n",
    "re.findall(pttn, strs)"
   ]
  },
  {
   "cell_type": "markdown",
   "metadata": {},
   "source": [
    "在集合原子中（即，`[]` 内的原子）各个原子之间的关系，只有**或**——相当于方括号中的每个原子之间都有一个被省略的 `|`。\n",
    "\n",
    "**注意**：方括号中的 `|` 不被当作特殊符号，而是被当作 `|` 这个符号本身处理。在方括号中的圆括号 `()` 也被当作符号本身处理，而无分组的含义。 "
   ]
  },
  {
   "cell_type": "code",
   "execution_count": 2,
   "metadata": {},
   "outputs": [
    {
     "data": {
      "text/plain": [
       "['a', 'a', 'e', 'a', 'a', 'e', 'a', 'a', '|', 'e']"
      ]
     },
     "execution_count": 2,
     "metadata": {},
     "output_type": "execute_result"
    },
    {
     "data": {
      "text/plain": [
       "['a', 'a', 'e', 'a', 'a', 'e', 'a', 'a', '|', 'e']"
      ]
     },
     "execution_count": 2,
     "metadata": {},
     "output_type": "execute_result"
    },
    {
     "data": {
      "text/plain": [
       "['a', 'a', 'e', 'a', 'a', 'e', 'a', 'a', 'e']"
      ]
     },
     "execution_count": 2,
     "metadata": {},
     "output_type": "execute_result"
    },
    {
     "data": {
      "text/plain": [
       "['a', 'a', 'e', 'a', 'a', 'e', 'a', 'a', 'e']"
      ]
     },
     "execution_count": 2,
     "metadata": {},
     "output_type": "execute_result"
    },
    {
     "data": {
      "text/plain": [
       "['a', 'a', 'e', 'a', 'a', 'e', 'a', 'a', '|', 'e']"
      ]
     },
     "execution_count": 2,
     "metadata": {},
     "output_type": "execute_result"
    }
   ],
   "source": [
    "from IPython.core.interactiveshell import InteractiveShell\n",
    "InteractiveShell.ast_node_interactivity = 'all'\n",
    "\n",
    "import re\n",
    "\n",
    "strs = 'achroiocythaemia achroiocythemia a|e'\n",
    "pttn = r'[a|ae]'\n",
    "re.findall(pttn, strs)\n",
    "\n",
    "pttn = r'[a|e]'\n",
    "re.findall(pttn, strs)\n",
    "\n",
    "pttn = r'[ae]'\n",
    "re.findall(pttn, strs)\n",
    "\n",
    "pttn = r'[(ae)]'\n",
    "re.findall(pttn, strs)\n",
    "\n",
    "pttn = r'[a|ae|(ae)]'\n",
    "re.findall(pttn, strs)"
   ]
  },
  {
   "cell_type": "markdown",
   "metadata": {},
   "source": [
    "## 匹配并捕获\n",
    "\n",
    "捕获（capture）使用的是圆括号 `()`。使用圆括号得到的匹配的值被暂存成一个**带有索引的列表**，第一个是 `$1`，第二个是 `$2`……以此类推。随后，我们可以在替换的过程中使用 `$1` `$2` 所保留的值。\n",
    "\n",
    "注意：在 python 语言中调用 `re` 模块之后，在 `re.sub()` 中调用被匹配的值，用的索引方法是 `\\1` `\\2`…… 以此类推。"
   ]
  },
  {
   "cell_type": "code",
   "execution_count": 5,
   "metadata": {},
   "outputs": [
    {
     "data": {
      "text/plain": [
       "[('white', 'black')]"
      ]
     },
     "execution_count": 5,
     "metadata": {},
     "output_type": "execute_result"
    },
    {
     "data": {
      "text/plain": [
       "'The black dog wears a white hat.'"
      ]
     },
     "execution_count": 5,
     "metadata": {},
     "output_type": "execute_result"
    },
    {
     "data": {
      "text/plain": [
       "'The white dog wears a white hat.'"
      ]
     },
     "execution_count": 5,
     "metadata": {},
     "output_type": "execute_result"
    }
   ],
   "source": [
    "import re\n",
    "\n",
    "strs = 'The white dog wears a black hat.'\n",
    "pttn = r'The (white|black) dog wears a (white|black) hat.'\n",
    "re.findall(pttn, strs)\n",
    "\n",
    "repl = r'The \\2 dog wears a \\1 hat.'\n",
    "re.sub(pttn, repl, strs)\n",
    "\n",
    "repl = r'The \\1 dog wears a \\1 hat.'\n",
    "re.sub(pttn, repl, strs)"
   ]
  },
  {
   "cell_type": "markdown",
   "metadata": {},
   "source": [
    "## 非捕获匹配\n",
    "\n",
    "有时，你并不想捕获圆括号中的内容，在那个地方你使用括号的目的只是分组，而非捕获，那么，就在圆括号内最开头加上 `?:`—— `(?:...)`："
   ]
  },
  {
   "cell_type": "code",
   "execution_count": 11,
   "metadata": {},
   "outputs": [
    {
     "data": {
      "text/plain": [
       "['black']"
      ]
     },
     "execution_count": 11,
     "metadata": {},
     "output_type": "execute_result"
    },
    {
     "data": {
      "text/plain": [
       "<re.Match object; span=(0, 32), match='The white dog wears a black hat.'>"
      ]
     },
     "execution_count": 11,
     "metadata": {},
     "output_type": "execute_result"
    },
    {
     "data": {
      "text/plain": [
       "'The black dog wears a black hat.'"
      ]
     },
     "execution_count": 11,
     "metadata": {},
     "output_type": "execute_result"
    }
   ],
   "source": [
    "import re\n",
    "\n",
    "strs = 'The white dog wears a black hat.'\n",
    "pttn = r'The (?:white|black) dog wears a (white|black) hat.'\n",
    "re.findall(pttn, strs)  # 只捕获了一处，也就是说只有一个值将来可以被引用\n",
    "re.match(pttn, strs)\n",
    "\n",
    "repl = r'The \\1 dog wears a \\1 hat.'\n",
    "re.sub(pttn, repl, strs)"
   ]
  },
  {
   "cell_type": "markdown",
   "metadata": {},
   "source": [
    "需要注意的是，虽然非匹配捕获不将匹配值暂存以便随后替换时调用，但，\n",
    "\n",
    "> 匹配处依然是将来可被替换的位置。\n",
    "\n",
    "在 python 代码中使用正则表达式，匹配和捕获以及随后的替换，有更灵活的方式，因为可以对那些值直接编程。`re.sub()` 中，`repl` 参数甚至可以接收另外一个函数作为参数——以后你肯定会自行认真阅读以下页面中的所有内容：\n",
    "\n",
    "> https://docs.python.org/3/library/re.html"
   ]
  },
  {
   "cell_type": "markdown",
   "metadata": {},
   "source": [
    "非捕获匹配，还有若干个操作符：\n",
    "\n",
    "`(?=pattern)`\n",
    "> 正向肯定预查（look ahead positive assert）。在任何匹配规则的字符串开始处匹配查找字符串。这是一个**非获取匹配**，即，该匹配不需要获取供以后使用。例如，`Windows(?=95|98|NT|2000%60)` 能匹配 `Windows2000` 中的 `Windows`，但不能匹配 `Windows3.1` 中的 `Windows`。预查不消耗字符，即，在一个匹配发生后，在最后一次匹配之后立即开始下一次匹配的搜索，而不是从包含预查的字符之后开始。\n",
    "\n",
    "> 对最后一句的理解——一次匹配完成之后（问号后面的内容），下一次匹配（括号之前的内容）要从头开始搜素。\n",
    "\n",
    "python 给的例子：\n",
    "\n",
    "> Matches if `...` matches next, but doesn’t consume any of the string. This is called a **lookahead assertion**. For example, `Isaac (?=Asimov)` will match `'Isaac '` only if it’s followed by `'Asimov'`."
   ]
  },
  {
   "cell_type": "code",
   "execution_count": 18,
   "metadata": {},
   "outputs": [
    {
     "data": {
      "text/plain": [
       "['Windows', 'Windows', 'Windows']"
      ]
     },
     "execution_count": 18,
     "metadata": {},
     "output_type": "execute_result"
    },
    {
     "data": {
      "text/plain": [
       "'this is the matched95. this is the matched2000. this is the matched98. Windows10. Windows3.1'"
      ]
     },
     "execution_count": 18,
     "metadata": {},
     "output_type": "execute_result"
    },
    {
     "data": {
      "text/plain": [
       "['Isaac ']"
      ]
     },
     "execution_count": 18,
     "metadata": {},
     "output_type": "execute_result"
    }
   ],
   "source": [
    "from IPython.core.interactiveshell import InteractiveShell\n",
    "InteractiveShell.ast_node_interactivity = 'all'\n",
    "\n",
    "import re\n",
    "\n",
    "str1 = 'Windows95. Windows2000. Windows98. Windows10. Windows3.1'\n",
    "pttn = r'Windows(?=95|98|NT|2000)'\n",
    "re.findall(pttn, str1)\n",
    "re.sub(pttn, 'this is the matched', str1)\n",
    "\n",
    "str2 = 'Isaac Asimov and Isaac Newton'\n",
    "pttn = r'Isaac (?=Asimov)'\n",
    "re.findall(pttn, str2)"
   ]
  },
  {
   "cell_type": "markdown",
   "metadata": {},
   "source": [
    "`(?!pattern)`\n",
    "\n",
    "> 正向否定预查（negative assert），在任何不匹配规则的字符串开始处匹配查找字符串。这是一个非获取匹配。例如，`Windows(?!95|98|NT|2000)` 能匹配 `Windows3.1` 中的 `Windows`，不能匹配 `Windows2000` 中的 `Windows`。预查不消耗字符，也就是说，在一个匹配发生之后，在最后一次匹配之后立即开始下一次匹配的搜素，而不是从包含预查的字符之后开始。"
   ]
  },
  {
   "cell_type": "code",
   "execution_count": 19,
   "metadata": {},
   "outputs": [
    {
     "data": {
      "text/plain": [
       "['Windows', 'Windows']"
      ]
     },
     "execution_count": 19,
     "metadata": {},
     "output_type": "execute_result"
    },
    {
     "data": {
      "text/plain": [
       "'Windows95. Windows2000. Windows98. this is the matched10. this is the matched3.1'"
      ]
     },
     "execution_count": 19,
     "metadata": {},
     "output_type": "execute_result"
    },
    {
     "data": {
      "text/plain": [
       "['Isaac ']"
      ]
     },
     "execution_count": 19,
     "metadata": {},
     "output_type": "execute_result"
    }
   ],
   "source": [
    "from IPython.core.interactiveshell import InteractiveShell\n",
    "InteractiveShell.ast_node_interactivity = 'all'\n",
    "\n",
    "import re\n",
    "\n",
    "str1 = 'Windows95. Windows2000. Windows98. Windows10. Windows3.1'\n",
    "pttn = r'Windows(?!95|98|NT|2000)'\n",
    "re.findall(pttn, str1)\n",
    "re.sub(pttn, 'this is the matched', str1)\n",
    "\n",
    "str2 = 'Isaac Asimov and Isaac Newton'\n",
    "pttn = r'Isaac (?!Asimov)'\n",
    "re.findall(pttn, str2)"
   ]
  },
  {
   "cell_type": "markdown",
   "metadata": {},
   "source": [
    "`(?<=pattern)` \n",
    "\n",
    "> 反向（look behind）肯定预查。与正向肯定预查类似，只是方向相反。例如，`(?<=95|98|NT|2000)Windows` 能匹配 `2000Windows` 中的 `Windows`，但不能匹配 `3.1Windows` 中的 `Windows`。"
   ]
  },
  {
   "cell_type": "code",
   "execution_count": 40,
   "metadata": {},
   "outputs": [
    {
     "ename": "error",
     "evalue": "look-behind requires fixed-width pattern",
     "output_type": "error",
     "traceback": [
      "\u001b[1;31m--------------------------------------------------\u001b[0m",
      "\u001b[1;31merror\u001b[0m            Traceback (most recent call last)",
      "\u001b[1;32m<ipython-input-40-508701b04917>\u001b[0m in \u001b[0;36m<module>\u001b[1;34m\u001b[0m\n\u001b[0;32m      6\u001b[0m \u001b[0mstr1\u001b[0m \u001b[1;33m=\u001b[0m \u001b[1;34m'2000Windows 95Windows 98Windows'\u001b[0m\u001b[1;33m\u001b[0m\u001b[1;33m\u001b[0m\u001b[0m\n\u001b[0;32m      7\u001b[0m \u001b[0mpttn\u001b[0m \u001b[1;33m=\u001b[0m \u001b[1;34mr'(?<=95|9)Windows'\u001b[0m\u001b[1;33m\u001b[0m\u001b[1;33m\u001b[0m\u001b[0m\n\u001b[1;32m----> 8\u001b[1;33m \u001b[0mre\u001b[0m\u001b[1;33m.\u001b[0m\u001b[0mfindall\u001b[0m\u001b[1;33m(\u001b[0m\u001b[0mpttn\u001b[0m\u001b[1;33m,\u001b[0m \u001b[0mstr1\u001b[0m\u001b[1;33m)\u001b[0m\u001b[1;33m\u001b[0m\u001b[1;33m\u001b[0m\u001b[0m\n\u001b[0m",
      "\u001b[1;32mE:\\program_files\\anaconda\\lib\\re.py\u001b[0m in \u001b[0;36mfindall\u001b[1;34m(pattern, string, flags)\u001b[0m\n\u001b[0;32m    221\u001b[0m \u001b[1;33m\u001b[0m\u001b[0m\n\u001b[0;32m    222\u001b[0m     Empty matches are included in the result.\"\"\"\n\u001b[1;32m--> 223\u001b[1;33m     \u001b[1;32mreturn\u001b[0m \u001b[0m_compile\u001b[0m\u001b[1;33m(\u001b[0m\u001b[0mpattern\u001b[0m\u001b[1;33m,\u001b[0m \u001b[0mflags\u001b[0m\u001b[1;33m)\u001b[0m\u001b[1;33m.\u001b[0m\u001b[0mfindall\u001b[0m\u001b[1;33m(\u001b[0m\u001b[0mstring\u001b[0m\u001b[1;33m)\u001b[0m\u001b[1;33m\u001b[0m\u001b[1;33m\u001b[0m\u001b[0m\n\u001b[0m\u001b[0;32m    224\u001b[0m \u001b[1;33m\u001b[0m\u001b[0m\n\u001b[0;32m    225\u001b[0m \u001b[1;32mdef\u001b[0m \u001b[0mfinditer\u001b[0m\u001b[1;33m(\u001b[0m\u001b[0mpattern\u001b[0m\u001b[1;33m,\u001b[0m \u001b[0mstring\u001b[0m\u001b[1;33m,\u001b[0m \u001b[0mflags\u001b[0m\u001b[1;33m=\u001b[0m\u001b[1;36m0\u001b[0m\u001b[1;33m)\u001b[0m\u001b[1;33m:\u001b[0m\u001b[1;33m\u001b[0m\u001b[1;33m\u001b[0m\u001b[0m\n",
      "\u001b[1;32mE:\\program_files\\anaconda\\lib\\re.py\u001b[0m in \u001b[0;36m_compile\u001b[1;34m(pattern, flags)\u001b[0m\n\u001b[0;32m    284\u001b[0m     \u001b[1;32mif\u001b[0m \u001b[1;32mnot\u001b[0m \u001b[0msre_compile\u001b[0m\u001b[1;33m.\u001b[0m\u001b[0misstring\u001b[0m\u001b[1;33m(\u001b[0m\u001b[0mpattern\u001b[0m\u001b[1;33m)\u001b[0m\u001b[1;33m:\u001b[0m\u001b[1;33m\u001b[0m\u001b[1;33m\u001b[0m\u001b[0m\n\u001b[0;32m    285\u001b[0m         \u001b[1;32mraise\u001b[0m \u001b[0mTypeError\u001b[0m\u001b[1;33m(\u001b[0m\u001b[1;34m\"first argument must be string or compiled pattern\"\u001b[0m\u001b[1;33m)\u001b[0m\u001b[1;33m\u001b[0m\u001b[1;33m\u001b[0m\u001b[0m\n\u001b[1;32m--> 286\u001b[1;33m     \u001b[0mp\u001b[0m \u001b[1;33m=\u001b[0m \u001b[0msre_compile\u001b[0m\u001b[1;33m.\u001b[0m\u001b[0mcompile\u001b[0m\u001b[1;33m(\u001b[0m\u001b[0mpattern\u001b[0m\u001b[1;33m,\u001b[0m \u001b[0mflags\u001b[0m\u001b[1;33m)\u001b[0m\u001b[1;33m\u001b[0m\u001b[1;33m\u001b[0m\u001b[0m\n\u001b[0m\u001b[0;32m    287\u001b[0m     \u001b[1;32mif\u001b[0m \u001b[1;32mnot\u001b[0m \u001b[1;33m(\u001b[0m\u001b[0mflags\u001b[0m \u001b[1;33m&\u001b[0m \u001b[0mDEBUG\u001b[0m\u001b[1;33m)\u001b[0m\u001b[1;33m:\u001b[0m\u001b[1;33m\u001b[0m\u001b[1;33m\u001b[0m\u001b[0m\n\u001b[0;32m    288\u001b[0m         \u001b[1;32mif\u001b[0m \u001b[0mlen\u001b[0m\u001b[1;33m(\u001b[0m\u001b[0m_cache\u001b[0m\u001b[1;33m)\u001b[0m \u001b[1;33m>=\u001b[0m \u001b[0m_MAXCACHE\u001b[0m\u001b[1;33m:\u001b[0m\u001b[1;33m\u001b[0m\u001b[1;33m\u001b[0m\u001b[0m\n",
      "\u001b[1;32mE:\\program_files\\anaconda\\lib\\sre_compile.py\u001b[0m in \u001b[0;36mcompile\u001b[1;34m(p, flags)\u001b[0m\n\u001b[0;32m    766\u001b[0m         \u001b[0mpattern\u001b[0m \u001b[1;33m=\u001b[0m \u001b[1;32mNone\u001b[0m\u001b[1;33m\u001b[0m\u001b[1;33m\u001b[0m\u001b[0m\n\u001b[0;32m    767\u001b[0m \u001b[1;33m\u001b[0m\u001b[0m\n\u001b[1;32m--> 768\u001b[1;33m     \u001b[0mcode\u001b[0m \u001b[1;33m=\u001b[0m \u001b[0m_code\u001b[0m\u001b[1;33m(\u001b[0m\u001b[0mp\u001b[0m\u001b[1;33m,\u001b[0m \u001b[0mflags\u001b[0m\u001b[1;33m)\u001b[0m\u001b[1;33m\u001b[0m\u001b[1;33m\u001b[0m\u001b[0m\n\u001b[0m\u001b[0;32m    769\u001b[0m \u001b[1;33m\u001b[0m\u001b[0m\n\u001b[0;32m    770\u001b[0m     \u001b[1;32mif\u001b[0m \u001b[0mflags\u001b[0m \u001b[1;33m&\u001b[0m \u001b[0mSRE_FLAG_DEBUG\u001b[0m\u001b[1;33m:\u001b[0m\u001b[1;33m\u001b[0m\u001b[1;33m\u001b[0m\u001b[0m\n",
      "\u001b[1;32mE:\\program_files\\anaconda\\lib\\sre_compile.py\u001b[0m in \u001b[0;36m_code\u001b[1;34m(p, flags)\u001b[0m\n\u001b[0;32m    605\u001b[0m \u001b[1;33m\u001b[0m\u001b[0m\n\u001b[0;32m    606\u001b[0m     \u001b[1;31m# compile the pattern\u001b[0m\u001b[1;33m\u001b[0m\u001b[1;33m\u001b[0m\u001b[1;33m\u001b[0m\u001b[0m\n\u001b[1;32m--> 607\u001b[1;33m     \u001b[0m_compile\u001b[0m\u001b[1;33m(\u001b[0m\u001b[0mcode\u001b[0m\u001b[1;33m,\u001b[0m \u001b[0mp\u001b[0m\u001b[1;33m.\u001b[0m\u001b[0mdata\u001b[0m\u001b[1;33m,\u001b[0m \u001b[0mflags\u001b[0m\u001b[1;33m)\u001b[0m\u001b[1;33m\u001b[0m\u001b[1;33m\u001b[0m\u001b[0m\n\u001b[0m\u001b[0;32m    608\u001b[0m \u001b[1;33m\u001b[0m\u001b[0m\n\u001b[0;32m    609\u001b[0m     \u001b[0mcode\u001b[0m\u001b[1;33m.\u001b[0m\u001b[0mappend\u001b[0m\u001b[1;33m(\u001b[0m\u001b[0mSUCCESS\u001b[0m\u001b[1;33m)\u001b[0m\u001b[1;33m\u001b[0m\u001b[1;33m\u001b[0m\u001b[0m\n",
      "\u001b[1;32mE:\\program_files\\anaconda\\lib\\sre_compile.py\u001b[0m in \u001b[0;36m_compile\u001b[1;34m(code, pattern, flags)\u001b[0m\n\u001b[0;32m    180\u001b[0m                 \u001b[0mlo\u001b[0m\u001b[1;33m,\u001b[0m \u001b[0mhi\u001b[0m \u001b[1;33m=\u001b[0m \u001b[0mav\u001b[0m\u001b[1;33m[\u001b[0m\u001b[1;36m1\u001b[0m\u001b[1;33m]\u001b[0m\u001b[1;33m.\u001b[0m\u001b[0mgetwidth\u001b[0m\u001b[1;33m(\u001b[0m\u001b[1;33m)\u001b[0m\u001b[1;33m\u001b[0m\u001b[1;33m\u001b[0m\u001b[0m\n\u001b[0;32m    181\u001b[0m                 \u001b[1;32mif\u001b[0m \u001b[0mlo\u001b[0m \u001b[1;33m!=\u001b[0m \u001b[0mhi\u001b[0m\u001b[1;33m:\u001b[0m\u001b[1;33m\u001b[0m\u001b[1;33m\u001b[0m\u001b[0m\n\u001b[1;32m--> 182\u001b[1;33m                     \u001b[1;32mraise\u001b[0m \u001b[0merror\u001b[0m\u001b[1;33m(\u001b[0m\u001b[1;34m\"look-behind requires fixed-width pattern\"\u001b[0m\u001b[1;33m)\u001b[0m\u001b[1;33m\u001b[0m\u001b[1;33m\u001b[0m\u001b[0m\n\u001b[0m\u001b[0;32m    183\u001b[0m                 \u001b[0memit\u001b[0m\u001b[1;33m(\u001b[0m\u001b[0mlo\u001b[0m\u001b[1;33m)\u001b[0m \u001b[1;31m# look behind\u001b[0m\u001b[1;33m\u001b[0m\u001b[1;33m\u001b[0m\u001b[0m\n\u001b[0;32m    184\u001b[0m             \u001b[0m_compile\u001b[0m\u001b[1;33m(\u001b[0m\u001b[0mcode\u001b[0m\u001b[1;33m,\u001b[0m \u001b[0mav\u001b[0m\u001b[1;33m[\u001b[0m\u001b[1;36m1\u001b[0m\u001b[1;33m]\u001b[0m\u001b[1;33m,\u001b[0m \u001b[0mflags\u001b[0m\u001b[1;33m)\u001b[0m\u001b[1;33m\u001b[0m\u001b[1;33m\u001b[0m\u001b[0m\n",
      "\u001b[1;31merror\u001b[0m: look-behind requires fixed-width pattern"
     ]
    }
   ],
   "source": [
    "from IPython.core.interactiveshell import InteractiveShell\n",
    "InteractiveShell.ast_node_interactivity = 'all'\n",
    "\n",
    "import re\n",
    "\n",
    "str1 = '2000Windows 95Windows 98Windows'\n",
    "pttn = r'(?<=95|9)Windows'\n",
    "re.findall(pttn, str1)"
   ]
  },
  {
   "cell_type": "markdown",
   "metadata": {},
   "source": [
    "`(?<!pattern)`\n",
    "\n",
    "> 反向否定预查。与正向否定预查类似，只算方向相反。例如 `(?<!95|98|NT|2000)Windows` 能匹配 `3.1WIndows` 中的 `Windows`，但不能匹配 `2000Windows` 中的 `Windows`。"
   ]
  },
  {
   "cell_type": "code",
   "execution_count": 42,
   "metadata": {},
   "outputs": [
    {
     "data": {
      "text/plain": [
       "['Windows', 'Windows']"
      ]
     },
     "execution_count": 42,
     "metadata": {},
     "output_type": "execute_result"
    },
    {
     "data": {
      "text/plain": [
       "'2000this is the replaced place 95Windows 98this is the replaced place'"
      ]
     },
     "execution_count": 42,
     "metadata": {},
     "output_type": "execute_result"
    }
   ],
   "source": [
    "from IPython.core.interactiveshell import InteractiveShell\n",
    "InteractiveShell.ast_node_interactivity = 'all'\n",
    "\n",
    "import re\n",
    "\n",
    "str1 = '2000Windows 95Windows 98Windows'\n",
    "pttn = r'(?<!95|20)Windows'\n",
    "re.findall(pttn, str1)\n",
    "re.sub(pttn, 'this is the replaced place', str1)"
   ]
  },
  {
   "cell_type": "markdown",
   "metadata": {},
   "source": [
    "## 控制标记\n",
    "\n",
    "有几个全局控制标记（Flag）需要了解，其中最常默认指定的有 `G` 和 `M`：\n",
    "\n",
    "`A / ASCII`，"
   ]
  }
 ],
 "metadata": {
  "kernelspec": {
   "display_name": "Python 3",
   "language": "python",
   "name": "python3"
  },
  "language_info": {
   "codemirror_mode": {
    "name": "ipython",
    "version": 3
   },
   "file_extension": ".py",
   "mimetype": "text/x-python",
   "name": "python",
   "nbconvert_exporter": "python",
   "pygments_lexer": "ipython3",
   "version": "3.7.3"
  },
  "latex_envs": {
   "LaTeX_envs_menu_present": true,
   "autoclose": false,
   "autocomplete": true,
   "bibliofile": "biblio.bib",
   "cite_by": "apalike",
   "current_citInitial": 1,
   "eqLabelWithNumbers": true,
   "eqNumInitial": 1,
   "hotkeys": {
    "equation": "Ctrl-E",
    "itemize": "Ctrl-I"
   },
   "labels_anchors": false,
   "latex_user_defs": false,
   "report_style_numbering": false,
   "user_envs_cfg": false
  },
  "toc": {
   "base_numbering": 1,
   "nav_menu": {},
   "number_sections": false,
   "sideBar": true,
   "skip_h1_title": false,
   "title_cell": "Table of Contents",
   "title_sidebar": "Contents",
   "toc_cell": false,
   "toc_position": {},
   "toc_section_display": true,
   "toc_window_display": false
  }
 },
 "nbformat": 4,
 "nbformat_minor": 2
}
