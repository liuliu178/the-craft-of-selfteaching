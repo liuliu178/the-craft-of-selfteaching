{
 "cells": [
  {
   "cell_type": "markdown",
   "metadata": {},
   "source": [
    "# 正则表达式 regex"
   ]
  },
  {
   "cell_type": "markdown",
   "metadata": {},
   "source": [
    "正则表达式本质上是个独立的语音，短小却格外强悍。\n",
    "regular expression，pattern，match\n",
    "\n",
    "unix sed grep\n",
    "\n",
    "> 我们可以用书写特定的规则，用来在文本中捕获与规则一致的字符串，而后对其进行操作……"
   ]
  },
  {
   "cell_type": "code",
   "execution_count": 2,
   "metadata": {},
   "outputs": [
    {
     "data": {
      "text/plain": [
       "['row', 'fox', 'dog']"
      ]
     },
     "execution_count": 2,
     "metadata": {},
     "output_type": "execute_result"
    }
   ],
   "source": [
    "import re\n",
    "strs = 'The quick brown fox jumps over the lazy dog.'\n",
    "pttn = re.compile(r'\\wo\\w')\n",
    "re.findall(pttn, strs)"
   ]
  },
  {
   "cell_type": "markdown",
   "metadata": {},
   "source": [
    "> **规则表达式**（regular expression，通常缩写为 Reges）是强大且不可或缺的文本处理工具——它的用处就是在文本中**扫描/搜索**（scan/search）与某一**规则**（patterh）**匹配**（match，即，与规则一致）的所有实例，并且还可以按照规则**捕获**（capture）其中的部分或者全部，对它们进行**替换**（replace）。"
   ]
  },
  {
   "cell_type": "markdown",
   "metadata": {},
   "source": [
    "有时，使用 regex 并不是为了 replace，而是为了检查格式。比如，\n",
    "> * 可以用 regex 检查用户输入的密码是否过于简单，比如，全部由数字构成。\n",
    "> * \n",
    "> * 比如可以用来验证用户输入的电话号码、证件号码是否符合特定格式等等。\n",
    "\n",
    "另外，在自学过程中，想尽一切办法把一切术语用简单直白的**人话**重新表述，是特别有效的促进进步的行为模式。\n",
    "\n",
    "## 视觉体验\n",
    "\n",
    "> 眼见为实——想办法让一个陌生的概念视觉上直观，是突破大多数学习障碍的最简单粗暴直接有效的方式。\n",
    "\n",
    "## 准备工作\n",
    "\n",
    "**regex-target-text-sample.txt**"
   ]
  },
  {
   "cell_type": "code",
   "execution_count": null,
   "metadata": {},
   "outputs": [],
   "source": [
    "pwd"
   ]
  },
  {
   "cell_type": "code",
   "execution_count": null,
   "metadata": {},
   "outputs": [],
   "source": [
    "import re\n",
    "with open('regex-target-text-sample.txt') as f:\n",
    "    strs = f.read()\n",
    "pttn = r'beg[iau]ns?'\n",
    "re.findall(pttn, strs)"
   ]
  },
  {
   "cell_type": "markdown",
   "metadata": {},
   "source": [
    "## 优先级\n",
    "\n",
    "编程语言无非是用来运算的。\n",
    "\n",
    "所谓的运算，就有操作符（operators）和操作元（operators）——而操作符肯定是有优先级的。不然的话，那么多操作元和操作符放在一起，究竟先操作哪个呢？\n",
    "\n",
    "regex 也一样，它本身就是个迷你语言（mini language）。在 regex 中，操作符肯定也有优先级。它的操作元有个专门的名称——**原子**（atom）。\n",
    "\n",
    "先看看它的操作符优先级："
   ]
  },
  {
   "cell_type": "markdown",
   "metadata": {},
   "source": [
    "|排列|原子与操作符优先级 |（从高到低）|\n",
    "|-|-|-|\n",
    "|1|转移符号 escaping symbol|`\\`|\n",
    "|2|分组、捕获 grouping or capturing|`(...)` `(?:...)` `(?=...)` `(?!...)` `(?<=...)` `(?<!...)`|\n",
    "|3|数量 quantifiers| `a* a+ a? a{n, m}` |\n",
    "|4|序列与定位 sequence and anchor|`abc` `^` `$` `\\b` `\\B`|\n",
    "|5|或 alternation|`a\\|b\\|c`|\n",
    "|6|原子 atoms| `a` `[^abc]` `\\t` `\\r` `\\n` `\\d` `\\D` `\\s` `\\S` `\\w` `\\W` `.`|"
   ]
  },
  {
   "cell_type": "markdown",
   "metadata": {},
   "source": [
    "如果在之前，没有自学过、理解过 python（或者任何其他编程语言）表达式中的操作符优先级，那么一上来就看上面的表格不仅对你没有帮助，只能让你迷惑。\n",
    "\n",
    "——**这就是理解能力逐步积累逐步加强的过程**。\n",
    "\n",
    "## 原子\n",
    "\n",
    "在 regex 的 pattern 中，操作元，即，被运算的**值**，被称为**原子**（atom）。\n",
    "\n",
    "### 本义字符\n",
    "\n",
    "最基本的原子，就是本义字符，它们都是单个字符。\n",
    "本义字符包括从 `a` 到 `z`， `A` 到 `Z`， `0` 到 `9`，还有 `_`——它们所代表的就是它们的字面值。\n",
    "\n",
    "> 即，相当于，`string.ascii_letters` 和 `string.digits`，以及 `_`。"
   ]
  },
  {
   "cell_type": "code",
   "execution_count": null,
   "metadata": {},
   "outputs": [],
   "source": [
    "from IPython.core.interactiveshell import InteractiveShell\n",
    "InteractiveShell.ast_node_interactivity = 'all'\n",
    "\n",
    "import string\n",
    "string.ascii_letters\n",
    "string.digits"
   ]
  },
  {
   "cell_type": "markdown",
   "metadata": {},
   "source": [
    "一下字符在 regex 中都有特殊的含义：\n",
    "\n",
    "> `\\` `+` `*` `.` `?` `-` `^` `$` `|` `(` `)` `[` `]` `{` `}` `<` `>`"
   ]
  },
  {
   "cell_type": "markdown",
   "metadata": {},
   "source": [
    "当你在写 regex 的时候，如果你需要搜索的字符不是本义字符，而是以上这些特殊字符时，建议都直接加上转义符号 `\\` 来表示。比如，\n",
    "\n",
    "> * 搜索 `'` 的时候，写 `\\'；\n",
    "> * 搜索 `#`（事实上，`#` 并不是 regex 的特殊符号，所以它之前的转义符号可有可无）。\n",
    "\n",
    "这对初学者来说可能是最安全的策略。\n",
    "\n",
    "> 跟过往一样，所有的细节都很重要，它们就是需要花时间逐步熟悉到牢记。"
   ]
  },
  {
   "cell_type": "markdown",
   "metadata": {},
   "source": [
    "### 集合原子\n",
    "\n",
    "集合原子还是原子。\n",
    "\n",
    "表示集合原子，使用方括号 `[]`。`[abc]` 的意思是说，**`a` or `b` or `c`**，即，`abc` 中的任意一个字符。\n",
    "\n",
    "比如，`beg[iau]n` 能够代表 `begin`、`began` 以及 `begun`。"
   ]
  },
  {
   "cell_type": "code",
   "execution_count": null,
   "metadata": {},
   "outputs": [],
   "source": [
    "import re \n",
    "\n",
    "strs = 'begin began begun bigins begining'\n",
    "pttn = r'beg[iau]n'\n",
    "re.findall(pttn, strs)"
   ]
  },
  {
   "cell_type": "markdown",
   "metadata": {},
   "source": [
    "在方括号中，我们可以使用两个操作符：`-`（区间） 和 `^`（非）。\n",
    "\n",
    "> * [a-z] 表示从小写字母 a 到小写字母 z 中的任意一个字符。\n",
    "> * [^abc]表示 abc 以外的其他任意字符，即，非 `[abc]`.\n",
    "\n",
    "注意，一个集合原子中，`^` 符号只能使用一次，只能紧跟在 `[` 之后使用，否则不起作用。"
   ]
  },
  {
   "cell_type": "markdown",
   "metadata": {},
   "source": [
    "### 类别原子\n",
    "\n",
    "类别原子，指那些能够代表**一类**字符的原子。它们都得使用转义符号再加上另外一个符号表达，包括：\n",
    "\n",
    "> * `\\d` 任意数字，等价于 [0-9]。\n",
    "> * `\\D` 任意非数字，等价于 [^0-9]。\n",
    "> * `\\w` 任意本义字符，等价于 [a-zA-Z0-9_]。\n",
    "> * `\\W` 任意非本义字符，等价于 `[^a-zA-Z0-9_]`。\n",
    "> * `\\s` 任意空白，相当于 `[ \\f\\n\\r\\t\\v]`（注意，方括号内第一个字符是空格符号）。\n",
    "> * `\\S` 任意非空白，相当于 `[^ \\f\\r\\t\\v]`（注意，紧随 `^` 之后的是一个空格符号）。\n",
    "> * `.` 除 `\\r\\n` 之外的任意字符，相当于 `[^\\r\\n]`。"
   ]
  },
  {
   "cell_type": "markdown",
   "metadata": {},
   "source": [
    "类别原子挺好记忆的，如果你知道各个字母是哪个词的首字母的话：\n",
    "\n",
    "> * `d` digits\n",
    "> * `w` word characters\n",
    "> * `s` spaces"
   ]
  },
  {
   "cell_type": "markdown",
   "metadata": {},
   "source": [
    "另外，在，空白的集合 `[ \\f\\n\\r\\t\\v]` 中，`\\f` 是分页符；`\\n\\r` 是换行符；`\\t` 是制表符；`\\v` 是纵向制表符（很少用到）。各种关于空白的字符也同样挺好记忆的，如果你知道各个字母是那个词的首字母的话：\n",
    "\n",
    "> * `f` flip\n",
    "> * `n` new line\n",
    "> * `r` return\n",
    "> * `t` tab\n",
    "> * `v` vertical tab"
   ]
  },
  {
   "cell_type": "code",
   "execution_count": null,
   "metadata": {},
   "outputs": [],
   "source": [
    "import re\n",
    "strs = '<dl>(843) 542-4256 </dl> <dl>(431) 270-9664 </dl>'\n",
    "pttn = r'\\d\\d\\d-'\n",
    "re.findall(pttn, strs)"
   ]
  },
  {
   "cell_type": "markdown",
   "metadata": {},
   "source": [
    "### 边界原子\n",
    "\n",
    "可以用边界原子指定边界，也可以称为**定位操作符**。\n",
    "\n",
    "> * `^` 匹配被搜索字符串的开始位置。\n",
    "> * `$` 匹配被搜索字符串的结束位置。\n",
    "> * `\\b` 匹配单词的边界；`er\\b`，能匹配 `wonder` 中的 `er`，却不能匹配 `error` 中的 `er`。\n",
    "> * `\\B` 匹配非单词的边界：`er\\B`，能匹配 `error` 中的 `er`，却不能匹配 `wonder` 中的 `er`。"
   ]
  },
  {
   "cell_type": "code",
   "execution_count": null,
   "metadata": {},
   "outputs": [],
   "source": [
    "import re\n",
    "\n",
    "strs = 'never ever verb however everest error wonder coder'\n",
    "pttn = r'er\\b'\n",
    "re.findall(pttn, strs)\n",
    "pttn = r'er\\B'\n",
    "re.findall(pttn, strs)"
   ]
  },
  {
   "cell_type": "markdown",
   "metadata": {},
   "source": [
    "### 组合原子\n",
    "\n",
    "我们可以用圆括号 `()` 将多个单字组合成一个原子——这么做的结果是，`()` 内的字符串将被当作一整个原子，可以被随后我们要讲解的**数量**操作符操作。\n",
    "\n",
    "另外，`()` 这个操作符，有两个作用：\n",
    "\n",
    "> * 组合（grouping），就是我们刚刚讲到的作用；\n",
    "> * 捕获（capturing）。\n",
    "\n",
    "注意区别：`er`、`[er]`、`(er)` 各部相同。\n",
    "\n",
    "> * `er` 是两个原子，`e` 和紧随其后的 `r`。\n",
    "> * `[er]` 是一个原子，或者 `e` 或者 `r`。\n",
    "> * `(er)` 是一个原子，`er`。\n",
    "\n",
    "讲到数量操作符的时候，会再次强调这点。"
   ]
  },
  {
   "cell_type": "markdown",
   "metadata": {},
   "source": [
    "## 数量操作符\n",
    "\n",
    "`+` `?` `*` `{n, m}`\n",
    "\n",
    "它们是用来限定**位于它们之前的原子允许出现的次数**；不加限定词则代表出现一次且仅出现一次。\n",
    "\n",
    "> * `+` 代表前面的原子必须至少出现一次，即，**出现次数 $\\ge$ 1** 。\n",
    ">     > * 例如，`go+gle` 可以匹配 google，gooogle， goooogle 等。\n",
    "> * `?` 代表前面的原子最多只能出现一次，即，**0 $\\le$ 出现次数 $\\le$ 1**。\n",
    ">     > * 例如，`colou?red` 可以匹配 colored 或者 coloured。\n",
    "> * `*` 代表前面的原子可以不出现，也可以出现一次或者多次，即，**出现次数 $\\ge$ 0**.\n",
    ">     > * 例如，`520*` 可以匹配 52， 520， 5200000， 5200000000000 等。\n",
    "> * `{n}` 之前的原子出现确定的 n 次。\n",
    "> * `{n,}` 之前的原子出现至少 n 次。\n",
    "> * `{n, m}` 之前的原子出现至少 n 次，至多 m 次。\n",
    ">     > * 例如，go{2,5}gle，能匹配 google gooogle， goooogle， gooooogle。但不能匹配 gogle 和 goooooogle。"
   ]
  },
  {
   "cell_type": "code",
   "execution_count": null,
   "metadata": {},
   "outputs": [],
   "source": [
    "from IPython.core.interactiveshell import InteractiveShell\n",
    "InteractiveShell.ast_node_interactivity = 'all'\n",
    "\n",
    "import re\n",
    "with open('regex-target-text-sample.txt', 'r') as f:\n",
    "    strs = f.read()\n",
    "    \n",
    "pttn = r'go+gle'\n",
    "re.findall(pttn, strs)\n",
    "\n",
    "pttn = r'go{2,5}gle'\n",
    "re.findall(pttn, strs)\n",
    "\n",
    "pttn = r'colou?red'\n",
    "re.findall(pttn, strs)\n",
    "\n",
    "pttn = r'520*'\n",
    "re.findall(pttn, strs)"
   ]
  },
  {
   "cell_type": "markdown",
   "metadata": {},
   "source": [
    "数量操作符是对它之前的原子进行操作的，换言之，**数量操作符的操作元是操作符之前的原子**。\n",
    "\n",
    "上一节提到，注意区别 `er` `[er]` `(er)` 各不相同：\n",
    "\n",
    "> * `er` 是两个原子，`e` 和之后的 `r`。 \n",
    "> * `[er]` 是一个原子，或者 `e` 或者 `r`。\n",
    "> * `(er)` 是一个原子，`er`。"
   ]
  },
  {
   "cell_type": "code",
   "execution_count": null,
   "metadata": {},
   "outputs": [],
   "source": [
    "from IPython.core.interactiveshell import InteractiveShell\n",
    "InteractiveShell.ast_node_interactivity = 'all'\n",
    "\n",
    "import re\n",
    "\n",
    "strs = 'error wonderer severeness'\n",
    "\n",
    "pttn = r'er'\n",
    "re.findall(pttn, strs)\n",
    "\n",
    "pttn = r'[er]'\n",
    "re.findall(pttn, strs)\n",
    "\n",
    "pttn = r'(er)'\n",
    "re.findall(pttn, strs)"
   ]
  },
  {
   "cell_type": "markdown",
   "metadata": {},
   "source": [
    "在以上的例子中，看不出 `er` 和 `(er)` 的区别。但是，加上数量操作符就不一样了——因为数量操作符只对他之前的那一个原子进行操作。"
   ]
  },
  {
   "cell_type": "code",
   "execution_count": null,
   "metadata": {},
   "outputs": [],
   "source": [
    "from IPython.core.interactiveshell import InteractiveShell\n",
    "InteractiveShell.ast_node_interactivity = 'all'\n",
    "\n",
    "import re\n",
    "\n",
    "strs = 'error wonderer severness'\n",
    "\n",
    "pttn = r'er+'\n",
    "re.findall(pttn, strs)\n",
    "\n",
    "pttn = r'[er]+'\n",
    "re.findall(pttn, strs)\n",
    "\n",
    "pttn = r'(er)+'\n",
    "re.findall(pttn, strs)"
   ]
  },
  {
   "cell_type": "markdown",
   "metadata": {},
   "source": [
    "## 或操作符 `|`\n",
    "或操作符是所有操作符中优先级最低的，数量操作符的优先级都比它高。所以，在 `|` 前后的原子被数量操作符（如果有的话）操作之后才交给 `|` 操作。\n",
    "\n",
    "于是，`begin|began|begun` 能够匹配 begin 或 began 或 begun。"
   ]
  },
  {
   "cell_type": "code",
   "execution_count": null,
   "metadata": {},
   "outputs": [],
   "source": [
    "import re\n",
    "\n",
    "strs = 'begin began begun begins beginn'\n",
    "pttn = r'begin|begun|began'\n",
    "re.findall(pttn, strs)"
   ]
  },
  {
   "cell_type": "markdown",
   "metadata": {},
   "source": [
    "在集合原子中（即，`[]` 内的原子）各个原子之间的关系，只有**或**——相当于方括号中的每个原子之间都有一个被省略的 `|`。\n",
    "\n",
    "**注意**：方括号中的 `|` 不被当作特殊符号，而是被当作 `|` 这个符号本身处理。在方括号中的圆括号 `()` 也被当作符号本身处理，而无分组的含义。 "
   ]
  },
  {
   "cell_type": "code",
   "execution_count": null,
   "metadata": {},
   "outputs": [],
   "source": [
    "from IPython.core.interactiveshell import InteractiveShell\n",
    "InteractiveShell.ast_node_interactivity = 'all'\n",
    "\n",
    "import re\n",
    "\n",
    "strs = 'achroiocythaemia achroiocythemia a|e'\n",
    "pttn = r'[a|ae]'\n",
    "re.findall(pttn, strs)\n",
    "\n",
    "pttn = r'[a|e]'\n",
    "re.findall(pttn, strs)\n",
    "\n",
    "pttn = r'[ae]'\n",
    "re.findall(pttn, strs)\n",
    "\n",
    "pttn = r'[(ae)]'\n",
    "re.findall(pttn, strs)\n",
    "\n",
    "pttn = r'[a|ae|(ae)]'\n",
    "re.findall(pttn, strs)"
   ]
  },
  {
   "cell_type": "markdown",
   "metadata": {},
   "source": [
    "## 匹配并捕获\n",
    "\n",
    "捕获（capture）使用的是圆括号 `()`。使用圆括号得到的匹配的值被暂存成一个**带有索引的列表**，第一个是 `$1`，第二个是 `$2`……以此类推。随后，我们可以在替换的过程中使用 `$1` `$2` 所保留的值。\n",
    "\n",
    "注意：在 python 语言中调用 `re` 模块之后，在 `re.sub()` 中调用被匹配的值，用的索引方法是 `\\1` `\\2`…… 以此类推。"
   ]
  },
  {
   "cell_type": "code",
   "execution_count": null,
   "metadata": {},
   "outputs": [],
   "source": [
    "import re\n",
    "\n",
    "strs = 'The white dog wears a black hat.'\n",
    "pttn = r'The (white|black) dog wears a (white|black) hat.'\n",
    "re.findall(pttn, strs)\n",
    "\n",
    "repl = r'The \\2 dog wears a \\1 hat.'\n",
    "re.sub(pttn, repl, strs)\n",
    "\n",
    "repl = r'The \\1 dog wears a \\1 hat.'\n",
    "re.sub(pttn, repl, strs)"
   ]
  },
  {
   "cell_type": "markdown",
   "metadata": {},
   "source": [
    "## 非捕获匹配\n",
    "\n",
    "有时，你并不想捕获圆括号中的内容，在那个地方你使用括号的目的只是分组，而非捕获，那么，就在圆括号内最开头加上 `?:`—— `(?:...)`："
   ]
  },
  {
   "cell_type": "code",
   "execution_count": null,
   "metadata": {},
   "outputs": [],
   "source": [
    "import re\n",
    "\n",
    "strs = 'The white dog wears a black hat.'\n",
    "pttn = r'The (?:white|black) dog wears a (white|black) hat.'\n",
    "re.findall(pttn, strs)  # 只捕获了一处，也就是说只有一个值将来可以被引用\n",
    "re.match(pttn, strs)\n",
    "\n",
    "repl = r'The \\1 dog wears a \\1 hat.'\n",
    "re.sub(pttn, repl, strs)"
   ]
  },
  {
   "cell_type": "markdown",
   "metadata": {},
   "source": [
    "需要注意的是，虽然非匹配捕获不将匹配值暂存以便随后替换时调用，但，\n",
    "\n",
    "> 匹配处依然是将来可被替换的位置。\n",
    "\n",
    "在 python 代码中使用正则表达式，匹配和捕获以及随后的替换，有更灵活的方式，因为可以对那些值直接编程。`re.sub()` 中，`repl` 参数甚至可以接收另外一个函数作为参数——以后你肯定会自行认真阅读以下页面中的所有内容：\n",
    "\n",
    "> https://docs.python.org/3/library/re.html"
   ]
  },
  {
   "cell_type": "markdown",
   "metadata": {},
   "source": [
    "非捕获匹配，还有若干个操作符：\n",
    "\n",
    "`(?=pattern)`\n",
    "> 正向肯定预查（look ahead positive assert）。在任何匹配规则的字符串开始处匹配查找字符串。这是一个**非获取匹配**，即，该匹配不需要获取供以后使用。例如，`Windows(?=95|98|NT|2000%60)` 能匹配 `Windows2000` 中的 `Windows`，但不能匹配 `Windows3.1` 中的 `Windows`。预查不消耗字符，即，在一个匹配发生后，在最后一次匹配之后立即开始下一次匹配的搜索，而不是从包含预查的字符之后开始。\n",
    "\n",
    "> 对最后一句的理解——一次匹配完成之后（问号后面的内容），下一次匹配（括号之前的内容）要从头开始搜素。\n",
    "\n",
    "python 给的例子：\n",
    "\n",
    "> Matches if `...` matches next, but doesn’t consume any of the string. This is called a **lookahead assertion**. For example, `Isaac (?=Asimov)` will match `'Isaac '` only if it’s followed by `'Asimov'`."
   ]
  },
  {
   "cell_type": "code",
   "execution_count": null,
   "metadata": {},
   "outputs": [],
   "source": [
    "from IPython.core.interactiveshell import InteractiveShell\n",
    "InteractiveShell.ast_node_interactivity = 'all'\n",
    "\n",
    "import re\n",
    "\n",
    "str1 = 'Windows95. Windows2000. Windows98. Windows10. Windows3.1'\n",
    "pttn = r'Windows(?=95|98|NT|2000)'\n",
    "re.findall(pttn, str1)\n",
    "re.sub(pttn, 'this is the matched', str1)\n",
    "\n",
    "str2 = 'Isaac Asimov and Isaac Newton'\n",
    "pttn = r'Isaac (?=Asimov)'\n",
    "re.findall(pttn, str2)"
   ]
  },
  {
   "cell_type": "markdown",
   "metadata": {},
   "source": [
    "`(?!pattern)`\n",
    "\n",
    "> 正向否定预查（negative assert），在任何不匹配规则的字符串开始处匹配查找字符串。这是一个非获取匹配。例如，`Windows(?!95|98|NT|2000)` 能匹配 `Windows3.1` 中的 `Windows`，不能匹配 `Windows2000` 中的 `Windows`。预查不消耗字符，也就是说，在一个匹配发生之后，在最后一次匹配之后立即开始下一次匹配的搜素，而不是从包含预查的字符之后开始。"
   ]
  },
  {
   "cell_type": "code",
   "execution_count": null,
   "metadata": {},
   "outputs": [],
   "source": [
    "from IPython.core.interactiveshell import InteractiveShell\n",
    "InteractiveShell.ast_node_interactivity = 'all'\n",
    "\n",
    "import re\n",
    "\n",
    "str1 = 'Windows95. Windows2000. Windows98. Windows10. Windows3.1'\n",
    "pttn = r'Windows(?!95|98|NT|2000)'\n",
    "re.findall(pttn, str1)\n",
    "re.sub(pttn, 'this is the matched', str1)\n",
    "\n",
    "str2 = 'Isaac Asimov and Isaac Newton'\n",
    "pttn = r'Isaac (?!Asimov)'\n",
    "re.findall(pttn, str2)"
   ]
  },
  {
   "cell_type": "markdown",
   "metadata": {},
   "source": [
    "`(?<=pattern)` \n",
    "\n",
    "> 反向（look behind）肯定预查。与正向肯定预查类似，只是方向相反。例如，`(?<=95|98|NT|2000)Windows` 能匹配 `2000Windows` 中的 `Windows`，但不能匹配 `3.1Windows` 中的 `Windows`。"
   ]
  },
  {
   "cell_type": "code",
   "execution_count": null,
   "metadata": {},
   "outputs": [],
   "source": [
    "from IPython.core.interactiveshell import InteractiveShell\n",
    "InteractiveShell.ast_node_interactivity = 'all'\n",
    "\n",
    "import re\n",
    "\n",
    "str1 = '2000Windows 95Windows 98Windows'\n",
    "pttn = r'(?<=95|9)Windows'\n",
    "re.findall(pttn, str1)"
   ]
  },
  {
   "cell_type": "markdown",
   "metadata": {},
   "source": [
    "`(?<!pattern)`\n",
    "\n",
    "> 反向否定预查。与正向否定预查类似，只算方向相反。例如 `(?<!95|98|NT|2000)Windows` 能匹配 `3.1WIndows` 中的 `Windows`，但不能匹配 `2000Windows` 中的 `Windows`。"
   ]
  },
  {
   "cell_type": "code",
   "execution_count": null,
   "metadata": {},
   "outputs": [],
   "source": [
    "from IPython.core.interactiveshell import InteractiveShell\n",
    "InteractiveShell.ast_node_interactivity = 'all'\n",
    "\n",
    "import re\n",
    "\n",
    "str1 = '2000Windows 95Windows 98Windows'\n",
    "pttn = r'(?<!95|20)Windows'\n",
    "re.findall(pttn, str1)\n",
    "re.sub(pttn, 'this is the replaced place', str1)"
   ]
  },
  {
   "cell_type": "markdown",
   "metadata": {},
   "source": [
    "## 控制标记\n",
    "\n",
    "有几个全局控制标记（Flag）需要了解，其中最常默认指定的有 `G` 和 `M`。\n",
    "\n",
    "`A/ASCII`，默认为 `False`\n",
    "\n",
    "> * `\\d \\D\\ \\w \\W \\s \\S \\b \\B` 等只限于 ASCII 字符。\n",
    "> * 行内写法 `(?a)`\n",
    "> * python `re` 模块中的常量 `re.A` `re.ASCII`"
   ]
  },
  {
   "cell_type": "code",
   "execution_count": null,
   "metadata": {},
   "outputs": [],
   "source": [
    "import re\n",
    "\n",
    "re.A??"
   ]
  },
  {
   "cell_type": "markdown",
   "metadata": {},
   "source": [
    "`I / IGNORECASE` 默认为 `False`\n",
    "\n",
    "> * 忽略字母大小写。\n",
    "> * 行内写法 `(?i)`\n",
    "> * `re` 模块中的常量：`re.I` `re.INGORECASE`"
   ]
  },
  {
   "cell_type": "markdown",
   "metadata": {},
   "source": [
    "`G/GLOBAL` 默认为 `True`\n",
    "\n",
    "> * 找到第一个 match 后不返回。\n",
    "> * 行内写法 `(?g)`\n",
    "> * python re 模块中这个标记不能更改，默认为 `False`."
   ]
  },
  {
   "cell_type": "markdown",
   "metadata": {},
   "source": [
    "`L/LOCALE` 默认为 `False`\n",
    "\n",
    "> * 由本地语言设置决定 `\\d \\D\\ \\w \\W \\s \\S \\b \\B` 等等的内容。\n",
    "> * 行内写法 `(?L)`\n",
    "> * python re 模块中的常量 `re.L` `re.LOCALE`。"
   ]
  },
  {
   "cell_type": "markdown",
   "metadata": {},
   "source": [
    "`M/MULTILINE` 默认为 `True`。\n",
    "\n",
    "> * 使用本标志后，`^` 和 `$` 匹配行首和行尾时，会增加换行符之前和之后的位置。\n",
    "> * 行内写法 (?m)\n",
    "> * python re 模块中的常量 `re.M` `re.MTLTILINE`。"
   ]
  },
  {
   "cell_type": "markdown",
   "metadata": {},
   "source": [
    "`S/DOTALL` 默认为 `False`。\n",
    "\n",
    "> * 使 `.` 完全匹配任何字符，包括换行。没有这个标志，匹配除了 `\\n` `\\r` 之外的任何字符。\n",
    "> * 行内写法 `(?s)`。\n",
    "> * python re 模块中的常量 re.S re.DOTALL。"
   ]
  },
  {
   "cell_type": "markdown",
   "metadata": {},
   "source": [
    "`X/VERBOSE` 默认为 `False`.\n",
    "\n",
    "> * 当该标志被指定时，pattern 中的空白字符会被忽略，除非该空白字符在方括号或圆括号中，或在反斜杠 `/` 之后。这样做的结果是，允许将注释写入 pattern。这些注释会被 regex 解析引擎忽略。注释用 `#` 来标识，不过该符号不能在字符串或反斜杠之后。\n",
    "> * 行内写法 `(?x)`\n",
    "> * python `re` 模块中的常量 `re.X` `re.VERBOSE`。"
   ]
  },
  {
   "cell_type": "markdown",
   "metadata": {},
   "source": [
    "## 最常用的 regex\n",
    "\n",
    "以下是 [8 个最常用的 regex](https://code.tutsplus.com/tutorials/8-regular-expressions-you-should-know--net-6149)，值得保存。"
   ]
  },
  {
   "cell_type": "markdown",
   "metadata": {},
   "source": [
    "> The key thing to remember about regular expressions is that they are almost read forwards and backwards at the same time. \n",
    "> 几乎是从前往后读的同时也从后往前读。\n",
    "\n"
   ]
  },
  {
   "attachments": {},
   "cell_type": "markdown",
   "metadata": {},
   "source": [
    "* matching username\n",
    "    > [`/^[a-z0-9_-]{3,16}$/`](https://regexper.com#/%5E[a-z0-9_-]%7B3,16%7D$/)\n",
    "\n",
    "* matching pasword\n",
    "    > [/^[a-z0-9 -]{6,18}$/](https://regexper.com#/%5E[a-z0-9_-]%7B6,18%7D$/)\n",
    "    \n",
    "* matching a HEX value\n",
    "    > [`/^#?([a-f0-9]{6}|[a-f0-9]{3})$/`](https://regexper.com#/%5E#?([a-f0-9]%7B6%7D%7C[a-f0-9]%7B3%7D)$/)\n",
    "    \n",
    "* matching a slug\n",
    "    > [`/^[a-z0-9-]+$/`](https://regexper.com#/%5E[a-z0-9-]+$/)\n",
    "    \n",
    "* matching email address\n",
    "    > [`/^([a-z0-9_\\.-]+)@([\\da-z\\.-]+)\\.([a-z\\.]{2,6})$/`](https://regexper.com#/%5E([a-z0-9_%5C.-]+)@([%5Cda-z%5C.-]+)%5C.([a-z%5C.]%7B2,6%7D)$/)\n",
    "    \n",
    "* matching an url\n",
    "    > [`/^(https?:\\/\\/)?([\\da-z\\.-]+)\\.([a-z\\.]{2,6})([\\/\\w \\.-]*)*\\/?$/`](https://regexper.com/#%2F%5E%28https%3F%3A%5C%2F%5C%2F%29%3F%28%5B%5Cda-z%5C.-%5D%2B%29%5C.%28%5Ba-z%5C.%5D%7B2%2C6%7D%29%28%5B%5C%2F%5Cw%20%5C.-%5D*%29*%5C%2F%3F%24%2F)\n",
    "\n",
    "* matching an IP address\n",
    "    > [`/^(?:(?:25[0-5]|2[0-4][0-9]|[01]?[0-9][0-9]?)\\.){3}(?:25[0-5]|2[0-4][0-9]|[01]?[0-9][0-9]?)$/`](https://regexper.com/#%2F%5E%28%3F%3A%28%3F%3A25%5B0-5%5D%7C2%5B0-4%5D%5B0-9%5D%7C%5B01%5D%3F%5B0-9%5D%5B0-9%5D%3F%29%5C.%29%7B3%7D%28%3F%3A25%5B0-5%5D%7C2%5B0-4%5D%5B0-9%5D%7C%5B01%5D%3F%5B0-9%5D%5B0-9%5D%3F%29%24%2F)\n",
    "    \n",
    "* matching an HTML tag\n",
    "    > [`/^<([a-z]+)([^<]+)*(?:>(.*)<\\/\\1>|\\s+\\/>)$/`](https://regexper.com/#%2F%5E<%28%5Ba-z%5D%2B%29%28%5B%5E<%5D%2B%29*%28%3F%3A>%28.*%29<%5C%2F%5C1>%7C%5Cs%2B%5C%2F>%29%24%2F)"
   ]
  },
  {
   "cell_type": "code",
   "execution_count": 5,
   "metadata": {},
   "outputs": [
    {
     "data": {
      "text/plain": [
       "<re.Match object; span=(0, 12), match='my-us3r_n4m3'>"
      ]
     },
     "execution_count": 5,
     "metadata": {},
     "output_type": "execute_result"
    }
   ],
   "source": [
    "import re\n",
    "\n",
    "test = 'th1s1s-wayt00_l0ngt0beausername'\n",
    "test2 = 'my-us3r_n4m3'\n",
    "pttn = r'[a-z0-9_-]{3,16}$'\n",
    "re.match(pttn, test)\n",
    "re.match(pttn, test2)"
   ]
  },
  {
   "cell_type": "code",
   "execution_count": null,
   "metadata": {},
   "outputs": [],
   "source": []
  },
  {
   "cell_type": "markdown",
   "metadata": {},
   "source": [
    "以上的正则表达式，点击都能连接到 [regexper.com](https://regexper.com)，在那里你能查看这些正则表达式的图形化示意图。另外，处于 markdown cell 的绝大多数正则表达式都有这样的连接。重读的时候可以试试。"
   ]
  },
  {
   "cell_type": "markdown",
   "metadata": {},
   "source": [
    "写 regex 最烧脑的地方在于“使其全面”——**要考虑到各种意外情况**。\n",
    "\n",
    "当然，除非必要，也不要在“全面”这事上面花太多时间——给你看一个据说是**最大程度上能够匹配所有 email 的 regex**。\n",
    "\n",
    "```regex\n",
    "(?:(?:\\r\\n)?[ \\t])*(?:(?:(?:[^()<>@,;:\\\\\".\\[\\] \\000-\\031]+(?:(?:(?:\\r\\n)?[ \\t]\n",
    ")+|\\Z|(?=[\\[\"()<>@,;:\\\\\".\\[\\]]))|\"(?:[^\\\"\\r\\\\]|\\\\.|(?:(?:\\r\\n)?[ \\t]))*\"(?:(?:\n",
    "\\r\\n)?[ \\t])*)(?:\\.(?:(?:\\r\\n)?[ \\t])*(?:[^()<>@,;:\\\\\".\\[\\] \\000-\\031]+(?:(?:(\n",
    "?:\\r\\n)?[ \\t])+|\\Z|(?=[\\[\"()<>@,;:\\\\\".\\[\\]]))|\"(?:[^\\\"\\r\\\\]|\\\\.|(?:(?:\\r\\n)?[ \n",
    "\\t]))*\"(?:(?:\\r\\n)?[ \\t])*))*@(?:(?:\\r\\n)?[ \\t])*(?:[^()<>@,;:\\\\\".\\[\\] \\000-\\0\n",
    "31]+(?:(?:(?:\\r\\n)?[ \\t])+|\\Z|(?=[\\[\"()<>@,;:\\\\\".\\[\\]]))|\\[([^\\[\\]\\r\\\\]|\\\\.)*\\\n",
    "](?:(?:\\r\\n)?[ \\t])*)(?:\\.(?:(?:\\r\\n)?[ \\t])*(?:[^()<>@,;:\\\\\".\\[\\] \\000-\\031]+\n",
    "(?:(?:(?:\\r\\n)?[ \\t])+|\\Z|(?=[\\[\"()<>@,;:\\\\\".\\[\\]]))|\\[([^\\[\\]\\r\\\\]|\\\\.)*\\](?:\n",
    "(?:\\r\\n)?[ \\t])*))*|(?:[^()<>@,;:\\\\\".\\[\\] \\000-\\031]+(?:(?:(?:\\r\\n)?[ \\t])+|\\Z\n",
    "|(?=[\\[\"()<>@,;:\\\\\".\\[\\]]))|\"(?:[^\\\"\\r\\\\]|\\\\.|(?:(?:\\r\\n)?[ \\t]))*\"(?:(?:\\r\\n)\n",
    "?[ \\t])*)*\\<(?:(?:\\r\\n)?[ \\t])*(?:@(?:[^()<>@,;:\\\\\".\\[\\] \\000-\\031]+(?:(?:(?:\\\n",
    "r\\n)?[ \\t])+|\\Z|(?=[\\[\"()<>@,;:\\\\\".\\[\\]]))|\\[([^\\[\\]\\r\\\\]|\\\\.)*\\](?:(?:\\r\\n)?[\n",
    " \\t])*)(?:\\.(?:(?:\\r\\n)?[ \\t])*(?:[^()<>@,;:\\\\\".\\[\\] \\000-\\031]+(?:(?:(?:\\r\\n)\n",
    "?[ \\t])+|\\Z|(?=[\\[\"()<>@,;:\\\\\".\\[\\]]))|\\[([^\\[\\]\\r\\\\]|\\\\.)*\\](?:(?:\\r\\n)?[ \\t]\n",
    ")*))*(?:,@(?:(?:\\r\\n)?[ \\t])*(?:[^()<>@,;:\\\\\".\\[\\] \\000-\\031]+(?:(?:(?:\\r\\n)?[\n",
    " \\t])+|\\Z|(?=[\\[\"()<>@,;:\\\\\".\\[\\]]))|\\[([^\\[\\]\\r\\\\]|\\\\.)*\\](?:(?:\\r\\n)?[ \\t])*\n",
    ")(?:\\.(?:(?:\\r\\n)?[ \\t])*(?:[^()<>@,;:\\\\\".\\[\\] \\000-\\031]+(?:(?:(?:\\r\\n)?[ \\t]\n",
    ")+|\\Z|(?=[\\[\"()<>@,;:\\\\\".\\[\\]]))|\\[([^\\[\\]\\r\\\\]|\\\\.)*\\](?:(?:\\r\\n)?[ \\t])*))*)\n",
    "*:(?:(?:\\r\\n)?[ \\t])*)?(?:[^()<>@,;:\\\\\".\\[\\] \\000-\\031]+(?:(?:(?:\\r\\n)?[ \\t])+\n",
    "|\\Z|(?=[\\[\"()<>@,;:\\\\\".\\[\\]]))|\"(?:[^\\\"\\r\\\\]|\\\\.|(?:(?:\\r\\n)?[ \\t]))*\"(?:(?:\\r\n",
    "\\n)?[ \\t])*)(?:\\.(?:(?:\\r\\n)?[ \\t])*(?:[^()<>@,;:\\\\\".\\[\\] \\000-\\031]+(?:(?:(?:\n",
    "\\r\\n)?[ \\t])+|\\Z|(?=[\\[\"()<>@,;:\\\\\".\\[\\]]))|\"(?:[^\\\"\\r\\\\]|\\\\.|(?:(?:\\r\\n)?[ \\t\n",
    "]))*\"(?:(?:\\r\\n)?[ \\t])*))*@(?:(?:\\r\\n)?[ \\t])*(?:[^()<>@,;:\\\\\".\\[\\] \\000-\\031\n",
    "]+(?:(?:(?:\\r\\n)?[ \\t])+|\\Z|(?=[\\[\"()<>@,;:\\\\\".\\[\\]]))|\\[([^\\[\\]\\r\\\\]|\\\\.)*\\](\n",
    "?:(?:\\r\\n)?[ \\t])*)(?:\\.(?:(?:\\r\\n)?[ \\t])*(?:[^()<>@,;:\\\\\".\\[\\] \\000-\\031]+(?\n",
    ":(?:(?:\\r\\n)?[ \\t])+|\\Z|(?=[\\[\"()<>@,;:\\\\\".\\[\\]]))|\\[([^\\[\\]\\r\\\\]|\\\\.)*\\](?:(?\n",
    ":\\r\\n)?[ \\t])*))*\\>(?:(?:\\r\\n)?[ \\t])*)|(?:[^()<>@,;:\\\\\".\\[\\] \\000-\\031]+(?:(?\n",
    ":(?:\\r\\n)?[ \\t])+|\\Z|(?=[\\[\"()<>@,;:\\\\\".\\[\\]]))|\"(?:[^\\\"\\r\\\\]|\\\\.|(?:(?:\\r\\n)?\n",
    "[ \\t]))*\"(?:(?:\\r\\n)?[ \\t])*)*:(?:(?:\\r\\n)?[ \\t])*(?:(?:(?:[^()<>@,;:\\\\\".\\[\\] \n",
    "\\000-\\031]+(?:(?:(?:\\r\\n)?[ \\t])+|\\Z|(?=[\\[\"()<>@,;:\\\\\".\\[\\]]))|\"(?:[^\\\"\\r\\\\]|\n",
    "\\\\.|(?:(?:\\r\\n)?[ \\t]))*\"(?:(?:\\r\\n)?[ \\t])*)(?:\\.(?:(?:\\r\\n)?[ \\t])*(?:[^()<>\n",
    "@,;:\\\\\".\\[\\] \\000-\\031]+(?:(?:(?:\\r\\n)?[ \\t])+|\\Z|(?=[\\[\"()<>@,;:\\\\\".\\[\\]]))|\"\n",
    "(?:[^\\\"\\r\\\\]|\\\\.|(?:(?:\\r\\n)?[ \\t]))*\"(?:(?:\\r\\n)?[ \\t])*))*@(?:(?:\\r\\n)?[ \\t]\n",
    ")*(?:[^()<>@,;:\\\\\".\\[\\] \\000-\\031]+(?:(?:(?:\\r\\n)?[ \\t])+|\\Z|(?=[\\[\"()<>@,;:\\\\\n",
    "\".\\[\\]]))|\\[([^\\[\\]\\r\\\\]|\\\\.)*\\](?:(?:\\r\\n)?[ \\t])*)(?:\\.(?:(?:\\r\\n)?[ \\t])*(?\n",
    ":[^()<>@,;:\\\\\".\\[\\] \\000-\\031]+(?:(?:(?:\\r\\n)?[ \\t])+|\\Z|(?=[\\[\"()<>@,;:\\\\\".\\[\n",
    "\\]]))|\\[([^\\[\\]\\r\\\\]|\\\\.)*\\](?:(?:\\r\\n)?[ \\t])*))*|(?:[^()<>@,;:\\\\\".\\[\\] \\000-\n",
    "\\031]+(?:(?:(?:\\r\\n)?[ \\t])+|\\Z|(?=[\\[\"()<>@,;:\\\\\".\\[\\]]))|\"(?:[^\\\"\\r\\\\]|\\\\.|(\n",
    "?:(?:\\r\\n)?[ \\t]))*\"(?:(?:\\r\\n)?[ \\t])*)*\\<(?:(?:\\r\\n)?[ \\t])*(?:@(?:[^()<>@,;\n",
    ":\\\\\".\\[\\] \\000-\\031]+(?:(?:(?:\\r\\n)?[ \\t])+|\\Z|(?=[\\[\"()<>@,;:\\\\\".\\[\\]]))|\\[([\n",
    "^\\[\\]\\r\\\\]|\\\\.)*\\](?:(?:\\r\\n)?[ \\t])*)(?:\\.(?:(?:\\r\\n)?[ \\t])*(?:[^()<>@,;:\\\\\"\n",
    ".\\[\\] \\000-\\031]+(?:(?:(?:\\r\\n)?[ \\t])+|\\Z|(?=[\\[\"()<>@,;:\\\\\".\\[\\]]))|\\[([^\\[\\\n",
    "]\\r\\\\]|\\\\.)*\\](?:(?:\\r\\n)?[ \\t])*))*(?:,@(?:(?:\\r\\n)?[ \\t])*(?:[^()<>@,;:\\\\\".\\\n",
    "[\\] \\000-\\031]+(?:(?:(?:\\r\\n)?[ \\t])+|\\Z|(?=[\\[\"()<>@,;:\\\\\".\\[\\]]))|\\[([^\\[\\]\\\n",
    "r\\\\]|\\\\.)*\\](?:(?:\\r\\n)?[ \\t])*)(?:\\.(?:(?:\\r\\n)?[ \\t])*(?:[^()<>@,;:\\\\\".\\[\\] \n",
    "\\000-\\031]+(?:(?:(?:\\r\\n)?[ \\t])+|\\Z|(?=[\\[\"()<>@,;:\\\\\".\\[\\]]))|\\[([^\\[\\]\\r\\\\]\n",
    "|\\\\.)*\\](?:(?:\\r\\n)?[ \\t])*))*)*:(?:(?:\\r\\n)?[ \\t])*)?(?:[^()<>@,;:\\\\\".\\[\\] \\0\n",
    "00-\\031]+(?:(?:(?:\\r\\n)?[ \\t])+|\\Z|(?=[\\[\"()<>@,;:\\\\\".\\[\\]]))|\"(?:[^\\\"\\r\\\\]|\\\\\n",
    ".|(?:(?:\\r\\n)?[ \\t]))*\"(?:(?:\\r\\n)?[ \\t])*)(?:\\.(?:(?:\\r\\n)?[ \\t])*(?:[^()<>@,\n",
    ";:\\\\\".\\[\\] \\000-\\031]+(?:(?:(?:\\r\\n)?[ \\t])+|\\Z|(?=[\\[\"()<>@,;:\\\\\".\\[\\]]))|\"(?\n",
    ":[^\\\"\\r\\\\]|\\\\.|(?:(?:\\r\\n)?[ \\t]))*\"(?:(?:\\r\\n)?[ \\t])*))*@(?:(?:\\r\\n)?[ \\t])*\n",
    "(?:[^()<>@,;:\\\\\".\\[\\] \\000-\\031]+(?:(?:(?:\\r\\n)?[ \\t])+|\\Z|(?=[\\[\"()<>@,;:\\\\\".\n",
    "\\[\\]]))|\\[([^\\[\\]\\r\\\\]|\\\\.)*\\](?:(?:\\r\\n)?[ \\t])*)(?:\\.(?:(?:\\r\\n)?[ \\t])*(?:[\n",
    "^()<>@,;:\\\\\".\\[\\] \\000-\\031]+(?:(?:(?:\\r\\n)?[ \\t])+|\\Z|(?=[\\[\"()<>@,;:\\\\\".\\[\\]\n",
    "]))|\\[([^\\[\\]\\r\\\\]|\\\\.)*\\](?:(?:\\r\\n)?[ \\t])*))*\\>(?:(?:\\r\\n)?[ \\t])*)(?:,\\s*(\n",
    "?:(?:[^()<>@,;:\\\\\".\\[\\] \\000-\\031]+(?:(?:(?:\\r\\n)?[ \\t])+|\\Z|(?=[\\[\"()<>@,;:\\\\\n",
    "\".\\[\\]]))|\"(?:[^\\\"\\r\\\\]|\\\\.|(?:(?:\\r\\n)?[ \\t]))*\"(?:(?:\\r\\n)?[ \\t])*)(?:\\.(?:(\n",
    "?:\\r\\n)?[ \\t])*(?:[^()<>@,;:\\\\\".\\[\\] \\000-\\031]+(?:(?:(?:\\r\\n)?[ \\t])+|\\Z|(?=[\n",
    "\\[\"()<>@,;:\\\\\".\\[\\]]))|\"(?:[^\\\"\\r\\\\]|\\\\.|(?:(?:\\r\\n)?[ \\t]))*\"(?:(?:\\r\\n)?[ \\t\n",
    "])*))*@(?:(?:\\r\\n)?[ \\t])*(?:[^()<>@,;:\\\\\".\\[\\] \\000-\\031]+(?:(?:(?:\\r\\n)?[ \\t\n",
    "])+|\\Z|(?=[\\[\"()<>@,;:\\\\\".\\[\\]]))|\\[([^\\[\\]\\r\\\\]|\\\\.)*\\](?:(?:\\r\\n)?[ \\t])*)(?\n",
    ":\\.(?:(?:\\r\\n)?[ \\t])*(?:[^()<>@,;:\\\\\".\\[\\] \\000-\\031]+(?:(?:(?:\\r\\n)?[ \\t])+|\n",
    "\\Z|(?=[\\[\"()<>@,;:\\\\\".\\[\\]]))|\\[([^\\[\\]\\r\\\\]|\\\\.)*\\](?:(?:\\r\\n)?[ \\t])*))*|(?:\n",
    "[^()<>@,;:\\\\\".\\[\\] \\000-\\031]+(?:(?:(?:\\r\\n)?[ \\t])+|\\Z|(?=[\\[\"()<>@,;:\\\\\".\\[\\\n",
    "]]))|\"(?:[^\\\"\\r\\\\]|\\\\.|(?:(?:\\r\\n)?[ \\t]))*\"(?:(?:\\r\\n)?[ \\t])*)*\\<(?:(?:\\r\\n)\n",
    "?[ \\t])*(?:@(?:[^()<>@,;:\\\\\".\\[\\] \\000-\\031]+(?:(?:(?:\\r\\n)?[ \\t])+|\\Z|(?=[\\[\"\n",
    "()<>@,;:\\\\\".\\[\\]]))|\\[([^\\[\\]\\r\\\\]|\\\\.)*\\](?:(?:\\r\\n)?[ \\t])*)(?:\\.(?:(?:\\r\\n)\n",
    "?[ \\t])*(?:[^()<>@,;:\\\\\".\\[\\] \\000-\\031]+(?:(?:(?:\\r\\n)?[ \\t])+|\\Z|(?=[\\[\"()<>\n",
    "@,;:\\\\\".\\[\\]]))|\\[([^\\[\\]\\r\\\\]|\\\\.)*\\](?:(?:\\r\\n)?[ \\t])*))*(?:,@(?:(?:\\r\\n)?[\n",
    " \\t])*(?:[^()<>@,;:\\\\\".\\[\\] \\000-\\031]+(?:(?:(?:\\r\\n)?[ \\t])+|\\Z|(?=[\\[\"()<>@,\n",
    ";:\\\\\".\\[\\]]))|\\[([^\\[\\]\\r\\\\]|\\\\.)*\\](?:(?:\\r\\n)?[ \\t])*)(?:\\.(?:(?:\\r\\n)?[ \\t]\n",
    ")*(?:[^()<>@,;:\\\\\".\\[\\] \\000-\\031]+(?:(?:(?:\\r\\n)?[ \\t])+|\\Z|(?=[\\[\"()<>@,;:\\\\\n",
    "\".\\[\\]]))|\\[([^\\[\\]\\r\\\\]|\\\\.)*\\](?:(?:\\r\\n)?[ \\t])*))*)*:(?:(?:\\r\\n)?[ \\t])*)?\n",
    "(?:[^()<>@,;:\\\\\".\\[\\] \\000-\\031]+(?:(?:(?:\\r\\n)?[ \\t])+|\\Z|(?=[\\[\"()<>@,;:\\\\\".\n",
    "\\[\\]]))|\"(?:[^\\\"\\r\\\\]|\\\\.|(?:(?:\\r\\n)?[ \\t]))*\"(?:(?:\\r\\n)?[ \\t])*)(?:\\.(?:(?:\n",
    "\\r\\n)?[ \\t])*(?:[^()<>@,;:\\\\\".\\[\\] \\000-\\031]+(?:(?:(?:\\r\\n)?[ \\t])+|\\Z|(?=[\\[\n",
    "\"()<>@,;:\\\\\".\\[\\]]))|\"(?:[^\\\"\\r\\\\]|\\\\.|(?:(?:\\r\\n)?[ \\t]))*\"(?:(?:\\r\\n)?[ \\t])\n",
    "*))*@(?:(?:\\r\\n)?[ \\t])*(?:[^()<>@,;:\\\\\".\\[\\] \\000-\\031]+(?:(?:(?:\\r\\n)?[ \\t])\n",
    "+|\\Z|(?=[\\[\"()<>@,;:\\\\\".\\[\\]]))|\\[([^\\[\\]\\r\\\\]|\\\\.)*\\](?:(?:\\r\\n)?[ \\t])*)(?:\\\n",
    ".(?:(?:\\r\\n)?[ \\t])*(?:[^()<>@,;:\\\\\".\\[\\] \\000-\\031]+(?:(?:(?:\\r\\n)?[ \\t])+|\\Z\n",
    "|(?=[\\[\"()<>@,;:\\\\\".\\[\\]]))|\\[([^\\[\\]\\r\\\\]|\\\\.)*\\](?:(?:\\r\\n)?[ \\t])*))*\\>(?:(\n",
    "?:\\r\\n)?[ \\t])*))*)?;\\s*)\n",
    "```"
   ]
  },
  {
   "cell_type": "markdown",
   "metadata": {},
   "source": [
    "## 趣事一则\n",
    "\n",
    "人类历史上第一个聊天机器人程序。\n",
    "[ELIZA](https://en.wikipedia.org/wiki/ELIZA)\n",
    "\n",
    "[PARRY](https://en.wikipedia.org/wiki/PARRY)\n",
    "\n",
    "[两个**正则化**机器人聊天的故事。](https://tools.ietf.org/html/rfc439)\n",
    "\n",
    "用 python 重新实现的 eliza 代码。"
   ]
  },
  {
   "cell_type": "code",
   "execution_count": null,
   "metadata": {},
   "outputs": [],
   "source": [
    "# %load https://raw.githubusercontent.com/jezhiggins/eliza.py/master/eliza.py\n",
    "#----------------------------------------------------------------------\n",
    "#  eliza.py\n",
    "#\n",
    "#  a cheezy little Eliza knock-off by Joe Strout\n",
    "#  with some updates by Jeff Epler\n",
    "#  hacked into a module and updated by Jez Higgins\n",
    "#----------------------------------------------------------------------\n",
    "\n",
<<<<<<< HEAD
    "import string\n",
    "import re\n",
    "import random\n",
    "\n",
    "class eliza:\n",
    "    def __init__(self):\n",
    "        self.keys = list(map(lambda x:re.compile(x[0], re.IGNORECASE),gPats))\n",
    "        self.values = list(map(lambda x:x[1],gPats))\n",
    "\n",
    "    #----------------------------------------------------------------------\n",
    "    # translate: take a string, replace any words found in dict.keys()\n",
    "    #  with the corresponding dict.values()\n",
    "    #----------------------------------------------------------------------\n",
    "    def translate(self,str,dict):\n",
    "        words = str.lower().split()\n",
    "        keys = dict.keys();\n",
    "        for i in range(0,len(words)):\n",
    "            if words[i] in keys:\n",
    "                words[i] = dict[words[i]]\n",
    "        return ' '.join(words)\n",
    "\n",
    "    #----------------------------------------------------------------------\n",
    "    #  respond: take a string, a set of regexps, and a corresponding\n",
    "    #    set of response lists; find a match, and return a randomly\n",
    "    #    chosen response from the corresponding list.\n",
    "    #----------------------------------------------------------------------\n",
    "    def respond(self,str):\n",
    "        # find a match among keys\n",
    "        for i in range(0, len(self.keys)):\n",
    "            match = self.keys[i].match(str)\n",
    "            if match:\n",
    "                # found a match ... stuff with corresponding value\n",
    "                # chosen randomly from among the available options\n",
    "                resp = random.choice(self.values[i])\n",
    "                # we've got a response... stuff in reflected text where indicated\n",
    "                pos = resp.find('%')\n",
    "                while pos > -1:\n",
    "                    num = int(resp[pos+1:pos+2])\n",
    "                    resp = resp[:pos] + \\\n",
    "                        self.translate(match.group(num),gReflections) +\\\n",
    "                        resp[pos+2:]\n",
    "                    pos = resp.find('%')\n",
    "                # fix munged punctuation at the end\n",
    "                if resp[-2:] == '?.': resp = resp[:-2] + '.'\n",
    "                if resp[-2:] == '??': resp = resp[:-2] + '?'\n",
    "                return resp\n",
    "\n",
    "#----------------------------------------------------------------------\n",
    "# gReflections, a translation table used to convert things you say\n",
    "#    into things the computer says back, e.g. \"I am\" --> \"you are\"\n",
    "#----------------------------------------------------------------------\n",
    "gReflections = {\n",
    "    \"am\"   : \"are\",\n",
    "    \"was\"  : \"were\",\n",
    "    \"i\"    : \"you\",\n",
    "    \"i'd\"  : \"you would\",\n",
    "    \"i've\"  : \"you have\",\n",
    "    \"i'll\"  : \"you will\",\n",
    "    \"my\"  : \"your\",\n",
    "    \"are\"  : \"am\",\n",
    "    \"you've\": \"I have\",\n",
    "    \"you'll\": \"I will\",\n",
    "    \"your\"  : \"my\",\n",
    "    \"yours\"  : \"mine\",\n",
    "    \"you\"  : \"me\",\n",
    "    \"me\"  : \"you\"\n",
    "}\n",
    "\n",
    "#----------------------------------------------------------------------\n",
    "# gPats, the main response table.  Each element of the list is a\n",
    "#  two-element list; the first is a regexp, and the second is a\n",
    "#  list of possible responses, with group-macros labelled as\n",
    "#  %1, %2, etc.\n",
    "#----------------------------------------------------------------------\n",
    "gPats = [\n",
    "    [r'I need (.*)',\n",
    "    [  \"Why do you need %1?\",\n",
    "    \"Would it really help you to get %1?\",\n",
    "    \"Are you sure you need %1?\"]],\n",
    "\n",
    "    [r'Why don\\'?t you ([^\\?]*)\\??',\n",
    "    [  \"Do you really think I don't %1?\",\n",
    "    \"Perhaps eventually I will %1.\",\n",
    "    \"Do you really want me to %1?\"]],\n",
    "\n",
    "    [r'Why can\\'?t I ([^\\?]*)\\??',\n",
    "    [  \"Do you think you should be able to %1?\",\n",
    "    \"If you could %1, what would you do?\",\n",
    "    \"I don't know -- why can't you %1?\",\n",
    "    \"Have you really tried?\"]],\n",
    "\n",
    "    [r'I can\\'?t (.*)',\n",
    "    [  \"How do you know you can't %1?\",\n",
    "    \"Perhaps you could %1 if you tried.\",\n",
    "    \"What would it take for you to %1?\"]],\n",
    "\n",
    "    [r'I am (.*)',\n",
    "    [  \"Did you come to me because you are %1?\",\n",
    "    \"How long have you been %1?\",\n",
    "    \"How do you feel about being %1?\"]],\n",
    "\n",
    "    [r'I\\'?m (.*)',\n",
    "    [  \"How does being %1 make you feel?\",\n",
    "    \"Do you enjoy being %1?\",\n",
    "    \"Why do you tell me you're %1?\",\n",
    "    \"Why do you think you're %1?\"]],\n",
    "\n",
    "    [r'Are you ([^\\?]*)\\??',\n",
    "    [  \"Why does it matter whether I am %1?\",\n",
    "    \"Would you prefer it if I were not %1?\",\n",
    "    \"Perhaps you believe I am %1.\",\n",
    "    \"I may be %1 -- what do you think?\"]],\n",
    "\n",
    "    [r'What (.*)',\n",
    "    [  \"Why do you ask?\",\n",
    "    \"How would an answer to that help you?\",\n",
    "    \"What do you think?\"]],\n",
    "\n",
    "    [r'How (.*)',\n",
    "    [  \"How do you suppose?\",\n",
    "    \"Perhaps you can answer your own question.\",\n",
    "    \"What is it you're really asking?\"]],\n",
    "\n",
    "    [r'Because (.*)',\n",
    "    [  \"Is that the real reason?\",\n",
    "    \"What other reasons come to mind?\",\n",
    "    \"Does that reason apply to anything else?\",\n",
    "    \"If %1, what else must be true?\"]],\n",
    "\n",
    "    [r'(.*) sorry (.*)',\n",
    "    [  \"There are many times when no apology is needed.\",\n",
    "    \"What feelings do you have when you apologize?\"]],\n",
    "\n",
    "    [r'Hello(.*)',\n",
    "    [  \"Hello... I'm glad you could drop by today.\",\n",
    "    \"Hi there... how are you today?\",\n",
    "    \"Hello, how are you feeling today?\"]],\n",
    "\n",
    "    [r'I think (.*)',\n",
    "    [  \"Do you doubt %1?\",\n",
    "    \"Do you really think so?\",\n",
    "    \"But you're not sure %1?\"]],\n",
    "\n",
    "    [r'(.*) friend (.*)',\n",
    "    [  \"Tell me more about your friends.\",\n",
    "    \"When you think of a friend, what comes to mind?\",\n",
    "    \"Why don't you tell me about a childhood friend?\"]],\n",
    "\n",
    "    [r'Yes',\n",
    "    [  \"You seem quite sure.\",\n",
    "    \"OK, but can you elaborate a bit?\"]],\n",
    "\n",
    "    [r'(.*) computer(.*)',\n",
    "    [  \"Are you really talking about me?\",\n",
    "    \"Does it seem strange to talk to a computer?\",\n",
    "    \"How do computers make you feel?\",\n",
    "    \"Do you feel threatened by computers?\"]],\n",
    "\n",
    "    [r'Is it (.*)',\n",
    "    [  \"Do you think it is %1?\",\n",
    "    \"Perhaps it's %1 -- what do you think?\",\n",
    "    \"If it were %1, what would you do?\",\n",
    "    \"It could well be that %1.\"]],\n",
    "\n",
    "    [r'It is (.*)',\n",
    "    [  \"You seem very certain.\",\n",
    "    \"If I told you that it probably isn't %1, what would you feel?\"]],\n",
    "\n",
    "    [r'Can you ([^\\?]*)\\??',\n",
    "    [  \"What makes you think I can't %1?\",\n",
    "    \"If I could %1, then what?\",\n",
    "    \"Why do you ask if I can %1?\"]],\n",
    "\n",
    "    [r'Can I ([^\\?]*)\\??',\n",
    "    [  \"Perhaps you don't want to %1.\",\n",
    "    \"Do you want to be able to %1?\",\n",
    "    \"If you could %1, would you?\"]],\n",
    "\n",
    "    [r'You are (.*)',\n",
    "    [  \"Why do you think I am %1?\",\n",
    "    \"Does it please you to think that I'm %1?\",\n",
    "    \"Perhaps you would like me to be %1.\",\n",
    "    \"Perhaps you're really talking about yourself?\"]],\n",
    "\n",
    "    [r'You\\'?re (.*)',\n",
    "    [  \"Why do you say I am %1?\",\n",
    "    \"Why do you think I am %1?\",\n",
    "    \"Are we talking about you, or me?\"]],\n",
    "\n",
    "    [r'I don\\'?t (.*)',\n",
    "    [  \"Don't you really %1?\",\n",
    "    \"Why don't you %1?\",\n",
    "    \"Do you want to %1?\"]],\n",
    "\n",
    "    [r'I feel (.*)',\n",
    "    [  \"Good, tell me more about these feelings.\",\n",
    "    \"Do you often feel %1?\",\n",
    "    \"When do you usually feel %1?\",\n",
    "    \"When you feel %1, what do you do?\"]],\n",
    "\n",
    "    [r'I have (.*)',\n",
    "    [  \"Why do you tell me that you've %1?\",\n",
    "    \"Have you really %1?\",\n",
    "    \"Now that you have %1, what will you do next?\"]],\n",
    "\n",
    "    [r'I would (.*)',\n",
    "    [  \"Could you explain why you would %1?\",\n",
    "    \"Why would you %1?\",\n",
    "    \"Who else knows that you would %1?\"]],\n",
    "\n",
    "    [r'Is there (.*)',\n",
    "    [  \"Do you think there is %1?\",\n",
    "    \"It's likely that there is %1.\",\n",
    "    \"Would you like there to be %1?\"]],\n",
    "\n",
    "    [r'My (.*)',\n",
    "    [  \"I see, your %1.\",\n",
    "    \"Why do you say that your %1?\",\n",
    "    \"When your %1, how do you feel?\"]],\n",
    "\n",
    "    [r'You (.*)',\n",
    "    [  \"We should be discussing you, not me.\",\n",
    "    \"Why do you say that about me?\",\n",
    "    \"Why do you care whether I %1?\"]],\n",
    "\n",
    "    [r'Why (.*)',\n",
    "    [  \"Why don't you tell me the reason why %1?\",\n",
    "    \"Why do you think %1?\" ]],\n",
    "\n",
    "    [r'I want (.*)',\n",
    "    [  \"What would it mean to you if you got %1?\",\n",
    "    \"Why do you want %1?\",\n",
    "    \"What would you do if you got %1?\",\n",
    "    \"If you got %1, then what would you do?\"]],\n",
    "\n",
    "    [r'(.*) mother(.*)',\n",
    "    [  \"Tell me more about your mother.\",\n",
    "    \"What was your relationship with your mother like?\",\n",
    "    \"How do you feel about your mother?\",\n",
    "    \"How does this relate to your feelings today?\",\n",
    "    \"Good family relations are important.\"]],\n",
    "\n",
    "    [r'(.*) father(.*)',\n",
    "    [  \"Tell me more about your father.\",\n",
    "    \"How did your father make you feel?\",\n",
    "    \"How do you feel about your father?\",\n",
    "    \"Does your relationship with your father relate to your feelings today?\",\n",
    "    \"Do you have trouble showing affection with your family?\"]],\n",
    "\n",
    "    [r'(.*) child(.*)',\n",
    "    [  \"Did you have close friends as a child?\",\n",
    "    \"What is your favorite childhood memory?\",\n",
    "    \"Do you remember any dreams or nightmares from childhood?\",\n",
    "    \"Did the other children sometimes tease you?\",\n",
    "    \"How do you think your childhood experiences relate to your feelings today?\"]],\n",
    "\n",
    "    [r'(.*)\\?',\n",
    "    [  \"Why do you ask that?\",\n",
    "    \"Please consider whether you can answer your own question.\",\n",
    "    \"Perhaps the answer lies within yourself?\",\n",
    "    \"Why don't you tell me?\"]],\n",
    "\n",
    "    [r'quit',\n",
    "    [  \"Thank you for talking with me.\",\n",
    "    \"Good-bye.\",\n",
    "    \"Thank you, that will be $150.  Have a good day!\"]],\n",
    "\n",
    "    [r'(.*)',\n",
    "    [  \"Please tell me more.\",\n",
    "    \"Let's change focus a bit... Tell me about your family.\",\n",
    "    \"Can you elaborate on that?\",\n",
    "    \"Why do you say that %1?\",\n",
    "    \"I see.\",\n",
    "    \"Very interesting.\",\n",
    "    \"%1.\",\n",
    "    \"I see.  And what does that tell you?\",\n",
    "    \"How does that make you feel?\",\n",
    "    \"How do you feel when you say that?\"]]\n",
    "]\n",
    "\n",
    "#----------------------------------------------------------------------\n",
    "#  command_interface\n",
    "#----------------------------------------------------------------------\n",
    "def command_interface():\n",
    "    print('Therapist\\n---------')\n",
    "    print('Talk to the program by typing in plain English, using normal upper-')\n",
    "    print('and lower-case letters and punctuation.  Enter \"quit\" when done.')\n",
    "    print('='*72)\n",
    "    print('Hello.  How are you feeling today?')\n",
    "\n",
    "    s = ''\n",
    "    therapist = eliza()\n",
    "    while s != 'quit':\n",
    "        try:\n",
    "            s = input('> ')\n",
    "        except EOFError:\n",
    "            s = 'quit'\n",
    "        print(s)\n",
    "        while s[-1] in '!.':\n",
    "            s = s[:-1]\n",
    "        print(therapist.respond(s))\n",
    "\n",
    "\n",
    "if __name__ == \"__main__\":\n",
    "    command_interface()"
=======
    "有几个全局控制标记（Flag）需要了解，其中最常默认指定的有 `G` 和 `M`：\n",
    "\n",
    "`A / ASCII`，"
>>>>>>> 096f7c6d5229a9a03012a33d170bd89f726fde9e
   ]
  }
 ],
 "metadata": {
  "kernelspec": {
   "display_name": "Python 3",
   "language": "python",
   "name": "python3"
  },
  "language_info": {
   "codemirror_mode": {
    "name": "ipython",
    "version": 3
   },
   "file_extension": ".py",
   "mimetype": "text/x-python",
   "name": "python",
   "nbconvert_exporter": "python",
   "pygments_lexer": "ipython3",
   "version": "3.7.3"
  },
  "latex_envs": {
   "LaTeX_envs_menu_present": true,
   "autoclose": false,
   "autocomplete": true,
   "bibliofile": "biblio.bib",
   "cite_by": "apalike",
   "current_citInitial": 1,
   "eqLabelWithNumbers": true,
   "eqNumInitial": 1,
   "hotkeys": {
    "equation": "Ctrl-E",
    "itemize": "Ctrl-I"
   },
   "labels_anchors": false,
   "latex_user_defs": false,
   "report_style_numbering": false,
   "user_envs_cfg": false
  },
  "toc": {
   "base_numbering": 1,
   "nav_menu": {},
   "number_sections": false,
   "sideBar": true,
   "skip_h1_title": false,
   "title_cell": "Table of Contents",
   "title_sidebar": "Contents",
   "toc_cell": false,
   "toc_position": {},
   "toc_section_display": true,
   "toc_window_display": false
  }
 },
 "nbformat": 4,
 "nbformat_minor": 2
}
