{
 "cells": [
  {
   "cell_type": "markdown",
   "metadata": {},
   "source": [
    "# 字符串\n",
    "\n",
    "任何一本编程书之中，关于字符串的内容总是很长，处理字符串是计算机程序中最普遍的需求——程序的主要功能就是完成人机交互，人们所用的就字符串而不是二进制数字。\n",
    "\n",
    "在计算机里，所有的东西最终都要被转换为数值。又由于计算机靠的是电路，所以，最终只能处理 `0` 和 `1`，于是，最基本的数值是二进制；于是，连整数、浮点数，都要最终转换为二进制数值。\n",
    "\n",
    "这就是为什么在所有编程语言中，`1.1 + 2.2` 并不是你所想象的 `3.3` 的原因。"
   ]
  },
  {
   "cell_type": "code",
   "execution_count": 2,
   "metadata": {},
   "outputs": [
    {
     "data": {
      "text/plain": [
       "3.3000000000000003"
      ]
     },
     "execution_count": 2,
     "metadata": {},
     "output_type": "execute_result"
    }
   ],
   "source": [
    "1.1 + 2.2"
   ]
  },
  {
   "cell_type": "markdown",
   "metadata": {},
   "source": [
    "十进制数转换为二进制数的时候，会损失小数精度。\n",
    "多次浮点数字转换成二进制相互运算之后再转换为十进制数，精度损失就更大了。\n",
    "[关于 decimal 模块的文档](https://docs.python.org/3/library/decimal.html)。\n",
    "\n",
    "空字符串的值是 `None`。"
   ]
  },
  {
   "cell_type": "markdown",
   "metadata": {},
   "source": [
    "## 字符码表的转换\n",
    "\n",
    "把单个字符转换成码值得函数是 `ord()`，它只接收单个字符，否则会报错；它返回该字符的 unicode 编码。\n",
    "与 `ord()` 相对应的函数是 `chr()`，它接收且只接收一个整数作为参数，而后返回相应的字符。"
   ]
  },
  {
   "cell_type": "code",
   "execution_count": 7,
   "metadata": {},
   "outputs": [
    {
     "data": {
      "text/plain": [
       "97"
      ]
     },
     "execution_count": 7,
     "metadata": {},
     "output_type": "execute_result"
    },
    {
     "data": {
      "text/plain": [
       "'z'"
      ]
     },
     "execution_count": 7,
     "metadata": {},
     "output_type": "execute_result"
    },
    {
     "data": {
      "text/plain": [
       "27653"
      ]
     },
     "execution_count": 7,
     "metadata": {},
     "output_type": "execute_result"
    },
    {
     "data": {
      "text/plain": [
       "'挊'"
      ]
     },
     "execution_count": 7,
     "metadata": {},
     "output_type": "execute_result"
    },
    {
     "ename": "TypeError",
     "evalue": "ord() expected a character, but string of length 6 found",
     "output_type": "error",
     "traceback": [
      "\u001b[1;31m---------------------------------------------------------------------------\u001b[0m",
      "\u001b[1;31mTypeError\u001b[0m                                 Traceback (most recent call last)",
      "\u001b[1;32m<ipython-input-7-f910ed11d1a8>\u001b[0m in \u001b[0;36m<module>\u001b[1;34m\u001b[0m\n\u001b[0;32m      8\u001b[0m \u001b[0mchr\u001b[0m\u001b[1;33m(\u001b[0m\u001b[1;36m25354\u001b[0m\u001b[1;33m)\u001b[0m \u001b[1;31m# 这个字估计你也不认识……\u001b[0m\u001b[1;33m\u001b[0m\u001b[1;33m\u001b[0m\u001b[0m\n\u001b[0;32m      9\u001b[0m \u001b[1;33m\u001b[0m\u001b[0m\n\u001b[1;32m---> 10\u001b[1;33m \u001b[0mord\u001b[0m\u001b[1;33m(\u001b[0m\u001b[1;34m'Python'\u001b[0m\u001b[1;33m)\u001b[0m \u001b[1;31m# 这一句会报错\u001b[0m\u001b[1;33m\u001b[0m\u001b[1;33m\u001b[0m\u001b[0m\n\u001b[0m",
      "\u001b[1;31mTypeError\u001b[0m: ord() expected a character, but string of length 6 found"
     ]
    }
   ],
   "source": [
    "from IPython.core.interactiveshell import InteractiveShell\n",
    "InteractiveShell.ast_node_interactivity = \"all\"\n",
    "\n",
    "ord('a')\n",
    "chr(122)\n",
    "\n",
    "ord('氅')  # 完了，汉字也有你不认识的吧？\n",
    "chr(25354) # 这个字估计你也不认识……\n",
    "\n",
    "ord('Python') # 这一句会报错"
   ]
  },
  {
   "cell_type": "markdown",
   "metadata": {},
   "source": [
    "## 字符串的标示\n",
    "\n",
    "单引号、双引号、三个单引号、三个双引号"
   ]
  },
  {
   "cell_type": "code",
   "execution_count": 8,
   "metadata": {},
   "outputs": [
    {
     "data": {
      "text/plain": [
       "'Simple is better than complex.'"
      ]
     },
     "execution_count": 8,
     "metadata": {},
     "output_type": "execute_result"
    },
    {
     "data": {
      "text/plain": [
       "'Simple is better than complex.'"
      ]
     },
     "execution_count": 8,
     "metadata": {},
     "output_type": "execute_result"
    }
   ],
   "source": [
    "'Simple is better than complex.' # 用单引号\n",
    "\n",
    "\"Simple is better than complex.\" # 用双引号"
   ]
  },
  {
   "cell_type": "code",
   "execution_count": 9,
   "metadata": {},
   "outputs": [
    {
     "data": {
      "text/plain": [
       "'\\nSimple is better than complex.\\nComplex is better than complicated.\\n'"
      ]
     },
     "execution_count": 9,
     "metadata": {},
     "output_type": "execute_result"
    }
   ],
   "source": [
    "# 用三个单引号。注意输出结果中的 \\n\n",
    "# 这个字符串，看起来是两行，保存在内存或者变量之中的时候，\n",
    "# 是一整串，其中的换行是用 \\n 表示的。\n",
    "'''\n",
    "Simple is better than complex.\n",
    "Complex is better than complicated.\n",
    "'''"
   ]
  },
  {
   "cell_type": "code",
   "execution_count": 10,
   "metadata": {},
   "outputs": [
    {
     "data": {
      "text/plain": [
       "'\\nSimple is better than complex.\\nComplex is better than complicated.\\n'"
      ]
     },
     "execution_count": 10,
     "metadata": {},
     "output_type": "execute_result"
    }
   ],
   "source": [
    "#用三个双引号。注意输出结果中的 \\n\n",
    "\"\"\"\n",
    "Simple is better than complex.\n",
    "Complex is better than complicated.\n",
    "\"\"\""
   ]
  },
  {
   "cell_type": "code",
   "execution_count": 11,
   "metadata": {},
   "outputs": [
    {
     "name": "stdout",
     "output_type": "stream",
     "text": [
      "\n",
      "Simple is better than complex.\n",
      "Complex is better than complicated.\n",
      "\n"
     ]
    }
   ],
   "source": [
    "print(\n",
    "\"\"\"\n",
    "Simple is better than complex.\n",
    "Complex is better than complicated.\n",
    "\"\"\"\n",
    ") #用 print() 输出的时候，\\n 就是不可见字符，字符串本身如下：\n",
    "# '\\nSimple is better than complex.\\nComplex is better than complicated.\\n'\n",
    "# 其中的 \\n 被打印出来的时候显示成换行"
   ]
  },
  {
   "cell_type": "markdown",
   "metadata": {},
   "source": [
    "## 字符串与数值之间的转换\n",
    "\n",
    "由数字构成的字符串，可以被转换为数值，`int()`，`float`。\n",
    "\n",
    "`str()` 将数值转换成字符串类型。\n",
    "\n",
    "**`int()` 在接收字符串为参数的时候，只能做整数转换。**"
   ]
  },
  {
   "cell_type": "code",
   "execution_count": 13,
   "metadata": {},
   "outputs": [
    {
     "data": {
      "text/plain": [
       "3"
      ]
     },
     "execution_count": 13,
     "metadata": {},
     "output_type": "execute_result"
    },
    {
     "data": {
      "text/plain": [
       "3.0"
      ]
     },
     "execution_count": 13,
     "metadata": {},
     "output_type": "execute_result"
    },
    {
     "data": {
      "text/plain": [
       "'3.1415926'"
      ]
     },
     "execution_count": 13,
     "metadata": {},
     "output_type": "execute_result"
    },
    {
     "data": {
      "text/plain": [
       "301415926"
      ]
     },
     "execution_count": 13,
     "metadata": {},
     "output_type": "execute_result"
    },
    {
     "ename": "ValueError",
     "evalue": "invalid literal for int() with base 10: '3.1415926'",
     "output_type": "error",
     "traceback": [
      "\u001b[1;31m---------------------------------------------------------------------------\u001b[0m",
      "\u001b[1;31mValueError\u001b[0m                                Traceback (most recent call last)",
      "\u001b[1;32m<ipython-input-13-1774b6829c16>\u001b[0m in \u001b[0;36m<module>\u001b[1;34m\u001b[0m\n\u001b[0;32m      3\u001b[0m \u001b[0mstr\u001b[0m\u001b[1;33m(\u001b[0m\u001b[1;36m3.1415926\u001b[0m\u001b[1;33m)\u001b[0m\u001b[1;33m\u001b[0m\u001b[1;33m\u001b[0m\u001b[0m\n\u001b[0;32m      4\u001b[0m \u001b[0mint\u001b[0m\u001b[1;33m(\u001b[0m\u001b[1;34m'301415926'\u001b[0m\u001b[1;33m)\u001b[0m\u001b[1;33m\u001b[0m\u001b[1;33m\u001b[0m\u001b[0m\n\u001b[1;32m----> 5\u001b[1;33m \u001b[0mint\u001b[0m\u001b[1;33m(\u001b[0m\u001b[1;34m'3.1415926'\u001b[0m\u001b[1;33m)\u001b[0m \u001b[1;31m# 这一行会报错\u001b[0m\u001b[1;33m\u001b[0m\u001b[1;33m\u001b[0m\u001b[0m\n\u001b[0m",
      "\u001b[1;31mValueError\u001b[0m: invalid literal for int() with base 10: '3.1415926'"
     ]
    }
   ],
   "source": [
    "int('3')\n",
    "float('3')\n",
    "str(3.1415926)\n",
    "int('301415926')\n",
    "int('3.1415926') # 这一行会报错"
   ]
  },
  {
   "cell_type": "markdown",
   "metadata": {},
   "source": [
    "`input()` 接收用户的键盘输入，而后将其作为字符串返回。它可以接收一个字符串作为参数，在接收用户键盘输入之前，会把这个参数输出到屏幕，作为提示。"
   ]
  },
  {
   "cell_type": "code",
   "execution_count": 15,
   "metadata": {},
   "outputs": [
    {
     "name": "stdout",
     "output_type": "stream",
     "text": [
      "Please tell me your age: 5\n"
     ]
    },
    {
     "ename": "TypeError",
     "evalue": "'<' not supported between instances of 'str' and 'int'",
     "output_type": "error",
     "traceback": [
      "\u001b[1;31m---------------------------------------------------------------------------\u001b[0m",
      "\u001b[1;31mTypeError\u001b[0m                                 Traceback (most recent call last)",
      "\u001b[1;32m<ipython-input-15-0573fe379e83>\u001b[0m in \u001b[0;36m<module>\u001b[1;34m\u001b[0m\n\u001b[0;32m      1\u001b[0m \u001b[0mage\u001b[0m \u001b[1;33m=\u001b[0m \u001b[0minput\u001b[0m\u001b[1;33m(\u001b[0m\u001b[1;34m'Please tell me your age: '\u001b[0m\u001b[1;33m)\u001b[0m\u001b[1;33m\u001b[0m\u001b[1;33m\u001b[0m\u001b[0m\n\u001b[1;32m----> 2\u001b[1;33m \u001b[1;32mif\u001b[0m \u001b[0mage\u001b[0m \u001b[1;33m<\u001b[0m \u001b[1;36m18\u001b[0m\u001b[1;33m:\u001b[0m\u001b[1;33m\u001b[0m\u001b[1;33m\u001b[0m\u001b[0m\n\u001b[0m\u001b[0;32m      3\u001b[0m     \u001b[0mprint\u001b[0m\u001b[1;33m(\u001b[0m\u001b[1;34m'I can not sell you drinks...'\u001b[0m\u001b[1;33m)\u001b[0m\u001b[1;33m\u001b[0m\u001b[1;33m\u001b[0m\u001b[0m\n\u001b[0;32m      4\u001b[0m \u001b[1;32melse\u001b[0m\u001b[1;33m:\u001b[0m\u001b[1;33m\u001b[0m\u001b[1;33m\u001b[0m\u001b[0m\n\u001b[0;32m      5\u001b[0m     \u001b[0mprint\u001b[0m\u001b[1;33m(\u001b[0m\u001b[1;34m'Have a nice drink!'\u001b[0m\u001b[1;33m)\u001b[0m\u001b[1;33m\u001b[0m\u001b[1;33m\u001b[0m\u001b[0m\n",
      "\u001b[1;31mTypeError\u001b[0m: '<' not supported between instances of 'str' and 'int'"
     ]
    }
   ],
   "source": [
    "age = input('Please tell me your age: ')\n",
    "if age < 18:\n",
    "    print('I can not sell you drinks...')\n",
    "else:\n",
    "    print('Have a nice drink!')"
   ]
  },
  {
   "cell_type": "markdown",
   "metadata": {},
   "source": [
    "### 转义符 （escape character）"
   ]
  },
  {
   "cell_type": "code",
   "execution_count": 17,
   "metadata": {},
   "outputs": [
    {
     "ename": "SyntaxError",
     "evalue": "EOL while scanning string literal (<ipython-input-17-6312b2d0e129>, line 2)",
     "output_type": "error",
     "traceback": [
      "\u001b[1;36m  File \u001b[1;32m\"<ipython-input-17-6312b2d0e129>\"\u001b[1;36m, line \u001b[1;32m2\u001b[0m\n\u001b[1;33m    '\\'\u001b[0m\n\u001b[1;37m       ^\u001b[0m\n\u001b[1;31mSyntaxError\u001b[0m\u001b[1;31m:\u001b[0m EOL while scanning string literal\n"
     ]
    }
   ],
   "source": [
    "'\\\\'\n",
    "'\\'"
   ]
  },
  {
   "cell_type": "code",
   "execution_count": 21,
   "metadata": {},
   "outputs": [
    {
     "name": "stdout",
     "output_type": "stream",
     "text": [
      "'\n"
     ]
    }
   ],
   "source": [
    "print(\"'\")"
   ]
  },
  {
   "cell_type": "markdown",
   "metadata": {},
   "source": [
    "**关于换行符**\n",
    "\n",
    "Unix 类操作系统（包括 MacOS），`\\n`；\n",
    "Windows，`\\r\\n`；"
   ]
  },
  {
   "cell_type": "markdown",
   "metadata": {},
   "source": [
    "一个字符串，有两种形式—— **raw** 和 **presentation**。在 raw 形式下，转义字符以它原来的样子打印出来，而在 presentation 形式下，转义字符以它转义后的字符形式打印出来。\n",
    "\n",
    "在写程序的过程中，我们在代码中写的是 raw，调用 `print()` 函数将字符串输出到屏幕时，是 presentation。"
   ]
  },
  {
   "cell_type": "code",
   "execution_count": 22,
   "metadata": {},
   "outputs": [
    {
     "name": "stdout",
     "output_type": "stream",
     "text": [
      "He said, it's fine.\n"
     ]
    }
   ],
   "source": [
    "s = \"He said, it\\'s fine.\" # raw\n",
    "print(s)                   # presentation"
   ]
  },
  {
   "cell_type": "code",
   "execution_count": 31,
   "metadata": {},
   "outputs": [
    {
     "data": {
      "text/plain": [
       "\"'2.1415wer@w\\\\u6c05er'\""
      ]
     },
     "execution_count": 31,
     "metadata": {},
     "output_type": "execute_result"
    }
   ],
   "source": [
    "ascii('2.1415wer@w氅er')"
   ]
  },
  {
   "cell_type": "code",
   "execution_count": 32,
   "metadata": {},
   "outputs": [
    {
     "data": {
      "text/plain": [
       "\"'氅'\""
      ]
     },
     "execution_count": 32,
     "metadata": {},
     "output_type": "execute_result"
    }
   ],
   "source": [
    "repr('氅')"
   ]
  },
  {
   "cell_type": "markdown",
   "metadata": {},
   "source": [
    "### 字符串的操作符\n",
    "\n",
    "拼接\n",
    "\n",
    "复制\n",
    "\n",
    "判断某个字符或者字符串是否被包含在某个字符串中，返回布尔值"
   ]
  },
  {
   "cell_type": "code",
   "execution_count": 33,
   "metadata": {},
   "outputs": [
    {
     "data": {
      "text/plain": [
       "'Hey! You!'"
      ]
     },
     "execution_count": 33,
     "metadata": {},
     "output_type": "execute_result"
    },
    {
     "data": {
      "text/plain": [
       "'Hey!You!'"
      ]
     },
     "execution_count": 33,
     "metadata": {},
     "output_type": "execute_result"
    },
    {
     "data": {
      "text/plain": [
       "'HaHaHa'"
      ]
     },
     "execution_count": 33,
     "metadata": {},
     "output_type": "execute_result"
    },
    {
     "data": {
      "text/plain": [
       "'3.143.143.14'"
      ]
     },
     "execution_count": 33,
     "metadata": {},
     "output_type": "execute_result"
    },
    {
     "data": {
      "text/plain": [
       "True"
      ]
     },
     "execution_count": 33,
     "metadata": {},
     "output_type": "execute_result"
    }
   ],
   "source": [
    "'Hey!' + ' ' + 'You!' # 使用操作符 +\n",
    "\n",
    "'Hey!' 'You!' # 空格与 + 的作用是相同的\n",
    "\n",
    "'Ha' * 3\n",
    "\n",
    "'3.14' * 3\n",
    "\n",
    "'o' in 'Hey, You!'"
   ]
  },
  {
   "cell_type": "markdown",
   "metadata": {},
   "source": [
    "### 字符串的索引\n",
    "\n",
    "字符串是容器（COntainer）的一种。容器可以分为两种——有序的和无序的。字符串属于有序容器。\n",
    "\n",
    "字符串里的每一个字符，对应着一个从 0 开始的索引。比较有趣的是，索引还可以是负数。"
   ]
  },
  {
   "cell_type": "code",
   "execution_count": 34,
   "metadata": {},
   "outputs": [
    {
     "name": "stdout",
     "output_type": "stream",
     "text": [
      "0 P\n",
      "1 y\n",
      "2 t\n",
      "3 h\n",
      "4 o\n",
      "5 n\n"
     ]
    }
   ],
   "source": [
    "s = 'Python'\n",
    "for char in s:\n",
    "    print(s.index(char), char)"
   ]
  },
  {
   "cell_type": "code",
   "execution_count": 35,
   "metadata": {},
   "outputs": [
    {
     "name": "stdout",
     "output_type": "stream",
     "text": [
      "P\n",
      "y\n",
      "t\n",
      "h\n",
      "o\n",
      "n\n",
      "P\n",
      "y\n",
      "t\n",
      "h\n",
      "o\n",
      "n\n"
     ]
    }
   ],
   "source": [
    "s = 'Python'\n",
    "for i in range(len(s)):\n",
    "    print(s[i])\n",
    "\n",
    "#上面的代码仅是为了演示索引操作符的使用，更简洁的写法是：\n",
    "for i in s:\n",
    "    print(i)"
   ]
  },
  {
   "cell_type": "code",
   "execution_count": 42,
   "metadata": {},
   "outputs": [
    {
     "data": {
      "text/plain": [
       "890"
      ]
     },
     "execution_count": 42,
     "metadata": {},
     "output_type": "execute_result"
    }
   ],
   "source": [
    "import random\n",
    "\n",
    "random.randrange(100, 1000)"
   ]
  },
  {
   "cell_type": "markdown",
   "metadata": {},
   "source": [
    "### 处理字符串的内建函数\n",
    "\n",
    "ord() # 只能接收单个字符作为参数。\n",
    "input()\n",
    "int()\n",
    "float()\n",
    "len()\n",
    "print()"
   ]
  },
  {
   "cell_type": "code",
   "execution_count": 46,
   "metadata": {},
   "outputs": [
    {
     "data": {
      "text/plain": [
       "10"
      ]
     },
     "execution_count": 46,
     "metadata": {},
     "output_type": "execute_result"
    },
    {
     "data": {
      "text/plain": [
       "9"
      ]
     },
     "execution_count": 46,
     "metadata": {},
     "output_type": "execute_result"
    },
    {
     "data": {
      "text/plain": [
       "13"
      ]
     },
     "execution_count": 46,
     "metadata": {},
     "output_type": "execute_result"
    },
    {
     "data": {
      "text/plain": [
       "'A'"
      ]
     },
     "execution_count": 46,
     "metadata": {},
     "output_type": "execute_result"
    },
    {
     "data": {
      "text/plain": [
       "65"
      ]
     },
     "execution_count": 46,
     "metadata": {},
     "output_type": "execute_result"
    },
    {
     "name": "stdout",
     "output_type": "stream",
     "text": [
      "请照抄一遍这个数字 3.14: 3.14\n"
     ]
    },
    {
     "data": {
      "text/plain": [
       "3"
      ]
     },
     "execution_count": 46,
     "metadata": {},
     "output_type": "execute_result"
    },
    {
     "ename": "ValueError",
     "evalue": "invalid literal for int() with base 10: '3.14'",
     "output_type": "error",
     "traceback": [
      "\u001b[1;31m---------------------------------------------------------------------------\u001b[0m",
      "\u001b[1;31mValueError\u001b[0m                                Traceback (most recent call last)",
      "\u001b[1;32m<ipython-input-46-c6ca161c8d5b>\u001b[0m in \u001b[0;36m<module>\u001b[1;34m\u001b[0m\n\u001b[0;32m      6\u001b[0m \u001b[0ms\u001b[0m \u001b[1;33m=\u001b[0m \u001b[0minput\u001b[0m\u001b[1;33m(\u001b[0m\u001b[1;34m'请照抄一遍这个数字 3.14: '\u001b[0m\u001b[1;33m)\u001b[0m\u001b[1;33m\u001b[0m\u001b[1;33m\u001b[0m\u001b[0m\n\u001b[0;32m      7\u001b[0m \u001b[0mint\u001b[0m\u001b[1;33m(\u001b[0m\u001b[1;34m'3'\u001b[0m\u001b[1;33m)\u001b[0m\u001b[1;33m\u001b[0m\u001b[1;33m\u001b[0m\u001b[0m\n\u001b[1;32m----> 8\u001b[1;33m \u001b[0mint\u001b[0m\u001b[1;33m(\u001b[0m\u001b[0ms\u001b[0m\u001b[1;33m)\u001b[0m \u001b[1;31m#这一句会报错…… 所以暂时注释掉了\u001b[0m\u001b[1;33m\u001b[0m\u001b[1;33m\u001b[0m\u001b[0m\n\u001b[0m\u001b[0;32m      9\u001b[0m \u001b[0mfloat\u001b[0m\u001b[1;33m(\u001b[0m\u001b[0ms\u001b[0m\u001b[1;33m)\u001b[0m \u001b[1;33m*\u001b[0m \u001b[1;36m9\u001b[0m\u001b[1;33m\u001b[0m\u001b[1;33m\u001b[0m\u001b[0m\n\u001b[0;32m     10\u001b[0m \u001b[0mlen\u001b[0m\u001b[1;33m(\u001b[0m\u001b[0ms\u001b[0m\u001b[1;33m)\u001b[0m\u001b[1;33m\u001b[0m\u001b[1;33m\u001b[0m\u001b[0m\n",
      "\u001b[1;31mValueError\u001b[0m: invalid literal for int() with base 10: '3.14'"
     ]
    }
   ],
   "source": [
    "ord('\\n')\n",
    "ord('\\t')\n",
    "ord('\\r')\n",
    "chr(65) # 与 ord() 相对的函数\n",
    "ord('A')\n",
    "s = input('请照抄一遍这个数字 3.14: ')\n",
    "int('3')\n",
    "int(s) #这一句会报错…… 所以暂时注释掉了\n",
    "float(s) * 9\n",
    "len(s)\n",
    "print(s*3)"
   ]
  },
  {
   "cell_type": "markdown",
   "metadata": {},
   "source": [
    "### 处理字符串的 Method\n",
    "\n",
    "在 python 中，字符串是一个**对象**——更准确地讲，是 str 类（`Class Str`）的对象。\n",
    "\n",
    "#### 大小写转换"
   ]
  },
  {
   "cell_type": "code",
   "execution_count": 47,
   "metadata": {},
   "outputs": [
    {
     "data": {
      "text/plain": [
       "'NOW IS BETTER THAN NEVER.'"
      ]
     },
     "execution_count": 47,
     "metadata": {},
     "output_type": "execute_result"
    },
    {
     "data": {
      "text/plain": [
       "'now is better than never.'"
      ]
     },
     "execution_count": 47,
     "metadata": {},
     "output_type": "execute_result"
    }
   ],
   "source": [
    "from IPython.core.interactiveshell import InteractiveShell\n",
    "InteractiveShell.ast_node_interactivity = \"all\"\n",
    "\n",
    "'Now is better than never.'.upper()\n",
    "\n",
    "# 在 Python 命令行工具之中，单个下划线，是个特殊变量；\n",
    "# 保存着最近的语句或者表达式的结果\n",
    "# 上一个 Cell 执行过后，_ 中保存着 'NOW IS BETTER THAN NEVER.'\n",
    "\n",
    "_.lower()"
   ]
  },
  {
   "cell_type": "code",
   "execution_count": 49,
   "metadata": {},
   "outputs": [
    {
     "data": {
      "text/plain": [
       "'now is better than never.'"
      ]
     },
     "execution_count": 49,
     "metadata": {},
     "output_type": "execute_result"
    }
   ],
   "source": [
    "_"
   ]
  },
  {
   "cell_type": "code",
   "execution_count": 50,
   "metadata": {},
   "outputs": [
    {
     "data": {
      "text/plain": [
       "'ss'"
      ]
     },
     "execution_count": 50,
     "metadata": {},
     "output_type": "execute_result"
    },
    {
     "data": {
      "text/plain": [
       "2"
      ]
     },
     "execution_count": 50,
     "metadata": {},
     "output_type": "execute_result"
    },
    {
     "data": {
      "text/plain": [
       "'ß'"
      ]
     },
     "execution_count": 50,
     "metadata": {},
     "output_type": "execute_result"
    },
    {
     "data": {
      "text/plain": [
       "1"
      ]
     },
     "execution_count": 50,
     "metadata": {},
     "output_type": "execute_result"
    },
    {
     "data": {
      "text/plain": [
       "'Ĳ'"
      ]
     },
     "execution_count": 50,
     "metadata": {},
     "output_type": "execute_result"
    },
    {
     "data": {
      "text/plain": [
       "'ĳ'"
      ]
     },
     "execution_count": 50,
     "metadata": {},
     "output_type": "execute_result"
    },
    {
     "data": {
      "text/plain": [
       "'ĳ'"
      ]
     },
     "execution_count": 50,
     "metadata": {},
     "output_type": "execute_result"
    },
    {
     "data": {
      "text/plain": [
       "1"
      ]
     },
     "execution_count": 50,
     "metadata": {},
     "output_type": "execute_result"
    }
   ],
   "source": [
    "# casefold() 也是转换成小写，但它能处理更多欧洲语言字符\n",
    "\n",
    "'ß'.casefold()           # 德语字符中，大写 ß 的小写形式是 ss\n",
    "len('ß'.casefold())\n",
    "'ß'.lower()              # lower() 对这类字符无能为力……\n",
    "len('ß'.lower())\n",
    "\n",
    "# casefold\n",
    "'\\u0132'                # Ĳ 这个字符的 Unicode 编码\n",
    "'\\u0132'.casefold()\n",
    "'\\u0132'.lower()        # 对这个字符来说，lower() 和 casefold 的效果一样\n",
    "len('\\u0132'.casefold())\n",
    "\n",
    "# 这是一篇有用的文章：\n",
    "# Truths programmers should know about case\n",
    "# https://www.b-list.org/weblog/2018/nov/26/case/"
   ]
  },
  {
   "cell_type": "code",
   "execution_count": 51,
   "metadata": {},
   "outputs": [
    {
     "data": {
      "text/plain": [
       "'Now is better than never.'"
      ]
     },
     "execution_count": 51,
     "metadata": {},
     "output_type": "execute_result"
    },
    {
     "data": {
      "text/plain": [
       "'Now Is Better Than Never.'"
      ]
     },
     "execution_count": 51,
     "metadata": {},
     "output_type": "execute_result"
    }
   ],
   "source": [
    "from IPython.core.interactiveshell import InteractiveShell\n",
    "InteractiveShell.ast_node_interactivity = \"all\"\n",
    "\n",
    "s = 'Now is better than never.'\n",
    "s.capitalize() # 句首字母大写\n",
    "s.title() # 每个单词首字母大写"
   ]
  },
  {
   "cell_type": "code",
   "execution_count": 52,
   "metadata": {},
   "outputs": [
    {
     "data": {
      "text/plain": [
       "'nOW IS BETTER THAN NEVER.'"
      ]
     },
     "execution_count": 52,
     "metadata": {},
     "output_type": "execute_result"
    },
    {
     "data": {
      "text/plain": [
       "'Now Is Better Than Never.'"
      ]
     },
     "execution_count": 52,
     "metadata": {},
     "output_type": "execute_result"
    },
    {
     "data": {
      "text/plain": [
       "'nOW iS bETTER tHAN nEVER.'"
      ]
     },
     "execution_count": 52,
     "metadata": {},
     "output_type": "execute_result"
    }
   ],
   "source": [
    "s = 'Now is better than never.'\n",
    "s.swapcase() # 逐个字符更替大小写\n",
    "s.title()\n",
    "s.title().swapcase()"
   ]
  },
  {
   "cell_type": "markdown",
   "metadata": {},
   "source": [
    "`str.encode()` 在处理非英文字符串（比如中文）的时候，经常会用到"
   ]
  },
  {
   "cell_type": "code",
   "execution_count": 53,
   "metadata": {},
   "outputs": [
    {
     "data": {
      "text/plain": [
       "b'\\xe7\\xae\\x80\\xe5\\x8d\\x95\\xe4\\xbc\\x98\\xe4\\xba\\x8e\\xe5\\xa4\\x8d\\xe6\\x9d\\x82\\xe3\\x80\\x82'"
      ]
     },
     "execution_count": 53,
     "metadata": {},
     "output_type": "execute_result"
    }
   ],
   "source": [
    "# str.encode(encoding=\"utf-8\", errors=\"strict\")\n",
    "# 关于更多可能的 encoding list, 请参阅：\n",
    "# https://docs.python.org/3/library/codecs.html#standard-encodings\n",
    "s = '简单优于复杂。'\n",
    "s.encode()"
   ]
  },
  {
   "cell_type": "markdown",
   "metadata": {},
   "source": [
    "#### 搜索与替换\n",
    "\n",
    "> `str.count(sub[, start=0[, end=len(str)]])`\n",
    "\n",
    "这里提到了**前置引用**——与大量前置引用相伴随的是知识点的重复出现。\n",
    "\n",
    "函数返回值为字符串中 `sub` 出现的次数。\n",
    "\n",
    "注意，字符串中第一个字符的索引值为 `0`。"
   ]
  },
  {
   "cell_type": "code",
   "execution_count": 2,
   "metadata": {},
   "outputs": [
    {
     "data": {
      "text/plain": [
       "4"
      ]
     },
     "execution_count": 2,
     "metadata": {},
     "output_type": "execute_result"
    },
    {
     "data": {
      "text/plain": [
       "3"
      ]
     },
     "execution_count": 2,
     "metadata": {},
     "output_type": "execute_result"
    },
    {
     "data": {
      "text/plain": [
       "1"
      ]
     },
     "execution_count": 2,
     "metadata": {},
     "output_type": "execute_result"
    }
   ],
   "source": [
    "from IPython.core.interactiveshell import InteractiveShell\n",
    "InteractiveShell.ast_node_interactivity = \"all\"\n",
    "\n",
    "s = \"\"\"Simple is better than complex.\n",
    "Complex is better than complicated.\"\"\"\n",
    "s.lower().count('mp')\n",
    "s.lower().count('mp', 10)\n",
    "s.lower().count('mp', 10, 30)"
   ]
  },
  {
   "cell_type": "markdown",
   "metadata": {},
   "source": [
    "> * `str.find()`\n",
    "> * `str.rfind()`\n",
    "> * `str.index()`"
   ]
  },
  {
   "cell_type": "code",
   "execution_count": 3,
   "metadata": {},
   "outputs": [],
   "source": [
    "from IPython.core.interactiveshell import InteractiveShell\n",
    "InteractiveShell.ast_node_interactivity = \"all\""
   ]
  },
  {
   "cell_type": "code",
   "execution_count": 4,
   "metadata": {},
   "outputs": [
    {
     "name": "stdout",
     "output_type": "stream",
     "text": [
      "Example of str.find():\n"
     ]
    },
    {
     "data": {
      "text/plain": [
       "2"
      ]
     },
     "execution_count": 4,
     "metadata": {},
     "output_type": "execute_result"
    },
    {
     "data": {
      "text/plain": [
       "24"
      ]
     },
     "execution_count": 4,
     "metadata": {},
     "output_type": "execute_result"
    },
    {
     "data": {
      "text/plain": [
       "-1"
      ]
     },
     "execution_count": 4,
     "metadata": {},
     "output_type": "execute_result"
    },
    {
     "name": "stdout",
     "output_type": "stream",
     "text": [
      "\n"
     ]
    }
   ],
   "source": [
    "# str.find(sub[, start[, end]])\n",
    "print('Example of str.find():')\n",
    "s = \"\"\"Simple is better than complex.\n",
    "Complex is better than complicated.\"\"\"\n",
    "s.lower().find('mpl')\n",
    "s.lower().find('mpl', 10)\n",
    "s.lower().find('mpl', 10, 20) # 没有找到就返回 -1\n",
    "print()"
   ]
  },
  {
   "cell_type": "code",
   "execution_count": 5,
   "metadata": {},
   "outputs": [
    {
     "name": "stdout",
     "output_type": "stream",
     "text": [
      "Example of str.rfind():\n"
     ]
    },
    {
     "data": {
      "text/plain": [
       "56"
      ]
     },
     "execution_count": 5,
     "metadata": {},
     "output_type": "execute_result"
    },
    {
     "data": {
      "text/plain": [
       "56"
      ]
     },
     "execution_count": 5,
     "metadata": {},
     "output_type": "execute_result"
    },
    {
     "data": {
      "text/plain": [
       "-1"
      ]
     },
     "execution_count": 5,
     "metadata": {},
     "output_type": "execute_result"
    },
    {
     "name": "stdout",
     "output_type": "stream",
     "text": [
      "\n"
     ]
    }
   ],
   "source": [
    "print('Example of str.rfind():')\n",
    "# str.rfind(sub[, start[, end]])\n",
    "# rfind() 返回最后 sub 出现的那次的位置；find()是最早的那次\n",
    "s.lower().rfind('mpl')\n",
    "s.lower().rfind('mpl', 10)\n",
    "s.lower().rfind('mpl', 10, 20) # 没有找到就返回 -1\n",
    "print()"
   ]
  },
  {
   "cell_type": "code",
   "execution_count": 7,
   "metadata": {},
   "outputs": [
    {
     "name": "stdout",
     "output_type": "stream",
     "text": [
      "Example of str.index():\n"
     ]
    },
    {
     "data": {
      "text/plain": [
       "2"
      ]
     },
     "execution_count": 7,
     "metadata": {},
     "output_type": "execute_result"
    },
    {
     "data": {
      "text/plain": [
       "56"
      ]
     },
     "execution_count": 7,
     "metadata": {},
     "output_type": "execute_result"
    },
    {
     "ename": "ValueError",
     "evalue": "substring not found",
     "output_type": "error",
     "traceback": [
      "\u001b[1;31m---------------------------------------------------------------------------\u001b[0m",
      "\u001b[1;31mValueError\u001b[0m                                Traceback (most recent call last)",
      "\u001b[1;32m<ipython-input-7-09d5d26e8d38>\u001b[0m in \u001b[0;36m<module>\u001b[1;34m\u001b[0m\n\u001b[0;32m      7\u001b[0m \u001b[1;31m# 作用与 rfind() 相同，但如果没找到的话，会触发 ValueError 异常\u001b[0m\u001b[1;33m\u001b[0m\u001b[1;33m\u001b[0m\u001b[1;33m\u001b[0m\u001b[0m\n\u001b[0;32m      8\u001b[0m \u001b[0ms\u001b[0m\u001b[1;33m.\u001b[0m\u001b[0mlower\u001b[0m\u001b[1;33m(\u001b[0m\u001b[1;33m)\u001b[0m\u001b[1;33m.\u001b[0m\u001b[0mrindex\u001b[0m\u001b[1;33m(\u001b[0m\u001b[1;34m'mpl'\u001b[0m\u001b[1;33m)\u001b[0m\u001b[1;33m\u001b[0m\u001b[1;33m\u001b[0m\u001b[0m\n\u001b[1;32m----> 9\u001b[1;33m \u001b[0ms\u001b[0m\u001b[1;33m.\u001b[0m\u001b[0mlower\u001b[0m\u001b[1;33m(\u001b[0m\u001b[1;33m)\u001b[0m\u001b[1;33m.\u001b[0m\u001b[0mindex\u001b[0m\u001b[1;33m(\u001b[0m\u001b[1;34m'mpl'\u001b[0m\u001b[1;33m,\u001b[0m \u001b[1;36m10\u001b[0m\u001b[1;33m,\u001b[0m \u001b[1;36m20\u001b[0m\u001b[1;33m)\u001b[0m\u001b[1;33m\u001b[0m\u001b[1;33m\u001b[0m\u001b[0m\n\u001b[0m\u001b[0;32m     10\u001b[0m \u001b[0mprint\u001b[0m\u001b[1;33m(\u001b[0m\u001b[1;33m)\u001b[0m\u001b[1;33m\u001b[0m\u001b[1;33m\u001b[0m\u001b[0m\n",
      "\u001b[1;31mValueError\u001b[0m: substring not found"
     ]
    }
   ],
   "source": [
    "print('Example of str.index():')\n",
    "# str.index(sub[, start[, end]])\n",
    "# 作用与 find() 相同，但如果没找到的话，会触发 ValueError 异常\n",
    "# https://docs.python.org/3/library/exceptions.html#ValueError\n",
    "s.lower().index('mpl')\n",
    "# str.rindex(sub[, start[, end]])\n",
    "# 作用与 rfind() 相同，但如果没找到的话，会触发 ValueError 异常\n",
    "s.lower().rindex('mpl')\n",
    "s.lower().index('mpl', 10, 20)\n",
    "print()"
   ]
  },
  {
   "cell_type": "markdown",
   "metadata": {},
   "source": [
    "`str.startswith()` 和 `str.endswih()` 是用来判断一个字符串是否以某个子字符串起始或结束的："
   ]
  },
  {
   "cell_type": "code",
   "execution_count": 8,
   "metadata": {},
   "outputs": [],
   "source": [
    "s = \"\"\"Simple is better than complex.\n",
    "Complex is better than complicated.\"\"\""
   ]
  },
  {
   "cell_type": "code",
   "execution_count": 11,
   "metadata": {},
   "outputs": [
    {
     "name": "stdout",
     "output_type": "stream",
     "text": [
      "s.lower().startswith('S'): False\n",
      "s.lower().startswith('b', 10): True\n",
      "s.lower().startswith('e', 11, 20): True\n"
     ]
    }
   ],
   "source": [
    "# str.startswith(prefix[, start[, end]])\n",
    "print(\"s.lower().startswith('S'):\", \\\n",
    "      s.lower().startswith('S'))\n",
    "print(\"s.lower().startswith('b', 10):\", \\\n",
    "      s.lower().startswith('b', 10))\n",
    "print(\"s.lower().startswith('e', 11, 20):\", \\\n",
    "      s.lower().startswith('e', 11, 20))"
   ]
  },
  {
   "cell_type": "code",
   "execution_count": 13,
   "metadata": {},
   "outputs": [
    {
     "name": "stdout",
     "output_type": "stream",
     "text": [
      "s.lower().endswith('.'): True\n",
      "s.lower().endswith('.', 10): True\n",
      "s.lower().endswith('.', 10, 20): False\n"
     ]
    }
   ],
   "source": [
    "# str.endswith(suffix[, start[, end]])\n",
    "print(\"s.lower().endswith('.'):\", \\\n",
    "      s.lower().endswith('.'))\n",
    "print(\"s.lower().endswith('.', 10):\", \\\n",
    "      s.lower().endswith('.', 10))\n",
    "print(\"s.lower().endswith('.', 10, 20):\", \\\n",
    "      s.lower().endswith('.', 10, 20))"
   ]
  },
  {
   "cell_type": "code",
   "execution_count": 14,
   "metadata": {},
   "outputs": [],
   "source": [
    "# 好玩：中国人一不小心就会把这两个函数写成或者记成\n",
    "# startwith() 和 endwith() —— 少写一个 s!"
   ]
  },
  {
   "cell_type": "markdown",
   "metadata": {},
   "source": [
    "为了找到位置而进行搜索之前，你可能经常需要**事先确认需要寻找的字符串在寻找对象中是否存在**，这个时候，可以用 `in` 操作符："
   ]
  },
  {
   "cell_type": "code",
   "execution_count": 15,
   "metadata": {},
   "outputs": [
    {
     "name": "stdout",
     "output_type": "stream",
     "text": [
      "True\n"
     ]
    }
   ],
   "source": [
    "s = \"\"\"Simple is better than complex.\n",
    "Complex is better than complicated.\"\"\"\n",
    "# 如果你只想知道 “有没有”，而无需知道 “在哪里”，那么可以用：\n",
    "print('mpl' in s)"
   ]
  },
  {
   "cell_type": "markdown",
   "metadata": {},
   "source": [
    "能搜索，就应该能够进行替换操作——`str.replace()`，它的函数说明是这样的：\n",
    "\n",
    "> `str.replace(old, new[, count])`\n",
    "\n",
    "用 `new` 替换 `old`，替换 `count` 个实例（实例：每次处理的对象就是实例，即，具体的操作对象），其中，`count` 这个参数是可选的。"
   ]
  },
  {
   "cell_type": "code",
   "execution_count": 16,
   "metadata": {},
   "outputs": [
    {
     "name": "stdout",
     "output_type": "stream",
     "text": [
      "s.lower().replace('mp', '[ ]', 2):\n",
      "\n",
      "si[ ]le is better than co[ ]lex.\n",
      "complex is better than complicated.\n"
     ]
    }
   ],
   "source": [
    "s = \"\"\"Simple is better than complex.\n",
    "Complex is better than complicated.\"\"\"\n",
    "\n",
    "# str.startswith(prefix[, start[, end]])\n",
    "print(\"s.lower().replace('mp', '[ ]', 2):\\n\")\n",
    "print(s.lower().replace('mp', '[ ]', 2))"
   ]
  },
  {
   "cell_type": "markdown",
   "metadata": {},
   "source": [
    "另外，还有个专门替换 Tab (`\\t`) 的 Method：\n",
    "\n",
    "> `str.expandtabs(tabssize=8)`"
   ]
  },
  {
   "cell_type": "markdown",
   "metadata": {},
   "source": [
    "它的作用非常简单，就是把字符串中的 Tab （`\\t`）替换成空格，默认是替换成 `8` 个空格——当然你也可以指定究竟替换成几个空格。"
   ]
  },
  {
   "cell_type": "code",
   "execution_count": 17,
   "metadata": {},
   "outputs": [
    {
     "data": {
      "text/plain": [
       "\"Special cases   aren't  special enough  to      break   the     rules.\""
      ]
     },
     "execution_count": 17,
     "metadata": {},
     "output_type": "execute_result"
    },
    {
     "data": {
      "text/plain": [
       "\"Special cases aren't  special enough  to  break the rules.\""
      ]
     },
     "execution_count": 17,
     "metadata": {},
     "output_type": "execute_result"
    }
   ],
   "source": [
    "from IPython.core.interactiveshell import InteractiveShell\n",
    "InteractiveShell.ast_node_interactivity = \"all\"\n",
    "\n",
    "# str.expandtabs(tabsize=8)\n",
    "s = \"Special\\tcases\\taren't\\tspecial\\tenough\\tto\\tbreak\\tthe\\trules.\"\n",
    "s.expandtabs()\n",
    "s.expandtabs(2)"
   ]
  },
  {
   "cell_type": "code",
   "execution_count": 19,
   "metadata": {},
   "outputs": [
    {
     "name": "stdout",
     "output_type": "stream",
     "text": [
      "Special\tcases\taren't\tspecial\tenough\tto\tbreak\tthe\trules.\n"
     ]
    }
   ],
   "source": [
    "print(s)"
   ]
  },
  {
   "cell_type": "markdown",
   "metadata": {},
   "source": [
    "#### 去除子字符\n",
    "\n",
    "> str.strip([chars])\n",
    "\n",
    "它最常用的场景是去除一个字符串**首尾**的所有空白，包括空格、Tab、换行符。"
   ]
  },
  {
   "cell_type": "code",
   "execution_count": 21,
   "metadata": {},
   "outputs": [
    {
     "name": "stdout",
     "output_type": "stream",
     "text": [
      "\r",
      " \t Simple is better than complex.    \t \n",
      "\n",
      "Simple is better than complex.\n"
     ]
    }
   ],
   "source": [
    "from IPython.core.interactiveshell import InteractiveShell\n",
    "InteractiveShell.ast_node_interactivity = \"all\"\n",
    "\n",
    "s = \"\\r \\t Simple is better than complex.    \\t \\n\"\n",
    "print(s)\n",
    "print(s.strip())\n",
    "# s.strip([chars])"
   ]
  },
  {
   "cell_type": "markdown",
   "metadata": {},
   "source": [
    "但是，如果给定了一个字符作为参数。那么参数字符串中的所有字母都会被当做需要从首尾剔除的对象，直到新的首尾字母不包含在参数中，就会停止剔除："
   ]
  },
  {
   "cell_type": "code",
   "execution_count": 25,
   "metadata": {},
   "outputs": [
    {
     "data": {
      "text/plain": [
       "'Simple is better than complex.'"
      ]
     },
     "execution_count": 25,
     "metadata": {},
     "output_type": "execute_result"
    },
    {
     "data": {
      "text/plain": [
       "'mple is better than comple'"
      ]
     },
     "execution_count": 25,
     "metadata": {},
     "output_type": "execute_result"
    },
    {
     "data": {
      "text/plain": [
       "' is better than co'"
      ]
     },
     "execution_count": 25,
     "metadata": {},
     "output_type": "execute_result"
    },
    {
     "data": {
      "text/plain": [
       "' is better than co'"
      ]
     },
     "execution_count": 25,
     "metadata": {},
     "output_type": "execute_result"
    }
   ],
   "source": [
    "from IPython.core.interactiveshell import InteractiveShell\n",
    "InteractiveShell.ast_node_interactivity = \"all\"\n",
    "\n",
    "s = \"Simple is better than complex.\"\n",
    "s\n",
    "s.strip('Six.p')    # p 全部处理完之后，p 并不在首尾，所以原字符串中的 p 字母不受影响；\n",
    "s.strip('pSix.mle') # 这一次，首尾的 p 被处理了…… 参数中的字符顺序对结果没有影响，换成 Sipx.mle 也一样……\n",
    "s.strip('Six.plme') "
   ]
  },
  {
   "cell_type": "markdown",
   "metadata": {},
   "source": [
    "还可以只对左侧处理——`str.lstrip()`，或者只对右侧处理——`str.rstrip()`："
   ]
  },
  {
   "cell_type": "code",
   "execution_count": 26,
   "metadata": {},
   "outputs": [],
   "source": [
    "from IPython.core.interactiveshell import InteractiveShell\n",
    "InteractiveShell.ast_node_interactivity = \"all\""
   ]
  },
  {
   "cell_type": "code",
   "execution_count": 27,
   "metadata": {},
   "outputs": [
    {
     "data": {
      "text/plain": [
       "'Simple is better than complex.'"
      ]
     },
     "execution_count": 27,
     "metadata": {},
     "output_type": "execute_result"
    },
    {
     "data": {
      "text/plain": [
       "'mple is better than complex.'"
      ]
     },
     "execution_count": 27,
     "metadata": {},
     "output_type": "execute_result"
    },
    {
     "data": {
      "text/plain": [
       "' is better than complex.'"
      ]
     },
     "execution_count": 27,
     "metadata": {},
     "output_type": "execute_result"
    }
   ],
   "source": [
    "# str.lstrip([chars])\n",
    "s = \"Simple is better than complex.\"\n",
    "s\n",
    "s.lstrip('Six.p')    # p 全部处理完之后，p 并不在首部，所以原字符串中的 p 字母不受影响；\n",
    "s.lstrip('pSix.mle') # 这一次，首部的 p 被处理了…… 参数中的字符顺序对结果没有影响，换成 Sipx.mle 也一样……"
   ]
  },
  {
   "cell_type": "code",
   "execution_count": 28,
   "metadata": {},
   "outputs": [
    {
     "data": {
      "text/plain": [
       "'Simple is better than complex.'"
      ]
     },
     "execution_count": 28,
     "metadata": {},
     "output_type": "execute_result"
    },
    {
     "data": {
      "text/plain": [
       "'Simple is better than comple'"
      ]
     },
     "execution_count": 28,
     "metadata": {},
     "output_type": "execute_result"
    },
    {
     "data": {
      "text/plain": [
       "'Simple is better than co'"
      ]
     },
     "execution_count": 28,
     "metadata": {},
     "output_type": "execute_result"
    }
   ],
   "source": [
    "# str.rstrip([chars])\n",
    "s = \"Simple is better than complex.\"\n",
    "s\n",
    "s.rstrip('Six.p')    # p 全部处理完之后，p 并不在尾部，所以原字符串中的 p 字母不受影响；\n",
    "s.rstrip('pSix.mle') # 这一次，尾部的 p 被处理了…… 参数中的字符顺序对结果没有影响，换成 Sipx.mle 也一样……"
   ]
  },
  {
   "cell_type": "markdown",
   "metadata": {},
   "source": [
    "#### 拆分字符串\n",
    "\n",
    "> * `str.splitlines()`：返回一个列表（List，又是前置引用），由被拆分的每一行作为其中的元素。\n",
    "> * `str.split(sep=None, maxsplit=-1)`：将一个字符串，根据分隔符进行拆分；\n",
    "> * `str.partition()`\n",
    "\n",
    "[ref](https://docs.python.org/3/library/stdtypes.html#str.partition)"
   ]
  },
  {
   "cell_type": "code",
   "execution_count": 2,
   "metadata": {},
   "outputs": [],
   "source": [
    "from IPython.core.interactiveshell import InteractiveShell\n",
    "InteractiveShell.ast_node_interactivity = \"all\""
   ]
  },
  {
   "cell_type": "code",
   "execution_count": 3,
   "metadata": {},
   "outputs": [
    {
     "name": "stdout",
     "output_type": "stream",
     "text": [
      "Name,Age,Location\n",
      "John,18,New York\n",
      "Mike,22,San Francisco\n",
      "Janny,25,Miami\n",
      "Sunny,21,Shanghai\n"
     ]
    },
    {
     "data": {
      "text/plain": [
       "'Name,Age,Location\\nJohn,18,New York\\nMike,22,San Francisco\\nJanny,25,Miami\\nSunny,21,Shanghai'"
      ]
     },
     "execution_count": 3,
     "metadata": {},
     "output_type": "execute_result"
    },
    {
     "data": {
      "text/plain": [
       "['Name,Age,Location',\n",
       " 'John,18,New York',\n",
       " 'Mike,22,San Francisco',\n",
       " 'Janny,25,Miami',\n",
       " 'Sunny,21,Shanghai']"
      ]
     },
     "execution_count": 3,
     "metadata": {},
     "output_type": "execute_result"
    }
   ],
   "source": [
    "s = \"\"\"Name,Age,Location\n",
    "John,18,New York\n",
    "Mike,22,San Francisco\n",
    "Janny,25,Miami\n",
    "Sunny,21,Shanghai\"\"\"\n",
    "\n",
    "print(s)  #  s 被打印出来的时候，\\n 都被转换成换行了\n",
    "s                 #\n",
    "s.splitlines()    # 注意输出结果前后的方括号，[]，表示这个返回结果是一个 List"
   ]
  },
  {
   "cell_type": "code",
   "execution_count": 31,
   "metadata": {},
   "outputs": [
    {
     "data": {
      "text/plain": [
       "'Mike,22,San Francisco'"
      ]
     },
     "execution_count": 31,
     "metadata": {},
     "output_type": "execute_result"
    },
    {
     "data": {
      "text/plain": [
       "['Mike,22,San', 'Francisco']"
      ]
     },
     "execution_count": 31,
     "metadata": {},
     "output_type": "execute_result"
    },
    {
     "data": {
      "text/plain": [
       "['Mike', '22', 'San Francisco']"
      ]
     },
     "execution_count": 31,
     "metadata": {},
     "output_type": "execute_result"
    },
    {
     "data": {
      "text/plain": [
       "['Mike', '22', 'San Francisco']"
      ]
     },
     "execution_count": 31,
     "metadata": {},
     "output_type": "execute_result"
    },
    {
     "data": {
      "text/plain": [
       "['Mike', '22,San Francisco']"
      ]
     },
     "execution_count": 31,
     "metadata": {},
     "output_type": "execute_result"
    },
    {
     "data": {
      "text/plain": [
       "['Mike,22,San Francisco']"
      ]
     },
     "execution_count": 31,
     "metadata": {},
     "output_type": "execute_result"
    },
    {
     "data": {
      "text/plain": [
       "['Mike', '22', 'San Francisco']"
      ]
     },
     "execution_count": 31,
     "metadata": {},
     "output_type": "execute_result"
    }
   ],
   "source": [
    "s = \"\"\"Name,Age,Location\n",
    "John,18,New York\n",
    "Mike,22,San Francisco\n",
    "Janny,25,Miami\n",
    "Sunny,21,Shanghai\"\"\"\n",
    "\n",
    "r = s.splitlines()[2]   # 取出返回列表中索引值为 2 的那一行\n",
    "r\n",
    "r.split()               # 如果没有给 str.split() 传递参数，那么默认为用 None 分割（各种空白，比如，\\t 和 \\r 都被当作 None）\n",
    "r.split(sep=',')\n",
    "r.split(',')            # 上一行可以这样写。\n",
    "\n",
    "r.split(sep=',', maxsplit=1)  # 第二个参数指定拆分几次\n",
    "# r.split(sep=',', 1)         # 上一行不能这样写。\n",
    "r.split(sep=',', maxsplit=0)  # 0 次，即不拆分\n",
    "r.split(sep=',', maxsplit=-1) # 默认值是 -1，拆分全部"
   ]
  },
  {
   "cell_type": "markdown",
   "metadata": {},
   "source": [
    "#### 拼接字符串\n",
    "\n",
    "`str.join(_iterable_)` 是将来非常常用的，它的官方文档说明却很少。"
   ]
  },
  {
   "cell_type": "code",
   "execution_count": 4,
   "metadata": {},
   "outputs": [
    {
     "data": {
      "text/plain": [
       "'Python'"
      ]
     },
     "execution_count": 4,
     "metadata": {},
     "output_type": "execute_result"
    }
   ],
   "source": [
    "s = ''\n",
    "t = ['P', 'y', 't', 'h', 'o', 'n']\n",
    "s.join(t)"
   ]
  },
  {
   "cell_type": "markdown",
   "metadata": {},
   "source": [
    "#### 字符串排版\n",
    "\n",
    "将字符串居中放置——前提是设定整行的长度：\n",
    "\n",
    "> `str.center(width[, fillchar])`\n",
    "\n",
    "第二个参数为**可选参数**，且只接收单个字符——`char` 是 character 的缩写。"
   ]
  },
  {
   "cell_type": "code",
   "execution_count": 5,
   "metadata": {},
   "outputs": [],
   "source": [
    "from IPython.core.interactiveshell import InteractiveShell\n",
    "InteractiveShell.ast_node_interactivity = \"all\""
   ]
  },
  {
   "cell_type": "code",
   "execution_count": 6,
   "metadata": {},
   "outputs": [],
   "source": [
    "s = 'Sparse is better than dense!'"
   ]
  },
  {
   "cell_type": "code",
   "execution_count": 10,
   "metadata": {},
   "outputs": [
    {
     "data": {
      "text/plain": [
       "'                Sparse Is Better Than Dense!                '"
      ]
     },
     "execution_count": 10,
     "metadata": {},
     "output_type": "execute_result"
    },
    {
     "data": {
      "text/plain": [
       "'================Sparse Is Better Than Dense!================'"
      ]
     },
     "execution_count": 10,
     "metadata": {},
     "output_type": "execute_result"
    },
    {
     "data": {
      "text/plain": [
       "'      Sparse Is Better Than Dense!      '"
      ]
     },
     "execution_count": 10,
     "metadata": {},
     "output_type": "execute_result"
    }
   ],
   "source": [
    "s.title().center(60)\n",
    "s.title().center(60, '=')\n",
    "s.title().center(40) # 如果宽度参数小于字符串长度，则返回原字符串\n",
    "# 第一个参数的宽度，指的是整个字符串的长度"
   ]
  },
  {
   "cell_type": "markdown",
   "metadata": {},
   "source": [
    "将字符串靠左或者靠右对齐：\n",
    "\n",
    "> * `str.ljust(width)`\n",
    "> * `str.rjust(width)`\n",
    "\n",
    "另外，还有个字符串 Method 是，将字符串转换成左侧由 `0` 填充的指定长度的字符串。例如，在批量生成文件名的时候就很有用："
   ]
  },
  {
   "cell_type": "code",
   "execution_count": 11,
   "metadata": {},
   "outputs": [
    {
     "name": "stdout",
     "output_type": "stream",
     "text": [
      "001.mp3\n",
      "002.mp3\n",
      "003.mp3\n",
      "004.mp3\n",
      "005.mp3\n",
      "006.mp3\n",
      "007.mp3\n",
      "008.mp3\n",
      "009.mp3\n",
      "010.mp3\n"
     ]
    }
   ],
   "source": [
    "# 批量生成文件名\n",
    "\n",
    "for i in range(1, 11):\n",
    "    filename = str(i).zfill(3) + '.mp3'\n",
    "    print(filename)"
   ]
  },
  {
   "cell_type": "markdown",
   "metadata": {},
   "source": [
    "#### 格式化字符串\n",
    "\n",
    "对字符串进行格式化，指的是将特定变量插入字符串特定位置的过程。常用的 Method 有两个，一个是 `str.format()`，另一个是 `f-string`。\n",
    "\n",
    "##### 使用 `str.format()`\n",
    "\n",
    "[官方说明](https://docs.python.org/3/library/stdtypes.html#str.format)\n",
    "\n",
    "**现在死活看不懂**\n",
    "\n",
    "> `str.format(*args, **kwargs)`\n",
    "\n",
    "参数前面的 `*` 现在讲不清楚，以下只关注怎么用这个 Method：\n",
    "\n",
    "它的作用是：\n",
    "\n",
    "> * 在一个字符串中，插入一个或多个占位符——用大括号 `{}` 括起来；\n",
    "> * 而后，将 `str.format()` 相应的参数，依次插入占位符中。\n",
    "\n",
    "占位符中可以使用由 0 开始的索引。"
   ]
  },
  {
   "cell_type": "code",
   "execution_count": 12,
   "metadata": {},
   "outputs": [],
   "source": [
    "from IPython.core.interactiveshell import InteractiveShell\n",
    "InteractiveShell.ast_node_interactivity = \"all\""
   ]
  },
  {
   "cell_type": "code",
   "execution_count": 13,
   "metadata": {},
   "outputs": [
    {
     "data": {
      "text/plain": [
       "'John is 25 years old.'"
      ]
     },
     "execution_count": 13,
     "metadata": {},
     "output_type": "execute_result"
    }
   ],
   "source": [
    "name = 'John'\n",
    "age = 25\n",
    "'{} is {} years old.'.format(name, age)"
   ]
  },
  {
   "cell_type": "code",
   "execution_count": 14,
   "metadata": {},
   "outputs": [],
   "source": [
    "# 不写占位符索引就默认每个占位符的索引从第一个开始是 0, 1, 2 ...（占位符数量 - 1)\n",
    "# '{} {}'.format(a, b) 和 '{0} {1}'.format(a, b) 是一样的。"
   ]
  },
  {
   "cell_type": "code",
   "execution_count": 15,
   "metadata": {},
   "outputs": [
    {
     "ename": "IndexError",
     "evalue": "tuple index out of range",
     "output_type": "error",
     "traceback": [
      "\u001b[1;31m---------------------------------------------------------------------------\u001b[0m",
      "\u001b[1;31mIndexError\u001b[0m                                Traceback (most recent call last)",
      "\u001b[1;32m<ipython-input-15-d9b15203223b>\u001b[0m in \u001b[0;36m<module>\u001b[1;34m\u001b[0m\n\u001b[1;32m----> 1\u001b[1;33m \u001b[1;34m'{0} is {2} years old.'\u001b[0m\u001b[1;33m.\u001b[0m\u001b[0mformat\u001b[0m\u001b[1;33m(\u001b[0m\u001b[0mname\u001b[0m\u001b[1;33m,\u001b[0m \u001b[0mage\u001b[0m\u001b[1;33m)\u001b[0m\u001b[1;33m\u001b[0m\u001b[1;33m\u001b[0m\u001b[0m\n\u001b[0m\u001b[0;32m      2\u001b[0m \u001b[1;31m# 这一句会报错，因为 2 超出实际参数索引极限\u001b[0m\u001b[1;33m\u001b[0m\u001b[1;33m\u001b[0m\u001b[1;33m\u001b[0m\u001b[0m\n",
      "\u001b[1;31mIndexError\u001b[0m: tuple index out of range"
     ]
    }
   ],
   "source": [
    "'{0} is {2} years old.'.format(name, age)\n",
    "# 这一句会报错，因为 2 超出实际参数索引极限"
   ]
  },
  {
   "cell_type": "code",
   "execution_count": 16,
   "metadata": {},
   "outputs": [
    {
     "data": {
      "text/plain": [
       "'Are you John? :-{+}'"
      ]
     },
     "execution_count": 16,
     "metadata": {},
     "output_type": "execute_result"
    }
   ],
   "source": [
    "# 两个连续使用的大括号，不被认为是占位符；且只打印出一对大括号\n",
    "\"Are you {0}? :-{{+}}\".format(name)"
   ]
  },
  {
   "cell_type": "code",
   "execution_count": 17,
   "metadata": {},
   "outputs": [
    {
     "data": {
      "text/plain": [
       "'John is a grown up? True'"
      ]
     },
     "execution_count": 17,
     "metadata": {},
     "output_type": "execute_result"
    }
   ],
   "source": [
    "# str.fomrat() 里可以直接写表达式……\n",
    "'{} is a grown up? {}'.format(name, age >= 18)"
   ]
  },
  {
   "cell_type": "markdown",
   "metadata": {},
   "source": [
    "##### 使用 f-string\n",
    "\n",
    "**f-string** 与 `str.format()` 的功用差不多，只是写法简洁一些——在字符串标示之前加上一个字母 `f`："
   ]
  },
  {
   "cell_type": "code",
   "execution_count": 18,
   "metadata": {},
   "outputs": [],
   "source": [
    "from IPython.core.interactiveshell import InteractiveShell\n",
    "InteractiveShell.ast_node_interactivity = \"all\"\n",
    "\n",
    "# https://docs.python.org/3/library/stdtypes.html#printf-style-bytes-formatting\n",
    "# f-string"
   ]
  },
  {
   "cell_type": "code",
   "execution_count": 19,
   "metadata": {},
   "outputs": [
    {
     "data": {
      "text/plain": [
       "'John is 25 years old.'"
      ]
     },
     "execution_count": 19,
     "metadata": {},
     "output_type": "execute_result"
    },
    {
     "data": {
      "text/plain": [
       "'John is a grown up? True'"
      ]
     },
     "execution_count": 19,
     "metadata": {},
     "output_type": "execute_result"
    }
   ],
   "source": [
    "name = 'John'\n",
    "age = 25\n",
    "f'{name} is {age} years old.'\n",
    "f'{name} is a grown up? {age >= 18}'"
   ]
  },
  {
   "cell_type": "markdown",
   "metadata": {},
   "source": [
    "`str.format()` 的用法中，索引顺序可以任意指定，于是相对更为灵活。下面的例子只是为了演示，参数位置（索引位置）可以任意指定："
   ]
  },
  {
   "cell_type": "code",
   "execution_count": 21,
   "metadata": {},
   "outputs": [
    {
     "data": {
      "text/plain": [
       "'John is 25 years old.'"
      ]
     },
     "execution_count": 21,
     "metadata": {},
     "output_type": "execute_result"
    }
   ],
   "source": [
    "name = 'John'\n",
    "age = 25\n",
    "'{1} is {0} years old.'.format(name, age)\n",
    "# 索引对应的是 format 括号内的参数的索引位置"
   ]
  },
  {
   "cell_type": "markdown",
   "metadata": {},
   "source": [
    "#### 字符串属性\n",
    "\n",
    "字符串还有一系列的 Methods，返回的是布尔值，用来判断字符串的构成属性："
   ]
  },
  {
   "cell_type": "code",
   "execution_count": 22,
   "metadata": {},
   "outputs": [
    {
     "name": "stdout",
     "output_type": "stream",
     "text": [
      "'1234567890'.isalnum(): True\n"
     ]
    }
   ],
   "source": [
    "# str.isalnum()\n",
    "print(\"'1234567890'.isalnum():\", \\\n",
    "      '1234567890'.isalnum()) # '3.14'.isalnum() 返回的是 False"
   ]
  },
  {
   "cell_type": "code",
   "execution_count": 23,
   "metadata": {},
   "outputs": [
    {
     "name": "stdout",
     "output_type": "stream",
     "text": [
      "'abcdefghij'.isalpha(): True\n"
     ]
    }
   ],
   "source": [
    "# str.isalpha()\n",
    "print(\"'abcdefghij'.isalpha():\", \\\n",
    "      'abcdefghij'.isalpha())"
   ]
  },
  {
   "cell_type": "code",
   "execution_count": 24,
   "metadata": {},
   "outputs": [
    {
     "name": "stdout",
     "output_type": "stream",
     "text": [
      "'山巅一寺一壶酒'.isascii(): False\n"
     ]
    }
   ],
   "source": [
    "# str.isascii()\n",
    "print(\"'山巅一寺一壶酒'.isascii():\", \\\n",
    "      '山巅一寺一壶酒'.isascii())"
   ]
  },
  {
   "cell_type": "code",
   "execution_count": 35,
   "metadata": {},
   "outputs": [
    {
     "name": "stdout",
     "output_type": "stream",
     "text": [
      "'0.123456789'.isdecimal(): False\n"
     ]
    }
   ],
   "source": [
    "# str.isdecimal()\n",
    "print(\"'0.123456789'.isdecimal():\", \\\n",
    "      '0.1234567890'.isdecimal())"
   ]
  },
  {
   "cell_type": "code",
   "execution_count": 38,
   "metadata": {},
   "outputs": [
    {
     "name": "stdout",
     "output_type": "stream",
     "text": [
      "'123456789'.isdecimal(): True\n"
     ]
    }
   ],
   "source": [
    "# str.isdecimal()\n",
    "print(\"'123456789'.isdecimal():\", \\\n",
    "      '123456789'.isdecimal())"
   ]
  },
  {
   "cell_type": "code",
   "execution_count": 26,
   "metadata": {},
   "outputs": [
    {
     "name": "stdout",
     "output_type": "stream",
     "text": [
      "'0.123456789'.isdigit(): False\n"
     ]
    }
   ],
   "source": [
    "# str.isdigit()\n",
    "print(\"'0.123456789'.isdigit():\", \\\n",
    "      '0.1234567890'.isdigit())       #  注意，如果字符串是 identifier，返回值也是 False"
   ]
  },
  {
   "cell_type": "code",
   "execution_count": 27,
   "metadata": {},
   "outputs": [
    {
     "name": "stdout",
     "output_type": "stream",
     "text": [
      "'0.123456789'.isnumeric(): False\n"
     ]
    }
   ],
   "source": [
    "# str.isnumeric()\n",
    "print(\"'0.123456789'.isnumeric():\", \\\n",
    "      '0.1234567890'.isnumeric())"
   ]
  },
  {
   "cell_type": "code",
   "execution_count": 28,
   "metadata": {},
   "outputs": [
    {
     "name": "stdout",
     "output_type": "stream",
     "text": [
      "'Continue'.islower(): False\n"
     ]
    }
   ],
   "source": [
    "# str.islower()\n",
    "print(\"'Continue'.islower():\", \\\n",
    "      'Continue'.islower())"
   ]
  },
  {
   "cell_type": "code",
   "execution_count": 29,
   "metadata": {},
   "outputs": [
    {
     "name": "stdout",
     "output_type": "stream",
     "text": [
      "'Simple Is Better Than Complex'.isupper(): False\n"
     ]
    }
   ],
   "source": [
    "# str.isupper()\n",
    "print(\"'Simple Is Better Than Complex'.isupper():\", \\\n",
    "      'Simple Is Better Than Complex'.isupper())"
   ]
  },
  {
   "cell_type": "code",
   "execution_count": 30,
   "metadata": {},
   "outputs": [
    {
     "name": "stdout",
     "output_type": "stream",
     "text": [
      "'Simple Is Better Than Complex'.istitle(): True\n"
     ]
    }
   ],
   "source": [
    "# str.istitle()\n",
    "print(\"'Simple Is Better Than Complex'.istitle():\", \\\n",
    "      'Simple Is Better Than Complex'.istitle())"
   ]
  },
  {
   "cell_type": "code",
   "execution_count": 31,
   "metadata": {},
   "outputs": [
    {
     "name": "stdout",
     "output_type": "stream",
     "text": [
      "'\t'.isprintable(): False\n"
     ]
    }
   ],
   "source": [
    "# str.isprintable()\n",
    "print(\"'\\t'.isprintable():\", \\\n",
    "      '\\t'.isprintable())"
   ]
  },
  {
   "cell_type": "code",
   "execution_count": 33,
   "metadata": {},
   "outputs": [
    {
     "name": "stdout",
     "output_type": "stream",
     "text": [
      "'\t'.isspace(): True\n"
     ]
    }
   ],
   "source": [
    "# str.isspace()\n",
    "print(\"'\\t'.isspace():\", \\\n",
    "      '\\t'.isspace())"
   ]
  },
  {
   "cell_type": "code",
   "execution_count": 34,
   "metadata": {},
   "outputs": [
    {
     "name": "stdout",
     "output_type": "stream",
     "text": [
      "'for'.isidentifier(): True\n"
     ]
    }
   ],
   "source": [
    "# str.isidentifier()\n",
    "print(\"'for'.isidentifier():\", \\\n",
    "      'for'.isidentifier())"
   ]
  },
  {
   "cell_type": "markdown",
   "metadata": {},
   "source": [
    "## 总结\n",
    "\n",
    "显得相当繁杂的东西，都是用来**锻炼自己的耐心的材料**……\n",
    "\n",
    "下一章的**关于容器**也是这样的。\n",
    "\n",
    "不过，若是自己动手整理一个表格，总结归纳一下这一章节的内容，你就会发现其实没有多繁杂，总之还是那点事——怎么**处理字符串**、**操作符**、**内建函数**、**Methods**。只不过，字符串的操作符和数值的操作符不太一样——类型不一样，操作符就可能不一样。\n",
    "\n",
    "其中最不一样的是，字符串是有序容器的一种，所以它有索引，所以可以根据索引提取需要的信息。\n",
    "\n",
    "至于剩下的，就是很常规的了，用函数处理，用 Methods 处理，只不过， Methods 相对对了一些。\n",
    "\n",
    "整理成表格之后，你就会发现，全部记住其实没有多难……\n",
    "\n",
    "此处李笑来整理出了一张表格。\n",
    "\n",
    "**记住**的方法并不是玛莎就只盯着表格看……正确方法是**反复阅读这一章节内容中的代码，并逐一运行，查看输出结果；还要顺手改改看，多多体会。多次之后，再看着表格会议知识点，直到牢记为止。**"
   ]
  },
  {
   "cell_type": "markdown",
   "metadata": {},
   "source": [
    "## 数值没有像字符串这样详细的论述？\n",
    "\n",
    "用 python 做更为复杂的数学计算的模块是 [**math** module](https://docs.python.org/3/library/math.html)。"
   ]
  },
  {
   "cell_type": "code",
   "execution_count": null,
   "metadata": {},
   "outputs": [],
   "source": []
  }
 ],
 "metadata": {
  "kernelspec": {
   "display_name": "Python [conda env:root] *",
   "language": "python",
   "name": "conda-root-py"
  },
  "language_info": {
   "codemirror_mode": {
    "name": "ipython",
    "version": 3
   },
   "file_extension": ".py",
   "mimetype": "text/x-python",
   "name": "python",
   "nbconvert_exporter": "python",
   "pygments_lexer": "ipython3",
   "version": "3.7.3"
  }
 },
 "nbformat": 4,
 "nbformat_minor": 2
}
